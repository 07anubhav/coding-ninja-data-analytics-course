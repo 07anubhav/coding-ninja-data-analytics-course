{
 "cells": [
  {
   "cell_type": "code",
   "execution_count": 4,
   "id": "f77f95e1",
   "metadata": {},
   "outputs": [],
   "source": [
    "import statistics as s\n",
    "import numpy as np"
   ]
  },
  {
   "cell_type": "markdown",
   "id": "610175ce",
   "metadata": {},
   "source": [
    "# Calculate Mean Median Mode"
   ]
  },
  {
   "cell_type": "code",
   "execution_count": null,
   "id": "e0754d74",
   "metadata": {},
   "outputs": [],
   "source": [
    "As the Ace residency society supervisor, you want to impose some set of rules. \n",
    "To impose those rules you need to have a better understanding of the people who are living there. \n",
    "This understanding needs to be in the numbers. We are providing you with the age of the people who are living in the society.\n",
    "\n",
    "[24, 43, 41, 33, 25, 19, 17, 9, 50, 34, 55, 2, 25, 21]\n",
    "In this first task, you need to find the Mean, Median and Mode for this dataset.\n",
    "\n",
    "Output Format\n",
    "The output should be in the form of integer format.\n",
    "Mean Value\n",
    "Median Value\n",
    "Mode Value"
   ]
  },
  {
   "cell_type": "code",
   "execution_count": 3,
   "id": "8ea09d53",
   "metadata": {},
   "outputs": [
    {
     "name": "stdout",
     "output_type": "stream",
     "text": [
      "28.428571428571427\n",
      "25.0\n",
      "25\n"
     ]
    }
   ],
   "source": [
    "l = [24, 43, 41, 33, 25, 19, 17, 9, 50, 34, 55, 2, 25, 21]\n",
    "mean = int(s.mean(l))\n",
    "median = int(s.median(l))\n",
    "mode = int(s.mode(l))\n",
    "\n",
    "print(mean)\n",
    "print(median)\n",
    "print(mode)"
   ]
  },
  {
   "cell_type": "markdown",
   "id": "b97cbca5",
   "metadata": {},
   "source": [
    "# Calculate Quantile Statistics"
   ]
  },
  {
   "cell_type": "code",
   "execution_count": null,
   "id": "8877c3d0",
   "metadata": {},
   "outputs": [],
   "source": [
    "As the Ace residency society supervisor, you want to impose some set of rules. \n",
    "To impose those rules you need to have a better understanding of the people who are living there. \n",
    "This understanding needs to be in the numbers. We are providing you with the age of the people who are living in the society.\n",
    "\n",
    "[24, 43, 41, 33, 25, 19, 17, 9, 50, 34, 55, 2, 25, 21]\n",
    "\n",
    "In this task, you need to find the quantiles [0, 0.25, 0.5, 0.75, 1] of this dataset.\n",
    "You need to print 0, 0.25, 0.5, 0.75, 1st quantile.\n",
    "\n",
    "Output Format\n",
    "The output should be in the form of integer format.\n",
    "0th quantile value\n",
    "25th quantile value\n",
    "50th quantile value\n",
    "75th quantile value\n",
    "100th quantile value"
   ]
  },
  {
   "cell_type": "code",
   "execution_count": 6,
   "id": "d4c91f42",
   "metadata": {},
   "outputs": [
    {
     "name": "stdout",
     "output_type": "stream",
     "text": [
      "2\n",
      "19\n",
      "25\n",
      "39\n",
      "55\n"
     ]
    }
   ],
   "source": [
    "l = [24, 43, 41, 33, 25, 19, 17, 9, 50, 34, 55, 2, 25, 21]\n",
    "\n",
    "_0th_quartile = int(np.percentile(l,0))\n",
    "_25th_quartile = int(np.percentile(l,25))\n",
    "_50th_quartile = int(np.percentile(l,50))\n",
    "_75th_quartile = int(np.percentile(l,75))\n",
    "_100th_quartile = int(np.percentile(l,100))\n",
    "\n",
    "print(_0th_quartile)\n",
    "print(_25th_quartile)\n",
    "print(_50th_quartile)\n",
    "print(_75th_quartile) \n",
    "print(_100th_quartile)"
   ]
  },
  {
   "cell_type": "markdown",
   "id": "ba5cc583",
   "metadata": {},
   "source": [
    "# Calculate IQR Statistics"
   ]
  },
  {
   "cell_type": "code",
   "execution_count": null,
   "id": "61971538",
   "metadata": {},
   "outputs": [],
   "source": [
    "As the Ace residency society supervisor, you want to impose some set of rules. \n",
    "To impose those rules you need to have a better understanding of the people who are living there. \n",
    "This understanding needs to be in the numbers. We are providing you with the age of the people who are living in the society.\n",
    "\n",
    "[24, 43, 41, 33, 25, 19, 17, 9, 50, 34, 55, 2, 25, 21]\n",
    "\n",
    "In this task, you need to calculate the IQR (Inter-Quartile Range).\n",
    "\n",
    "The formula for IQR is\n",
    "The difference between the third quartile Q3(75th percentiles) and the first quartile Q1(25th percentiles) \n",
    "is called the Interquartile range.\n",
    "\n",
    "IQR = Q3 −  Q1\n",
    "where\n",
    "Q1 is the first quartile\n",
    "Q3 is the third quartile\n",
    "\n",
    "Output Format\n",
    "The output should be in the form of integer format.\n",
    "IQR Value"
   ]
  },
  {
   "cell_type": "code",
   "execution_count": 11,
   "id": "e60e33b9",
   "metadata": {},
   "outputs": [
    {
     "name": "stdout",
     "output_type": "stream",
     "text": [
      "19\n"
     ]
    }
   ],
   "source": [
    "l = [24, 43, 41, 33, 25, 19, 17, 9, 50, 34, 55, 2, 25, 21]\n",
    "\n",
    "Q1 = np.percentile(l,25)\n",
    "Q3 = np.percentile(l,75)\n",
    "IQR = Q3-Q1\n",
    "\n",
    "print(int(IQR))"
   ]
  },
  {
   "cell_type": "markdown",
   "id": "e2bb8cbb",
   "metadata": {},
   "source": [
    "# Calculate Variance and Standard Deviation"
   ]
  },
  {
   "cell_type": "code",
   "execution_count": null,
   "id": "b7e5f282",
   "metadata": {},
   "outputs": [],
   "source": [
    "As the Ace residency society supervisor, you want to impose some set of rules. \n",
    "To impose those rules you need to have a better understanding of the people who are living there. \n",
    "This understanding needs to be in the numbers. We are providing you with the age of the people who are living in the society.\n",
    "\n",
    "[24, 43, 41, 33, 25, 19, 17, 9, 50, 34, 55, 2, 25, 21]\n",
    "\n",
    "In this task, you need to calculate the Variance and Standard Deviation for this dataset.\n",
    "\n",
    "The output should be in the form of integer format.\n",
    "Variance Value\n",
    "Standard Deviation Value"
   ]
  },
  {
   "cell_type": "code",
   "execution_count": 12,
   "id": "c7da0909",
   "metadata": {},
   "outputs": [
    {
     "name": "stdout",
     "output_type": "stream",
     "text": [
      "229\n",
      "15\n"
     ]
    }
   ],
   "source": [
    "l = [24, 43, 41, 33, 25, 19, 17, 9, 50, 34, 55, 2, 25, 21]\n",
    "\n",
    "variance = s.variance(l)\n",
    "std_dev = s.stdev(l)\n",
    "\n",
    "print(int(variance))\n",
    "print(int(std_dev))"
   ]
  }
 ],
 "metadata": {
  "kernelspec": {
   "display_name": "Python 3 (ipykernel)",
   "language": "python",
   "name": "python3"
  },
  "language_info": {
   "codemirror_mode": {
    "name": "ipython",
    "version": 3
   },
   "file_extension": ".py",
   "mimetype": "text/x-python",
   "name": "python",
   "nbconvert_exporter": "python",
   "pygments_lexer": "ipython3",
   "version": "3.9.12"
  }
 },
 "nbformat": 4,
 "nbformat_minor": 5
}
