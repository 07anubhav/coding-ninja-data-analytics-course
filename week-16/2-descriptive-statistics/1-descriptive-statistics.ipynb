{
 "cells": [
  {
   "cell_type": "markdown",
   "id": "8c788e3b",
   "metadata": {},
   "source": [
    "# Descriptive Statistics\n",
    "* Involves technique in which we can represent our data quantatively like some numbers, tables, graphs etc..\n",
    "* Whenever we are dealing with real world dataset, we need to first sample our dataset, now in order to answer out different questions we need to apply different descriptive statistical measures over that sample data.\n",
    "\n",
    "# Measures in Descriptive Statistics from which we can summarize our data\n",
    "* **Measure of central tendency:** We will find out central point of our data \n",
    "* **Measure of spread/disperssion (Variance):** How our data is spread with respect to central value \n",
    "* **Measure of position:** We will find out the data point where specific data will fall\n",
    "* **Measure of association:** We try to find out the relationship b/w two attributes/columns/variable. Like if we change data in one attribute then how it'll affect the other attribute"
   ]
  }
 ],
 "metadata": {
  "kernelspec": {
   "display_name": "Python 3 (ipykernel)",
   "language": "python",
   "name": "python3"
  },
  "language_info": {
   "codemirror_mode": {
    "name": "ipython",
    "version": 3
   },
   "file_extension": ".py",
   "mimetype": "text/x-python",
   "name": "python",
   "nbconvert_exporter": "python",
   "pygments_lexer": "ipython3",
   "version": "3.9.12"
  }
 },
 "nbformat": 4,
 "nbformat_minor": 5
}
