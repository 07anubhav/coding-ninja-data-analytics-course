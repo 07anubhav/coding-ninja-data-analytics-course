{
 "cells": [
  {
   "cell_type": "markdown",
   "id": "38182e91",
   "metadata": {},
   "source": [
    "# Simple Random Sampling (SRS)\n",
    "* In this algorithm we select our sample from population in complete random manner without any kind of bias. That means each and every element that is present in population will have equal chances of being selected in sample.\n",
    "\n",
    "## Sampling Error\n",
    "* **sampling error = parameter-statistics**\n",
    "* Parameter is any descriptive measure of population (mean of Population,max of population, min of population etc) and Statistic is any descrptive measure of sample (mean of Sample, max of sample, min of sample)."
   ]
  },
  {
   "cell_type": "code",
   "execution_count": 1,
   "id": "0c6681a6",
   "metadata": {},
   "outputs": [],
   "source": [
    "import pandas as pd\n",
    "import numpy as np"
   ]
  },
  {
   "cell_type": "code",
   "execution_count": 2,
   "id": "ca4e843e",
   "metadata": {},
   "outputs": [
    {
     "data": {
      "text/html": [
       "<div>\n",
       "<style scoped>\n",
       "    .dataframe tbody tr th:only-of-type {\n",
       "        vertical-align: middle;\n",
       "    }\n",
       "\n",
       "    .dataframe tbody tr th {\n",
       "        vertical-align: top;\n",
       "    }\n",
       "\n",
       "    .dataframe thead th {\n",
       "        text-align: right;\n",
       "    }\n",
       "</style>\n",
       "<table border=\"1\" class=\"dataframe\">\n",
       "  <thead>\n",
       "    <tr style=\"text-align: right;\">\n",
       "      <th></th>\n",
       "      <th>SNo</th>\n",
       "      <th>Date</th>\n",
       "      <th>StartupName</th>\n",
       "      <th>IndustryVertical</th>\n",
       "      <th>SubVertical</th>\n",
       "      <th>CityLocation</th>\n",
       "      <th>InvestorsName</th>\n",
       "      <th>InvestmentType</th>\n",
       "      <th>AmountInUSD</th>\n",
       "      <th>Remarks</th>\n",
       "    </tr>\n",
       "  </thead>\n",
       "  <tbody>\n",
       "    <tr>\n",
       "      <th>0</th>\n",
       "      <td>0</td>\n",
       "      <td>01-08-2017</td>\n",
       "      <td>TouchKin</td>\n",
       "      <td>Technology</td>\n",
       "      <td>Predictive Care Platform</td>\n",
       "      <td>Bangalore</td>\n",
       "      <td>Kae Capital</td>\n",
       "      <td>Private Equity</td>\n",
       "      <td>13,00,000</td>\n",
       "      <td>NaN</td>\n",
       "    </tr>\n",
       "    <tr>\n",
       "      <th>1</th>\n",
       "      <td>1</td>\n",
       "      <td>02-08-2017</td>\n",
       "      <td>Ethinos</td>\n",
       "      <td>Technology</td>\n",
       "      <td>Digital Marketing Agency</td>\n",
       "      <td>Mumbai</td>\n",
       "      <td>Triton Investment Advisors</td>\n",
       "      <td>Private Equity</td>\n",
       "      <td>NaN</td>\n",
       "      <td>NaN</td>\n",
       "    </tr>\n",
       "    <tr>\n",
       "      <th>2</th>\n",
       "      <td>2</td>\n",
       "      <td>02-08-2017</td>\n",
       "      <td>Leverage Edu</td>\n",
       "      <td>Consumer Internet</td>\n",
       "      <td>Online platform for Higher Education Services</td>\n",
       "      <td>New Delhi</td>\n",
       "      <td>Kashyap Deorah, Anand Sankeshwar, Deepak Jain,...</td>\n",
       "      <td>Seed Funding</td>\n",
       "      <td>NaN</td>\n",
       "      <td>NaN</td>\n",
       "    </tr>\n",
       "    <tr>\n",
       "      <th>3</th>\n",
       "      <td>3</td>\n",
       "      <td>02-08-2017</td>\n",
       "      <td>Zepo</td>\n",
       "      <td>Consumer Internet</td>\n",
       "      <td>DIY Ecommerce platform</td>\n",
       "      <td>Mumbai</td>\n",
       "      <td>Kunal Shah, LetsVenture, Anupam Mittal, Hetal ...</td>\n",
       "      <td>Seed Funding</td>\n",
       "      <td>5,00,000</td>\n",
       "      <td>NaN</td>\n",
       "    </tr>\n",
       "    <tr>\n",
       "      <th>4</th>\n",
       "      <td>4</td>\n",
       "      <td>02-08-2017</td>\n",
       "      <td>Click2Clinic</td>\n",
       "      <td>Consumer Internet</td>\n",
       "      <td>healthcare service aggregator</td>\n",
       "      <td>Hyderabad</td>\n",
       "      <td>Narottam Thudi, Shireesh Palle</td>\n",
       "      <td>Seed Funding</td>\n",
       "      <td>8,50,000</td>\n",
       "      <td>NaN</td>\n",
       "    </tr>\n",
       "  </tbody>\n",
       "</table>\n",
       "</div>"
      ],
      "text/plain": [
       "   SNo        Date   StartupName   IndustryVertical  \\\n",
       "0    0  01-08-2017      TouchKin         Technology   \n",
       "1    1  02-08-2017       Ethinos         Technology   \n",
       "2    2  02-08-2017  Leverage Edu  Consumer Internet   \n",
       "3    3  02-08-2017          Zepo  Consumer Internet   \n",
       "4    4  02-08-2017  Click2Clinic  Consumer Internet   \n",
       "\n",
       "                                     SubVertical CityLocation  \\\n",
       "0                       Predictive Care Platform    Bangalore   \n",
       "1                       Digital Marketing Agency       Mumbai   \n",
       "2  Online platform for Higher Education Services    New Delhi   \n",
       "3                         DIY Ecommerce platform       Mumbai   \n",
       "4                  healthcare service aggregator    Hyderabad   \n",
       "\n",
       "                                       InvestorsName  InvestmentType  \\\n",
       "0                                        Kae Capital  Private Equity   \n",
       "1                         Triton Investment Advisors  Private Equity   \n",
       "2  Kashyap Deorah, Anand Sankeshwar, Deepak Jain,...    Seed Funding   \n",
       "3  Kunal Shah, LetsVenture, Anupam Mittal, Hetal ...    Seed Funding   \n",
       "4                     Narottam Thudi, Shireesh Palle    Seed Funding   \n",
       "\n",
       "  AmountInUSD Remarks  \n",
       "0   13,00,000     NaN  \n",
       "1         NaN     NaN  \n",
       "2         NaN     NaN  \n",
       "3    5,00,000     NaN  \n",
       "4    8,50,000     NaN  "
      ]
     },
     "execution_count": 2,
     "metadata": {},
     "output_type": "execute_result"
    }
   ],
   "source": [
    "df = pd.read_csv('startup_funding.csv')\n",
    "df.head()"
   ]
  },
  {
   "cell_type": "code",
   "execution_count": 3,
   "id": "8d3265a4",
   "metadata": {},
   "outputs": [
    {
     "data": {
      "text/plain": [
       "0    13,00,000\n",
       "1          NaN\n",
       "2          NaN\n",
       "3     5,00,000\n",
       "4     8,50,000\n",
       "Name: AmountInUSD, dtype: object"
      ]
     },
     "execution_count": 3,
     "metadata": {},
     "output_type": "execute_result"
    }
   ],
   "source": [
    "amount = df['AmountInUSD']\n",
    "amount.head()"
   ]
  },
  {
   "cell_type": "code",
   "execution_count": 4,
   "id": "afb5f8bb",
   "metadata": {},
   "outputs": [
    {
     "data": {
      "text/plain": [
       "0    13,00,000\n",
       "3     5,00,000\n",
       "4     8,50,000\n",
       "5    10,00,000\n",
       "6    26,00,000\n",
       "Name: AmountInUSD, dtype: object"
      ]
     },
     "execution_count": 4,
     "metadata": {},
     "output_type": "execute_result"
    }
   ],
   "source": [
    "# To drop all the NaN records\n",
    "amount.dropna(inplace=True)\n",
    "amount.head()"
   ]
  },
  {
   "cell_type": "code",
   "execution_count": 5,
   "id": "73c12b15",
   "metadata": {},
   "outputs": [
    {
     "data": {
      "text/plain": [
       "0    1300000\n",
       "3     500000\n",
       "4     850000\n",
       "5    1000000\n",
       "6    2600000\n",
       "Name: AmountInUSD, dtype: object"
      ]
     },
     "execution_count": 5,
     "metadata": {},
     "output_type": "execute_result"
    }
   ],
   "source": [
    "# To replace ',' with ''\n",
    "a1 = amount.str.replace(',','')\n",
    "a1.head()"
   ]
  },
  {
   "cell_type": "code",
   "execution_count": 6,
   "id": "8218416c",
   "metadata": {},
   "outputs": [
    {
     "data": {
      "text/plain": [
       "'1300000'"
      ]
     },
     "execution_count": 6,
     "metadata": {},
     "output_type": "execute_result"
    }
   ],
   "source": [
    "a1.iloc[0]"
   ]
  },
  {
   "cell_type": "code",
   "execution_count": 7,
   "id": "ba74bbe0",
   "metadata": {},
   "outputs": [
    {
     "data": {
      "text/plain": [
       "0    1300000\n",
       "3     500000\n",
       "4     850000\n",
       "5    1000000\n",
       "6    2600000\n",
       "Name: AmountInUSD, dtype: int64"
      ]
     },
     "execution_count": 7,
     "metadata": {},
     "output_type": "execute_result"
    }
   ],
   "source": [
    "# To convert the particular column to numeric data type\n",
    "a2 = pd.to_numeric(a1)\n",
    "a2.headd()"
   ]
  },
  {
   "cell_type": "code",
   "execution_count": 9,
   "id": "b721d215",
   "metadata": {},
   "outputs": [
    {
     "data": {
      "text/plain": [
       "numpy.int64"
      ]
     },
     "execution_count": 9,
     "metadata": {},
     "output_type": "execute_result"
    }
   ],
   "source": [
    "type(a2.iloc[0])"
   ]
  },
  {
   "cell_type": "code",
   "execution_count": 10,
   "id": "f2c577be",
   "metadata": {},
   "outputs": [
    {
     "name": "stdout",
     "output_type": "stream",
     "text": [
      "12031073.099016393\n",
      "1400000000\n",
      "16000\n"
     ]
    }
   ],
   "source": [
    "population_average = a2.mean()\n",
    "population_max = a2.max()\n",
    "population_min = a2.min()\n",
    "\n",
    "print(population_average)\n",
    "print(population_max)\n",
    "print(population_min)"
   ]
  },
  {
   "cell_type": "markdown",
   "id": "703f701f",
   "metadata": {},
   "source": [
    "## To implement Simple Random Sampling\n",
    "* **.sample(sample_size,random_state):** It'll allow you to select n samples from the population, and no records will be duplicates.\n",
    "* **random_state:** it insures that each time we will run the .sample() function it should give the same samples"
   ]
  },
  {
   "cell_type": "code",
   "execution_count": 12,
   "id": "b16debee",
   "metadata": {},
   "outputs": [
    {
     "data": {
      "text/plain": [
       "1762    37500000\n",
       "Name: AmountInUSD, dtype: int64"
      ]
     },
     "execution_count": 12,
     "metadata": {},
     "output_type": "execute_result"
    }
   ],
   "source": [
    "population = a2\n",
    "sample_size = 100\n",
    "population.sample()"
   ]
  },
  {
   "cell_type": "code",
   "execution_count": 16,
   "id": "df65e723",
   "metadata": {},
   "outputs": [],
   "source": [
    "sample = population.sample(sample_size,random_state=1)"
   ]
  },
  {
   "cell_type": "code",
   "execution_count": 17,
   "id": "3736e813",
   "metadata": {},
   "outputs": [
    {
     "data": {
      "text/plain": [
       "142      4000000\n",
       "1931    16200000\n",
       "309       325000\n",
       "985     25000000\n",
       "439        18000\n",
       "          ...   \n",
       "1347     3000000\n",
       "1810    30000000\n",
       "1721      150000\n",
       "1913    30000000\n",
       "777      1500000\n",
       "Name: AmountInUSD, Length: 100, dtype: int64"
      ]
     },
     "execution_count": 17,
     "metadata": {},
     "output_type": "execute_result"
    }
   ],
   "source": [
    "sample"
   ]
  },
  {
   "cell_type": "code",
   "execution_count": 18,
   "id": "b9b6b421",
   "metadata": {},
   "outputs": [
    {
     "data": {
      "text/plain": [
       "(100,)"
      ]
     },
     "execution_count": 18,
     "metadata": {},
     "output_type": "execute_result"
    }
   ],
   "source": [
    "sample.shape"
   ]
  },
  {
   "cell_type": "code",
   "execution_count": 19,
   "id": "70d3d0b4",
   "metadata": {},
   "outputs": [
    {
     "name": "stdout",
     "output_type": "stream",
     "text": [
      "24592930.0\n",
      "1400000000\n",
      "18000\n"
     ]
    }
   ],
   "source": [
    "sample_avg = sample.mean()\n",
    "sample_max = sample.max()\n",
    "sample_min = sample.min()\n",
    "\n",
    "print(sample_avg)\n",
    "print(sample_max)\n",
    "print(sample_min)"
   ]
  }
 ],
 "metadata": {
  "kernelspec": {
   "display_name": "Python 3 (ipykernel)",
   "language": "python",
   "name": "python3"
  },
  "language_info": {
   "codemirror_mode": {
    "name": "ipython",
    "version": 3
   },
   "file_extension": ".py",
   "mimetype": "text/x-python",
   "name": "python",
   "nbconvert_exporter": "python",
   "pygments_lexer": "ipython3",
   "version": "3.9.12"
  }
 },
 "nbformat": 4,
 "nbformat_minor": 5
}
