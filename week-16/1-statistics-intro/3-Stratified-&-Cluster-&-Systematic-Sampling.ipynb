{
 "cells": [
  {
   "cell_type": "markdown",
   "id": "d4ff81a2",
   "metadata": {},
   "source": [
    "# Stratified Sampling\n",
    "* It is derieved from word **'Strata'** that means a group of elements or group of individuals which are having some common properties (Ex: a set of student which belongs to same class, set of individual of same age group, a set of students who scored more that 90%, etc..)\n",
    "\n",
    "### How to approach Stratified Sampling\n",
    "* We have to group our population into different strata based on some properties (age, gender, etc..)\n",
    "* Then we will pick few elements from each and every stratas using SRS and create a sample\n",
    "* Examples: Music taste of students, average salary, average package offered"
   ]
  },
  {
   "cell_type": "markdown",
   "id": "89253698",
   "metadata": {},
   "source": [
    "# Cluster Sampling\n",
    "* Just like startifies sampling, we have to group our population into different strata based on some properties. \n",
    "* Let say we have created 'N' groups based on some properties, then we will randomly select 'n' number of groups from those 'N' groups\n",
    "* That means divide data in different clusters and then randomly select 'n' number of clusters from those 'N' clusters\n",
    "\n",
    "### Disadvantages of cluster sampling:\n",
    "* As we are randomly selecting clusters, we wont be able to get the data from few of the clusters\n",
    "\n",
    "### Advantages of cluster sampling:\n",
    "* Easiness of implementing this algorithm or say Ease of collecting data using this algorithm\n",
    "* For ex: we want to collect data of average salary of people across India, as it's not possible to collect the data from whole india we will create few clusters based on some properties and randomly select few clusters in that and do the analysis.\n",
    "\n",
    "### Cluster Sampling stages:\n",
    "* **Single Stage cluster sampling** - The above example\n",
    "<br></br>\n",
    "* **Two Stage cluster sampling** - Let suppose we have a population and we have divided them into 5 different cluster, so now rather than completely selecting 2 random cluster. First we will apply Simple Random Sampling on those 2 clusters then we will select the data from those 2 clusters, so instead of taking the complete data we are just taking few selected data from those 2 clusters"
   ]
  },
  {
   "cell_type": "markdown",
   "id": "8092d1fa",
   "metadata": {},
   "source": [
    "# Systematic Sampling\n",
    "* Let suppose we have a population, then we will create a sequence of that population of some interval size 'N' and will select the element based on that and it'll create a sample\n",
    "* Major advantage of this algo is that in this we are selecting our sample from the population from start to end in a completely systematic manner/fixed interval.\n",
    "* **Ex:** There is some manufacturing company of stationary product, now they want to find out the sale of particular day. They have the data from the past year till now in excel sheet. They want to know average sale of there product so we will put a interval of let suppose 15, so for each 15 day will select the sale value and put that in the sample and analyze it using that sample."
   ]
  }
 ],
 "metadata": {
  "kernelspec": {
   "display_name": "Python 3 (ipykernel)",
   "language": "python",
   "name": "python3"
  },
  "language_info": {
   "codemirror_mode": {
    "name": "ipython",
    "version": 3
   },
   "file_extension": ".py",
   "mimetype": "text/x-python",
   "name": "python",
   "nbconvert_exporter": "python",
   "pygments_lexer": "ipython3",
   "version": "3.9.12"
  }
 },
 "nbformat": 4,
 "nbformat_minor": 5
}
