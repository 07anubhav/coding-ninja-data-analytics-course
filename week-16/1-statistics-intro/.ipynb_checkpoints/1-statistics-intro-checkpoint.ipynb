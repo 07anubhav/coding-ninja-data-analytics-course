{
 "cells": [
  {
   "cell_type": "markdown",
   "id": "80ae399a",
   "metadata": {},
   "source": [
    "# Statistics\n",
    "* It is a field of mathematics which is related to data collection, analysis and it's interpretation.\n",
    "* It refers to numbers for representing a data\n",
    "\n",
    "## Data Types of Statistics:\n",
    "* **Numerical Data (Quantitative):**\n",
    "    * Measureable quantity in terms of number\n",
    "    * Types of numerical data:\n",
    "        * **Discrete Data**: Which represents count of some value (Ex: Number of student in school, Number of schools in state)\n",
    "        * **Continuous Data**: It needs to be measured rather than counted (Ex: Height of student, Weight of student, Temperature)\n",
    "        <br></br>\n",
    "* **Categorical Data (Qualitative):**\n",
    "    * Category/Quality of of the data it can be in string format or number format\n",
    "    * Types of categorical data:\n",
    "        * **Nominal Data**: It is unordered list (Ex: Male or Female, Smoker or Non-smoker, Head or Tail)\n",
    "        * **Ordinal Data**: It is ordered list (Ex: Size of t-shirt (S,M,L,XL,XXL), Short/Tall/Very Tall)"
   ]
  },
  {
   "cell_type": "markdown",
   "id": "df8d360e",
   "metadata": {},
   "source": [
    "# Population & Sample\n",
    "* **Population**: A set of all individuals relevant to a particular statistical question is called a population.\n",
    "* **Sample**: A smaller group selected from a population is called a sample (Subset of the population).\n",
    "\n",
    "## Parameter & Statistic\n",
    "* Parameter is any descriptive measure of population (mean of Population,max of population, min of population etc) and Statistic is any descrptive measure of sample (mean of Sample, max of sample, min of sample).\n",
    "\n",
    "## Sampling\n",
    "* Sampling means selecting a subset data from population to make a sample over which we can apply our analysis and maths to get our answer\n",
    "\n",
    "## Inference\n",
    "* Now, after the sample is formed and we apply our analysis on sample and figuring out our answer based on the sample and then we can generalize(Inference) our answer for the complete population.\n",
    "\n",
    "## Sampling Methods:\n",
    "* **Probability Sampling or Random Sampling**: Let suppose we have a population and we want to figure out a sample from that population. So, in this category of sampling each and every individual in the population is equally probable to get selected in sample. That means there is no biased on any of the entries in the population as each one of them are equally probable and equally important.\n",
    "<br></br>\n",
    "* **Non-probability Sampling**: This is just opposite of Probability Sampling, in this every individual in the population is not equally probable to get selected in sample. That means there is biased on any of the entries in the population as each one of them are not equally probable to get selected. (Ex: Avg salary of employees in the company, but our bias is the male category. So, we will only select male rather than female employee)"
   ]
  },
  {
   "cell_type": "markdown",
   "id": "9a1ae783",
   "metadata": {},
   "source": [
    "# Probability Sampling\n",
    "* **Simple Random Sampling**\n",
    "* **Stratified Sampling**\n",
    "* **Cluster Sampling**\n",
    "* **Systematic Sampling**\n",
    "* **Multi Stage Sampling**"
   ]
  }
 ],
 "metadata": {
  "kernelspec": {
   "display_name": "Python 3 (ipykernel)",
   "language": "python",
   "name": "python3"
  },
  "language_info": {
   "codemirror_mode": {
    "name": "ipython",
    "version": 3
   },
   "file_extension": ".py",
   "mimetype": "text/x-python",
   "name": "python",
   "nbconvert_exporter": "python",
   "pygments_lexer": "ipython3",
   "version": "3.9.12"
  }
 },
 "nbformat": 4,
 "nbformat_minor": 5
}
