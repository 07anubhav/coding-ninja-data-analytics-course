{
 "cells": [
  {
   "cell_type": "markdown",
   "id": "fb167855",
   "metadata": {},
   "source": [
    "# Catergories of Statistics\n",
    "## Descriptive Statistics\n",
    "* Involves technique in which we can represent our data quantatively like some numbers, tables, graphs etc..\n",
    "* Whenever we are dealing with real world dataset, we need to first sample our dataset, now in order to answer out different questions we need to apply different descriptive statistical measures over that sample data. \n",
    "\n",
    "## Inferential Statistics\n",
    "* Whenever we are dealing with real world dataset, we need to first sample our dataset, now in order to answer out different questions we need to apply different descriptive statistical measures over that sample data. But let suppose we got some answer for a particular question, then we have to extend our answer based on the complete population. So, with the help of the output we will apply inferential statistics to get the data for complete population. We can extend our result from the sample to population."
   ]
  }
 ],
 "metadata": {
  "kernelspec": {
   "display_name": "Python 3 (ipykernel)",
   "language": "python",
   "name": "python3"
  },
  "language_info": {
   "codemirror_mode": {
    "name": "ipython",
    "version": 3
   },
   "file_extension": ".py",
   "mimetype": "text/x-python",
   "name": "python",
   "nbconvert_exporter": "python",
   "pygments_lexer": "ipython3",
   "version": "3.9.12"
  }
 },
 "nbformat": 4,
 "nbformat_minor": 5
}
