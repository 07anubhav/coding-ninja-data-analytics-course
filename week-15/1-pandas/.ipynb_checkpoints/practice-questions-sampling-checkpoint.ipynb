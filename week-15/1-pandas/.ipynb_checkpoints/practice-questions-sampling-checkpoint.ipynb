{
 "cells": [
  {
   "cell_type": "code",
   "execution_count": 1,
   "id": "731d60f2",
   "metadata": {},
   "outputs": [],
   "source": [
    "import pandas as pd\n",
    "import numpy as np"
   ]
  },
  {
   "cell_type": "markdown",
   "id": "2b3cf5b4",
   "metadata": {},
   "source": [
    "# Average Funding (Without Replacement)"
   ]
  },
  {
   "cell_type": "code",
   "execution_count": null,
   "id": "a1ee1630",
   "metadata": {},
   "outputs": [],
   "source": [
    "We want to find out the average amount of funding given to startups which are in either Bangalore or in New Delhi.\n",
    "For this - rather than considering all the startups, take a sample of size 50 (withoutreplacement). \n",
    "Then find the average amount of funding from this sample and calculate the Sampling Error.\n",
    "\n",
    "Sampling Error = Average(Population) - Average(Sample)\n",
    "\n",
    "Note:\n",
    "Take the city name \"Delhi\" as \"New Delhi\".\n",
    "Check the case-sensitiveness of cities also. That means - at someplace, instead of \"Bangalore\", \"bangalore\" is given. \n",
    "Take city name as \"Bangalore\"\n",
    "\n",
    "Output :\n",
    "Print Sampling Error"
   ]
  },
  {
   "cell_type": "code",
   "execution_count": null,
   "id": "efc30baf",
   "metadata": {},
   "outputs": [],
   "source": []
  },
  {
   "cell_type": "code",
   "execution_count": null,
   "id": "7deadc4a",
   "metadata": {},
   "outputs": [],
   "source": []
  },
  {
   "cell_type": "code",
   "execution_count": null,
   "id": "63ea6735",
   "metadata": {},
   "outputs": [],
   "source": []
  }
 ],
 "metadata": {
  "kernelspec": {
   "display_name": "Python 3 (ipykernel)",
   "language": "python",
   "name": "python3"
  },
  "language_info": {
   "codemirror_mode": {
    "name": "ipython",
    "version": 3
   },
   "file_extension": ".py",
   "mimetype": "text/x-python",
   "name": "python",
   "nbconvert_exporter": "python",
   "pygments_lexer": "ipython3",
   "version": "3.9.12"
  }
 },
 "nbformat": 4,
 "nbformat_minor": 5
}
