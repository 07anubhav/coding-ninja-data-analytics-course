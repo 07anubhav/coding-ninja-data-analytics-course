{
 "cells": [
  {
   "cell_type": "code",
   "execution_count": 1,
   "id": "0ff87063",
   "metadata": {},
   "outputs": [],
   "source": [
    "import pandas as pd"
   ]
  },
  {
   "cell_type": "markdown",
   "id": "90cf54b2",
   "metadata": {},
   "source": [
    "# For f500 dataset - Read and Print"
   ]
  },
  {
   "cell_type": "code",
   "execution_count": null,
   "id": "e77f66fc",
   "metadata": {},
   "outputs": [],
   "source": [
    "We'll be working with data set from Fortune magazine's Global 500 list 2017, which ranks the top 500 corporations worldwide \n",
    "by revenue. The dataset is a CSV file called f500.csv.\n",
    "Now you need to do two things on this dataset:\n",
    "1. Read the dataset using pandas\n",
    "Note: To import the dataset, the file name is \"f500.csv\"\n",
    "2. Print the shape of the dataset"
   ]
  },
  {
   "cell_type": "code",
   "execution_count": 3,
   "id": "b275d3b5",
   "metadata": {},
   "outputs": [
    {
     "name": "stdout",
     "output_type": "stream",
     "text": [
      "(500, 17)\n"
     ]
    }
   ],
   "source": [
    "df = pd.read_csv('f500.csv')\n",
    "print(df.shape)"
   ]
  },
  {
   "cell_type": "markdown",
   "id": "6fcd7524",
   "metadata": {},
   "source": [
    "# For f500 dataset - Datatypes"
   ]
  },
  {
   "cell_type": "code",
   "execution_count": null,
   "id": "2b0eed0a",
   "metadata": {},
   "outputs": [],
   "source": [
    "We have been given a dataset of Fortune magazine's Global 500 list 2017, which ranks the top 500 corporations \n",
    "worldwide by revenue. The dataset is a CSV file called \"f500.csv\".\n",
    "Our task is to read the csv file using pandas and print the data type of each column."
   ]
  },
  {
   "cell_type": "code",
   "execution_count": 6,
   "id": "1b52004c",
   "metadata": {},
   "outputs": [
    {
     "data": {
      "text/plain": [
       "company                      object\n",
       "rank                          int64\n",
       "revenues                      int64\n",
       "revenue_change              float64\n",
       "profits                     float64\n",
       "assets                        int64\n",
       "profit_change               float64\n",
       "ceo                          object\n",
       "industry                     object\n",
       "sector                       object\n",
       "previous_rank                 int64\n",
       "country                      object\n",
       "hq_location                  object\n",
       "website                      object\n",
       "years_on_global_500_list      int64\n",
       "employees                     int64\n",
       "total_stockholder_equity      int64\n",
       "dtype: object"
      ]
     },
     "execution_count": 6,
     "metadata": {},
     "output_type": "execute_result"
    }
   ],
   "source": [
    "df = pd.read_csv('f500.csv')\n",
    "print(df.dtypes)"
   ]
  },
  {
   "cell_type": "markdown",
   "id": "8f636917",
   "metadata": {},
   "source": [
    "# For f500 dataset - Describe"
   ]
  },
  {
   "cell_type": "code",
   "execution_count": 9,
   "id": "f097b13b",
   "metadata": {},
   "outputs": [
    {
     "name": "stdout",
     "output_type": "stream",
     "text": [
      "count      499.000000\n",
      "mean      3055.203206\n",
      "std       5171.981071\n",
      "min     -13038.000000\n",
      "25%        556.950000\n",
      "50%       1761.600000\n",
      "75%       3954.000000\n",
      "max      45687.000000\n",
      "Name: profits, dtype: float64\n"
     ]
    }
   ],
   "source": [
    "df = pd.read_csv('f500.csv')\n",
    "print(df['profits'].describe())"
   ]
  },
  {
   "cell_type": "markdown",
   "id": "ae40376c",
   "metadata": {},
   "source": [
    "# Read CSV"
   ]
  },
  {
   "cell_type": "code",
   "execution_count": null,
   "id": "127cb7b2",
   "metadata": {},
   "outputs": [],
   "source": [
    "Write a program to import the given CSV file using Pandas and display the first 10 rows of the dataset. \n",
    "The dataset is a CSV file called \"CollegePlacements.csv\"."
   ]
  },
  {
   "cell_type": "code",
   "execution_count": null,
   "id": "6e47a50c",
   "metadata": {},
   "outputs": [],
   "source": [
    "import pandas as pd\n",
    "\n",
    "df = pd.read_csv('CollegePlacements.csv')\n",
    "print(df.head(10))"
   ]
  },
  {
   "cell_type": "markdown",
   "id": "f9d4d87f",
   "metadata": {},
   "source": [
    "# Count of Flower"
   ]
  },
  {
   "cell_type": "code",
   "execution_count": null,
   "id": "7b7d192e",
   "metadata": {},
   "outputs": [],
   "source": [
    "Find and print count of each kind of flower (separated by space)?\n",
    "Note: Get the dataset from here\n",
    "Print the count as Integer Value."
   ]
  },
  {
   "cell_type": "code",
   "execution_count": 1,
   "id": "76d37516",
   "metadata": {},
   "outputs": [
    {
     "name": "stdout",
     "output_type": "stream",
     "text": [
      "       sepal.length  sepal.width  petal.length  petal.width\n",
      "count      50.00000    50.000000     50.000000    50.000000\n",
      "mean        5.00600     3.428000      1.462000     0.246000\n",
      "std         0.35249     0.379064      0.173664     0.105386\n",
      "min         4.30000     2.300000      1.000000     0.100000\n",
      "25%         4.80000     3.200000      1.400000     0.200000\n",
      "50%         5.00000     3.400000      1.500000     0.200000\n",
      "75%         5.20000     3.675000      1.575000     0.300000\n",
      "max         5.80000     4.400000      1.900000     0.600000\n",
      "50 50 50\n"
     ]
    }
   ],
   "source": [
    "import pandas as pd\n",
    "\n",
    "df = pd.read_csv('https://gist.githubusercontent.com/netj/8836201/raw/6f9306ad21398ea43cba4f7d537619d0e07d5ae3/iris.csv')\n",
    "s1 = df[df['variety']=='Setosa'].describe()\n",
    "s2 = df[df['variety']=='Versicolor'].describe()\n",
    "s3 = df[df['variety']=='Virginica'].describe()\n",
    "\n",
    "print(s1)\n",
    "print(f'{int(s1.iloc[0,0])} {int(s2.iloc[0,0])} {int(s3.iloc[0,0])}')"
   ]
  },
  {
   "cell_type": "markdown",
   "id": "eb96fb26",
   "metadata": {},
   "source": [
    "# Iris Virginica"
   ]
  },
  {
   "cell_type": "code",
   "execution_count": 37,
   "id": "c11d7aca",
   "metadata": {},
   "outputs": [
    {
     "name": "stdout",
     "output_type": "stream",
     "text": [
      "6.3 3.3 6.0 2.5 Iris-virginica\n",
      "5.8 2.7 5.1 1.9 Iris-virginica\n",
      "7.1 3.0 5.9 2.1 Iris-virginica\n",
      "6.3 2.9 5.6 1.8 Iris-virginica\n",
      "6.5 3.0 5.8 2.2 Iris-virginica\n",
      "7.6 3.0 6.6 2.1 Iris-virginica\n",
      "4.9 2.5 4.5 1.7 Iris-virginica\n",
      "7.3 2.9 6.3 1.8 Iris-virginica\n",
      "6.7 2.5 5.8 1.8 Iris-virginica\n",
      "7.2 3.6 6.1 2.5 Iris-virginica\n",
      "6.5 3.2 5.1 2.0 Iris-virginica\n",
      "6.4 2.7 5.3 1.9 Iris-virginica\n",
      "6.8 3.0 5.5 2.1 Iris-virginica\n",
      "5.7 2.5 5.0 2.0 Iris-virginica\n",
      "5.8 2.8 5.1 2.4 Iris-virginica\n",
      "6.4 3.2 5.3 2.3 Iris-virginica\n",
      "6.5 3.0 5.5 1.8 Iris-virginica\n",
      "7.7 3.8 6.7 2.2 Iris-virginica\n",
      "7.7 2.6 6.9 2.3 Iris-virginica\n",
      "6.0 2.2 5.0 1.5 Iris-virginica\n",
      "6.9 3.2 5.7 2.3 Iris-virginica\n",
      "5.6 2.8 4.9 2.0 Iris-virginica\n",
      "7.7 2.8 6.7 2.0 Iris-virginica\n",
      "6.3 2.7 4.9 1.8 Iris-virginica\n",
      "6.7 3.3 5.7 2.1 Iris-virginica\n",
      "7.2 3.2 6.0 1.8 Iris-virginica\n",
      "6.2 2.8 4.8 1.8 Iris-virginica\n",
      "6.1 3.0 4.9 1.8 Iris-virginica\n",
      "6.4 2.8 5.6 2.1 Iris-virginica\n",
      "7.2 3.0 5.8 1.6 Iris-virginica\n",
      "7.4 2.8 6.1 1.9 Iris-virginica\n",
      "7.9 3.8 6.4 2.0 Iris-virginica\n",
      "6.4 2.8 5.6 2.2 Iris-virginica\n",
      "6.3 2.8 5.1 1.5 Iris-virginica\n",
      "6.1 2.6 5.6 1.4 Iris-virginica\n",
      "7.7 3.0 6.1 2.3 Iris-virginica\n",
      "6.3 3.4 5.6 2.4 Iris-virginica\n",
      "6.4 3.1 5.5 1.8 Iris-virginica\n",
      "6.0 3.0 4.8 1.8 Iris-virginica\n",
      "6.9 3.1 5.4 2.1 Iris-virginica\n",
      "6.7 3.1 5.6 2.4 Iris-virginica\n",
      "6.9 3.1 5.1 2.3 Iris-virginica\n",
      "5.8 2.7 5.1 1.9 Iris-virginica\n",
      "6.8 3.2 5.9 2.3 Iris-virginica\n",
      "6.7 3.3 5.7 2.5 Iris-virginica\n",
      "6.7 3.0 5.2 2.3 Iris-virginica\n",
      "6.3 2.5 5.0 1.9 Iris-virginica\n",
      "6.5 3.0 5.2 2.0 Iris-virginica\n",
      "6.2 3.4 5.4 2.3 Iris-virginica\n",
      "5.9 3.0 5.1 1.8 Iris-virginica\n"
     ]
    }
   ],
   "source": [
    "df = pd.read_csv('https://files.codingninjas.in/iris-8116.csv?_ga=2.248838159.981330417.1691074454-1882396549.1658417346&_gac=1.90643560.1688030592.Cj0KCQjw1_SkBhDwARIsANbGpFvgEMLcKt61lEAgyt5KDen2gqvPlLdwpBlUdi6_vl20Z61Au7DtyE0aAhRxEALw_wcB')\n",
    "\n",
    "s1 = df[(df['variety']=='Iris-virginica') & (df['petal.length'] > 1.5)]\n",
    "\n",
    "for i in s1.values:\n",
    "    print(f'{i[0]} {i[1]} {i[2]} {i[3]} {i[4]}')"
   ]
  },
  {
   "cell_type": "markdown",
   "id": "f545c01c",
   "metadata": {},
   "source": [
    "# For f500 dataset - Top 5"
   ]
  },
  {
   "cell_type": "code",
   "execution_count": null,
   "id": "ee09a803",
   "metadata": {},
   "outputs": [],
   "source": [
    "Using the \"f500.csv\" dataset, Print the top 5 countries having the most companies in this list.\n",
    "Output Format\n",
    "USA        <number of companies>\n",
    "China      <number of companies>"
   ]
  },
  {
   "cell_type": "markdown",
   "id": "8c50cddc",
   "metadata": {},
   "source": [
    "#### value_counts() function returns object containing counts of unique values . The resulting object will be in descending order so that the first element is the most frequently-occurring element"
   ]
  },
  {
   "cell_type": "code",
   "execution_count": 49,
   "id": "41da5c8b",
   "metadata": {},
   "outputs": [
    {
     "name": "stdout",
     "output_type": "stream",
     "text": [
      "USA        132\n",
      "China      109\n",
      "Japan       51\n",
      "Germany     29\n",
      "France      29\n",
      "Name: country, dtype: int64\n"
     ]
    }
   ],
   "source": [
    "df = pd.read_csv('f500.csv')\n",
    "print(df['country'].value_counts().iloc[:5])"
   ]
  },
  {
   "cell_type": "markdown",
   "id": "9dd1703c",
   "metadata": {},
   "source": [
    "# For f500 dataset - Selected Rows and Columns"
   ]
  },
  {
   "cell_type": "code",
   "execution_count": 50,
   "id": "afeb3d53",
   "metadata": {},
   "outputs": [
    {
     "name": "stdout",
     "output_type": "stream",
     "text": [
      "                    company  rank  revenues\n",
      "0                   Walmart     1    485873\n",
      "1                State Grid     2    315199\n",
      "2             Sinopec Group     3    267518\n",
      "3  China National Petroleum     4    262573\n",
      "4              Toyota Motor     5    254694\n"
     ]
    }
   ],
   "source": [
    "df = pd.read_csv('f500.csv')\n",
    "print(df.iloc[:5,:3])"
   ]
  },
  {
   "cell_type": "code",
   "execution_count": 51,
   "id": "52988c54",
   "metadata": {},
   "outputs": [
    {
     "data": {
      "text/html": [
       "<div>\n",
       "<style scoped>\n",
       "    .dataframe tbody tr th:only-of-type {\n",
       "        vertical-align: middle;\n",
       "    }\n",
       "\n",
       "    .dataframe tbody tr th {\n",
       "        vertical-align: top;\n",
       "    }\n",
       "\n",
       "    .dataframe thead th {\n",
       "        text-align: right;\n",
       "    }\n",
       "</style>\n",
       "<table border=\"1\" class=\"dataframe\">\n",
       "  <thead>\n",
       "    <tr style=\"text-align: right;\">\n",
       "      <th></th>\n",
       "      <th>company</th>\n",
       "      <th>rank</th>\n",
       "      <th>revenues</th>\n",
       "      <th>revenue_change</th>\n",
       "      <th>profits</th>\n",
       "      <th>assets</th>\n",
       "      <th>profit_change</th>\n",
       "      <th>ceo</th>\n",
       "      <th>industry</th>\n",
       "      <th>sector</th>\n",
       "      <th>previous_rank</th>\n",
       "      <th>country</th>\n",
       "      <th>hq_location</th>\n",
       "      <th>website</th>\n",
       "      <th>years_on_global_500_list</th>\n",
       "      <th>employees</th>\n",
       "      <th>total_stockholder_equity</th>\n",
       "    </tr>\n",
       "  </thead>\n",
       "  <tbody>\n",
       "    <tr>\n",
       "      <th>0</th>\n",
       "      <td>Walmart</td>\n",
       "      <td>1</td>\n",
       "      <td>485873</td>\n",
       "      <td>0.8</td>\n",
       "      <td>13643.0</td>\n",
       "      <td>198825</td>\n",
       "      <td>-7.2</td>\n",
       "      <td>C. Douglas McMillon</td>\n",
       "      <td>General Merchandisers</td>\n",
       "      <td>Retailing</td>\n",
       "      <td>1</td>\n",
       "      <td>USA</td>\n",
       "      <td>Bentonville, AR</td>\n",
       "      <td>http://www.walmart.com</td>\n",
       "      <td>23</td>\n",
       "      <td>2300000</td>\n",
       "      <td>77798</td>\n",
       "    </tr>\n",
       "    <tr>\n",
       "      <th>1</th>\n",
       "      <td>State Grid</td>\n",
       "      <td>2</td>\n",
       "      <td>315199</td>\n",
       "      <td>-4.4</td>\n",
       "      <td>9571.3</td>\n",
       "      <td>489838</td>\n",
       "      <td>-6.2</td>\n",
       "      <td>Kou Wei</td>\n",
       "      <td>Utilities</td>\n",
       "      <td>Energy</td>\n",
       "      <td>2</td>\n",
       "      <td>China</td>\n",
       "      <td>Beijing, China</td>\n",
       "      <td>http://www.sgcc.com.cn</td>\n",
       "      <td>17</td>\n",
       "      <td>926067</td>\n",
       "      <td>209456</td>\n",
       "    </tr>\n",
       "    <tr>\n",
       "      <th>2</th>\n",
       "      <td>Sinopec Group</td>\n",
       "      <td>3</td>\n",
       "      <td>267518</td>\n",
       "      <td>-9.1</td>\n",
       "      <td>1257.9</td>\n",
       "      <td>310726</td>\n",
       "      <td>-65.0</td>\n",
       "      <td>Wang Yupu</td>\n",
       "      <td>Petroleum Refining</td>\n",
       "      <td>Energy</td>\n",
       "      <td>4</td>\n",
       "      <td>China</td>\n",
       "      <td>Beijing, China</td>\n",
       "      <td>http://www.sinopec.com</td>\n",
       "      <td>19</td>\n",
       "      <td>713288</td>\n",
       "      <td>106523</td>\n",
       "    </tr>\n",
       "    <tr>\n",
       "      <th>3</th>\n",
       "      <td>China National Petroleum</td>\n",
       "      <td>4</td>\n",
       "      <td>262573</td>\n",
       "      <td>-12.3</td>\n",
       "      <td>1867.5</td>\n",
       "      <td>585619</td>\n",
       "      <td>-73.7</td>\n",
       "      <td>Zhang Jianhua</td>\n",
       "      <td>Petroleum Refining</td>\n",
       "      <td>Energy</td>\n",
       "      <td>3</td>\n",
       "      <td>China</td>\n",
       "      <td>Beijing, China</td>\n",
       "      <td>http://www.cnpc.com.cn</td>\n",
       "      <td>17</td>\n",
       "      <td>1512048</td>\n",
       "      <td>301893</td>\n",
       "    </tr>\n",
       "    <tr>\n",
       "      <th>4</th>\n",
       "      <td>Toyota Motor</td>\n",
       "      <td>5</td>\n",
       "      <td>254694</td>\n",
       "      <td>7.7</td>\n",
       "      <td>16899.3</td>\n",
       "      <td>437575</td>\n",
       "      <td>-12.3</td>\n",
       "      <td>Akio Toyoda</td>\n",
       "      <td>Motor Vehicles and Parts</td>\n",
       "      <td>Motor Vehicles &amp; Parts</td>\n",
       "      <td>8</td>\n",
       "      <td>Japan</td>\n",
       "      <td>Toyota, Japan</td>\n",
       "      <td>http://www.toyota-global.com</td>\n",
       "      <td>23</td>\n",
       "      <td>364445</td>\n",
       "      <td>157210</td>\n",
       "    </tr>\n",
       "  </tbody>\n",
       "</table>\n",
       "</div>"
      ],
      "text/plain": [
       "                    company  rank  revenues  revenue_change  profits  assets  \\\n",
       "0                   Walmart     1    485873             0.8  13643.0  198825   \n",
       "1                State Grid     2    315199            -4.4   9571.3  489838   \n",
       "2             Sinopec Group     3    267518            -9.1   1257.9  310726   \n",
       "3  China National Petroleum     4    262573           -12.3   1867.5  585619   \n",
       "4              Toyota Motor     5    254694             7.7  16899.3  437575   \n",
       "\n",
       "   profit_change                  ceo                  industry  \\\n",
       "0           -7.2  C. Douglas McMillon     General Merchandisers   \n",
       "1           -6.2              Kou Wei                 Utilities   \n",
       "2          -65.0            Wang Yupu        Petroleum Refining   \n",
       "3          -73.7        Zhang Jianhua        Petroleum Refining   \n",
       "4          -12.3          Akio Toyoda  Motor Vehicles and Parts   \n",
       "\n",
       "                   sector  previous_rank country      hq_location  \\\n",
       "0               Retailing              1     USA  Bentonville, AR   \n",
       "1                  Energy              2   China   Beijing, China   \n",
       "2                  Energy              4   China   Beijing, China   \n",
       "3                  Energy              3   China   Beijing, China   \n",
       "4  Motor Vehicles & Parts              8   Japan    Toyota, Japan   \n",
       "\n",
       "                        website  years_on_global_500_list  employees  \\\n",
       "0        http://www.walmart.com                        23    2300000   \n",
       "1        http://www.sgcc.com.cn                        17     926067   \n",
       "2        http://www.sinopec.com                        19     713288   \n",
       "3        http://www.cnpc.com.cn                        17    1512048   \n",
       "4  http://www.toyota-global.com                        23     364445   \n",
       "\n",
       "   total_stockholder_equity  \n",
       "0                     77798  \n",
       "1                    209456  \n",
       "2                    106523  \n",
       "3                    301893  \n",
       "4                    157210  "
      ]
     },
     "execution_count": 51,
     "metadata": {},
     "output_type": "execute_result"
    }
   ],
   "source": [
    "df = pd.read_csv('f500.csv')\n",
    "test = df.copy()\n",
    "test.head()"
   ]
  },
  {
   "cell_type": "code",
   "execution_count": 53,
   "id": "baf3f830",
   "metadata": {},
   "outputs": [
    {
     "data": {
      "text/html": [
       "<div>\n",
       "<style scoped>\n",
       "    .dataframe tbody tr th:only-of-type {\n",
       "        vertical-align: middle;\n",
       "    }\n",
       "\n",
       "    .dataframe tbody tr th {\n",
       "        vertical-align: top;\n",
       "    }\n",
       "\n",
       "    .dataframe thead th {\n",
       "        text-align: right;\n",
       "    }\n",
       "</style>\n",
       "<table border=\"1\" class=\"dataframe\">\n",
       "  <thead>\n",
       "    <tr style=\"text-align: right;\">\n",
       "      <th></th>\n",
       "      <th>rank</th>\n",
       "      <th>revenues</th>\n",
       "      <th>revenue_change</th>\n",
       "      <th>profits</th>\n",
       "      <th>assets</th>\n",
       "      <th>profit_change</th>\n",
       "      <th>ceo</th>\n",
       "      <th>industry</th>\n",
       "      <th>sector</th>\n",
       "      <th>previous_rank</th>\n",
       "      <th>country</th>\n",
       "      <th>hq_location</th>\n",
       "      <th>website</th>\n",
       "      <th>years_on_global_500_list</th>\n",
       "      <th>employees</th>\n",
       "      <th>total_stockholder_equity</th>\n",
       "    </tr>\n",
       "  </thead>\n",
       "  <tbody>\n",
       "    <tr>\n",
       "      <th>0</th>\n",
       "      <td>1</td>\n",
       "      <td>485873</td>\n",
       "      <td>0.8</td>\n",
       "      <td>13643.0</td>\n",
       "      <td>198825</td>\n",
       "      <td>-7.2</td>\n",
       "      <td>C. Douglas McMillon</td>\n",
       "      <td>General Merchandisers</td>\n",
       "      <td>Retailing</td>\n",
       "      <td>1</td>\n",
       "      <td>USA</td>\n",
       "      <td>Bentonville, AR</td>\n",
       "      <td>http://www.walmart.com</td>\n",
       "      <td>23</td>\n",
       "      <td>2300000</td>\n",
       "      <td>77798</td>\n",
       "    </tr>\n",
       "    <tr>\n",
       "      <th>1</th>\n",
       "      <td>2</td>\n",
       "      <td>315199</td>\n",
       "      <td>-4.4</td>\n",
       "      <td>9571.3</td>\n",
       "      <td>489838</td>\n",
       "      <td>-6.2</td>\n",
       "      <td>Kou Wei</td>\n",
       "      <td>Utilities</td>\n",
       "      <td>Energy</td>\n",
       "      <td>2</td>\n",
       "      <td>China</td>\n",
       "      <td>Beijing, China</td>\n",
       "      <td>http://www.sgcc.com.cn</td>\n",
       "      <td>17</td>\n",
       "      <td>926067</td>\n",
       "      <td>209456</td>\n",
       "    </tr>\n",
       "    <tr>\n",
       "      <th>2</th>\n",
       "      <td>3</td>\n",
       "      <td>267518</td>\n",
       "      <td>-9.1</td>\n",
       "      <td>1257.9</td>\n",
       "      <td>310726</td>\n",
       "      <td>-65.0</td>\n",
       "      <td>Wang Yupu</td>\n",
       "      <td>Petroleum Refining</td>\n",
       "      <td>Energy</td>\n",
       "      <td>4</td>\n",
       "      <td>China</td>\n",
       "      <td>Beijing, China</td>\n",
       "      <td>http://www.sinopec.com</td>\n",
       "      <td>19</td>\n",
       "      <td>713288</td>\n",
       "      <td>106523</td>\n",
       "    </tr>\n",
       "    <tr>\n",
       "      <th>3</th>\n",
       "      <td>4</td>\n",
       "      <td>262573</td>\n",
       "      <td>-12.3</td>\n",
       "      <td>1867.5</td>\n",
       "      <td>585619</td>\n",
       "      <td>-73.7</td>\n",
       "      <td>Zhang Jianhua</td>\n",
       "      <td>Petroleum Refining</td>\n",
       "      <td>Energy</td>\n",
       "      <td>3</td>\n",
       "      <td>China</td>\n",
       "      <td>Beijing, China</td>\n",
       "      <td>http://www.cnpc.com.cn</td>\n",
       "      <td>17</td>\n",
       "      <td>1512048</td>\n",
       "      <td>301893</td>\n",
       "    </tr>\n",
       "    <tr>\n",
       "      <th>4</th>\n",
       "      <td>5</td>\n",
       "      <td>254694</td>\n",
       "      <td>7.7</td>\n",
       "      <td>16899.3</td>\n",
       "      <td>437575</td>\n",
       "      <td>-12.3</td>\n",
       "      <td>Akio Toyoda</td>\n",
       "      <td>Motor Vehicles and Parts</td>\n",
       "      <td>Motor Vehicles &amp; Parts</td>\n",
       "      <td>8</td>\n",
       "      <td>Japan</td>\n",
       "      <td>Toyota, Japan</td>\n",
       "      <td>http://www.toyota-global.com</td>\n",
       "      <td>23</td>\n",
       "      <td>364445</td>\n",
       "      <td>157210</td>\n",
       "    </tr>\n",
       "  </tbody>\n",
       "</table>\n",
       "</div>"
      ],
      "text/plain": [
       "   rank  revenues  revenue_change  profits  assets  profit_change  \\\n",
       "0     1    485873             0.8  13643.0  198825           -7.2   \n",
       "1     2    315199            -4.4   9571.3  489838           -6.2   \n",
       "2     3    267518            -9.1   1257.9  310726          -65.0   \n",
       "3     4    262573           -12.3   1867.5  585619          -73.7   \n",
       "4     5    254694             7.7  16899.3  437575          -12.3   \n",
       "\n",
       "                   ceo                  industry                  sector  \\\n",
       "0  C. Douglas McMillon     General Merchandisers               Retailing   \n",
       "1              Kou Wei                 Utilities                  Energy   \n",
       "2            Wang Yupu        Petroleum Refining                  Energy   \n",
       "3        Zhang Jianhua        Petroleum Refining                  Energy   \n",
       "4          Akio Toyoda  Motor Vehicles and Parts  Motor Vehicles & Parts   \n",
       "\n",
       "   previous_rank country      hq_location                       website  \\\n",
       "0              1     USA  Bentonville, AR        http://www.walmart.com   \n",
       "1              2   China   Beijing, China        http://www.sgcc.com.cn   \n",
       "2              4   China   Beijing, China        http://www.sinopec.com   \n",
       "3              3   China   Beijing, China        http://www.cnpc.com.cn   \n",
       "4              8   Japan    Toyota, Japan  http://www.toyota-global.com   \n",
       "\n",
       "   years_on_global_500_list  employees  total_stockholder_equity  \n",
       "0                        23    2300000                     77798  \n",
       "1                        17     926067                    209456  \n",
       "2                        19     713288                    106523  \n",
       "3                        17    1512048                    301893  \n",
       "4                        23     364445                    157210  "
      ]
     },
     "execution_count": 53,
     "metadata": {},
     "output_type": "execute_result"
    }
   ],
   "source": [
    "test.drop('company',axis=1,inplace=True)\n",
    "test.head()"
   ]
  },
  {
   "cell_type": "markdown",
   "id": "48fcd2c5",
   "metadata": {},
   "source": [
    "# Update Row"
   ]
  },
  {
   "cell_type": "code",
   "execution_count": null,
   "id": "d0eab9dc",
   "metadata": {},
   "outputs": [],
   "source": [
    "Alex Grayson recently got placed and was offered a salary of 240000. (Alex's row index is 194).\n",
    "Write a program to update this row.\n",
    "\n",
    "Update:\n",
    "  Status=\"Placed\"<br>\n",
    "  Salary=\"240000\"\n",
    "            \n",
    "Columns: Index(['S.no', 'Name', 'Gender', 'MBA_percentage', 'Highschool_percentage','Status', 'Salary'],dtype='object')"
   ]
  },
  {
   "cell_type": "code",
   "execution_count": 66,
   "id": "ea1bee4f",
   "metadata": {},
   "outputs": [
    {
     "name": "stdout",
     "output_type": "stream",
     "text": [
      "S.no                              195\n",
      "Name                     Alex Grayson\n",
      "Gender                              M\n",
      "MBA_percentage                   55.0\n",
      "Highschool_percentage           64.74\n",
      "Status                         Placed\n",
      "Salary                         240000\n",
      "Name: 194, dtype: object\n"
     ]
    }
   ],
   "source": [
    "import pandas as pd\n",
    "df=pd.read_csv(\"CollegePlacements.csv\")\n",
    "\n",
    "df.iloc[194,5] = 'Placed'\n",
    "df.iloc[194,6] = '240000'\n",
    "print(df.iloc[194,:])"
   ]
  },
  {
   "cell_type": "markdown",
   "id": "1d512912",
   "metadata": {},
   "source": [
    "# DataFrame Basic Indexing"
   ]
  },
  {
   "cell_type": "code",
   "execution_count": null,
   "id": "352f1ef3",
   "metadata": {},
   "outputs": [],
   "source": [
    "Write a program to Print total number of students with atleast 60 Highschool_percentage. Also print their mean MBA_percentage. \n",
    "The dataset is a CSV file called \"CollegePlacements.csv\".\n",
    "\n",
    "S.no MBA_percentage Highschool_percentage Salary\n",
    "count 134.000000 134.000000 134.000000 134.000000\n",
    "mean 108.865672 68.243731 65.813582 213634.328358\n",
    "std 60.624419 10.415461 4.227577 165085.876082\n",
    "min 2.000000 42.160000 60.020000 0.000000\n",
    "25% 54.250000 61.340000 62.465000 0.000000\n",
    "50% 113.000000 67.000000 65.290000 245000.000000\n",
    "75% 160.750000 74.915000 68.545000 300000.000000\n",
    "max 215.000000 97.700000 77.890000 940000.000000\n",
    "\n",
    "Output:\n",
    "    134 68"
   ]
  },
  {
   "cell_type": "code",
   "execution_count": 65,
   "id": "a502c2c2",
   "metadata": {},
   "outputs": [
    {
     "name": "stdout",
     "output_type": "stream",
     "text": [
      "134 68.2437313432836\n"
     ]
    }
   ],
   "source": [
    "import pandas as pd\n",
    "df=pd.read_csv(\"CollegePlacements.csv\")\n",
    "\n",
    "s = df[df['Highschool_percentage']>60].describe()\n",
    "print(f'{int(s.iloc[0,0])} {float(s.iloc[1,1])}')"
   ]
  },
  {
   "cell_type": "markdown",
   "id": "610de4fa",
   "metadata": {},
   "source": [
    "# Data Frame Indexing"
   ]
  },
  {
   "cell_type": "code",
   "execution_count": null,
   "id": "478728a9",
   "metadata": {},
   "outputs": [],
   "source": [
    "Write a program to calculate total number of unplaced males with  atleast 50 MBA_percentage. \n",
    "The dataset is a CSV file called \"CollegePlacements.csv\"."
   ]
  },
  {
   "cell_type": "code",
   "execution_count": 64,
   "id": "4e0acd7d",
   "metadata": {},
   "outputs": [
    {
     "name": "stdout",
     "output_type": "stream",
     "text": [
      "29\n"
     ]
    }
   ],
   "source": [
    "import pandas as pd\n",
    "\n",
    "df = pd.read_csv('CollegePlacements.csv')\n",
    "\n",
    "s = df[(df['Status'] == 'Not Placed') & (df['MBA_percentage'] >= 50) & (df['Gender'] == 'M')].describe()\n",
    "print(int(s.iloc[0,0]))"
   ]
  },
  {
   "cell_type": "markdown",
   "id": "24b37c7f",
   "metadata": {},
   "source": [
    "# Delete Column"
   ]
  },
  {
   "cell_type": "code",
   "execution_count": null,
   "id": "0cc12643",
   "metadata": {},
   "outputs": [],
   "source": [
    "There is a column called S.no in the dataset. \n",
    "Write a program to drop \"S.no\" column from the dataset. \n",
    "The dataset is a CSV file called \"CollegePlacements.csv\".\n",
    "\n",
    "Before:\n",
    "      S.no Name Gender\n",
    "    1 2 Justin Ritter M\n",
    "    2 3 Craig Reiter M\n",
    "    3 4 Katherine Murray M\n",
    "    \n",
    "After:\n",
    "      Name Gender MBA_percentage\n",
    "    1 Justin Ritter M 78.33\n",
    "    2 Craig Reiter M 68.00\n",
    "    3 Katherine Murray M 52.00"
   ]
  },
  {
   "cell_type": "code",
   "execution_count": 63,
   "id": "1a8c8aee",
   "metadata": {},
   "outputs": [
    {
     "name": "stdout",
     "output_type": "stream",
     "text": [
      "               Name Gender  MBA_percentage\n",
      "1     Justin Ritter      M           78.33\n",
      "2      Craig Reiter      M           68.00\n",
      "3  Katherine Murray      M           52.00\n",
      "4       Rick Hansen      M           73.60\n",
      "5       Jim Mitchum      M           49.80\n",
      "6     Toby Swindell      F           49.20\n",
      "7        Mick Brown      M           64.00\n",
      "8         Jane Waco      M           79.00\n",
      "9       Joseph Holt      M           70.00\n"
     ]
    }
   ],
   "source": [
    "import pandas as pd\n",
    "\n",
    "df=pd.read_csv(\"CollegePlacements.csv\")\n",
    "\n",
    "df.drop('S.no',axis=1,inplace=True)\n",
    "print(df.iloc[1:10,0:3])"
   ]
  },
  {
   "cell_type": "markdown",
   "id": "e97094b0",
   "metadata": {},
   "source": [
    "# Iris Values"
   ]
  },
  {
   "cell_type": "code",
   "execution_count": null,
   "id": "65c2db55",
   "metadata": {},
   "outputs": [],
   "source": [
    "Find and print the minimum, maximum and average value of the feature for each kind of flower ?\n",
    "Print the value with two decimal places.\n",
    "Note: Order for flower is Iris-setosa, Iris-versicolor and Iris-virginica."
   ]
  },
  {
   "cell_type": "code",
   "execution_count": 34,
   "id": "4c0d33fa",
   "metadata": {
    "scrolled": true
   },
   "outputs": [
    {
     "name": "stdout",
     "output_type": "stream",
     "text": [
      "4.30 2.30 1.00 0.10 Iris-setosa\n",
      "5.80 4.40 1.90 0.60 Iris-setosa\n",
      "5.01 3.42 1.46 0.24 Iris-setosa\n",
      "4.90 2.00 3.00 1.00 Iris-versicolor\n",
      "7.00 3.40 5.10 1.80 Iris-versicolor\n",
      "5.94 2.77 4.26 1.33 Iris-versicolor\n",
      "4.90 2.20 4.50 1.40 Iris-virginica\n",
      "7.90 3.80 6.90 2.50 Iris-virginica\n",
      "6.59 2.97 5.55 2.03 Iris-virginica\n"
     ]
    }
   ],
   "source": [
    "data_file=pd.read_csv('https://archive.ics.uci.edu/ml/machine-learning-databases/iris/iris.data',header=None)\n",
    "data_file.columns = ['sl', 'sw', 'pl', 'pw', 'flower_type']\n",
    "\n",
    "for n in ['Iris-setosa','Iris-versicolor','Iris-virginica']:\n",
    "    file=data_file[data_file['flower_type']==n]\n",
    "    data=file.describe()\n",
    "    \n",
    "    for i in ['min','max','mean']:\n",
    "        for j in ['sl','sw','pl','pw']:\n",
    "            print('%.2f'%data[j][i],end=\" \")\n",
    "        print(n)"
   ]
  },
  {
   "cell_type": "markdown",
   "id": "e7f0a6a3",
   "metadata": {},
   "source": [
    "# Data Frame Indexing"
   ]
  },
  {
   "cell_type": "code",
   "execution_count": null,
   "id": "a2848e9b",
   "metadata": {},
   "outputs": [],
   "source": [
    "Write a program to print the difference between number of unplaced and number of placed students who scored atleast \n",
    "65 MBA_percentage \n",
    "The dataset is a CSV file called \"CollegePlacements.csv\"."
   ]
  },
  {
   "cell_type": "code",
   "execution_count": 82,
   "id": "16c1571c",
   "metadata": {},
   "outputs": [
    {
     "name": "stdout",
     "output_type": "stream",
     "text": [
      "     S.no              Name Gender  MBA_percentage  Highschool_percentage  \\\n",
      "0       1       Rick Hansen      M           91.00                  58.80   \n",
      "1       2     Justin Ritter      M           78.33                  66.28   \n",
      "2       3      Craig Reiter      M           68.00                  57.80   \n",
      "3       4  Katherine Murray      M           52.00                  59.43   \n",
      "4       5       Rick Hansen      M           73.60                  55.50   \n",
      "..    ...               ...    ...             ...                    ...   \n",
      "210   211         Ken Black      M           82.00                  74.49   \n",
      "211   212  Logan Haushalter      M           60.00                  53.62   \n",
      "212   213     Eleni McCrary      M           67.00                  69.72   \n",
      "213   214         Mary Zewe      F           66.00                  60.23   \n",
      "214   215         Kent Will      M           58.00                  60.22   \n",
      "\n",
      "         Status  Salary  \n",
      "0        Placed  270000  \n",
      "1        Placed  200000  \n",
      "2        Placed  250000  \n",
      "3    Not Placed       0  \n",
      "4        Placed  425000  \n",
      "..          ...     ...  \n",
      "210      Placed  400000  \n",
      "211      Placed  275000  \n",
      "212      Placed  295000  \n",
      "213      Placed  204000  \n",
      "214  Not Placed       0  \n",
      "\n",
      "[215 rows x 7 columns]\n"
     ]
    }
   ],
   "source": [
    "import pandas as pd\n",
    "\n",
    "df = pd.read_csv('CollegePlacements.csv')\n",
    "\n",
    "s1 = df[(df['MBA_percentage'] >= 65) & (df['Status'] == 'Placed')]\n",
    "s2 = df[(df['MBA_percentage'] >= 65) & (df['Status'] == 'Not Placed')]\n",
    "\n",
    "print(df)"
   ]
  },
  {
   "cell_type": "code",
   "execution_count": null,
   "id": "68583459",
   "metadata": {},
   "outputs": [],
   "source": []
  },
  {
   "cell_type": "code",
   "execution_count": null,
   "id": "77ba7057",
   "metadata": {},
   "outputs": [],
   "source": []
  },
  {
   "cell_type": "markdown",
   "id": "e9a8e64d",
   "metadata": {},
   "source": [
    "# DataFrame Indexing -2"
   ]
  },
  {
   "cell_type": "code",
   "execution_count": null,
   "id": "4c88cb3a",
   "metadata": {},
   "outputs": [],
   "source": [
    "Write a program to print total number of unplaced females whose name starts with \"E\". \n",
    "The dataset is a CSV file called \"CollegePlacements.csv\".\n",
    "\n",
    "Output:\n",
    "    2"
   ]
  },
  {
   "cell_type": "code",
   "execution_count": 62,
   "id": "7d0a5bac",
   "metadata": {},
   "outputs": [
    {
     "name": "stdout",
     "output_type": "stream",
     "text": [
      "2\n"
     ]
    }
   ],
   "source": [
    "import pandas as pd\n",
    "\n",
    "df = pd.read_csv('CollegePlacements.csv')\n",
    "\n",
    "s = df[(df['Status'] == 'Not Placed') & (df['Gender'] == 'F') & (df['Name'].str.startswith('E'))].describe()\n",
    "\n",
    "print(int(s.iloc[0,0]))"
   ]
  },
  {
   "cell_type": "markdown",
   "id": "88770d22",
   "metadata": {},
   "source": [
    "# Create New Column"
   ]
  },
  {
   "cell_type": "code",
   "execution_count": null,
   "id": "c057dffc",
   "metadata": {},
   "outputs": [],
   "source": [
    "Write a program to create a new column called \"Average_percentage\" which contains average percentage of student from \n",
    "both MBA and High School percentage.<br>\n",
    "Print the first 10 rows of this column. \n",
    "The dataset is a CSV file called \"CollegePlacements.csv\".\n",
    "\n",
    "Run Output:\n",
    "    0 74.900\n",
    "    1 72.305\n",
    "    2 62.900\n",
    "    3 55.715\n",
    "    4 64.550\n",
    "    5 50.690"
   ]
  },
  {
   "cell_type": "code",
   "execution_count": 61,
   "id": "40590ff7",
   "metadata": {},
   "outputs": [
    {
     "name": "stdout",
     "output_type": "stream",
     "text": [
      "0    74.900\n",
      "1    72.305\n",
      "2    62.900\n",
      "3    55.715\n",
      "4    64.550\n",
      "5    50.690\n",
      "6    51.245\n",
      "7    63.070\n",
      "8    70.145\n",
      "9    61.105\n",
      "Name: Average_percentage, dtype: float64\n"
     ]
    }
   ],
   "source": [
    "import pandas as pd\n",
    "\n",
    "df = pd.read_csv('CollegePlacements.csv')\n",
    "df['Average_percentage'] = (df['MBA_percentage']+df['Highschool_percentage'])/2\n",
    "\n",
    "print(df['Average_percentage'].head(10))"
   ]
  },
  {
   "cell_type": "markdown",
   "id": "40b698f9",
   "metadata": {},
   "source": [
    "# Select the rows with NaN values"
   ]
  },
  {
   "cell_type": "code",
   "execution_count": null,
   "id": "6ecc50fe",
   "metadata": {},
   "outputs": [],
   "source": [
    "In the given dataset, print the total number of rows where the value of age is null."
   ]
  },
  {
   "cell_type": "code",
   "execution_count": 60,
   "id": "375adb94",
   "metadata": {},
   "outputs": [
    {
     "name": "stdout",
     "output_type": "stream",
     "text": [
      "2\n"
     ]
    }
   ],
   "source": [
    "import numpy as np\n",
    "import pandas as pd\n",
    "\n",
    "data = {'animal': ['cat', 'cat', 'snake', 'dog', 'dog', 'cat', 'snake', 'cat', 'dog', 'dog'],\n",
    "        'age': [2.5, 3, 0.5, np.nan, 5, 2, 4.5, np.nan, 7, 3],\n",
    "        'visits': [1, 3, 2, 3, 2, 3, 1, 1, 2, 1],\n",
    "        'priority': ['yes', 'yes', 'no', 'yes', 'no', 'no', 'no', 'yes', 'no', 'no']}\n",
    "\n",
    "labels = ['a', 'b', 'c', 'd', 'e', 'f', 'g', 'h', 'i', 'j']\n",
    "\n",
    "df = pd.DataFrame(data, index=labels)\n",
    "print(df['age'].isnull().sum())"
   ]
  },
  {
   "cell_type": "markdown",
   "id": "a6223689",
   "metadata": {},
   "source": [
    "# Imputing"
   ]
  },
  {
   "cell_type": "code",
   "execution_count": null,
   "id": "9ec98eb4",
   "metadata": {},
   "outputs": [],
   "source": [
    "Columns MBA_percentage and Highschool_percentage contain missing values.\n",
    "Write a program to fill in the missing values for both the columns, using mean.\n",
    "The dataset is a CSV file called \"CollegePlacements.csv\".\n",
    "\n",
    "Output:\n",
    "    0 0 (as no NaN values are there)"
   ]
  },
  {
   "cell_type": "code",
   "execution_count": 67,
   "id": "239e4831",
   "metadata": {},
   "outputs": [
    {
     "name": "stdout",
     "output_type": "stream",
     "text": [
      "0 0\n"
     ]
    }
   ],
   "source": [
    "import pandas as pd\n",
    "df=pd.read_csv(\"CollegePlacements.csv\")\n",
    "\n",
    "df['MBA_percentage'].fillna(df['MBA_percentage'].mean(),inplace=True)\n",
    "df['Highschool_percentage'].fillna(df['Highschool_percentage'].mean(),inplace=True)\n",
    "\n",
    "print(df.MBA_percentage.isnull().sum(),df.Highschool_percentage.isnull().sum())"
   ]
  }
 ],
 "metadata": {
  "kernelspec": {
   "display_name": "Python 3 (ipykernel)",
   "language": "python",
   "name": "python3"
  },
  "language_info": {
   "codemirror_mode": {
    "name": "ipython",
    "version": 3
   },
   "file_extension": ".py",
   "mimetype": "text/x-python",
   "name": "python",
   "nbconvert_exporter": "python",
   "pygments_lexer": "ipython3",
   "version": "3.9.12"
  }
 },
 "nbformat": 4,
 "nbformat_minor": 5
}
