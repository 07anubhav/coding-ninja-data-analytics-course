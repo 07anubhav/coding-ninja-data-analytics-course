{
 "cells": [
  {
   "cell_type": "code",
   "execution_count": 17,
   "id": "04adf645",
   "metadata": {},
   "outputs": [],
   "source": [
    "import numpy as np\n",
    "import pandas as pd\n",
    "import statistics as st\n",
    "import matplotlib.pyplot as plt \n",
    "from scipy.stats import skewnorm"
   ]
  },
  {
   "cell_type": "markdown",
   "id": "112108f0",
   "metadata": {},
   "source": [
    "# Calculate Probability Distribution"
   ]
  },
  {
   "cell_type": "code",
   "execution_count": null,
   "id": "f00870c3",
   "metadata": {},
   "outputs": [],
   "source": [
    "An experiment has been conducted in which a die is rolled 10 times. Your task is to find the probability mass function for \n",
    "getting the number \"3\" for a total of \"4\" times.\n",
    "\n",
    "Note:\n",
    "The probability of success for 3 is 1/6 = 0.16.\n",
    "\n",
    "Expected Output\n",
    "Print the pmf rounded off to 2 decimal places."
   ]
  },
  {
   "cell_type": "code",
   "execution_count": 2,
   "id": "251fc94f",
   "metadata": {},
   "outputs": [
    {
     "name": "stdout",
     "output_type": "stream",
     "text": [
      "0.15\n"
     ]
    }
   ],
   "source": [
    "from scipy.stats import binom\n",
    "\n",
    "calc_pmf = binom.pmf(k=3, n=10, p=0.16)\n",
    "\n",
    "print(round(calc_pmf, 2))"
   ]
  },
  {
   "cell_type": "markdown",
   "id": "6f5b2e75",
   "metadata": {},
   "source": [
    "# Kind of Skewness"
   ]
  },
  {
   "cell_type": "code",
   "execution_count": null,
   "id": "113a226b",
   "metadata": {},
   "outputs": [],
   "source": [
    "You are given a dataset:\n",
    "[586, 760, 495, 678, 559, 415, 370, 659, 119, 288, 241, 787, 522, 207, 160, 526, 656, 848, 720, \n",
    " 676, 581, 929, 653, 661, 770, 800, 529, 975, 995, 947]\n",
    "\n",
    "Identify the skewness of this dataset.\n",
    "Print \"Right Skewed\" if the data is right-skewed and print \"Left Skewed\" if the data is left-skewed."
   ]
  },
  {
   "cell_type": "code",
   "execution_count": 18,
   "id": "7273831e",
   "metadata": {},
   "outputs": [
    {
     "name": "stdout",
     "output_type": "stream",
     "text": [
      "603.7333333333333\n",
      "654.5\n",
      "586\n",
      "Left Skewed\n"
     ]
    }
   ],
   "source": [
    "l = [586, 760, 495, 678, 559, 415, 370, 659, 119, 288, 241, 787, 522, 207, 160, 526, 656, 848, 720, 676, 581, 929, 653, 661, 770, 800, 529, 975, 995, 947]\n",
    "\n",
    "mean = st.mean(l)\n",
    "med = st.median(l)\n",
    "mode = st.mode(l)\n",
    "\n",
    "print(mean)\n",
    "print(med)\n",
    "print(mode)\n",
    "print('Left Skewed')"
   ]
  },
  {
   "cell_type": "markdown",
   "id": "afd1884a",
   "metadata": {},
   "source": [
    "# Kind of Skewness"
   ]
  },
  {
   "cell_type": "code",
   "execution_count": null,
   "id": "80439ef7",
   "metadata": {},
   "outputs": [],
   "source": [
    "You are given a dataset:\n",
    "[212, 869, 220, 654, 511, 624, 420, 121, 428, 865, 799, 405, 230, 670, 870, 366, 99, 55, 489, 312, 493, 163, 221, 84, 144, \n",
    " 48, 375, 86, 168, 100]\n",
    "\n",
    "Identify the skewness of this dataset.\n",
    "Print \"Right Skewed\" if the data is right-skewed and print \"Left-Skewed\" if the data is left-skewed."
   ]
  },
  {
   "cell_type": "code",
   "execution_count": 19,
   "id": "e2f60cd7",
   "metadata": {},
   "outputs": [
    {
     "name": "stdout",
     "output_type": "stream",
     "text": [
      "370.03333333333336\n",
      "339.0\n",
      "212\n",
      "Right Skewed\n"
     ]
    }
   ],
   "source": [
    "l = [212, 869, 220, 654, 511, 624, 420, 121, 428, 865, 799, 405, 230, 670, 870, 366, 99, 55, 489, 312, 493, 163, 221, 84, 144, 48, 375, 86, 168, 100]\n",
    "\n",
    "mean = st.mean(l)\n",
    "med = st.median(l)\n",
    "mode = st.mode(l)\n",
    "\n",
    "print(mean)\n",
    "print(med)\n",
    "print(mode)\n",
    "print('Right Skewed')"
   ]
  },
  {
   "cell_type": "markdown",
   "id": "3b96a07c",
   "metadata": {},
   "source": [
    "# Calculate Z Score"
   ]
  },
  {
   "cell_type": "code",
   "execution_count": null,
   "id": "e927ffed",
   "metadata": {},
   "outputs": [],
   "source": [
    "You have been given a list\n",
    "[6, 7, 7, 12, 13, 13, 15, 16, 19, 22].\n",
    "Calculate the z-score for this list. And round off each value to 1 decimal place.\n",
    "(Please refer the notes)\n",
    "\n",
    "Output Format\n",
    "Print the z score values for each element rounded off to 1 decimal place in the form of a list. "
   ]
  },
  {
   "cell_type": "code",
   "execution_count": 20,
   "id": "70e7ee9b",
   "metadata": {},
   "outputs": [
    {
     "name": "stdout",
     "output_type": "stream",
     "text": [
      "[-1.4, -1.2, -1.2, -0.2, 0.0, 0.0, 0.4, 0.6, 1.2, 1.8]\n"
     ]
    }
   ],
   "source": [
    "from scipy import stats\n",
    "\n",
    "l = [6, 7, 7, 12, 13, 13, 15, 16, 19, 22]\n",
    "z_score = stats.zscore(l)\n",
    "\n",
    "x = [\n",
    "    round(i,1)\n",
    "    for i in z_score\n",
    "]\n",
    "\n",
    "print(x)"
   ]
  },
  {
   "cell_type": "markdown",
   "id": "bf74d76a",
   "metadata": {},
   "source": [
    "# Standardize the Data"
   ]
  },
  {
   "cell_type": "code",
   "execution_count": null,
   "id": "c67bc3d4",
   "metadata": {},
   "outputs": [],
   "source": [
    "You are given an approximately normally distributed dataset.\n",
    "data = [567.45,572.45,572.45,589.12,613.87,615.78,628.45,644.87,650.45,652.20,656.87,661.45,666.45,667.70,668.95,675.28,675.78,685.53,694.28,697.62,705.78,705.87,708.12,711.03,714.03,716.03,722.28,728.12,728.70,729.03,730.12,731.95,735.03,736.95,737.37,738.28,739.78,740.62,743.62,747.20,748.20,748.28,748.53,750.03,752.12,754.70,755.03,758.37,760.53,764.03,769.28,775.45,781.20,781.70,785.62,792.78,793.37,795.28,797.62,798.95,799.70,799.95,810.87,811.53,813.62,814.03,814.78,817.87,818.87,820.70,821.12,825.62,828.62,841.45,842.03,842.87,849.62,874.70,878.78,897.45]\n",
    "Copy this data and calculate the mean and standard deviation of the dataset.\n",
    "\n",
    "Then Standardize the dataset using the formula:\n",
    "    Xstand = (X - mean(X)) / Standard_Deviation (X)\n",
    "\n",
    "Then print the Mean and Standard Deviation of the Standardized dataset.\n",
    "\n",
    "Note: Output should be rounded off to 0 decimal places.\n",
    "\n",
    "Output Format\n",
    "Mean Value of Standardized data\n",
    "Standard Deviation Value of Standardized data"
   ]
  },
  {
   "cell_type": "code",
   "execution_count": 40,
   "id": "57ebbdfe",
   "metadata": {},
   "outputs": [
    {
     "name": "stdout",
     "output_type": "stream",
     "text": [
      "743.027\n",
      "73.9531720872888\n",
      "[-2.38914366 -2.32110674 -2.32110674 -2.09427165 -1.7574889  -1.73149879\n",
      " -1.55909324 -1.33565999 -1.25973079 -1.23591787 -1.17237138 -1.11004956\n",
      " -1.04201264 -1.02500341 -1.00799418 -0.92185944 -0.91505575 -0.78238376\n",
      " -0.66331915 -0.61787049 -0.50683423 -0.50560957 -0.47499295 -0.43539547\n",
      " -0.39457331 -0.36735855 -0.2823124  -0.20284527 -0.19495299 -0.19046255\n",
      " -0.17563051 -0.15072899 -0.10881825 -0.08269207 -0.07697697 -0.06459425\n",
      " -0.04418318 -0.03275297  0.00806918  0.05678361  0.070391    0.07147959\n",
      "  0.07488143  0.09529251  0.12373194  0.15883899  0.16332943  0.20877809\n",
      "  0.23817004  0.28579589  0.35723465  0.44119221  0.51943467  0.52623836\n",
      "  0.57957931  0.67700818  0.68503653  0.71102664  0.74286791  0.76096574\n",
      "  0.77117127  0.77457312  0.92316575  0.93214663  0.96058606  0.96616509\n",
      "  0.97637062  1.01841744  1.03202482  1.05692634  1.06264144  1.12387467\n",
      "  1.16469682  1.33927956  1.34717184  1.35860204  1.45045188  1.79172507\n",
      "  1.8472432   2.10129306]\n",
      "0\n",
      "1\n"
     ]
    }
   ],
   "source": [
    "from scipy import stats\n",
    "\n",
    "\n",
    "data = [567.45,572.45,572.45,589.12,613.87,615.78,628.45,644.87,650.45,652.20,656.87,661.45,666.45,667.70,668.95,675.28,675.78,685.53,694.28,697.62,705.78,705.87,708.12,711.03,714.03,716.03,722.28,728.12,728.70,729.03,730.12,731.95,735.03,736.95,737.37,738.28,739.78,740.62,743.62,747.20,748.20,748.28,748.53,750.03,752.12,754.70,755.03,758.37,760.53,764.03,769.28,775.45,781.20,781.70,785.62,792.78,793.37,795.28,797.62,798.95,799.70,799.95,810.87,811.53,813.62,814.03,814.78,817.87,818.87,820.70,821.12,825.62,828.62,841.45,842.03,842.87,849.62,874.70,878.78,897.45]\n",
    "org_mean = st.mean(data)\n",
    "org_stdev = st.stdev(data)\n",
    "org_z_score = stats.zscore(data)\n",
    "\n",
    "standardized_mean = st.mean(org_z_score)\n",
    "standardized_stdev = st.stdev(org_z_score)\n",
    "print(int(round(standardized_mean,0)))\n",
    "print(int(round(standardized_stdev,0)))"
   ]
  }
 ],
 "metadata": {
  "kernelspec": {
   "display_name": "Python 3 (ipykernel)",
   "language": "python",
   "name": "python3"
  },
  "language_info": {
   "codemirror_mode": {
    "name": "ipython",
    "version": 3
   },
   "file_extension": ".py",
   "mimetype": "text/x-python",
   "name": "python",
   "nbconvert_exporter": "python",
   "pygments_lexer": "ipython3",
   "version": "3.9.12"
  }
 },
 "nbformat": 4,
 "nbformat_minor": 5
}
