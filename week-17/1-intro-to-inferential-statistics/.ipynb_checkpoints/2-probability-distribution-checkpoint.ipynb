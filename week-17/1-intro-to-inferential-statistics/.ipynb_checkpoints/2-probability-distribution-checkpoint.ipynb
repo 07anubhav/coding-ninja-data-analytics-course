{
 "cells": [
  {
   "cell_type": "markdown",
   "id": "395f6822",
   "metadata": {},
   "source": [
    "# Probability Distribution\n",
    "* In statistics, with distribution we usually mean probability distribution\n",
    "* A probability distribution is a function that shows the possible values for a variable and how often they occur.\n",
    "* A probability distribution is a list of all of the possible outcomes of a random variable along with their corresponding probability values.\n",
    "* For eg. rolling a dice, tossing a coin, measuring weight of a student etc\n",
    "\n",
    "## Types of probability distribution:\n",
    "* **Discrete probability distributions** for discrete variables\n",
    "* **Probability density functions** for continuous variables\n",
    "\n",
    "## Discrete probability distribution (Probability Mass Functions):\n",
    "* For example - coin tosses, rolling a dice\n",
    "* Each possible value has a non-zero likelihood\n",
    "* The probabilities for all possible values must sum to one\n",
    "* There are a variety of discrete probability distributions that you can use to model different types of data. The correct discrete distribution depends on the properties of your data. \n",
    "* Types of Discrete Distribution\n",
    "     * **Binomial distribution:** Which can have only 2 outcomes. Ex: Tossing coin\n",
    "     * **Poisson distribution:** If we have data which represent count of data. Ex: count of books, count of cars\n",
    "     * **Uniform distribution:** \n",
    "     \n",
    "## Continuous Probability Distribution (Probability Density Functions):\n",
    "* For example - often measurements on a scale, such as height, weight, and temperature.\n",
    "* Specific values in continuous distributions have a zero probability. For example, the likelihood of measuring a temperature that is exactly 32 degrees is zero (because an individual value has an infinitesimally small probability that is equivalent to zero)\n",
    "* Probabilities for continuous distributions are measured over ranges of values rather than single points. \n",
    "* A probability indicates the likelihood that a value will fall within an interval.\n",
    "* On a probability plot, the entire area under the distribution curve equals 1. This fact is equivalent to how the sum of all probabilities must equal one for discrete distributions. \n",
    "* The most well-known continuous distribution is the **Normal Distribution**"
   ]
  },
  {
   "cell_type": "markdown",
   "id": "5d80b5cb",
   "metadata": {},
   "source": [
    "# Normal Distribution\n",
    "* A normal distribution is the most common and widely used distribution in statistics because it approximates to a wide variety of random variables\n",
    "* It is also called a \"bell curve\" and \"Gaussian curve\"\n",
    "\n",
    "## Characteristics of normal distribution:\n",
    "* Mean = Median = Mode\n",
    "* It is symmetric, perfectly centred around mean\n",
    "* The area under the curve is 1.\n",
    "* The entire family of normal distribution is differentiated by two parameters - \n",
    "    * Mean (it determines the location of distribution) and Standard Deviation (it determines how flat or wide our curve is/it deifnes measure of variations)\n",
    "    * It is denoted as - N ~ (µ,σ^2)\n",
    "    \n",
    "# Standard normal distribution\n",
    "* The standard normal distribution is a special case of the normal distribution - \n",
    "    * when a normal random variable has a mean of 0 and standard deviation of 1\n",
    "* So if we shift the mean by µ and the standard deviation by µ for any normal distribution we will arrive at the standard normal distribution. We use the letter Z to denote it\n",
    "* **Z = (X - µ) / µ**\n",
    "* The normal random variable of a standard normal distribution is called a **standard score or a z score**.\n",
    "* The z-score represents the number of standard deviations a data value is above or below the mean."
   ]
  },
  {
   "cell_type": "code",
   "execution_count": null,
   "id": "8ac88e36",
   "metadata": {},
   "outputs": [],
   "source": []
  }
 ],
 "metadata": {
  "kernelspec": {
   "display_name": "Python 3 (ipykernel)",
   "language": "python",
   "name": "python3"
  },
  "language_info": {
   "codemirror_mode": {
    "name": "ipython",
    "version": 3
   },
   "file_extension": ".py",
   "mimetype": "text/x-python",
   "name": "python",
   "nbconvert_exporter": "python",
   "pygments_lexer": "ipython3",
   "version": "3.9.12"
  }
 },
 "nbformat": 4,
 "nbformat_minor": 5
}
