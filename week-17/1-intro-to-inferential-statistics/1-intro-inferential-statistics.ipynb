{
 "cells": [
  {
   "cell_type": "markdown",
   "id": "90550cf5",
   "metadata": {},
   "source": [
    "# Inferential Statistics\n",
    "* Inferential statistics is all about describing the larger picture of the analysis with a limited set of data and deriving conclusions from it.\n",
    "* Basically, inferential statistics aims at drawing conclusions on populations based on the taken data samples.\n",
    "* It uses a random sample of data taken from a population to describe and make inferences about the population\n",
    "\n",
    "## Why we need Inferential statistics:\n",
    "* Inferential Statistics is used to draw inferences beyond the immediate data available\n",
    "* In inferential statistics we use methods that rely on probability theory and distribution helping us to predict, in particular, the population’s values based on sample data.\n",
    "* Inferential statistics helps us answer the following questions:\n",
    "    * Making inferences about a population from a sample\n",
    "    * Concluding whether a sample is significantly different from the populatio\n",
    "    \n",
    "## Main areas of Inferential statistics\n",
    "* **Estimating parameters:** taking a statistic (measure of a sample) from your sample data (for example the sample mean) and using it to find something about a population parameter (measure of a population) (i.e. the population mean).\n",
    "* **Hypothesis tests:** use sample data to answer research questions. For example, finding if a new cancer drug is effective or not. Or if breakfast helps children perform better in schools\n",
    "\n",
    "## Pre-requisites for Inferential statistics:\n",
    "* **Descriptive Statistics**\n",
    "* **Probability**\n",
    "* **Probability Distribution**"
   ]
  },
  {
   "cell_type": "markdown",
   "id": "adf82b97",
   "metadata": {},
   "source": [
    "## Terminologies\n",
    "* **Random Variable:**\n",
    "    * Whose value is determined by the outcome of a random experiment. Ex: Rolling a dice (let suppose 'X' is a random variable as it can be 1,2,3,4,5,6), Tossing a coin, Weight of student\n",
    "* Types of Random Variable:\n",
    "    *  **Discrete random variable:**\n",
    "        * Whose set of assumed values is countable (arises from counting). Ex: Rolling a dice, Tossing a coin\n",
    "    *  **Continuous random variable:**\n",
    "        * Whose set of assumed values is uncountable (arises from measurement.). Ex: Weight of student (like weight can be in between 40-41kg and it can be 40.1,40.3,40.5 and so on)"
   ]
  }
 ],
 "metadata": {
  "kernelspec": {
   "display_name": "Python 3 (ipykernel)",
   "language": "python",
   "name": "python3"
  },
  "language_info": {
   "codemirror_mode": {
    "name": "ipython",
    "version": 3
   },
   "file_extension": ".py",
   "mimetype": "text/x-python",
   "name": "python",
   "nbconvert_exporter": "python",
   "pygments_lexer": "ipython3",
   "version": "3.9.12"
  }
 },
 "nbformat": 4,
 "nbformat_minor": 5
}
