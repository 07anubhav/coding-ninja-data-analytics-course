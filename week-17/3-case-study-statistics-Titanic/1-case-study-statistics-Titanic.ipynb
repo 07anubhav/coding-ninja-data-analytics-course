{
 "cells": [
  {
   "cell_type": "code",
   "execution_count": 1,
   "id": "2b3f4659",
   "metadata": {},
   "outputs": [],
   "source": [
    "import numpy as np\n",
    "import pandas as pd\n",
    "import statistics as st"
   ]
  },
  {
   "cell_type": "markdown",
   "id": "d8cf00b9",
   "metadata": {},
   "source": [
    "# Mean Age of Survivors"
   ]
  },
  {
   "cell_type": "code",
   "execution_count": null,
   "id": "e5ebf2c5",
   "metadata": {},
   "outputs": [],
   "source": [
    "From the dataset, find the mean age of the people who did not survive.\n",
    "\n",
    "In the dataset,\n",
    "For Survived = 0 means the passenger has not survived.\n",
    "\n",
    "For Survived = 1 means the passenger has survived.\n",
    "\n",
    "Output Format:\n",
    "Print the mean rounded off to two decimal places."
   ]
  },
  {
   "cell_type": "code",
   "execution_count": 28,
   "id": "7c06b163",
   "metadata": {},
   "outputs": [
    {
     "name": "stdout",
     "output_type": "stream",
     "text": [
      "30.63\n"
     ]
    }
   ],
   "source": [
    "df = pd.read_csv('titanic.csv')\n",
    "\n",
    "s = df[df['Survived']==0]\n",
    "mean_age = s['Age'].mean()\n",
    "print(format(mean_age,'.2f'))"
   ]
  },
  {
   "cell_type": "markdown",
   "id": "95cdcd51",
   "metadata": {},
   "source": [
    "# Percentage of Survivors"
   ]
  },
  {
   "cell_type": "code",
   "execution_count": 21,
   "id": "5cdefdea",
   "metadata": {},
   "outputs": [
    {
     "name": "stdout",
     "output_type": "stream",
     "text": [
      "30.63\n"
     ]
    }
   ],
   "source": [
    "From the dataset, find the following:\n",
    "1. Percentage of Passengers Survived.\n",
    "2. Of the total survived passengers what percentage are the male passengers.\n",
    "3. Of the total survived passengers what percentage are the female passengers.\n",
    "\n",
    "In the dataset,\n",
    "For Survived = 0 means the passenger has not survived.\n",
    "\n",
    "For Survived = 1 means the passenger has survived.\n",
    "\n",
    "For Sex = 1 means the passenger is male.\n",
    "\n",
    "For Sex = 0 means the passenger is Female.\n",
    "\n",
    "Output Format:\n",
    "Print the percentages rounded off to two decimal places in separate lines."
   ]
  },
  {
   "cell_type": "code",
   "execution_count": 48,
   "id": "682b8fb1",
   "metadata": {},
   "outputs": [
    {
     "name": "stdout",
     "output_type": "stream",
     "text": [
      "38.38\n",
      "31.87\n",
      "68.13\n"
     ]
    }
   ],
   "source": [
    "df = pd.read_csv('titanic.csv')\n",
    "\n",
    "total_passenger = df.shape[0]\n",
    "survived = df[df['Survived']==1]\n",
    "total = survived.shape[0]\n",
    "\n",
    "passenger_survived = survived.shape[0]\n",
    "male_survived = survived[survived['Sex']==1].shape[0]\n",
    "female_survived = survived[survived['Sex']==0].shape[0]\n",
    "\n",
    "per_survived = (passenger_survived/total_passenger)*100\n",
    "per_male_survived = (male_survived/total)*100\n",
    "per_female_survived = (female_survived/total)*100\n",
    "\n",
    "\n",
    "print(format(per_survived,'.2f'))\n",
    "print(format(per_male_survived,'.2f'))\n",
    "print(format(per_female_survived,'.2f'))"
   ]
  },
  {
   "cell_type": "markdown",
   "id": "2efc2680",
   "metadata": {},
   "source": [
    "# Highest Correlation"
   ]
  },
  {
   "cell_type": "code",
   "execution_count": null,
   "id": "8719d049",
   "metadata": {},
   "outputs": [],
   "source": [
    "From the dataset, find the variable having the highest correlation with the Survival rate.\n",
    "\n",
    "Note: Survival rate is denoted by the \"Survived\" column.\n",
    "    \n",
    "Output Format:\n",
    "Print the column name having the highest correlation with the Survived column.\n",
    "Print the absolute value of the correlation of this column rounded off to two decimal places."
   ]
  },
  {
   "cell_type": "code",
   "execution_count": 39,
   "id": "48892df2",
   "metadata": {},
   "outputs": [
    {
     "name": "stdout",
     "output_type": "stream",
     "text": [
      "Sex\n",
      "0.54\n"
     ]
    }
   ],
   "source": [
    "df = pd.read_csv('titanic.csv')\n",
    "\n",
    "# To find correlation\n",
    "cor = df.corr()\n",
    "cor_survived = cor['Survived'].sort_values()\n",
    "cor_survived_abs = cor_survived.abs()\n",
    "\n",
    "print(cor_survived.index[0])\n",
    "print(format(cor_survived_abs.iloc[0],'.2f'))"
   ]
  },
  {
   "cell_type": "markdown",
   "id": "e61c4d64",
   "metadata": {},
   "source": [
    "# Calculate IQR"
   ]
  },
  {
   "cell_type": "code",
   "execution_count": null,
   "id": "33dd9ba5",
   "metadata": {},
   "outputs": [],
   "source": [
    "From the dataset, Calculate the IQR for the Age column.\n",
    "In the dataset, there are some null values present for the Age column. First, remove those and then calculate the IQR.\n",
    "\n",
    "Output Format:\n",
    "Print the IQR of Age, rounded off to two decimal places."
   ]
  },
  {
   "cell_type": "code",
   "execution_count": 44,
   "id": "f72bd4d6",
   "metadata": {},
   "outputs": [
    {
     "name": "stdout",
     "output_type": "stream",
     "text": [
      "17.75\n"
     ]
    },
    {
     "name": "stderr",
     "output_type": "stream",
     "text": [
      "C:\\Users\\aryan\\AppData\\Local\\Temp\\ipykernel_11772\\655250882.py:4: DeprecationWarning: the `interpolation=` argument to percentile was renamed to `method=`, which has additional options.\n",
      "Users of the modes 'nearest', 'lower', 'higher', or 'midpoint' are encouraged to review the method they used. (Deprecated NumPy 1.22)\n",
      "  q1 = np.percentile(df['Age'],25,interpolation= 'midpoint')\n",
      "C:\\Users\\aryan\\AppData\\Local\\Temp\\ipykernel_11772\\655250882.py:5: DeprecationWarning: the `interpolation=` argument to percentile was renamed to `method=`, which has additional options.\n",
      "Users of the modes 'nearest', 'lower', 'higher', or 'midpoint' are encouraged to review the method they used. (Deprecated NumPy 1.22)\n",
      "  q3 = np.percentile(df['Age'],75,interpolation= 'midpoint')\n"
     ]
    }
   ],
   "source": [
    "df = pd.read_csv('titanic.csv')\n",
    "df.dropna(subset=['Age'],inplace=True)\n",
    "\n",
    "q1 = np.percentile(df['Age'],25,interpolation= 'midpoint')\n",
    "q3 = np.percentile(df['Age'],75,interpolation= 'midpoint')\n",
    "iqr = q3-q1\n",
    "print(format(iqr,'.2f'))"
   ]
  },
  {
   "cell_type": "markdown",
   "id": "ac2dc379",
   "metadata": {},
   "source": [
    "# Analyze the Hypothesis"
   ]
  },
  {
   "cell_type": "code",
   "execution_count": null,
   "id": "eb0bccc3",
   "metadata": {},
   "outputs": [],
   "source": [
    "From the dataset, find out if there is a significant difference in the mean sex between the passenger who survived and the \n",
    "passenger who did not survive?.\n",
    "\n",
    "In the dataset,\n",
    "For Survived = 0 means the passenger has not survived.\n",
    "\n",
    "For Survived = 1 means the passenger has survived.\n",
    "\n",
    "Output Format:\n",
    "Print \"Yes\" if there is a significant difference otherwise print \"No\".\n",
    "Here for significant difference, the mean should vary by 2 points at least."
   ]
  },
  {
   "cell_type": "code",
   "execution_count": 14,
   "id": "40ffae5a",
   "metadata": {},
   "outputs": [
    {
     "name": "stdout",
     "output_type": "stream",
     "text": [
      "No\n"
     ]
    }
   ],
   "source": [
    "from scipy.stats import ttest_ind\n",
    "\n",
    "df = pd.read_csv('titanic.csv')\n",
    "\n",
    "not_survived = df[df['Survived']==0]\n",
    "survived = df[df['Survived']==1]\n",
    "\n",
    "mean_ns = not_survived['Sex'].mean()\n",
    "mean_s = survived['Sex'].mean()\n",
    "\n",
    "t_stat, p_value = ttest_ind(df[df['Survived'] == 1]['Sex'], df[df['Survived'] == 0]['Sex'])\n",
    "\n",
    "if abs(mean_s - mean_ns)>=2 and p_value<0.05:\n",
    "    print(\"Yes\")\n",
    "else:\n",
    "    print(\"No\")"
   ]
  }
 ],
 "metadata": {
  "kernelspec": {
   "display_name": "Python 3 (ipykernel)",
   "language": "python",
   "name": "python3"
  },
  "language_info": {
   "codemirror_mode": {
    "name": "ipython",
    "version": 3
   },
   "file_extension": ".py",
   "mimetype": "text/x-python",
   "name": "python",
   "nbconvert_exporter": "python",
   "pygments_lexer": "ipython3",
   "version": "3.9.12"
  }
 },
 "nbformat": 4,
 "nbformat_minor": 5
}
