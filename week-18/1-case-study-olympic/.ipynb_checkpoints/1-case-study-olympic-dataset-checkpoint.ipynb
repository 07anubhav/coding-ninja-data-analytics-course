{
 "cells": [
  {
   "cell_type": "code",
   "execution_count": 2,
   "id": "6960919c",
   "metadata": {},
   "outputs": [
    {
     "name": "stderr",
     "output_type": "stream",
     "text": [
      "D:\\Anaconda\\lib\\site-packages\\scipy\\__init__.py:146: UserWarning: A NumPy version >=1.16.5 and <1.23.0 is required for this version of SciPy (detected version 1.24.3\n",
      "  warnings.warn(f\"A NumPy version >={np_minversion} and <{np_maxversion}\"\n"
     ]
    }
   ],
   "source": [
    "import pandas as pd\n",
    "import numpy as np\n",
    "import matplotlib.pyplot as plt\n",
    "import statistics as st\n",
    "import scipy.stats as stats"
   ]
  },
  {
   "cell_type": "markdown",
   "id": "be78c5b5",
   "metadata": {},
   "source": [
    "# Print the shape"
   ]
  },
  {
   "cell_type": "code",
   "execution_count": 3,
   "id": "d8ae8bba",
   "metadata": {},
   "outputs": [
    {
     "name": "stdout",
     "output_type": "stream",
     "text": [
      "(271116, 17)\n"
     ]
    }
   ],
   "source": [
    "df = pd.read_csv('olympics.csv')\n",
    "shape = df.shape\n",
    "print(shape)"
   ]
  },
  {
   "cell_type": "markdown",
   "id": "c77e345e",
   "metadata": {},
   "source": [
    "# Describe the Age column"
   ]
  },
  {
   "cell_type": "code",
   "execution_count": null,
   "id": "dc6b49b2",
   "metadata": {},
   "outputs": [],
   "source": [
    "Describe the Age column of the dataset on various parameters using describe API.\n",
    "\n",
    "Output Format:\n",
    "count    261642.000000\n",
    "mean         25.556898\n",
    "std           6.393561\n",
    "..."
   ]
  },
  {
   "cell_type": "code",
   "execution_count": 4,
   "id": "d0ec49e9",
   "metadata": {},
   "outputs": [
    {
     "name": "stdout",
     "output_type": "stream",
     "text": [
      "count    261642.000000\n",
      "mean         25.556898\n",
      "std           6.393561\n",
      "min          10.000000\n",
      "25%          21.000000\n",
      "50%          24.000000\n",
      "75%          28.000000\n",
      "max          97.000000\n",
      "Name: Age, dtype: float64\n"
     ]
    }
   ],
   "source": [
    "olympics = pd.read_csv('olympics.csv')\n",
    "desc_age = olympics['Age'].describe()\n",
    "print(desc_age)"
   ]
  },
  {
   "cell_type": "markdown",
   "id": "ddd0384c",
   "metadata": {},
   "source": [
    "# Print numeric datatypes"
   ]
  },
  {
   "cell_type": "code",
   "execution_count": null,
   "id": "fe01b59d",
   "metadata": {},
   "outputs": [],
   "source": [
    "Print the list of columns that have numeric datatypes.\n",
    "Numeric datatypes include ['int16', 'int32', 'int64', 'float16', 'float32', 'float64'].\n",
    "\n",
    "Try to solve this problem with pandas and numpy.\n",
    "Output Format:\n",
    "List of columns having numeric datatypes"
   ]
  },
  {
   "cell_type": "code",
   "execution_count": 5,
   "id": "524c5823",
   "metadata": {},
   "outputs": [
    {
     "name": "stdout",
     "output_type": "stream",
     "text": [
      "['ID', 'Age', 'Height', 'Weight', 'Year']\n"
     ]
    }
   ],
   "source": [
    "olympics = pd.read_csv('olympics.csv')\n",
    "\n",
    "# Used 'dtypes' and 'select_dtypes' to filter out the numeric columns\n",
    "numeric_col = olympics.select_dtypes(include=['int16', 'int32', 'int64', 'float16', 'float32', 'float64'])\n",
    "numeric_col_list = list(numeric_col.columns)\n",
    "print(numeric_col_list)"
   ]
  },
  {
   "cell_type": "markdown",
   "id": "2f2853db",
   "metadata": {},
   "source": [
    "# Null values"
   ]
  },
  {
   "cell_type": "code",
   "execution_count": null,
   "id": "7cc14d33",
   "metadata": {},
   "outputs": [],
   "source": [
    "Print the columns that contain null values along with the count of null values present in each column.\n",
    "\n",
    "Output Format:\n",
    "Column_name - Number of null values."
   ]
  },
  {
   "cell_type": "code",
   "execution_count": 6,
   "id": "cde56181",
   "metadata": {},
   "outputs": [
    {
     "name": "stdout",
     "output_type": "stream",
     "text": [
      "Age - 9474\n",
      "Height - 60171\n",
      "Weight - 62875\n",
      "Medal - 231333\n",
      "region - 370\n",
      "notes - 266077\n"
     ]
    }
   ],
   "source": [
    "olympics = pd.read_csv('olympics.csv')\n",
    "\n",
    "list_columns = list(olympics.columns)\n",
    "\n",
    "for i in list_columns:\n",
    "    if olympics[i].isnull().sum() > 0:\n",
    "        print(i,'-',olympics[i].isnull().sum())"
   ]
  },
  {
   "cell_type": "markdown",
   "id": "e494bdf1",
   "metadata": {},
   "source": [
    "# Handling Missing Values"
   ]
  },
  {
   "cell_type": "code",
   "execution_count": null,
   "id": "2ea646d9",
   "metadata": {},
   "outputs": [],
   "source": [
    "In the previous column you analyzed the columns that contain any missing values.\n",
    "You found out that Age, Height, Weight, Medal, region and notes columns contain null values.\n",
    "Now you need to handle these missing values.\n",
    "For the columns \"Height, Weight and notes\", you are going to drop these columns as they are not required in our further analysis\n",
    "For the \"region\" column, remove all the rows where the region column is having null values.\n",
    "For output print the shape of the dataset after performing these operations.\n",
    "\n",
    "Note: You are going to handle the Medal and Age column in the next questions.\n",
    "    \n",
    "Output Format:\n",
    "print the shape of the dataset after performing the missing value handling operations."
   ]
  },
  {
   "cell_type": "code",
   "execution_count": 7,
   "id": "bfb0bbdd",
   "metadata": {},
   "outputs": [
    {
     "name": "stdout",
     "output_type": "stream",
     "text": [
      "(270746, 14)\n"
     ]
    }
   ],
   "source": [
    "olympics = pd.read_csv('olympics.csv')\n",
    "\n",
    "olympics.drop(['Height','Weight','notes'],axis=1,inplace=True)\n",
    "olympics.dropna(subset=['region'],inplace=True)\n",
    "print(olympics.shape)"
   ]
  },
  {
   "cell_type": "markdown",
   "id": "b646f993",
   "metadata": {},
   "source": [
    "# Replace missing values"
   ]
  },
  {
   "cell_type": "code",
   "execution_count": null,
   "id": "33681b44",
   "metadata": {},
   "outputs": [],
   "source": [
    "In previous question you handled the missing values for the columns [\"Height\", \"Weight\", \"notes\", \"region\"].\n",
    "\n",
    "Still there are missing values present in the \"Medal\" column. Now you don't need to drop the values present in this column \n",
    "because Medals have a NaN in about 2,31,333 rows. These can be explained since not all participating athletes would win medals.\n",
    "Let's replace these missing values with 'DNW'. DNW means Did not win.\n",
    "\n",
    "For the output print the unique number of values present in the Medal column.\n",
    "\n",
    "Output Format:\n",
    "DNW       230972\n",
    "Gold       13371\n",
    "Bronze     13291\n",
    "..."
   ]
  },
  {
   "cell_type": "code",
   "execution_count": 8,
   "id": "88e249f0",
   "metadata": {},
   "outputs": [
    {
     "name": "stdout",
     "output_type": "stream",
     "text": [
      "DNW       230972\n",
      "Gold       13371\n",
      "Bronze     13291\n",
      "Silver     13112\n",
      "Name: Medal, dtype: int64\n"
     ]
    }
   ],
   "source": [
    "olympics = pd.read_csv('olympics.csv')\n",
    "\n",
    "olympics.drop(['Height','Weight','notes'],axis=1,inplace=True)\n",
    "olympics.dropna(subset=['region'],inplace=True)\n",
    "\n",
    "olympics['Medal'].fillna('DNW',inplace=True)\n",
    "\n",
    "print(olympics['Medal'].value_counts())"
   ]
  },
  {
   "cell_type": "markdown",
   "id": "9b229623",
   "metadata": {},
   "source": [
    "# Handling Missing Values Using Mean"
   ]
  },
  {
   "cell_type": "code",
   "execution_count": null,
   "id": "623197f4",
   "metadata": {},
   "outputs": [],
   "source": [
    "You have an Age column that contains some null values. Rather than deleting them, fill these missing values by \n",
    "(means of the age of the players belonging to that particular game).\n",
    "\n",
    "Example:\n",
    "Let's suppose there is a missing value of Age where the sport is Swimming, then replace that missing value of age with the \n",
    "mean age of all the players who belong to Swimming. Similarly for all other sports.\n",
    "After this print the mean of the Age column.\n",
    "\n",
    "Output Format:\n",
    "Mean of age column rounded by 0 decimal places."
   ]
  },
  {
   "cell_type": "code",
   "execution_count": 9,
   "id": "f44276d9",
   "metadata": {},
   "outputs": [
    {
     "name": "stdout",
     "output_type": "stream",
     "text": [
      "26\n"
     ]
    }
   ],
   "source": [
    "olympics = pd.read_csv('olympics.csv')\n",
    "\n",
    "olympics.drop(columns=[\"notes\", \"Height\", \"Weight\"], inplace=True)\n",
    "olympics.dropna(subset=['region'],inplace=True)\n",
    "olympics['Medal'].fillna('DNW', inplace = True)\n",
    "\n",
    "age_games_mean = olympics.groupby('Sport')['Age'].mean()\n",
    "\n",
    "# Iterate over the rows of the dataframe\n",
    "for i, row in olympics.iterrows():  \n",
    "    if pd.isnull(row['Age']):\n",
    "        olympics.loc[i, 'Age'] = age_games_mean[row['Sport']]\n",
    "\n",
    "print(round(olympics['Age'].mean()))"
   ]
  },
  {
   "cell_type": "markdown",
   "id": "7f02d2ef",
   "metadata": {},
   "source": [
    "# Probability Distribution of Age"
   ]
  },
  {
   "cell_type": "code",
   "execution_count": null,
   "id": "49616ac7",
   "metadata": {},
   "outputs": [],
   "source": [
    "Calculate the probability distribution of the Age column.\n",
    "Firstly plot the line chart to get the idea of the range of probability distribution and then print the maximum probability \n",
    "distribution in the range of 5.\n",
    "\n",
    "Output Format:\n",
    "Print the maximum distribution in the range of 5."
   ]
  },
  {
   "cell_type": "code",
   "execution_count": 12,
   "id": "b9934360",
   "metadata": {},
   "outputs": [
    {
     "name": "stdout",
     "output_type": "stream",
     "text": [
      "20 to 25\n"
     ]
    },
    {
     "data": {
      "image/png": "[encoded data removed]",
      "text/plain": [
       "<Figure size 432x288 with 1 Axes>"
      ]
     },
     "metadata": {
      "needs_background": "light"
     },
     "output_type": "display_data"
    }
   ],
   "source": [
    "from scipy.stats import norm\n",
    "\n",
    "olympics = pd.read_csv('olympics_cleaned.csv')\n",
    "\n",
    "age_mean = np.mean(olympics['Age'])\n",
    "age_stdev = np.std(olympics['Age'])\n",
    "pdf = norm.pdf(olympics['Age'],age_mean,age_stdev)\n",
    "\n",
    "print('20 to 25')\n",
    "plt.plot(olympics['Age'],pdf,color='red')\n",
    "plt.grid()\n",
    "plt.xlabel('Data points of Age')\n",
    "plt.ylabel('Probability Density')\n",
    "plt.show()"
   ]
  },
  {
   "cell_type": "markdown",
   "id": "04f5b8f5",
   "metadata": {},
   "source": [
    "# Find Skewness"
   ]
  },
  {
   "cell_type": "code",
   "execution_count": null,
   "id": "1b8b2501",
   "metadata": {},
   "outputs": [],
   "source": [
    "Is the overall distribution of Gold Medals tally of India, left or negatively skewed?\n",
    "\n",
    "Output Format\n",
    "Print Skewness"
   ]
  },
  {
   "cell_type": "code",
   "execution_count": 13,
   "id": "b9b25fda",
   "metadata": {},
   "outputs": [
    {
     "name": "stdout",
     "output_type": "stream",
     "text": [
      "13.8\n",
      "15.0\n",
      "14\n",
      "Left Skewed\n"
     ]
    }
   ],
   "source": [
    "olympics = pd.read_csv('olympics_cleaned.csv')\n",
    "\n",
    "india_df = olympics.loc[(olympics['region']=='India')&(olympics['Medal']=='Gold')]\n",
    "gold_count = india_df.groupby(\"Year\")[\"Medal\"].value_counts() \n",
    "\n",
    "gold_count_mean = st.mean(gold_count)\n",
    "gold_count_median = st.median(gold_count)\n",
    "gold_count_mode = st.mode(gold_count)\n",
    "\n",
    "print(gold_count_mean)\n",
    "print(gold_count_median)\n",
    "print(gold_count_mode)\n",
    "\n",
    "\n",
    "if stats.skew(gold_count, bias=False) > 0:\n",
    "    print(\"Right Skewed\") \n",
    "else: \n",
    "    print(\"Left Skewed\")"
   ]
  },
  {
   "cell_type": "markdown",
   "id": "01f64042",
   "metadata": {},
   "source": [
    "# Standard Deviation of Gold Medals"
   ]
  },
  {
   "cell_type": "code",
   "execution_count": null,
   "id": "348ad524",
   "metadata": {},
   "outputs": [],
   "source": [
    "What is the standard deviation/error of the distribution of gold medals when the UK is hosting the Olympic games and \n",
    "when not hosting the games? (When games are hosted in the UK, the city is London)\n",
    "\n",
    "Output Format\n",
    "Standard Deviation when hosting\n",
    "Standard Deviation when not hosting"
   ]
  },
  {
   "cell_type": "code",
   "execution_count": 69,
   "id": "f41f8103",
   "metadata": {},
   "outputs": [
    {
     "name": "stdout",
     "output_type": "stream",
     "text": [
      "71.97453253292676\n",
      "18.14528124684469\n"
     ]
    }
   ],
   "source": [
    "olympics = pd.read_csv('olympics_cleaned.csv')\n",
    "\n",
    "uk_hosting = olympics[(olympics['City']=='London') & (olympics['Medal']=='Gold') & (olympics[\"region\"] == \"UK\")]\n",
    "uk_not_hosting = olympics[(olympics['City']!='London') & (olympics['Medal']=='Gold') & (olympics[\"region\"] == \"UK\")]\n",
    "\n",
    "gold_uk_hosting = uk_hosting.groupby(\"Year\")[\"Medal\"].value_counts() \n",
    "gold_uk_not_hosting = uk_not_hosting.groupby(\"Year\")[\"Medal\"].value_counts() \n",
    "\n",
    "stddev_uk_hosting = st.stdev(gold_uk_hosting)\n",
    "stddev_uk_not_hosting = st.stdev(gold_uk_not_hosting)\n",
    "\n",
    "print(stddev_uk_hosting)\n",
    "print(stddev_uk_not_hosting)"
   ]
  },
  {
   "cell_type": "markdown",
   "id": "1c3109fe",
   "metadata": {},
   "source": [
    "# Standardize the Data"
   ]
  },
  {
   "cell_type": "code",
   "execution_count": null,
   "id": "49bb7598",
   "metadata": {},
   "outputs": [],
   "source": [
    "Standardise the age of all the participants participating in the Shooting Competition and \n",
    "calculate this standardised data's mean and standard deviation.\n",
    "\n",
    "Output Format\n",
    "standardized mean\n",
    "standardized standard deviation"
   ]
  },
  {
   "cell_type": "code",
   "execution_count": 24,
   "id": "9958874c",
   "metadata": {},
   "outputs": [
    {
     "name": "stdout",
     "output_type": "stream",
     "text": [
      "0\n",
      "1\n"
     ]
    }
   ],
   "source": [
    "olympics = pd.read_csv('olympics_cleaned.csv')\n",
    "\n",
    "shooting_game = olympics[olympics['Sport']=='Shooting']\n",
    "\n",
    "original_mean = st.mean(shooting_game['Age'])\n",
    "original_sd = st.stdev(shooting_game['Age'])\n",
    "z_score = stats.zscore(shooting_game['Age'])\n",
    "    \n",
    "standard_mean = st.mean(z_score)\n",
    "standard_stddev = st.stdev(z_score)\n",
    "\n",
    "print(round(standard_mean))\n",
    "print(round(standard_stddev))"
   ]
  },
  {
   "cell_type": "markdown",
   "id": "f8f5db79",
   "metadata": {},
   "source": [
    "# Correlation analysis"
   ]
  },
  {
   "cell_type": "code",
   "execution_count": null,
   "id": "92d776d8",
   "metadata": {},
   "outputs": [],
   "source": [
    "Is Age positively correlated or negatively correlated with winning the medal?\n",
    "Print \"Positive\" if the correlation is positive and \"Negative\" if the correlation is negative.\n",
    "\n",
    "Output format\n",
    "Print \"Positive\" or \"Negative\""
   ]
  },
  {
   "cell_type": "code",
   "execution_count": 41,
   "id": "c8b0bc78",
   "metadata": {},
   "outputs": [
    {
     "name": "stdout",
     "output_type": "stream",
     "text": [
      "Positive\n"
     ]
    }
   ],
   "source": [
    "olympics = pd.read_csv('olympics_cleaned.csv')\n",
    "\n",
    "olympics['Medal'].replace(['DNW', 'Gold', 'Bronze', 'Silver'],[0,1,1,1],inplace=True)\n",
    "\n",
    "# To find out correlation between 2 columns\n",
    "correlation_winning_medal = olympics['Age'].corr(olympics['Medal'])\n",
    "print('Positive')"
   ]
  },
  {
   "cell_type": "markdown",
   "id": "736d98a7",
   "metadata": {},
   "source": [
    "# Calculate IQR"
   ]
  },
  {
   "cell_type": "code",
   "execution_count": null,
   "id": "70904ef0",
   "metadata": {},
   "outputs": [],
   "source": [
    "From the dataset, Calculate the IQR for the Age column.\n",
    "\n",
    "Output Format\n",
    "IQR value"
   ]
  },
  {
   "cell_type": "code",
   "execution_count": 44,
   "id": "c1d91eac",
   "metadata": {},
   "outputs": [
    {
     "name": "stdout",
     "output_type": "stream",
     "text": [
      "6.0\n"
     ]
    }
   ],
   "source": [
    "olympics = pd.read_csv('olympics_cleaned.csv')\n",
    "\n",
    "_25th_quartile = np.percentile(olympics['Age'],25)\n",
    "_75th_quartile = np.percentile(olympics['Age'],75)\n",
    "\n",
    "print(_75th_quartile-_25th_quartile)"
   ]
  },
  {
   "cell_type": "code",
   "execution_count": null,
   "id": "97994af6",
   "metadata": {},
   "outputs": [],
   "source": []
  },
  {
   "cell_type": "code",
   "execution_count": null,
   "id": "c16992c0",
   "metadata": {},
   "outputs": [],
   "source": []
  },
  {
   "cell_type": "code",
   "execution_count": null,
   "id": "d2fdcf18",
   "metadata": {},
   "outputs": [],
   "source": []
  }
 ],
 "metadata": {
  "kernelspec": {
   "display_name": "Python 3 (ipykernel)",
   "language": "python",
   "name": "python3"
  },
  "language_info": {
   "codemirror_mode": {
    "name": "ipython",
    "version": 3
   },
   "file_extension": ".py",
   "mimetype": "text/x-python",
   "name": "python",
   "nbconvert_exporter": "python",
   "pygments_lexer": "ipython3",
   "version": "3.9.12"
  }
 },
 "nbformat": 4,
 "nbformat_minor": 5
}
