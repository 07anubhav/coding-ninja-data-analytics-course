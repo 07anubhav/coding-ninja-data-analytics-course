{
 "cells": [
  {
   "cell_type": "markdown",
   "id": "fd24d394",
   "metadata": {},
   "source": [
    "### Calculated Fields\n",
    "#### We want to know what is the 'Profit per order' (i.e. Total Profits/No. of orders)\n",
    "   * Total profit = sum(profit)\n",
    "   * No. of orders = count distinct order id\n",
    "* Tableau provides us with **'Calculated Fields'** which help us to solve these kind of problem\n",
    "#### Create a formula in tableau:\n",
    "    * Goto Analysis in menu bar -> Create calculated field\n",
    "    * Then if you want to get the sum of all profits, then type 'SUM([Profit]) then apply and ok\n",
    "* We want Measure names or Measure value. So, drag and drop **'Measure names'** to column name and again drag and drop **'Measure names'** to 'Filters'\n",
    "* Then select which all measure you need in your table\n",
    "* whenever we want to display any data in the table we use to drag and drop attributes into 'Label', so drag and drop **'Measure Values'** to 'Label', we will see the sheet is automatically populated with the attributes which we have filtered in above step\n",
    "\n",
    "#### We need to calculate the shipping day (If schedule_shipping >=< actual_shipping)\n",
    "    * Same day = 0\n",
    "    * First class = 1\n",
    "    * Second class = 3\n",
    "    * Standard = 6\n",
    "        * shipping_date - order_date = actual_shipping\n",
    "        * compare schedule_date and actual_date\n",
    "        * count the orders -> late, on time, early\n",
    "    * Steps to be taken:\n",
    "        * define the SLA, we will use CASE statement\n",
    "        * the put 'Ship mode' dimension into row and 'SLA' measure in label and instead of SUM change it to AVERAGE\n",
    "        * then calculate Actual ship date i.e 'Ship Date-Order Date', we can use DATEDIFF('day',ship_date,order_date)\n",
    "        * then we will create out Analysis i.e If our shipping was on time or not, we wil use IF-ELSEIF-ELSE condition\n",
    "    \n",
    "#### We need to find out overall profit in particular order-id\n",
    "   * So we have to group by based on order-id and calculate the profit\n",
    "   * so in Tableau we have **'LOD: Level Of Detail' function**\n",
    "   * Steps to be taken:\n",
    "       * We will fix our calculation based on order-id\n",
    "       * then calculate the sum of profit\n",
    "       * **{ FIXED [Order ID] : SUM([Profit]) }**\n",
    "       * then we will create a new feild for check whether out 'Profit per order-id' is profitable or not\n",
    "       * then we will also count the total order that was profitable"
   ]
  },
  {
   "cell_type": "code",
   "execution_count": null,
   "id": "45973abc",
   "metadata": {},
   "outputs": [],
   "source": []
  }
 ],
 "metadata": {
  "kernelspec": {
   "display_name": "Python 3 (ipykernel)",
   "language": "python",
   "name": "python3"
  },
  "language_info": {
   "codemirror_mode": {
    "name": "ipython",
    "version": 3
   },
   "file_extension": ".py",
   "mimetype": "text/x-python",
   "name": "python",
   "nbconvert_exporter": "python",
   "pygments_lexer": "ipython3",
   "version": "3.9.12"
  }
 },
 "nbformat": 4,
 "nbformat_minor": 5
}
