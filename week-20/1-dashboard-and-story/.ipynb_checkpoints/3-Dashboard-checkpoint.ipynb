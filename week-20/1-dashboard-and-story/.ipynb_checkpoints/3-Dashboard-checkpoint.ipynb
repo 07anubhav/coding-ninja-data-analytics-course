{
 "cells": [
  {
   "cell_type": "markdown",
   "id": "fc4a5f56",
   "metadata": {},
   "source": [
    "## Dashboard\n",
    "* To create a new dasboard just right click and and click New dashboard\n",
    "* On the right side select the size how you want to display the Dashboard, we kept automatic it'll adjust acc to screen\n",
    "* then just drag and drop the worksheet you want to put on dashboard\n",
    "* to change the layout of any worksheet, click on worksheet and goto Layout\n",
    "* to change the name of worksheet over the graph or dashboard just double click on name\n",
    "\n",
    "## Filters in Dashboard\n",
    "* first apply the filters to your individual worksheet\n",
    "* the open your dashboard -> click on the chart -> click on drop down menu -> filters (tableau might add it's own filter to the list as well)\n",
    "* after adding filter to dashboard, we can edit it as well so click on the dropdown menu in filters and we can customize it from there\n",
    "* !!! Just keep in mind the filters that we applied on individual sheet should be selected as 'All using this data source' so that filter should be applied in all the worksheets\n",
    "* if you want to change few things on the filters and want the data to be changes only on this dashboard, then click on drop down menu -> Apply to worksheets -> Selected worksheets -> then select only in this worksheet\n",
    "\n",
    "## Dashboard Actions\n",
    "* click on the the sheet on the dashboard -> click on the funnel shape icon to create actions\n",
    "* so now that particular sheet will be used as a filter to other sheet\n",
    "* we can use any sheet as action\n",
    "\n",
    "## Story telling using dashboard\n",
    "* to create a new story, right click on any of the sheet and select New story\n",
    "* so combination of sheet and dashboards will be opened\n",
    "* drag and drop the sheet or dashboard you want\n",
    "* if you want to add more insights in the story just click on 'Blank' so it'll add a new sheet in the story\n",
    "* if you want to mark any customer in the scatter plot just right click on the dot -> Annotate -> Mark"
   ]
  }
 ],
 "metadata": {
  "kernelspec": {
   "display_name": "Python 3 (ipykernel)",
   "language": "python",
   "name": "python3"
  },
  "language_info": {
   "codemirror_mode": {
    "name": "ipython",
    "version": 3
   },
   "file_extension": ".py",
   "mimetype": "text/x-python",
   "name": "python",
   "nbconvert_exporter": "python",
   "pygments_lexer": "ipython3",
   "version": "3.9.12"
  }
 },
 "nbformat": 4,
 "nbformat_minor": 5
}
