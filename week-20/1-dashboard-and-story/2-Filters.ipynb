{
 "cells": [
  {
   "cell_type": "markdown",
   "id": "6206756c",
   "metadata": {},
   "source": [
    "## Filters\n",
    "* 'week_19-3-superStoreData-salesByRegionStackBarGraph'\n",
    "* Now if we want see how many salesByRegion is performing based on 'Segment'\n",
    "* Drag and drop 'Segment' dimension into filters\n",
    "* If you want to filter based on 'Segment' on multiple worksheet, the right click on the 'Segment' in filters option and choose the worksheet you want to apply. And if we change the filters so all the sheet where filter is applied will be changed.\n",
    "* Now let suppose you want to create a new worksheet and you want the filter to be present in all the coming sheets, the right click on 'Segment' in filter option -> select All using this data source"
   ]
  }
 ],
 "metadata": {
  "kernelspec": {
   "display_name": "Python 3 (ipykernel)",
   "language": "python",
   "name": "python3"
  },
  "language_info": {
   "codemirror_mode": {
    "name": "ipython",
    "version": 3
   },
   "file_extension": ".py",
   "mimetype": "text/x-python",
   "name": "python",
   "nbconvert_exporter": "python",
   "pygments_lexer": "ipython3",
   "version": "3.9.12"
  }
 },
 "nbformat": 4,
 "nbformat_minor": 5
}
