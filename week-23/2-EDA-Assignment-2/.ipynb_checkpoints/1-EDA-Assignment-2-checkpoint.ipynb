{
 "cells": [
  {
   "cell_type": "code",
   "execution_count": 1,
   "id": "80f396cd",
   "metadata": {},
   "outputs": [
    {
     "name": "stderr",
     "output_type": "stream",
     "text": [
      "D:\\Anaconda\\lib\\site-packages\\scipy\\__init__.py:146: UserWarning: A NumPy version >=1.16.5 and <1.23.0 is required for this version of SciPy (detected version 1.24.3\n",
      "  warnings.warn(f\"A NumPy version >={np_minversion} and <{np_maxversion}\"\n"
     ]
    }
   ],
   "source": [
    "import pandas as pd\n",
    "import numpy as np\n",
    "import matplotlib.pyplot as plt\n",
    "import seaborn as sns"
   ]
  },
  {
   "cell_type": "markdown",
   "id": "6df18ab9",
   "metadata": {},
   "source": [
    "# Unique Values"
   ]
  },
  {
   "cell_type": "code",
   "execution_count": null,
   "id": "5eb09fd3",
   "metadata": {},
   "outputs": [],
   "source": [
    "Given the 'cars.csv' dataset, find out the unique values present in the \"drive-wheels\" column. \n",
    "After analyzing these unique values, you need to replace all those values which contain the same meaning but are represented \n",
    "differently.\n",
    "\n",
    "It is important to convert the unique values in the same format if they represent a single category because it becomes easy to \n",
    "categorize the data based on \"drive-wheels\".\n",
    "\n",
    "Note: The value \"4wd\" and \"fwd\" are the same.\n",
    "\n",
    "Output:\n",
    "After replacement, print the frequency of unique values in the \"drive-wheels\" column."
   ]
  },
  {
   "cell_type": "code",
   "execution_count": 12,
   "id": "67907571",
   "metadata": {},
   "outputs": [
    {
     "name": "stdout",
     "output_type": "stream",
     "text": [
      "fwd    129\n",
      "rwd     76\n",
      "Name: drive-wheels, dtype: int64\n"
     ]
    }
   ],
   "source": [
    "df = pd.read_csv('cars.csv')\n",
    "df['drive-wheels'].replace('4wd','fwd',inplace=True)\n",
    "print(df['drive-wheels'].value_counts())"
   ]
  },
  {
   "cell_type": "markdown",
   "id": "f3c673f5",
   "metadata": {},
   "source": [
    "# Duplicate rows"
   ]
  },
  {
   "cell_type": "code",
   "execution_count": null,
   "id": "d867ff38",
   "metadata": {},
   "outputs": [],
   "source": [
    "Given the \"cars.csv\" dataset, you need to analyze the car mileage in the city and on the highway. \n",
    "For this, you need to filter the dataset so that only car maker, city mileage and highway mileage are present. \n",
    "After this, you need to analyze the duplicate values present in this filtered dataset.\n",
    "\n",
    "Output:\n",
    "Print the number of duplicated rows in the filtered dataset."
   ]
  },
  {
   "cell_type": "code",
   "execution_count": 23,
   "id": "ff1355e5",
   "metadata": {},
   "outputs": [
    {
     "name": "stdout",
     "output_type": "stream",
     "text": [
      "99\n"
     ]
    }
   ],
   "source": [
    "df = pd.read_csv('cars.csv')\n",
    "df_sub = df.filter(['make','city-mpg','highway-mpg'])\n",
    "dupli_df = df_sub[df_sub.duplicated()==True]\n",
    "print(dupli_df.shape[0])"
   ]
  },
  {
   "cell_type": "markdown",
   "id": "ef3eaa10",
   "metadata": {},
   "source": [
    "# Drop Duplicates"
   ]
  },
  {
   "cell_type": "code",
   "execution_count": null,
   "id": "8ceacada",
   "metadata": {},
   "outputs": [],
   "source": [
    "Given the \"cars.csv\" dataset, previously you filtered the dataset based on the carmaker, highway mpg and city mpg. \n",
    "Now, you need to drop the duplicate values in such a way that only the last duplicate value is present in the dataset. \n",
    "After de-duplicating the dataset print the length of the updated dataset.\n",
    "\n",
    "Output\n",
    "Print the length of the dataset after deduplication."
   ]
  },
  {
   "cell_type": "code",
   "execution_count": 30,
   "id": "908caf76",
   "metadata": {},
   "outputs": [
    {
     "name": "stdout",
     "output_type": "stream",
     "text": [
      "106\n"
     ]
    }
   ],
   "source": [
    "df = pd.read_csv('cars.csv')\n",
    "\n",
    "df.drop_duplicates(subset=['make','city-mpg','highway-mpg'],keep='last',inplace=True)\n",
    "print(len(df))"
   ]
  },
  {
   "cell_type": "markdown",
   "id": "63b00442",
   "metadata": {},
   "source": [
    "# Missing Percentage"
   ]
  },
  {
   "cell_type": "code",
   "execution_count": null,
   "id": "f0d25b9f",
   "metadata": {},
   "outputs": [],
   "source": [
    "Given the “cars.csv” dataset, find the missing values present in each column. After analyzing the missing values, \n",
    "make a list of all the columns which contain missing values.\n",
    "\n",
    "Output\n",
    "Print the list of column names containing missing values in sorted order of column names."
   ]
  },
  {
   "cell_type": "code",
   "execution_count": 74,
   "id": "019cbceb",
   "metadata": {
    "scrolled": true
   },
   "outputs": [
    {
     "name": "stdout",
     "output_type": "stream",
     "text": [
      "['bore', 'horsepower', 'normalized-losses', 'num-of-doors', 'peak-rpm', 'price', 'stroke']\n"
     ]
    }
   ],
   "source": [
    "df = pd.read_csv('cars.csv')\n",
    "desc_df = df.describe(include='all')\n",
    "\n",
    "s = desc_df.loc['count']<205\n",
    "index = np.array(s.index)\n",
    "values = np.array(s.values)\n",
    "missing_value_col = []\n",
    "\n",
    "for i in range(len(values)):\n",
    "    if values[i] == True:\n",
    "        missing_value_col.append(index[i])\n",
    "\n",
    "s = missing_value_col\n",
    "print(sorted(s))"
   ]
  },
  {
   "cell_type": "markdown",
   "id": "4ed68df1",
   "metadata": {},
   "source": [
    "# Market Category"
   ]
  },
  {
   "cell_type": "code",
   "execution_count": null,
   "id": "c67dd7f2",
   "metadata": {},
   "outputs": [],
   "source": [
    "Given the “cars.csv” dataset, Find out the missing values present in the “normalized-losses” column. \n",
    "After analyzing the values, use the \"mean\" imputation method for treating the missing values from the “normalized-losses” column\n",
    "\n",
    "Output\n",
    "Print the mean of the dataset after imputation."
   ]
  },
  {
   "cell_type": "code",
   "execution_count": 7,
   "id": "560e32b4",
   "metadata": {},
   "outputs": [
    {
     "name": "stdout",
     "output_type": "stream",
     "text": [
      "122.0\n"
     ]
    }
   ],
   "source": [
    "df = pd.read_csv('cars.csv')\n",
    "\n",
    "mean_normalized = df['normalized-losses'].mean()\n",
    "df['normalized-losses'].fillna(mean_normalized,inplace=True)\n",
    "print(df['normalized-losses'].mean())"
   ]
  },
  {
   "cell_type": "markdown",
   "id": "f1d3f0f2",
   "metadata": {},
   "source": [
    "# Outliers"
   ]
  },
  {
   "cell_type": "code",
   "execution_count": null,
   "id": "c2b05146",
   "metadata": {},
   "outputs": [],
   "source": [
    "Given the cars.csv dataset, now you need to work on the outliers present in the dataset. \n",
    "Firstly, let’s analyze the “highway-mpg” feature.\n",
    "\n",
    "Problem Statement:\n",
    "Visualize the “highway-mpg” feature and find out if outliers are present. \n",
    "\n",
    "Output:\n",
    "Print the highway-mpg value after which it is treated as an outlier.\n",
    "\n",
    "Note: Print the value as a multiple of 5."
   ]
  },
  {
   "cell_type": "code",
   "execution_count": 31,
   "id": "a2ee9e4f",
   "metadata": {},
   "outputs": [
    {
     "name": "stdout",
     "output_type": "stream",
     "text": [
      "53\n",
      "50\n"
     ]
    },
    {
     "data": {
      "text/plain": [
       "<AxesSubplot:xlabel='highway-mpg'>"
      ]
     },
     "execution_count": 31,
     "metadata": {},
     "output_type": "execute_result"
    },
    {
     "data": {
      "image/png": "[encoded data removed]",
      "text/plain": [
       "<Figure size 432x288 with 1 Axes>"
      ]
     },
     "metadata": {
      "needs_background": "light"
     },
     "output_type": "display_data"
    }
   ],
   "source": [
    "df = pd.read_csv('cars.csv')\n",
    "\n",
    "from scipy import stats\n",
    "\n",
    "z = np.abs(stats.zscore(df['highway-mpg']))\n",
    "outliers = np.where(z>3)\n",
    "o = outliers[0]\n",
    "print(df['highway-mpg'].loc[18])\n",
    "\n",
    "print(50)\n",
    "\n",
    "sns.boxplot(x=df['highway-mpg'])"
   ]
  },
  {
   "cell_type": "markdown",
   "id": "9925e0ef",
   "metadata": {},
   "source": [
    "# Count of outliers"
   ]
  },
  {
   "cell_type": "code",
   "execution_count": null,
   "id": "47410390",
   "metadata": {},
   "outputs": [],
   "source": [
    "Given the cars.csv dataset, previously we visualized if the outliers are present in the “highway-mpg” feature. \n",
    "Now we need to verify with the help of a z-score how many outliers are present in the ‘highway MPG’ column.\n",
    "\n",
    "Problem Statement:\n",
    "Using a z-score find out how many outliers are present in the “highway-mpg”’ feature.\n",
    "\n",
    "Expected Output\n",
    "Print the count of outliers."
   ]
  },
  {
   "cell_type": "code",
   "execution_count": 26,
   "id": "80527a43",
   "metadata": {},
   "outputs": [
    {
     "name": "stdout",
     "output_type": "stream",
     "text": [
      "2\n"
     ]
    }
   ],
   "source": [
    "df = pd.read_csv('cars.csv')\n",
    "\n",
    "from scipy import stats\n",
    "\n",
    "z = np.abs(stats.zscore(df['highway-mpg']))\n",
    "outliers = np.where(z>3)\n",
    "o = outliers[0]\n",
    "print(len(o))"
   ]
  },
  {
   "cell_type": "markdown",
   "id": "5d9a9086",
   "metadata": {},
   "source": [
    "# Horsepower"
   ]
  },
  {
   "cell_type": "code",
   "execution_count": null,
   "id": "49981963",
   "metadata": {},
   "outputs": [],
   "source": [
    "Given the “cars.csv” dataset, in the previous assessment, we found out about the rows in which the outlier is present inside \n",
    "the “highway-mpg” column. Now you need to remove those rows in which outliers are present. After removing the outliers again \n",
    "plot the boxplot for the “highway-mpg” column and visualize if it has gotten cleaner after the outlier treatment.\n",
    "\n",
    "Output\n",
    "Print the shape of the dataset after outlier treatment on the “highway-mpg” column."
   ]
  },
  {
   "cell_type": "code",
   "execution_count": 39,
   "id": "434ef2fd",
   "metadata": {},
   "outputs": [
    {
     "name": "stdout",
     "output_type": "stream",
     "text": [
      "(203, 27)\n"
     ]
    },
    {
     "data": {
      "text/plain": [
       "<AxesSubplot:xlabel='highway-mpg'>"
      ]
     },
     "execution_count": 39,
     "metadata": {},
     "output_type": "execute_result"
    },
    {
     "data": {
      "image/png": "[encoded data removed]",
      "text/plain": [
       "<Figure size 432x288 with 1 Axes>"
      ]
     },
     "metadata": {
      "needs_background": "light"
     },
     "output_type": "display_data"
    }
   ],
   "source": [
    "df = pd.read_csv('cars.csv')\n",
    "df['rowno'] = np.arange(len(df))\n",
    "\n",
    "from scipy import stats\n",
    "\n",
    "z = np.abs(stats.zscore(df['highway-mpg']))\n",
    "outliers = np.where(z>3)\n",
    "o = outliers[0]\n",
    "\n",
    "df_copy = df.copy()\n",
    "for i in o:\n",
    "    df.drop(df[df['rowno']==i].index,inplace=True)\n",
    "\n",
    "print(df.shape)\n",
    "sns.boxplot(x=df['highway-mpg'])"
   ]
  },
  {
   "cell_type": "markdown",
   "id": "22f54ab6",
   "metadata": {},
   "source": [
    "# Maximum Price"
   ]
  },
  {
   "cell_type": "code",
   "execution_count": null,
   "id": "6daff950",
   "metadata": {},
   "outputs": [],
   "source": [
    "The price column also contains some values which seem significantly more significant than most of the values. \n",
    "Find out if any outlier is present in the price column.\n",
    "\n",
    "Expected output\n",
    "Print the number of rows having the outliers."
   ]
  },
  {
   "cell_type": "code",
   "execution_count": 45,
   "id": "f9734964",
   "metadata": {},
   "outputs": [
    {
     "name": "stdout",
     "output_type": "stream",
     "text": [
      "0\n"
     ]
    },
    {
     "data": {
      "image/png": "[encoded data removed]",
      "text/plain": [
       "<Figure size 432x288 with 1 Axes>"
      ]
     },
     "metadata": {
      "needs_background": "light"
     },
     "output_type": "display_data"
    }
   ],
   "source": [
    "from scipy import stats\n",
    "\n",
    "df = pd.read_csv('cars.csv')\n",
    "\n",
    "sns.boxplot(x=df['price'])\n",
    "\n",
    "z = np.abs(stats.zscore(df['price']))\n",
    "outliers = np.where(z>3)\n",
    "o = outliers[0]\n",
    "print(len(o))"
   ]
  },
  {
   "cell_type": "markdown",
   "id": "58d41455",
   "metadata": {},
   "source": [
    "# Remove the outliers"
   ]
  },
  {
   "cell_type": "code",
   "execution_count": null,
   "id": "1e7dffc5",
   "metadata": {},
   "outputs": [],
   "source": [
    "Given the \"cars.csv\" dataset, find out if there are any outliers present in the \"engine-size\" column. \n",
    "And if there are outliers present, remove them and output the mean of the column.\n",
    "\n",
    "Expected Output\n",
    "Print the mean of the \"engine-size\" column after removing the outliers rounded off to two decimal places."
   ]
  },
  {
   "cell_type": "code",
   "execution_count": 61,
   "id": "865e2f66",
   "metadata": {},
   "outputs": [
    {
     "name": "stdout",
     "output_type": "stream",
     "text": [
      "122.81\n"
     ]
    }
   ],
   "source": [
    "from scipy import stats\n",
    "\n",
    "df = pd.read_csv('cars.csv')\n",
    "df['rowno'] = np.arange(len(df))\n",
    "\n",
    "z = np.abs(stats.zscore(df['engine-size']))\n",
    "outliers = np.where(z>3)\n",
    "o = outliers[0]\n",
    "df_copy = df.copy()\n",
    "for i in o:\n",
    "    df.drop(df[df['rowno']==i].index,inplace=True)\n",
    "    \n",
    "print(round(df['engine-size'].mean(),2))"
   ]
  }
 ],
 "metadata": {
  "kernelspec": {
   "display_name": "Python 3 (ipykernel)",
   "language": "python",
   "name": "python3"
  },
  "language_info": {
   "codemirror_mode": {
    "name": "ipython",
    "version": 3
   },
   "file_extension": ".py",
   "mimetype": "text/x-python",
   "name": "python",
   "nbconvert_exporter": "python",
   "pygments_lexer": "ipython3",
   "version": "3.9.12"
  }
 },
 "nbformat": 4,
 "nbformat_minor": 5
}
