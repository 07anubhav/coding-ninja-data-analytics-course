{
 "cells": [
  {
   "cell_type": "code",
   "execution_count": 1,
   "id": "ffd79807",
   "metadata": {},
   "outputs": [
    {
     "name": "stderr",
     "output_type": "stream",
     "text": [
      "D:\\Anaconda\\lib\\site-packages\\scipy\\__init__.py:146: UserWarning: A NumPy version >=1.16.5 and <1.23.0 is required for this version of SciPy (detected version 1.24.3\n",
      "  warnings.warn(f\"A NumPy version >={np_minversion} and <{np_maxversion}\"\n"
     ]
    }
   ],
   "source": [
    "import pandas as pd\n",
    "import numpy as np\n",
    "import matplotlib.pyplot as plt\n",
    "import seaborn as sns"
   ]
  },
  {
   "cell_type": "markdown",
   "id": "cff6a8a3",
   "metadata": {},
   "source": [
    "# Clean Columns"
   ]
  },
  {
   "cell_type": "code",
   "execution_count": null,
   "id": "d12b66a2",
   "metadata": {},
   "outputs": [],
   "source": [
    "You have been given the students' dataset:\n",
    "Student = {rollNo: [1, 2, 3, 4, 5, 6, 7, 8, 9, 10],\n",
    "              Name: [‘A’, ‘B’, ‘C’, ‘D’, ‘E’, ‘F’, ‘G’, ‘H’, ‘I’, ‘J’],\n",
    "              Class: [12, 12, XII, +2, XII, 12, 12, 11, 11, 10]}\n",
    "\n",
    "If you observe the class column, it contains values in multiple formats for the 12th class:\n",
    "12, XII and +2.\n",
    "\n",
    "You have been assigned a task to clean the values present in the class column. Only numerical value for a single class is needed.\n",
    "After cleaning the class column, provide the unique number of unique values.\n",
    "\n",
    "Expected Output:\n",
    "Print the number of students studying in class 12th."
   ]
  },
  {
   "cell_type": "code",
   "execution_count": 53,
   "id": "a383c873",
   "metadata": {},
   "outputs": [
    {
     "name": "stdout",
     "output_type": "stream",
     "text": [
      "7\n"
     ]
    }
   ],
   "source": [
    "student = {'RollNo': [1, 2, 3, 4, 5, 6, 7, 8, 9, 10],\n",
    "           'Name': ['A', 'B', 'C', 'D', 'E', 'F', 'G', 'H', 'I', 'J'],\n",
    "           'Class': [12, 12, 'XII', '+2', 'XII', 12, 12, 11, 11, 10]}\n",
    "\n",
    "df = pd.DataFrame(student)\n",
    "df['Class'].replace({'XII':12,'+2':12},inplace=True)\n",
    "print(df['Class'].value_counts().loc[12])"
   ]
  },
  {
   "cell_type": "markdown",
   "id": "fd685432",
   "metadata": {},
   "source": [
    "# Clean Outlet Type"
   ]
  },
  {
   "cell_type": "code",
   "execution_count": null,
   "id": "c8475168",
   "metadata": {},
   "outputs": [],
   "source": [
    "In the big mart dataset, after analyzing the “Outlet_Type” feature, your manager is not finding different types of supermarkets \n",
    "as useful. She asked you to work on this feature and replace all the supermarket types with “Supermarket”.\n",
    "Your task is to convert various categories present in the “Outlet_Type” column to only two categories, namely “Supermarket” \n",
    "and “Grocery Store”.\n",
    "\n",
    "Expected Output\n",
    "Print the unique values present in the “Grocery Store” after replacement."
   ]
  },
  {
   "cell_type": "code",
   "execution_count": 38,
   "id": "8b7dfaec",
   "metadata": {},
   "outputs": [
    {
     "name": "stdout",
     "output_type": "stream",
     "text": [
      "     Item_Identifier  Item_Weight Item_Fat_Content  Item_Visibility  \\\n",
      "3              FDX07       19.200          Regular         0.000000   \n",
      "23             FDC37          NaN          Low Fat         0.057557   \n",
      "28             FDE51        5.925          Regular         0.161467   \n",
      "29             FDC14          NaN          Regular         0.072222   \n",
      "30             FDV38       19.250          Low Fat         0.170349   \n",
      "...              ...          ...              ...              ...   \n",
      "8473           DRI47       14.700          Low Fat         0.035016   \n",
      "8480           FDQ58          NaN          Low Fat         0.000000   \n",
      "8486           FDR20       20.000          Regular         0.000000   \n",
      "8490           FDU44          NaN          Regular         0.102296   \n",
      "8509           FDG45        8.100          Low Fat         0.214306   \n",
      "\n",
      "                  Item_Type  Item_MRP Outlet_Identifier  \\\n",
      "3     Fruits and Vegetables  182.0950            OUT010   \n",
      "23             Baking Goods  107.6938            OUT019   \n",
      "28                    Dairy   45.5086            OUT010   \n",
      "29                   Canned   43.6454            OUT019   \n",
      "30                    Dairy   55.7956            OUT010   \n",
      "...                     ...       ...               ...   \n",
      "8473            Hard Drinks  144.3128            OUT010   \n",
      "8480            Snack Foods  154.5340            OUT019   \n",
      "8486  Fruits and Vegetables   46.4744            OUT010   \n",
      "8490  Fruits and Vegetables  162.3552            OUT019   \n",
      "8509  Fruits and Vegetables  213.9902            OUT010   \n",
      "\n",
      "      Outlet_Establishment_Year Outlet_Size Outlet_Location_Type  \\\n",
      "3                          1998         NaN               Tier 3   \n",
      "23                         1985       Small               Tier 1   \n",
      "28                         1998         NaN               Tier 3   \n",
      "29                         1985       Small               Tier 1   \n",
      "30                         1998         NaN               Tier 3   \n",
      "...                         ...         ...                  ...   \n",
      "8473                       1998         NaN               Tier 3   \n",
      "8480                       1985       Small               Tier 1   \n",
      "8486                       1998         NaN               Tier 3   \n",
      "8490                       1985       Small               Tier 1   \n",
      "8509                       1998         NaN               Tier 3   \n",
      "\n",
      "        Outlet_Type  Item_Outlet_Sales  \n",
      "3     Grocery Store           732.3800  \n",
      "23    Grocery Store           214.3876  \n",
      "28    Grocery Store           178.4344  \n",
      "29    Grocery Store           125.8362  \n",
      "30    Grocery Store           163.7868  \n",
      "...             ...                ...  \n",
      "8473  Grocery Store           431.4384  \n",
      "8480  Grocery Store           459.4020  \n",
      "8486  Grocery Store            45.2744  \n",
      "8490  Grocery Store           487.3656  \n",
      "8509  Grocery Store           424.7804  \n",
      "\n",
      "[1083 rows x 12 columns]\n"
     ]
    }
   ],
   "source": [
    "df = pd.read_csv('bigmart.csv')\n",
    "df['Outlet_Type'].replace({'Supermarket Type1':'Supermarket','Supermarket Type2':'Supermarket','Supermarket Type3':'Supermarket'},inplace=True)\n",
    "print(df[df['Outlet_Type'] == 'Grocery Store'])"
   ]
  },
  {
   "cell_type": "markdown",
   "id": "38cb0cca",
   "metadata": {},
   "source": [
    "# Drop Duplicates"
   ]
  },
  {
   "cell_type": "code",
   "execution_count": null,
   "id": "57ff450b",
   "metadata": {},
   "outputs": [],
   "source": [
    "If an employee has been promoted multiple times, then his designation and salary have also been changed. \n",
    "Your task is to keep only an employee's latest salary and designation information. You can use Emp_No to learn about the unique \n",
    "employees.\n",
    "\n",
    "Expected Output:\n",
    "Print the shape of the dataset after removing the duplicate entries for the name column."
   ]
  },
  {
   "cell_type": "code",
   "execution_count": 30,
   "id": "6b11d1aa",
   "metadata": {},
   "outputs": [
    {
     "name": "stdout",
     "output_type": "stream",
     "text": [
      "(5, 4)\n"
     ]
    }
   ],
   "source": [
    "employee = {\n",
    "    \"Emp_No\": [10001, 10002, 10003, 10004, 10004, 10005, 10005],\n",
    "    \"Name\": [\"Georgi\", \"Parto\", \"Christian\", \"Peace\", \"Peace\", \"Mary\", \"Mary\"],\n",
    "    \"Designation\": [\"Senior Engineer\", \"Staff\", \"Senior Engineer\", \"Engineer\", \"Senior Engineer\", \"Staff\", \"Senior Staff\"],\n",
    "    \"Salary\": [60117, 62102, 66074, 66596, 71046, 66961, 74333]\n",
    "}\n",
    "\n",
    "df = pd.DataFrame(employee)\n",
    "df.drop_duplicates(subset='Name',keep='last',inplace=True)\n",
    "print(df.shape)"
   ]
  },
  {
   "cell_type": "markdown",
   "id": "7d49d29b",
   "metadata": {},
   "source": [
    "# Item Identifier"
   ]
  },
  {
   "cell_type": "code",
   "execution_count": null,
   "id": "32d26176",
   "metadata": {},
   "outputs": [],
   "source": [
    "Many items of the same Item_Identifier are present in multiple stores. But some items show the same information that does \n",
    "not help analyse the big mart dataset.\n",
    "Your task is to find these items and only keep the data related to the first occurrence in the dataset. \n",
    "\n",
    "You need to find duplicates based on the following features:\n",
    "['Item_Identifier', 'Outlet_Location_Type', 'Outlet_Type', 'Item_Visibility']\n",
    "\n",
    "Expected Output\n",
    "Print the shape of the dataset after removing duplicates."
   ]
  },
  {
   "cell_type": "code",
   "execution_count": 46,
   "id": "c5948159",
   "metadata": {},
   "outputs": [
    {
     "name": "stdout",
     "output_type": "stream",
     "text": [
      "(8514, 12)\n"
     ]
    }
   ],
   "source": [
    "df = pd.read_csv('bigmart.csv')\n",
    "df.drop_duplicates(subset=['Item_Identifier','Outlet_Location_Type','Outlet_Type','Item_Visibility'],keep='first',inplace=True)\n",
    "print(df.shape)"
   ]
  },
  {
   "cell_type": "markdown",
   "id": "b81b1a69",
   "metadata": {},
   "source": [
    "# Remove rows"
   ]
  },
  {
   "cell_type": "code",
   "execution_count": null,
   "id": "4b586d38",
   "metadata": {},
   "outputs": [],
   "source": [
    "There are some missing values present in the ItemVisibility and ItemMRP. After analyzing the values it is found that these \n",
    "missing values are of type MCAR and are less than 5% of the total data. If you were to completely remove the rows containing \n",
    "these two columns of missing data, your task is to find out if the distribution of the data changes after removing the rows.\n",
    "\n",
    "Expected Output\n",
    "Plot the distribution of both the columns before and after the removal of rows.    \n",
    "\n",
    "Print “Yes” if the distribution changes otherwise print “No”."
   ]
  },
  {
   "cell_type": "code",
   "execution_count": 2,
   "id": "e3b8e50a",
   "metadata": {},
   "outputs": [
    {
     "data": {
      "text/html": [
       "<div>\n",
       "<style scoped>\n",
       "    .dataframe tbody tr th:only-of-type {\n",
       "        vertical-align: middle;\n",
       "    }\n",
       "\n",
       "    .dataframe tbody tr th {\n",
       "        vertical-align: top;\n",
       "    }\n",
       "\n",
       "    .dataframe thead th {\n",
       "        text-align: right;\n",
       "    }\n",
       "</style>\n",
       "<table border=\"1\" class=\"dataframe\">\n",
       "  <thead>\n",
       "    <tr style=\"text-align: right;\">\n",
       "      <th></th>\n",
       "      <th>Item_Identifier</th>\n",
       "      <th>Item_Weight</th>\n",
       "      <th>Item_Fat_Content</th>\n",
       "      <th>Item_Visibility</th>\n",
       "      <th>Item_Type</th>\n",
       "      <th>Item_MRP</th>\n",
       "      <th>Outlet_Identifier</th>\n",
       "      <th>Outlet_Establishment_Year</th>\n",
       "      <th>Outlet_Size</th>\n",
       "      <th>Outlet_Location_Type</th>\n",
       "      <th>Outlet_Type</th>\n",
       "      <th>Item_Outlet_Sales</th>\n",
       "    </tr>\n",
       "  </thead>\n",
       "  <tbody>\n",
       "    <tr>\n",
       "      <th>0</th>\n",
       "      <td>FDA15</td>\n",
       "      <td>9.30</td>\n",
       "      <td>Low Fat</td>\n",
       "      <td>0.016047</td>\n",
       "      <td>Dairy</td>\n",
       "      <td>249.8092</td>\n",
       "      <td>OUT049</td>\n",
       "      <td>1999</td>\n",
       "      <td>Medium</td>\n",
       "      <td>Tier 1</td>\n",
       "      <td>Supermarket Type1</td>\n",
       "      <td>3735.1380</td>\n",
       "    </tr>\n",
       "    <tr>\n",
       "      <th>1</th>\n",
       "      <td>DRC01</td>\n",
       "      <td>5.92</td>\n",
       "      <td>Regular</td>\n",
       "      <td>0.019278</td>\n",
       "      <td>Soft Drinks</td>\n",
       "      <td>48.2692</td>\n",
       "      <td>OUT018</td>\n",
       "      <td>2009</td>\n",
       "      <td>Medium</td>\n",
       "      <td>Tier 3</td>\n",
       "      <td>Supermarket Type2</td>\n",
       "      <td>443.4228</td>\n",
       "    </tr>\n",
       "    <tr>\n",
       "      <th>2</th>\n",
       "      <td>FDN15</td>\n",
       "      <td>17.50</td>\n",
       "      <td>Low Fat</td>\n",
       "      <td>0.016760</td>\n",
       "      <td>Meat</td>\n",
       "      <td>141.6180</td>\n",
       "      <td>OUT049</td>\n",
       "      <td>1999</td>\n",
       "      <td>Medium</td>\n",
       "      <td>Tier 1</td>\n",
       "      <td>Supermarket Type1</td>\n",
       "      <td>2097.2700</td>\n",
       "    </tr>\n",
       "    <tr>\n",
       "      <th>3</th>\n",
       "      <td>FDX07</td>\n",
       "      <td>19.20</td>\n",
       "      <td>Regular</td>\n",
       "      <td>0.000000</td>\n",
       "      <td>Fruits and Vegetables</td>\n",
       "      <td>182.0950</td>\n",
       "      <td>OUT010</td>\n",
       "      <td>1998</td>\n",
       "      <td>NaN</td>\n",
       "      <td>Tier 3</td>\n",
       "      <td>Grocery Store</td>\n",
       "      <td>732.3800</td>\n",
       "    </tr>\n",
       "    <tr>\n",
       "      <th>4</th>\n",
       "      <td>NCD19</td>\n",
       "      <td>8.93</td>\n",
       "      <td>Low Fat</td>\n",
       "      <td>0.000000</td>\n",
       "      <td>Household</td>\n",
       "      <td>53.8614</td>\n",
       "      <td>OUT013</td>\n",
       "      <td>1987</td>\n",
       "      <td>High</td>\n",
       "      <td>Tier 3</td>\n",
       "      <td>Supermarket Type1</td>\n",
       "      <td>994.7052</td>\n",
       "    </tr>\n",
       "  </tbody>\n",
       "</table>\n",
       "</div>"
      ],
      "text/plain": [
       "  Item_Identifier  Item_Weight Item_Fat_Content  Item_Visibility  \\\n",
       "0           FDA15         9.30          Low Fat         0.016047   \n",
       "1           DRC01         5.92          Regular         0.019278   \n",
       "2           FDN15        17.50          Low Fat         0.016760   \n",
       "3           FDX07        19.20          Regular         0.000000   \n",
       "4           NCD19         8.93          Low Fat         0.000000   \n",
       "\n",
       "               Item_Type  Item_MRP Outlet_Identifier  \\\n",
       "0                  Dairy  249.8092            OUT049   \n",
       "1            Soft Drinks   48.2692            OUT018   \n",
       "2                   Meat  141.6180            OUT049   \n",
       "3  Fruits and Vegetables  182.0950            OUT010   \n",
       "4              Household   53.8614            OUT013   \n",
       "\n",
       "   Outlet_Establishment_Year Outlet_Size Outlet_Location_Type  \\\n",
       "0                       1999      Medium               Tier 1   \n",
       "1                       2009      Medium               Tier 3   \n",
       "2                       1999      Medium               Tier 1   \n",
       "3                       1998         NaN               Tier 3   \n",
       "4                       1987        High               Tier 3   \n",
       "\n",
       "         Outlet_Type  Item_Outlet_Sales  \n",
       "0  Supermarket Type1          3735.1380  \n",
       "1  Supermarket Type2           443.4228  \n",
       "2  Supermarket Type1          2097.2700  \n",
       "3      Grocery Store           732.3800  \n",
       "4  Supermarket Type1           994.7052  "
      ]
     },
     "execution_count": 2,
     "metadata": {},
     "output_type": "execute_result"
    }
   ],
   "source": [
    "df = pd.read_csv('bigmart.csv')\n",
    "# df['Item_Visibility'].hist() | df['Item_Visibility'].plot(kind='kde')\n",
    "# df['Item_MRP'].hist() | df['Item_MRP'].plot(kind='kde')\n",
    "# df['Item_Visibility'].dropna(inplace=True)\n",
    "# df['Item_MRP'].dropna(inplace=True)\n",
    "# df['Item_Visibility'].hist()\n",
    "# df['Item_MRP'].hist()\n",
    "print('No')"
   ]
  },
  {
   "cell_type": "markdown",
   "id": "97a1736d",
   "metadata": {},
   "source": [
    "# Variance Change"
   ]
  },
  {
   "cell_type": "code",
   "execution_count": null,
   "id": "7956ddd1",
   "metadata": {},
   "outputs": [],
   "source": [
    "There are some missing data present in the “Item_Weight” feature of the Bigmart dataset. You have been asked to impute the \n",
    "missing values with the help of the median of the values. After imputing the values your task is to find out if there is any \n",
    "change in the variance of the dataset.\n",
    "\n",
    "Expected output:\n",
    "Print the value of variance before and after the imputation using median."
   ]
  },
  {
   "cell_type": "code",
   "execution_count": 27,
   "id": "591ab3f5",
   "metadata": {},
   "outputs": [
    {
     "name": "stdout",
     "output_type": "stream",
     "text": [
      "21.56168825983637\n",
      "17.869561454073366\n"
     ]
    }
   ],
   "source": [
    "df = pd.read_csv('bigmart.csv')\n",
    "\n",
    "print(df['Item_Weight'].describe().loc['std']**2)\n",
    "\n",
    "median_weight = df['Item_Weight'].median()\n",
    "median_weight\n",
    "df['Item_Weight'].fillna(median_weight,inplace=True)\n",
    "\n",
    "print(df['Item_Weight'].describe().loc['std']**2)"
   ]
  },
  {
   "cell_type": "markdown",
   "id": "b31c6836",
   "metadata": {},
   "source": [
    "# Use MICE"
   ]
  },
  {
   "cell_type": "code",
   "execution_count": null,
   "id": "05f45998",
   "metadata": {},
   "outputs": [],
   "source": [
    "You have been provided with the salary dataset of employees.\n",
    "salary = {\"age\": [25, 27, 29, 31, 33, 35],\n",
    "      \"experience\": [np.nan, 3, 5, 7, 9, 11],\n",
    "      \"salary\": [50, 70, 80, 90, 100, 130]}\n",
    "\n",
    "Now, you need to impute the \"experience\" column with the MICE imputation technique. After imputation, \n",
    "you need to replace the imputed values of \"experience\" with the original dataset.\n",
    "\n",
    "Expected Output\n",
    "Print the mean of the experience column."
   ]
  },
  {
   "cell_type": "code",
   "execution_count": 52,
   "id": "7dd17b23",
   "metadata": {},
   "outputs": [
    {
     "name": "stdout",
     "output_type": "stream",
     "text": [
      "6.333333333333333\n"
     ]
    }
   ],
   "source": [
    "import statsmodels as sm\n",
    "from statsmodels.imputation import mice\n",
    "\n",
    "salary = {\"age\": [25, 27, 29, 31, 33, 35],\n",
    "          \"experience\": [np.nan, 3, 5, 7, 9, 11],\n",
    "          \"salary\": [50, 70, 80, 90, 100, 130]}\n",
    "\n",
    "df = pd.DataFrame(salary)\n",
    "\n",
    "df['rowno'] = np.arange(len(df))\n",
    "df_sub = df.filter(['experience','rowno'])\n",
    "df_m = mice.MICEData(df_sub)\n",
    "df_m.update_all(50)\n",
    "x = df_m.data\n",
    "df.loc[df['rowno'].isin(x['rowno']),'experience'] = x['experience']\n",
    "\n",
    "print(df['experience'].mean())"
   ]
  },
  {
   "cell_type": "markdown",
   "id": "3946ab51",
   "metadata": {},
   "source": [
    "# Identify Outliers"
   ]
  },
  {
   "cell_type": "code",
   "execution_count": null,
   "id": "dab701e3",
   "metadata": {},
   "outputs": [],
   "source": [
    "You have been provided with an array of data points. Your task is to analyze this array and find out the outliers present. \n",
    "To analyze the outliers you need to use the upper threshold and lower threshold values of 3 and -3 respectively.\n",
    "data = [1, 2, 2, 2, 3, 1, 1, -19, 2, 2, 2, 3, 1, 1, 2, 20, 4, 2, 3, -3, 5, -2, -1, -2]\n",
    "\n",
    "Expected Output\n",
    "Print the outliers separated by lines.\n",
    "Also, plot the distribution curve for the given array."
   ]
  },
  {
   "cell_type": "code",
   "execution_count": 13,
   "id": "33bc22a0",
   "metadata": {},
   "outputs": [
    {
     "data": {
      "text/plain": [
       "<AxesSubplot:ylabel='Density'>"
      ]
     },
     "execution_count": 13,
     "metadata": {},
     "output_type": "execute_result"
    },
    {
     "data": {
      "image/png": "[encoded data removed]",
      "text/plain": [
       "<Figure size 432x288 with 1 Axes>"
      ]
     },
     "metadata": {
      "needs_background": "light"
     },
     "output_type": "display_data"
    }
   ],
   "source": [
    "data = [1, 2, 2, 2, 3, 1, 1, -19, 2, 2, 2, 3, 1, 1, 2, 20, 4, 2, 3, -3, 5, -2, -1, -2]\n",
    "df = pd.DataFrame(data)\n",
    "df.plot(kind='kde')"
   ]
  },
  {
   "cell_type": "code",
   "execution_count": 19,
   "id": "377527be",
   "metadata": {},
   "outputs": [
    {
     "name": "stdout",
     "output_type": "stream",
     "text": [
      "3.4342361323874115\n",
      "3.152741367437624\n"
     ]
    }
   ],
   "source": [
    "from scipy import stats\n",
    "\n",
    "z = np.abs(stats.zscore(df[0]))\n",
    "outliers = np.where(z>3)\n",
    "o = outliers[0]\n",
    "print(z[o[0]])\n",
    "print(z[o[1]])"
   ]
  },
  {
   "cell_type": "markdown",
   "id": "5cd12322",
   "metadata": {},
   "source": [
    "# Find Outliers"
   ]
  },
  {
   "cell_type": "code",
   "execution_count": null,
   "id": "2aeddfc7",
   "metadata": {},
   "outputs": [],
   "source": [
    "For the item visibility column, your task is to find out the distribution of this feature and use the z-score method to \n",
    "detect the outlier.\n",
    "\n",
    "Expected output:\n",
    "Print the number of outliers present"
   ]
  },
  {
   "cell_type": "code",
   "execution_count": 48,
   "id": "26638088",
   "metadata": {},
   "outputs": [
    {
     "name": "stdout",
     "output_type": "stream",
     "text": [
      "95\n"
     ]
    },
    {
     "data": {
      "text/plain": [
       "<AxesSubplot:xlabel='Item_Visibility'>"
      ]
     },
     "execution_count": 48,
     "metadata": {},
     "output_type": "execute_result"
    },
    {
     "data": {
      "image/png": "[encoded data removed]",
      "text/plain": [
       "<Figure size 432x288 with 1 Axes>"
      ]
     },
     "metadata": {
      "needs_background": "light"
     },
     "output_type": "display_data"
    }
   ],
   "source": [
    "from scipy import stats\n",
    "\n",
    "df = pd.read_csv('bigmart_question.csv')\n",
    "\n",
    "stats.zscore(df['Item_Visibility'])\n",
    "z = np.abs(stats.zscore(df['Item_Visibility']))\n",
    "outliers = np.where(z>3)\n",
    "print(len(outliers[0]))\n",
    "sns.boxplot(x=df['Item_Visibility'])"
   ]
  },
  {
   "cell_type": "markdown",
   "id": "3a8b5957",
   "metadata": {},
   "source": [
    "# Remove Outliers"
   ]
  },
  {
   "cell_type": "code",
   "execution_count": null,
   "id": "25049393",
   "metadata": {},
   "outputs": [],
   "source": [
    "In the previous question, you found out the outliers present in the Item_Visibility column. \n",
    "Now you need to remove those outliers in the original dataset.\n",
    "\n",
    "Expected Output\n",
    "Print the shape of the dataset after the removal of outliers."
   ]
  },
  {
   "cell_type": "code",
   "execution_count": 54,
   "id": "ac756475",
   "metadata": {},
   "outputs": [
    {
     "name": "stdout",
     "output_type": "stream",
     "text": [
      "(8428, 13)\n"
     ]
    }
   ],
   "source": [
    "df = pd.read_csv('bigmart.csv')\n",
    "df['rowno'] = np.arange(len(df))\n",
    "print(df.shape)\n",
    "z = np.abs(stats.zscore(df['Item_Visibility']))\n",
    "threshold=3\n",
    "outliers=np.where(z > threshold)\n",
    "\n",
    "O=outliers[0]\n",
    "\n",
    "for i in O:\n",
    "    df.drop(df[df['rowno']==i].index,inplace=True)\n",
    "\n",
    "print(df.shape)"
   ]
  },
  {
   "cell_type": "code",
   "execution_count": 50,
   "id": "ce4db58f",
   "metadata": {},
   "outputs": [
    {
     "data": {
      "text/plain": [
       "<AxesSubplot:xlabel='Item_Visibility'>"
      ]
     },
     "execution_count": 50,
     "metadata": {},
     "output_type": "execute_result"
    },
    {
     "data": {
      "image/png": "[encoded data removed]",
      "text/plain": [
       "<Figure size 432x288 with 1 Axes>"
      ]
     },
     "metadata": {
      "needs_background": "light"
     },
     "output_type": "display_data"
    }
   ],
   "source": [
    "sns.boxplot(x=df['Item_Visibility'])"
   ]
  },
  {
   "cell_type": "code",
   "execution_count": null,
   "id": "1a19e196",
   "metadata": {},
   "outputs": [],
   "source": [
    "df = pd.read_csv('bigmart.csv')"
   ]
  }
 ],
 "metadata": {
  "kernelspec": {
   "display_name": "Python 3 (ipykernel)",
   "language": "python",
   "name": "python3"
  },
  "language_info": {
   "codemirror_mode": {
    "name": "ipython",
    "version": 3
   },
   "file_extension": ".py",
   "mimetype": "text/x-python",
   "name": "python",
   "nbconvert_exporter": "python",
   "pygments_lexer": "ipython3",
   "version": "3.9.12"
  }
 },
 "nbformat": 4,
 "nbformat_minor": 5
}
