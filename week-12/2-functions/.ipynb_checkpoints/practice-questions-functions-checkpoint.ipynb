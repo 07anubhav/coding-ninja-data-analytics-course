{
 "cells": [
  {
   "cell_type": "markdown",
   "id": "22a02769",
   "metadata": {},
   "source": [
    "# Kelvin to Celsius"
   ]
  },
  {
   "cell_type": "code",
   "execution_count": null,
   "id": "0228929c",
   "metadata": {},
   "outputs": [],
   "source": [
    "You are working in a grocery company that stores various products. As part of your analysis, you need to convert temperature \n",
    "data from Kelvin scale to Celsius scale. \n",
    "\n",
    "Write a function called 'temperature' that takes a temperature value in Kelvin as input and returns the corresponding \n",
    "temperature in Celsius using the formula: \n",
    "\n",
    "Celsius = Kelvin - 273"
   ]
  },
  {
   "cell_type": "code",
   "execution_count": 8,
   "id": "ee2bec78",
   "metadata": {},
   "outputs": [
    {
     "data": {
      "text/plain": [
       "27"
      ]
     },
     "execution_count": 8,
     "metadata": {},
     "output_type": "execute_result"
    }
   ],
   "source": [
    "def temperature(kelvin):\n",
    "    return (kelvin-273)\n",
    "\n",
    "temperature(300)"
   ]
  },
  {
   "cell_type": "markdown",
   "id": "4e1735e7",
   "metadata": {},
   "source": [
    "# Area of House"
   ]
  },
  {
   "cell_type": "code",
   "execution_count": null,
   "id": "f8260939",
   "metadata": {},
   "outputs": [],
   "source": [
    "Given a dataset with two columns, \"length\" and \"breadth\" of a house, \n",
    "you need to calculate the area of the house and create a new feature called \"Area\" \n",
    "\n",
    "Write a function \"calculate_area\" that calculates and returns the area of the house."
   ]
  },
  {
   "cell_type": "code",
   "execution_count": 9,
   "id": "3de440df",
   "metadata": {},
   "outputs": [
    {
     "data": {
      "text/plain": [
       "200"
      ]
     },
     "execution_count": 9,
     "metadata": {},
     "output_type": "execute_result"
    }
   ],
   "source": [
    "def area(l,b):\n",
    "    return l*b\n",
    "\n",
    "area(10,20)"
   ]
  },
  {
   "cell_type": "markdown",
   "id": "a7428b64",
   "metadata": {},
   "source": [
    "# Classifier"
   ]
  },
  {
   "cell_type": "code",
   "execution_count": null,
   "id": "f31b0ac3",
   "metadata": {},
   "outputs": [],
   "source": [
    "You are given a numerical input n. Write a function \"classifier\" that takes n as input \n",
    "and uses conditional statements to determine the appropriate category label based on the given input.\n",
    "\n",
    "The category labels are as follows:\n",
    "0 corresponds to \"cat\"\n",
    "1 corresponds to \"dog\"\n",
    "Any other value corresponds to \"human\""
   ]
  },
  {
   "cell_type": "code",
   "execution_count": 10,
   "id": "56c9f854",
   "metadata": {},
   "outputs": [
    {
     "data": {
      "text/plain": [
       "'dog'"
      ]
     },
     "execution_count": 10,
     "metadata": {},
     "output_type": "execute_result"
    }
   ],
   "source": [
    "def classifier(n):\n",
    "    if n == 0:\n",
    "        return 'cat'\n",
    "    elif n == 1:\n",
    "        return 'dog'\n",
    "    else:\n",
    "        return 'human'\n",
    "    \n",
    "classifier(1)"
   ]
  },
  {
   "cell_type": "markdown",
   "id": "99eb95ed",
   "metadata": {},
   "source": [
    "# Categorize Demand"
   ]
  },
  {
   "cell_type": "code",
   "execution_count": null,
   "id": "339fbe42",
   "metadata": {},
   "outputs": [],
   "source": [
    "You have a numerical column representing the number of products sold. Based on this data, \n",
    "you want to categorize the products into different demand levels. The demand categories are defined as follows:\n",
    "\n",
    "High demand: If the number of items sold is greater than 100.\n",
    "Medium demand: If the number of items sold is greater than or equal to 50.\n",
    "Low demand: If the number of items sold is less than 50.\n",
    "\n",
    "Write a function \"categorize\" that takes the number of items sold as input and returns the corresponding demand category \n",
    "for the product."
   ]
  },
  {
   "cell_type": "code",
   "execution_count": 11,
   "id": "d0f2464d",
   "metadata": {},
   "outputs": [
    {
     "data": {
      "text/plain": [
       "'medium demand'"
      ]
     },
     "execution_count": 11,
     "metadata": {},
     "output_type": "execute_result"
    }
   ],
   "source": [
    "def categorize(n):\n",
    "    if n > 100:\n",
    "        return 'high demand'\n",
    "    elif n >=50:\n",
    "        return 'medium demand'\n",
    "    else:\n",
    "        return 'low demand'\n",
    "    \n",
    "categorize(100)"
   ]
  },
  {
   "cell_type": "markdown",
   "id": "1e9dea1f",
   "metadata": {},
   "source": [
    "# Factorial of a Number"
   ]
  },
  {
   "cell_type": "code",
   "execution_count": null,
   "id": "690b3f05",
   "metadata": {},
   "outputs": [],
   "source": [
    "You are given an integer ‘N’. You have to print the value of Factorial of ‘N’. \n",
    "The Factorial of a number ‘N’ is defined as the product of all numbers from 1 to ‘N’."
   ]
  },
  {
   "cell_type": "code",
   "execution_count": 12,
   "id": "5e87259f",
   "metadata": {},
   "outputs": [
    {
     "name": "stdout",
     "output_type": "stream",
     "text": [
      "10\n",
      "3628800\n"
     ]
    }
   ],
   "source": [
    "n = int(input())\n",
    "\n",
    "def factorial(n):\n",
    "    fact = 1\n",
    "    for i in range(1,n+1):\n",
    "        fact *= i\n",
    "\n",
    "    return fact\n",
    "\n",
    "print(factorial(n))"
   ]
  },
  {
   "cell_type": "markdown",
   "id": "6a1a2449",
   "metadata": {},
   "source": [
    "# Binomial Coefficient Problem"
   ]
  },
  {
   "cell_type": "code",
   "execution_count": null,
   "id": "2af3ae8f",
   "metadata": {},
   "outputs": [],
   "source": [
    "You need to complete a function for the ninja that can calculate the binomial of a number where when given two integers 'N' \n",
    "and 'R', the program can calculate its respective binomial coefficient nCr. Since the answer may be very large, calculate the \n",
    "answer modulo 10^9 + 7."
   ]
  },
  {
   "cell_type": "code",
   "execution_count": 22,
   "id": "52fa4b02",
   "metadata": {},
   "outputs": [
    {
     "name": "stdout",
     "output_type": "stream",
     "text": [
      "5 2\n",
      "10\n"
     ]
    }
   ],
   "source": [
    "def fact(a):\n",
    "    n_fact = 1\n",
    "    for i in range(1,a+1):\n",
    "        n_fact = n_fact*i\n",
    "    return n_fact\n",
    "\n",
    "def nCr(n,r):\n",
    "    n_fact = fact(n)\n",
    "    r_fact = fact(r)\n",
    "    n_r_fact = fact(n-r)\n",
    "    ans = n_fact//(r_fact*n_r_fact)\n",
    "    \n",
    "    return ans\n",
    "\n",
    "a, b = map(int, input().split(' '))\n",
    "print(nCr(a, b))"
   ]
  },
  {
   "cell_type": "markdown",
   "id": "2ffe2fc5",
   "metadata": {},
   "source": [
    "# Find prime numbers"
   ]
  },
  {
   "cell_type": "code",
   "execution_count": null,
   "id": "8320c337",
   "metadata": {},
   "outputs": [],
   "source": [
    "You are given a positive integer ‘N’. Your task is to print all prime numbers less than or equal to N.\n",
    "Note: A prime number is a natural number that is divisible only by 1 and itself. Example - 2, 3, 17, etc.\n",
    "You can assume that the value of N will always be greater than 1. So, the answer will always exist."
   ]
  },
  {
   "cell_type": "code",
   "execution_count": 17,
   "id": "f1620f5f",
   "metadata": {},
   "outputs": [
    {
     "name": "stdout",
     "output_type": "stream",
     "text": [
      "20\n",
      "2 3 5 7 11 13 17 19 "
     ]
    }
   ],
   "source": [
    "n = int(input())\n",
    "\n",
    "def isPrime(n):\n",
    "    for i in range(2,n):\n",
    "        if n%i == 0:\n",
    "            break\n",
    "    else:\n",
    "        return True\n",
    "    \n",
    "    return False\n",
    "\n",
    "def primeFrom2ToN(n):\n",
    "    for k in range(2,n+1):\n",
    "        is_k_prime = isPrime(k)\n",
    "        \n",
    "        if is_k_prime:\n",
    "            print(k,end=\" \")\n",
    "\n",
    "primeFrom2ToN(n) "
   ]
  },
  {
   "cell_type": "markdown",
   "id": "db1fc038",
   "metadata": {},
   "source": [
    "# Composite Number"
   ]
  },
  {
   "cell_type": "code",
   "execution_count": null,
   "id": "af66fc23",
   "metadata": {},
   "outputs": [],
   "source": [
    "Write a function \"print_composite\" to print all the composite numbers up to a given number, \"n\". \n",
    "Composite numbers are numbers that are not prime and exclude 1. \n",
    "Hint: Use the same logic as nCr"
   ]
  },
  {
   "cell_type": "code",
   "execution_count": 20,
   "id": "447cac3b",
   "metadata": {},
   "outputs": [
    {
     "name": "stdout",
     "output_type": "stream",
     "text": [
      "20\n",
      "4\n",
      "6\n",
      "8\n",
      "9\n",
      "10\n",
      "12\n",
      "14\n",
      "15\n",
      "16\n",
      "18\n",
      "20\n"
     ]
    }
   ],
   "source": [
    "def is_prime(n):\n",
    "    for i in range(2,n):\n",
    "        if n%i == 0:\n",
    "            break\n",
    "    else:\n",
    "        return True\n",
    "    \n",
    "    return False\n",
    "\n",
    "def print_composite(n):\n",
    "    for k in range(2,n+1):\n",
    "        is_k_prime = is_prime(k)\n",
    "        \n",
    "        if not(is_k_prime):\n",
    "            print(k)\n",
    "\n",
    "n = int(input())\n",
    "print_composite(n)"
   ]
  },
  {
   "cell_type": "markdown",
   "id": "92334085",
   "metadata": {},
   "source": [
    "# Permutation"
   ]
  },
  {
   "cell_type": "code",
   "execution_count": null,
   "id": "055cb78b",
   "metadata": {},
   "outputs": [],
   "source": [
    "Given two values, n and r. Write a function to calculate the permutation (nPr) for n ≥ r ≥ 0.\n",
    "\n",
    "Your program should include two functions: one to calculate the factorial of a number and another to calculate the permutation.\n",
    "nPr"
   ]
  },
  {
   "cell_type": "code",
   "execution_count": 31,
   "id": "bc57d1b7",
   "metadata": {},
   "outputs": [
    {
     "name": "stdout",
     "output_type": "stream",
     "text": [
      "please enter n >= r >= 0\n"
     ]
    }
   ],
   "source": [
    "def factorial(n):\n",
    "    n_fact = 1\n",
    "    for i in range(1,n+1):\n",
    "        n_fact = n_fact*i\n",
    "    return n_fact\n",
    "\n",
    "\n",
    "def permutation(n, r):\n",
    "    if r > n:\n",
    "        return 'please enter n >= r >= 0'\n",
    "    else:\n",
    "        n_fact = factorial(n)\n",
    "        nr_fact = factorial(n-r)\n",
    "        return n_fact//nr_fact\n",
    "\n",
    "print(permutation(5,6))"
   ]
  },
  {
   "cell_type": "markdown",
   "id": "57ad0832",
   "metadata": {},
   "source": [
    "# Print all Divisors of a number"
   ]
  },
  {
   "cell_type": "code",
   "execution_count": null,
   "id": "80f4c02e",
   "metadata": {},
   "outputs": [],
   "source": [
    "Given an integer 'N', return all the divisors of 'N' in ascending order."
   ]
  },
  {
   "cell_type": "code",
   "execution_count": 3,
   "id": "ce2470e4",
   "metadata": {},
   "outputs": [
    {
     "name": "stdout",
     "output_type": "stream",
     "text": [
      "1 2 5 10\n"
     ]
    }
   ],
   "source": [
    "def printDivisors(n: int):\n",
    "    divisors = []\n",
    "    for i in range(1, n + 1):\n",
    "        if n % i == 0:\n",
    "            divisors.append(i)\n",
    "    return divisors\n",
    "\n",
    "d = printDivisors(10)\n",
    "print(*d)"
   ]
  }
 ],
 "metadata": {
  "kernelspec": {
   "display_name": "Python 3 (ipykernel)",
   "language": "python",
   "name": "python3"
  },
  "language_info": {
   "codemirror_mode": {
    "name": "ipython",
    "version": 3
   },
   "file_extension": ".py",
   "mimetype": "text/x-python",
   "name": "python",
   "nbconvert_exporter": "python",
   "pygments_lexer": "ipython3",
   "version": "3.9.12"
  }
 },
 "nbformat": 4,
 "nbformat_minor": 5
}
