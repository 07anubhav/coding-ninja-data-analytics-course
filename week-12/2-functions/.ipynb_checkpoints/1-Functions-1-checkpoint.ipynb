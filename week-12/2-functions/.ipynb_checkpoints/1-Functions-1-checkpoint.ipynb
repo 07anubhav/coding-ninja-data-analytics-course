{
 "cells": [
  {
   "cell_type": "markdown",
   "id": "9f63c274",
   "metadata": {},
   "source": [
    "# Funtions\n",
    "* Advantage: Avoid repitation, Improve readabilitty, testing becomes easy"
   ]
  },
  {
   "cell_type": "code",
   "execution_count": 2,
   "id": "0c4b28b9",
   "metadata": {},
   "outputs": [
    {
     "data": {
      "text/plain": [
       "720"
      ]
     },
     "execution_count": 2,
     "metadata": {},
     "output_type": "execute_result"
    }
   ],
   "source": [
    "# Factorial of a number\n",
    "def fact(a):\n",
    "    n_fact = 1\n",
    "    for i in range(1,a+1):\n",
    "        n_fact = n_fact*i\n",
    "    return n_fact\n",
    "\n",
    "fact(6)"
   ]
  },
  {
   "cell_type": "code",
   "execution_count": 4,
   "id": "52974fd6",
   "metadata": {},
   "outputs": [
    {
     "name": "stdout",
     "output_type": "stream",
     "text": [
      "4\n",
      "1\n"
     ]
    },
    {
     "data": {
      "text/plain": [
       "4.0"
      ]
     },
     "execution_count": 4,
     "metadata": {},
     "output_type": "execute_result"
    }
   ],
   "source": [
    "# Calculate n_C_r\n",
    "n = int(input())\n",
    "r = int(input())\n",
    "n_C_r = fact(n)/(fact(r)*fact(n-r))\n",
    "n_C_r"
   ]
  },
  {
   "cell_type": "code",
   "execution_count": 12,
   "id": "4b7dc21e",
   "metadata": {},
   "outputs": [
    {
     "name": "stdout",
     "output_type": "stream",
     "text": [
      "2\n",
      "3\n",
      "5\n",
      "7\n",
      "11\n",
      "13\n",
      "17\n",
      "19\n"
     ]
    }
   ],
   "source": [
    "# Check if number is prime\n",
    "\n",
    "def isPrime(n):\n",
    "    for i in range(2,n):\n",
    "        if n%i == 0:\n",
    "            break\n",
    "    else:\n",
    "        return True\n",
    "    \n",
    "    return False\n",
    "\n",
    "def primeFrom2ToN(n):\n",
    "    for k in range(2,n+1):\n",
    "        is_k_prime = isPrime(k)\n",
    "        \n",
    "        if is_k_prime:\n",
    "            print(k)\n",
    "\n",
    "primeFrom2ToN(20) "
   ]
  },
  {
   "cell_type": "code",
   "execution_count": 8,
   "id": "2e3e2e9d",
   "metadata": {},
   "outputs": [
    {
     "name": "stdout",
     "output_type": "stream",
     "text": [
      "5 2\n"
     ]
    },
    {
     "data": {
      "text/plain": [
       "10"
      ]
     },
     "execution_count": 8,
     "metadata": {},
     "output_type": "execute_result"
    }
   ],
   "source": [
    "# nCr \n",
    "def fact(a):\n",
    "    n_fact = 1\n",
    "    for i in range(1,a+1):\n",
    "        n_fact = n_fact*i\n",
    "    return n_fact\n",
    "\n",
    "def nCr(n,r):\n",
    "    n_fact = fact(n)\n",
    "    r_fact = fact(r)\n",
    "    n_r_fact = fact(n-r)\n",
    "    ans = n_fact//(r_fact*n_r_fact)\n",
    "    \n",
    "    return ans\n",
    "\n",
    "a, b = map(int, input().split())\n",
    "nCr(a,b)"
   ]
  },
  {
   "cell_type": "markdown",
   "id": "ef203c7b",
   "metadata": {},
   "source": [
    "# Scope Variables"
   ]
  },
  {
   "cell_type": "code",
   "execution_count": 10,
   "id": "b5326d1f",
   "metadata": {},
   "outputs": [
    {
     "name": "stdout",
     "output_type": "stream",
     "text": [
      "10\n",
      "12\n"
     ]
    },
    {
     "ename": "NameError",
     "evalue": "name 'b1' is not defined",
     "output_type": "error",
     "traceback": [
      "\u001b[1;31m---------------------------------------------------------------------------\u001b[0m",
      "\u001b[1;31mNameError\u001b[0m                                 Traceback (most recent call last)",
      "Input \u001b[1;32mIn [10]\u001b[0m, in \u001b[0;36m<cell line: 9>\u001b[1;34m()\u001b[0m\n\u001b[0;32m      7\u001b[0m \u001b[38;5;28mprint\u001b[39m(a1)\n\u001b[0;32m      8\u001b[0m f1()\n\u001b[1;32m----> 9\u001b[0m \u001b[38;5;28mprint\u001b[39m(\u001b[43mb1\u001b[49m)\n",
      "\u001b[1;31mNameError\u001b[0m: name 'b1' is not defined"
     ]
    }
   ],
   "source": [
    "a1 = 10 # Global variable\n",
    "\n",
    "def f1():\n",
    "    b1 = 12 # Local variable\n",
    "    print(b1)\n",
    "    \n",
    "print(a1)\n",
    "f1()\n",
    "print(b1) # Cannot print local varibale outside the functions"
   ]
  },
  {
   "cell_type": "code",
   "execution_count": 11,
   "id": "07fe65fb",
   "metadata": {},
   "outputs": [
    {
     "name": "stdout",
     "output_type": "stream",
     "text": [
      "10\n",
      "20\n",
      "10\n"
     ]
    }
   ],
   "source": [
    "a2 = 10\n",
    "\n",
    "def f2():\n",
    "    b2 = 20\n",
    "    print(b2)\n",
    "    print(a2)\n",
    "\n",
    "print(a2)\n",
    "f2()"
   ]
  },
  {
   "cell_type": "code",
   "execution_count": 2,
   "id": "e88f4cb8",
   "metadata": {},
   "outputs": [
    {
     "name": "stdout",
     "output_type": "stream",
     "text": [
      "10\n",
      "20\n",
      "10\n"
     ]
    },
    {
     "ename": "NameError",
     "evalue": "name 'c3' is not defined",
     "output_type": "error",
     "traceback": [
      "\u001b[1;31m---------------------------------------------------------------------------\u001b[0m",
      "\u001b[1;31mNameError\u001b[0m                                 Traceback (most recent call last)",
      "Input \u001b[1;32mIn [2]\u001b[0m, in \u001b[0;36m<cell line: 9>\u001b[1;34m()\u001b[0m\n\u001b[0;32m      7\u001b[0m a3 \u001b[38;5;241m=\u001b[39m \u001b[38;5;241m10\u001b[39m\n\u001b[0;32m      8\u001b[0m \u001b[38;5;28mprint\u001b[39m(a3)\n\u001b[1;32m----> 9\u001b[0m \u001b[43mf3\u001b[49m\u001b[43m(\u001b[49m\u001b[43m)\u001b[49m\n\u001b[0;32m     10\u001b[0m c3 \u001b[38;5;241m=\u001b[39m \u001b[38;5;241m20\u001b[39m\n",
      "Input \u001b[1;32mIn [2]\u001b[0m, in \u001b[0;36mf3\u001b[1;34m()\u001b[0m\n\u001b[0;32m      3\u001b[0m \u001b[38;5;28mprint\u001b[39m(b3)\n\u001b[0;32m      4\u001b[0m \u001b[38;5;28mprint\u001b[39m(a3)\n\u001b[1;32m----> 5\u001b[0m \u001b[38;5;28mprint\u001b[39m(\u001b[43mc3\u001b[49m)\n",
      "\u001b[1;31mNameError\u001b[0m: name 'c3' is not defined"
     ]
    }
   ],
   "source": [
    "def f3():\n",
    "    b3 = 20\n",
    "    print(b3)\n",
    "    print(a3)\n",
    "    print(c3) # cannot access this variable\n",
    "\n",
    "a3 = 10\n",
    "print(a3)\n",
    "f3()\n",
    "c3 = 20 # Variable is defined after the function call"
   ]
  },
  {
   "cell_type": "code",
   "execution_count": 7,
   "id": "8a7c501a",
   "metadata": {},
   "outputs": [
    {
     "name": "stdout",
     "output_type": "stream",
     "text": [
      "30\n",
      "2130820426960\n",
      "12\n",
      "2130820426384\n",
      "30\n",
      "2130820426960\n"
     ]
    }
   ],
   "source": [
    "a4 = 30\n",
    "\n",
    "def f4():\n",
    "    a4 = 12\n",
    "    print(a4)\n",
    "    print(id(a4))\n",
    "\n",
    "print(a4)\n",
    "print(id(a4))\n",
    "f4()\n",
    "print(a4)\n",
    "print(id(a4))"
   ]
  },
  {
   "cell_type": "code",
   "execution_count": 5,
   "id": "9462e3cb",
   "metadata": {},
   "outputs": [
    {
     "name": "stdout",
     "output_type": "stream",
     "text": [
      "30\n",
      "12\n",
      "12\n"
     ]
    }
   ],
   "source": [
    "a5 = 30\n",
    "\n",
    "def f5():\n",
    "    global a5\n",
    "    a5 = 12\n",
    "    print(a5)\n",
    "\n",
    "print(a5)\n",
    "f5()\n",
    "print(a5)"
   ]
  },
  {
   "cell_type": "markdown",
   "id": "16d52f8f",
   "metadata": {},
   "source": [
    "# Default Parameters in Functions"
   ]
  },
  {
   "cell_type": "code",
   "execution_count": 10,
   "id": "996901a9",
   "metadata": {},
   "outputs": [
    {
     "name": "stdout",
     "output_type": "stream",
     "text": [
      "15\n",
      "23\n"
     ]
    }
   ],
   "source": [
    "def sum1(a,b,c=0):\n",
    "    return a+b+c\n",
    "\n",
    "print(sum1(10,5))\n",
    "print(sum1(10,5,8))"
   ]
  },
  {
   "cell_type": "markdown",
   "id": "cde6dff3",
   "metadata": {},
   "source": [
    "* All the non-default parameters should be before the default parameters"
   ]
  },
  {
   "cell_type": "code",
   "execution_count": 11,
   "id": "aa2c55c9",
   "metadata": {},
   "outputs": [
    {
     "ename": "SyntaxError",
     "evalue": "non-default argument follows default argument (3220689617.py, line 1)",
     "output_type": "error",
     "traceback": [
      "\u001b[1;36m  Input \u001b[1;32mIn [11]\u001b[1;36m\u001b[0m\n\u001b[1;33m    def f(a=0,b,c):\u001b[0m\n\u001b[1;37m                ^\u001b[0m\n\u001b[1;31mSyntaxError\u001b[0m\u001b[1;31m:\u001b[0m non-default argument follows default argument\n"
     ]
    }
   ],
   "source": [
    "def f(a=0,b,c): # This is not allowed\n",
    "    return a+b+c\n",
    "\n",
    "f(10,5)"
   ]
  },
  {
   "cell_type": "code",
   "execution_count": 13,
   "id": "27ed8ef3",
   "metadata": {},
   "outputs": [
    {
     "name": "stdout",
     "output_type": "stream",
     "text": [
      "9\n",
      "12\n"
     ]
    }
   ],
   "source": [
    "def f(a,b,c=2,d=3):\n",
    "    return a+b+c+d\n",
    "\n",
    "print(f(2,2))\n",
    "print(f(2,3,d=5))"
   ]
  }
 ],
 "metadata": {
  "kernelspec": {
   "display_name": "Python 3 (ipykernel)",
   "language": "python",
   "name": "python3"
  },
  "language_info": {
   "codemirror_mode": {
    "name": "ipython",
    "version": 3
   },
   "file_extension": ".py",
   "mimetype": "text/x-python",
   "name": "python",
   "nbconvert_exporter": "python",
   "pygments_lexer": "ipython3",
   "version": "3.9.12"
  }
 },
 "nbformat": 4,
 "nbformat_minor": 5
}
