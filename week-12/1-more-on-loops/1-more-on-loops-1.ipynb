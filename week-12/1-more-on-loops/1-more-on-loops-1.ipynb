{
 "cells": [
  {
   "cell_type": "markdown",
   "id": "ecaf915a",
   "metadata": {},
   "source": [
    "# For Loops"
   ]
  },
  {
   "cell_type": "code",
   "execution_count": 1,
   "id": "30926088",
   "metadata": {},
   "outputs": [
    {
     "name": "stdout",
     "output_type": "stream",
     "text": [
      "A,n,u,b,h,a,v,"
     ]
    }
   ],
   "source": [
    "s = 'Anubhav'\n",
    "\n",
    "for i in s:\n",
    "    print(i,end=\",\")"
   ]
  },
  {
   "cell_type": "code",
   "execution_count": 5,
   "id": "722bfd0f",
   "metadata": {},
   "outputs": [
    {
     "name": "stdout",
     "output_type": "stream",
     "text": [
      "10\n",
      "1\n",
      "3\n",
      "5\n",
      "7\n",
      "9\n"
     ]
    }
   ],
   "source": [
    "# Print number till 'n'\n",
    "n = int(input())\n",
    "\n",
    "for i in range(1,n,2):\n",
    "    print(i)"
   ]
  },
  {
   "cell_type": "code",
   "execution_count": 6,
   "id": "df7141d9",
   "metadata": {},
   "outputs": [
    {
     "name": "stdout",
     "output_type": "stream",
     "text": [
      "5\n",
      "0\n",
      "1\n",
      "2\n",
      "3\n",
      "4\n",
      "5\n"
     ]
    }
   ],
   "source": [
    "# Print number from 0 till 'n'\n",
    "n = int(input())\n",
    "\n",
    "for i in range(n+1):\n",
    "    print(i)"
   ]
  },
  {
   "cell_type": "code",
   "execution_count": 10,
   "id": "8e073215",
   "metadata": {},
   "outputs": [
    {
     "name": "stdout",
     "output_type": "stream",
     "text": [
      "5\n",
      "5\n",
      "4\n",
      "3\n",
      "2\n",
      "1\n"
     ]
    }
   ],
   "source": [
    "# Print in reverse order\n",
    "n = int(input())\n",
    "for i in range(n,0,-1):\n",
    "    print(i)"
   ]
  },
  {
   "cell_type": "code",
   "execution_count": 2,
   "id": "119827e4",
   "metadata": {},
   "outputs": [
    {
     "name": "stdout",
     "output_type": "stream",
     "text": [
      "1\n",
      "10\n",
      "3\n",
      "6\n",
      "9\n"
     ]
    }
   ],
   "source": [
    "# Multiples of 3 - part-1\n",
    "\n",
    "a = int(input())\n",
    "b = int(input())\n",
    "\n",
    "for i in range(a,b+1,1):\n",
    "    if i%3 == 0:\n",
    "        print(i)"
   ]
  },
  {
   "cell_type": "code",
   "execution_count": 5,
   "id": "f70786d2",
   "metadata": {},
   "outputs": [
    {
     "name": "stdout",
     "output_type": "stream",
     "text": [
      "5\n",
      "30\n",
      "6\n",
      "9\n",
      "12\n",
      "15\n",
      "18\n",
      "21\n",
      "24\n",
      "27\n",
      "30\n"
     ]
    }
   ],
   "source": [
    "# Multiples of 3 - part-1\n",
    "\n",
    "a = int(input())\n",
    "b = int(input())\n",
    "\n",
    "if a%3 == 0:\n",
    "    s = a\n",
    "    \n",
    "elif a%3 == 1:\n",
    "    s = a+2\n",
    "else:\n",
    "    s = a+1\n",
    "    \n",
    "for i in range(s,b+1,3):\n",
    "    print(i)"
   ]
  },
  {
   "cell_type": "code",
   "execution_count": 30,
   "id": "1f900e39",
   "metadata": {},
   "outputs": [
    {
     "name": "stdout",
     "output_type": "stream",
     "text": [
      "5\n",
      "5 Prime\n"
     ]
    }
   ],
   "source": [
    "# To check number is prime\n",
    "\n",
    "n = int(input())\n",
    "flag = 0\n",
    "for i in range(2,n,1):\n",
    "    if n%i == 0:\n",
    "        flag = True\n",
    "    \n",
    "if flag:\n",
    "    print(f'{n} Not Prime')\n",
    "else:\n",
    "    print(f'{n} Prime')"
   ]
  },
  {
   "cell_type": "markdown",
   "id": "fbda8bc1",
   "metadata": {},
   "source": [
    "# Break Statement\n",
    "* Let you break out of the current loop if some specific condition is met"
   ]
  },
  {
   "cell_type": "code",
   "execution_count": 20,
   "id": "6870b406",
   "metadata": {},
   "outputs": [
    {
     "name": "stdout",
     "output_type": "stream",
     "text": [
      "1\n",
      "2\n",
      "3\n",
      "4\n",
      "5\n"
     ]
    }
   ],
   "source": [
    "i = 1\n",
    "while i <= 10:\n",
    "    if i == 6:\n",
    "        break\n",
    "    print(i)\n",
    "    i += 1"
   ]
  },
  {
   "cell_type": "code",
   "execution_count": 32,
   "id": "960768fc",
   "metadata": {},
   "outputs": [
    {
     "name": "stdout",
     "output_type": "stream",
     "text": [
      "6\n",
      "6 Not Prime\n"
     ]
    }
   ],
   "source": [
    "# To check number is prime\n",
    "n = int(input())\n",
    "flag = False\n",
    "for i in range(2,n,1):\n",
    "    if n%i == 0:\n",
    "        flag = True\n",
    "        break\n",
    "    \n",
    "if flag:\n",
    "    print(f'{n} Not Prime')\n",
    "else:\n",
    "    print(f'{n} Prime')"
   ]
  },
  {
   "cell_type": "code",
   "execution_count": 37,
   "id": "295139a2",
   "metadata": {},
   "outputs": [
    {
     "name": "stdout",
     "output_type": "stream",
     "text": [
      "7651\n"
     ]
    }
   ],
   "source": [
    "# Reverse a Number\n",
    "rev= 0  \n",
    "n= 1567  \n",
    "\n",
    "while (n > 0): \n",
    "    rem = n % 10 \n",
    "    rev = (rev * 10) + rem \n",
    "    n = n // 10\n",
    "    \n",
    "print(rev)  "
   ]
  },
  {
   "cell_type": "markdown",
   "id": "95f075de",
   "metadata": {},
   "source": [
    "# Else with while loops\n",
    "* Will be mostly used along with break.\n",
    "* Code inside Else will not be executed if for/while loop is finished because of break statement."
   ]
  },
  {
   "cell_type": "code",
   "execution_count": 1,
   "id": "6b2ebe58",
   "metadata": {},
   "outputs": [
    {
     "name": "stdout",
     "output_type": "stream",
     "text": [
      "1\n",
      "2\n",
      "3\n",
      "4\n",
      "5\n",
      "6\n",
      "7\n",
      "8\n",
      "9\n",
      "end\n"
     ]
    }
   ],
   "source": [
    "i = 1\n",
    "while i < 10:\n",
    "    print(i)\n",
    "    i = i+1\n",
    "else:\n",
    "    print('end')"
   ]
  },
  {
   "cell_type": "code",
   "execution_count": 2,
   "id": "4c74c70e",
   "metadata": {},
   "outputs": [
    {
     "name": "stdout",
     "output_type": "stream",
     "text": [
      "1\n",
      "2\n",
      "3\n",
      "4\n",
      "5\n",
      "6\n",
      "7\n",
      "8\n",
      "9\n",
      "end\n"
     ]
    }
   ],
   "source": [
    "for i in range(1,10):\n",
    "    print(i)\n",
    "else:\n",
    "    print('end')"
   ]
  },
  {
   "cell_type": "code",
   "execution_count": 3,
   "id": "d2292c65",
   "metadata": {},
   "outputs": [
    {
     "name": "stdout",
     "output_type": "stream",
     "text": [
      "1\n",
      "2\n",
      "3\n",
      "4\n"
     ]
    }
   ],
   "source": [
    "for i in range(1,10):\n",
    "    if i == 5:\n",
    "        break\n",
    "    print(i)\n",
    "else:\n",
    "    print('end')"
   ]
  },
  {
   "cell_type": "code",
   "execution_count": 7,
   "id": "af1d104e",
   "metadata": {},
   "outputs": [
    {
     "name": "stdout",
     "output_type": "stream",
     "text": [
      "2\n",
      "2 is prime\n"
     ]
    }
   ],
   "source": [
    "n = int(input())\n",
    "\n",
    "for i in range(2,n,1):\n",
    "    if n%i == 0:\n",
    "        break\n",
    "else:\n",
    "    print(f'{n} is prime')"
   ]
  },
  {
   "cell_type": "markdown",
   "id": "7a60358a",
   "metadata": {},
   "source": [
    "# Continue Keyword\n",
    "* It'll skip the interation based on some condition"
   ]
  },
  {
   "cell_type": "code",
   "execution_count": 9,
   "id": "785360ad",
   "metadata": {},
   "outputs": [
    {
     "name": "stdout",
     "output_type": "stream",
     "text": [
      "1\n",
      "3\n",
      "5\n",
      "7\n",
      "9\n",
      "11\n",
      "13\n",
      "15\n",
      "17\n",
      "19\n",
      "21\n",
      "23\n",
      "25\n",
      "27\n",
      "29\n",
      "31\n",
      "33\n",
      "35\n",
      "37\n",
      "39\n",
      "41\n",
      "43\n",
      "45\n",
      "47\n",
      "49\n"
     ]
    }
   ],
   "source": [
    "for i in range(1,50+1):\n",
    "    if i%2 == 0:\n",
    "        continue\n",
    "    print(i)"
   ]
  },
  {
   "cell_type": "code",
   "execution_count": 14,
   "id": "17674886",
   "metadata": {},
   "outputs": [
    {
     "name": "stdout",
     "output_type": "stream",
     "text": [
      "50\n",
      "2\n",
      "4\n",
      "6\n",
      "8\n",
      "10\n",
      "12\n",
      "16\n",
      "18\n",
      "20\n",
      "22\n",
      "24\n",
      "26\n",
      "30\n",
      "32\n",
      "34\n",
      "36\n",
      "38\n",
      "40\n",
      "44\n",
      "46\n",
      "48\n",
      "50\n"
     ]
    }
   ],
   "source": [
    "n = int(input())\n",
    "i=0\n",
    "while i <= n:\n",
    "    if i%7 == 0:\n",
    "        i = i+2\n",
    "        continue\n",
    "    print(i)\n",
    "    i=i+2"
   ]
  },
  {
   "cell_type": "markdown",
   "id": "94a9a09c",
   "metadata": {},
   "source": [
    "# Pass Statement"
   ]
  },
  {
   "cell_type": "code",
   "execution_count": 15,
   "id": "85cf8c41",
   "metadata": {},
   "outputs": [
    {
     "name": "stdout",
     "output_type": "stream",
     "text": [
      "8\n",
      "5\n",
      "6\n",
      "7\n",
      "8\n"
     ]
    }
   ],
   "source": [
    "n = int(input())\n",
    "\n",
    "for i in range(1,n+1):\n",
    "    if i<5:\n",
    "        pass\n",
    "    else:\n",
    "        print(i)"
   ]
  }
 ],
 "metadata": {
  "kernelspec": {
   "display_name": "Python 3 (ipykernel)",
   "language": "python",
   "name": "python3"
  },
  "language_info": {
   "codemirror_mode": {
    "name": "ipython",
    "version": 3
   },
   "file_extension": ".py",
   "mimetype": "text/x-python",
   "name": "python",
   "nbconvert_exporter": "python",
   "pygments_lexer": "ipython3",
   "version": "3.9.12"
  }
 },
 "nbformat": 4,
 "nbformat_minor": 5
}
