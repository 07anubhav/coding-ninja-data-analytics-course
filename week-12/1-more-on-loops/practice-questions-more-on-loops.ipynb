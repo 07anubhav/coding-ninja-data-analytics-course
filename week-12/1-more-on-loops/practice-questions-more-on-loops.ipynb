{
 "cells": [
  {
   "cell_type": "markdown",
   "id": "3c5ac34c",
   "metadata": {},
   "source": [
    "# Natural Numbers"
   ]
  },
  {
   "cell_type": "code",
   "execution_count": null,
   "id": "9be70877",
   "metadata": {},
   "outputs": [],
   "source": [
    "Write a program that prints the first n natural numbers, where n is a given positive integer."
   ]
  },
  {
   "cell_type": "code",
   "execution_count": 1,
   "id": "fe7e818f",
   "metadata": {},
   "outputs": [
    {
     "name": "stdout",
     "output_type": "stream",
     "text": [
      "4\n",
      "1 2 3 4 "
     ]
    }
   ],
   "source": [
    "n = int(input())\n",
    "\n",
    "for i in range(1,n+1,1):\n",
    "    print(i, end=' ')"
   ]
  },
  {
   "cell_type": "markdown",
   "id": "e16d7020",
   "metadata": {},
   "source": [
    "# Factorial"
   ]
  },
  {
   "cell_type": "code",
   "execution_count": null,
   "id": "7175a9c6",
   "metadata": {},
   "outputs": [],
   "source": [
    "Write a program to print the factorial of a given number."
   ]
  },
  {
   "cell_type": "code",
   "execution_count": 2,
   "id": "4b682b06",
   "metadata": {},
   "outputs": [
    {
     "name": "stdout",
     "output_type": "stream",
     "text": [
      "6\n",
      "720\n"
     ]
    }
   ],
   "source": [
    "n = int(input())\n",
    "fact = 1\n",
    "for i in range(1,n+1,1):\n",
    "    fact = fact*i\n",
    "print(fact)"
   ]
  },
  {
   "cell_type": "markdown",
   "id": "794bc73b",
   "metadata": {},
   "source": [
    "# Terms of AP"
   ]
  },
  {
   "cell_type": "code",
   "execution_count": null,
   "id": "4b6ef7a5",
   "metadata": {},
   "outputs": [],
   "source": [
    "Write a program to print first x terms of the series 3N + 2 which are not multiples of 4.\n",
    "Constraints :\n",
    "1 <= x <= 1,000"
   ]
  },
  {
   "cell_type": "code",
   "execution_count": 3,
   "id": "c91ccaf6",
   "metadata": {},
   "outputs": [
    {
     "name": "stdout",
     "output_type": "stream",
     "text": [
      "10\n",
      "5 11 14 17 23 26 29 35 38 41 "
     ]
    }
   ],
   "source": [
    "x = int(input())\n",
    "count = 0\n",
    "\n",
    "if x >=1 and x<= 1000:\n",
    "    for i in range(1, x*4): \n",
    "        term = 3*i + 2\n",
    "\n",
    "        if term % 4 != 0:\n",
    "            print(term, end=' ')\n",
    "            count += 1\n",
    "\n",
    "        if count == x:\n",
    "            break"
   ]
  },
  {
   "cell_type": "markdown",
   "id": "edbee73c",
   "metadata": {},
   "source": [
    "# Prime or not"
   ]
  },
  {
   "cell_type": "code",
   "execution_count": null,
   "id": "8bff68df",
   "metadata": {},
   "outputs": [],
   "source": [
    "Given any Integer, check whether it is Prime or Not."
   ]
  },
  {
   "cell_type": "code",
   "execution_count": 1,
   "id": "a3726059",
   "metadata": {},
   "outputs": [
    {
     "name": "stdout",
     "output_type": "stream",
     "text": [
      "2\n",
      "Prime\n"
     ]
    }
   ],
   "source": [
    "n = int(input())\n",
    "flag = False\n",
    "\n",
    "for i in range(2,n,1):\n",
    "    if n%i == 0:\n",
    "        flag = True\n",
    "        break\n",
    "    \n",
    "if flag:\n",
    "    print('Not Prime')\n",
    "else:\n",
    "    print('Prime')"
   ]
  },
  {
   "cell_type": "markdown",
   "id": "af6470dd",
   "metadata": {},
   "source": [
    "# Input Sum"
   ]
  },
  {
   "cell_type": "code",
   "execution_count": null,
   "id": "34d6ce06",
   "metadata": {},
   "outputs": [],
   "source": [
    "Write a program that continually prompts the user to input an integer until the user enters 0. \n",
    "When the user enters 0 as input, the program should stop accepting input and print the sum of all the previous inputs."
   ]
  },
  {
   "cell_type": "code",
   "execution_count": 2,
   "id": "b2917e5f",
   "metadata": {},
   "outputs": [
    {
     "name": "stdout",
     "output_type": "stream",
     "text": [
      "5\n",
      "2\n",
      "3\n",
      "0\n",
      "10\n"
     ]
    }
   ],
   "source": [
    "sum = 0\n",
    "while True:\n",
    "    n = int(input())\n",
    "    if n != 0:\n",
    "        sum += n\n",
    "    else:\n",
    "        break\n",
    "print(sum)"
   ]
  },
  {
   "cell_type": "markdown",
   "id": "493f02af",
   "metadata": {},
   "source": [
    "# Palindrome Check"
   ]
  },
  {
   "cell_type": "code",
   "execution_count": null,
   "id": "34fe66c7",
   "metadata": {},
   "outputs": [],
   "source": [
    "Write a program to check if a number is Palindrome."
   ]
  },
  {
   "cell_type": "code",
   "execution_count": 7,
   "id": "c3021148",
   "metadata": {},
   "outputs": [
    {
     "name": "stdout",
     "output_type": "stream",
     "text": [
      "121\n",
      "Palindrome\n"
     ]
    }
   ],
   "source": [
    "n = int(input())\n",
    "temp = n\n",
    "\n",
    "rev = 0 \n",
    "rem = 0\n",
    "while (n > 0): \n",
    "    rem = n % 10\n",
    "    rev = (rev * 10) + rem \n",
    "    n = n // 10 \n",
    "\n",
    "if temp == rev:\n",
    "    print('Palindrome')\n",
    "else:\n",
    "    print('Not Palindrome')"
   ]
  },
  {
   "cell_type": "markdown",
   "id": "06a0f2d8",
   "metadata": {},
   "source": [
    "# Skip Multiples"
   ]
  },
  {
   "cell_type": "code",
   "execution_count": null,
   "id": "1c3813a8",
   "metadata": {},
   "outputs": [],
   "source": [
    "Write a program that prints all the numbers from 1 to n, but skips multiples of 5."
   ]
  },
  {
   "cell_type": "code",
   "execution_count": 9,
   "id": "df79e719",
   "metadata": {},
   "outputs": [
    {
     "name": "stdout",
     "output_type": "stream",
     "text": [
      "15\n",
      "1\n",
      "2\n",
      "3\n",
      "4\n",
      "6\n",
      "7\n",
      "8\n",
      "9\n",
      "11\n",
      "12\n",
      "13\n",
      "14\n"
     ]
    }
   ],
   "source": [
    "n = int(input())\n",
    "\n",
    "for i in range(1,n+1):\n",
    "    if i%5 == 0:\n",
    "        continue\n",
    "    else:\n",
    "        print(i)"
   ]
  },
  {
   "cell_type": "markdown",
   "id": "03898d60",
   "metadata": {},
   "source": [
    "# Leap Year"
   ]
  },
  {
   "cell_type": "code",
   "execution_count": null,
   "id": "4d8fc7b3",
   "metadata": {},
   "outputs": [],
   "source": [
    "Write a program to print all the leap years within a given range of years [start_year: end_year].\n",
    "\n",
    "A leap year follows two conditions:\n",
    "1. The year is a multiple of 400.\n",
    "2. The year is a multiple of 4 and not a multiple of 100."
   ]
  },
  {
   "cell_type": "code",
   "execution_count": 21,
   "id": "f9ca43d9",
   "metadata": {},
   "outputs": [
    {
     "name": "stdout",
     "output_type": "stream",
     "text": [
      "2000\n",
      "2020\n",
      "2000\n",
      "2004\n",
      "2008\n",
      "2012\n",
      "2016\n",
      "2020\n"
     ]
    }
   ],
   "source": [
    "start_year = int(input())\n",
    "end_year = int(input())\n",
    "\n",
    "for i in range(start_year,end_year+1):\n",
    "    if ((i%4 == 0) and ((i%400 == 0) or (i%100 != 0))):\n",
    "        print(i)\n",
    "    else:\n",
    "        continue"
   ]
  },
  {
   "cell_type": "markdown",
   "id": "250b8a31",
   "metadata": {},
   "source": [
    "# Prime Non Prime"
   ]
  },
  {
   "cell_type": "code",
   "execution_count": null,
   "id": "77fb22ad",
   "metadata": {},
   "outputs": [],
   "source": [
    "Write a program to calculate the sum of prime and non-prime numbers with a given range. "
   ]
  },
  {
   "cell_type": "code",
   "execution_count": 46,
   "id": "cfc16edf",
   "metadata": {},
   "outputs": [
    {
     "name": "stdout",
     "output_type": "stream",
     "text": [
      "10\n",
      "Prime 17\n",
      "Non-Prime 38\n"
     ]
    }
   ],
   "source": [
    "n = int(input())\n",
    "\n",
    "sum_p = 0\n",
    "sum_np = 0\n",
    "\n",
    "def is_prime(num):\n",
    "    if num < 2:\n",
    "        return False\n",
    "    for i in range(2, int(num**0.5) + 1):\n",
    "        if num % i == 0:\n",
    "            return False\n",
    "    return True\n",
    "\n",
    "for num in range(1, n + 1):\n",
    "    if is_prime(num):\n",
    "        sum_p += num\n",
    "    else:\n",
    "        sum_np += num\n",
    "\n",
    "print(\"Prime\", sum_p)\n",
    "print(\"Non-Prime\", sum_np)"
   ]
  }
 ],
 "metadata": {
  "kernelspec": {
   "display_name": "Python 3 (ipykernel)",
   "language": "python",
   "name": "python3"
  },
  "language_info": {
   "codemirror_mode": {
    "name": "ipython",
    "version": 3
   },
   "file_extension": ".py",
   "mimetype": "text/x-python",
   "name": "python",
   "nbconvert_exporter": "python",
   "pygments_lexer": "ipython3",
   "version": "3.9.12"
  }
 },
 "nbformat": 4,
 "nbformat_minor": 5
}
