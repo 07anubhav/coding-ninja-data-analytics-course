{
 "cells": [
  {
   "cell_type": "raw",
   "id": "d74c7fc2",
   "metadata": {},
   "source": [
    "Python program to check if a string has at least one letter and one number\n",
    "Given a string in Python. The task is to check whether the string has at least one letter(character) and one number. Return “True” if the given string fulfils the above condition else return “False” (without quotes)."
   ]
  },
  {
   "cell_type": "code",
   "execution_count": 4,
   "id": "3579ccfb",
   "metadata": {},
   "outputs": [
    {
     "name": "stdout",
     "output_type": "stream",
     "text": [
      "welcome2ourcountry34\n",
      "True\n"
     ]
    }
   ],
   "source": [
    "s = input()\n",
    "has_letter = any(c.isalpha() for c in s)\n",
    "has_digit  = any(c.isdigit() for c in s)\n",
    "\n",
    "if has_letter and has_digit:\n",
    "    print('True')\n",
    "else:\n",
    "    print('False')"
   ]
  },
  {
   "cell_type": "raw",
   "id": "44979e07",
   "metadata": {},
   "source": [
    "Write a function check_string that checks if a given string starts with the letter \"M\" and ends with the letter \"g\". The program should print \"valid\" if the string satisfies the condition and \"invalid\" otherwise."
   ]
  },
  {
   "cell_type": "code",
   "execution_count": 6,
   "id": "50d0fd65",
   "metadata": {},
   "outputs": [
    {
     "name": "stdout",
     "output_type": "stream",
     "text": [
      "invalid\n"
     ]
    }
   ],
   "source": [
    "def check_string(str1):\n",
    "    if str1.startswith('M') and str1.endswith('g'):\n",
    "        print('valid')\n",
    "    else:\n",
    "        print('invalid')\n",
    "\n",
    "check_string('Good bye')"
   ]
  },
  {
   "cell_type": "raw",
   "id": "f95bba8f",
   "metadata": {},
   "source": [
    "You are working with a dataset that contains a text column. During your analysis, you noticed that some texts contain the \"#\" symbol, which must be removed. Write a Python function called check_hashtag that identifies whether a given string contains the \"#\" symbol."
   ]
  },
  {
   "cell_type": "code",
   "execution_count": 12,
   "id": "78ba782d",
   "metadata": {},
   "outputs": [
    {
     "name": "stdout",
     "output_type": "stream",
     "text": [
      "Yes\n"
     ]
    }
   ],
   "source": [
    "def check_hashtag(str1):\n",
    "    flag = True\n",
    "    for i in str1:\n",
    "        if i == '#':\n",
    "            flag = True\n",
    "            break\n",
    "        else:\n",
    "            flag = False\n",
    "            \n",
    "    if flag:\n",
    "        print('Yes')\n",
    "    else:\n",
    "        print('No')\n",
    "        \n",
    "check_hashtag(\"I love #Python\")"
   ]
  },
  {
   "cell_type": "raw",
   "id": "e58a4d9d",
   "metadata": {},
   "source": [
    "You are working on a natural language processing task and must preprocess text data for further analysis. Write a function called combine_strings that takes in two strings representing text samples and combines them by adding a space in between."
   ]
  },
  {
   "cell_type": "code",
   "execution_count": 25,
   "id": "f814bb23",
   "metadata": {},
   "outputs": [
    {
     "data": {
      "text/plain": [
       "'Happy Coding'"
      ]
     },
     "execution_count": 25,
     "metadata": {},
     "output_type": "execute_result"
    }
   ],
   "source": [
    "def combine_strings(first,last):\n",
    "    combined_text = first+' '+last\n",
    "\n",
    "    return combined_text\n",
    "\n",
    "combine_strings(\"Happy\",\"Coding\")"
   ]
  },
  {
   "cell_type": "code",
   "execution_count": null,
   "id": "877ad324",
   "metadata": {},
   "outputs": [],
   "source": []
  }
 ],
 "metadata": {
  "kernelspec": {
   "display_name": "Python 3 (ipykernel)",
   "language": "python",
   "name": "python3"
  },
  "language_info": {
   "codemirror_mode": {
    "name": "ipython",
    "version": 3
   },
   "file_extension": ".py",
   "mimetype": "text/x-python",
   "name": "python",
   "nbconvert_exporter": "python",
   "pygments_lexer": "ipython3",
   "version": "3.9.12"
  }
 },
 "nbformat": 4,
 "nbformat_minor": 5
}
