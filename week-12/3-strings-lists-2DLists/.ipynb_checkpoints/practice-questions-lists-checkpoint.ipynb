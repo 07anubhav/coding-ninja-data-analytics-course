{
 "cells": [
  {
   "cell_type": "code",
   "execution_count": null,
   "id": "1ce864a9",
   "metadata": {},
   "outputs": [],
   "source": [
    "Take an array with n elements with possibly duplicate elements as the input. The task is to find the index of the first occurrences of the element x in the array and, if it is not present, return -1.\n",
    "Input Format:\n",
    "The first line contains an integer N representing the size of the array.\n",
    "\n",
    "The next line contains N space-separated integers representing the elements of the array.\n",
    "\n",
    "The last line contains an integer 'x' whose index has to be found."
   ]
  },
  {
   "cell_type": "code",
   "execution_count": 5,
   "id": "09d86146",
   "metadata": {},
   "outputs": [
    {
     "name": "stdout",
     "output_type": "stream",
     "text": [
      "8\n",
      "7 5 2 11 2 43 1 1\n",
      "10\n",
      "-1\n"
     ]
    }
   ],
   "source": [
    "n = int(input())\n",
    "elements = input()\n",
    "x = int(input())\n",
    "\n",
    "l1 = [\n",
    "    int(i)\n",
    "    for i in elements.split()\n",
    "]\n",
    "\n",
    "flag = x in l1\n",
    "\n",
    "if flag:\n",
    "    print(l1.index(x))\n",
    "else:\n",
    "    print('-1')"
   ]
  },
  {
   "cell_type": "code",
   "execution_count": null,
   "id": "9d0694b9",
   "metadata": {},
   "outputs": [],
   "source": [
    "Take an array with N elements with possibly duplicate elements as the input. The task is to find the index of the last occurrences of the element x in the array and, if it is not present, return -1.\n",
    "Input Format:\n",
    "The first line contains an integer N representing the size of the array.\n",
    "\n",
    "The next line contains N space-separated integers representing the elements of the array.\n",
    "\n",
    "The last line contains an integer 'x' whose index has to be found."
   ]
  },
  {
   "cell_type": "code",
   "execution_count": 10,
   "id": "1455e03a",
   "metadata": {},
   "outputs": [
    {
     "name": "stdout",
     "output_type": "stream",
     "text": [
      "8\n",
      "7 5 2 11 2 43 1 1\n",
      "2\n",
      "4\n"
     ]
    }
   ],
   "source": [
    "n = int(input())\n",
    "elements = input()\n",
    "x = int(input())\n",
    "\n",
    "l1 = [\n",
    "    int(i)\n",
    "    for i in elements.split()\n",
    "]\n",
    "l2 = l1[::-1]\n",
    "\n",
    "flag = x in l1\n",
    "\n",
    "if flag:\n",
    "    print(len(l1)-l2.index(x)-1)\n",
    "else:\n",
    "    print('-1')\n"
   ]
  },
  {
   "cell_type": "code",
   "execution_count": null,
   "id": "02898707",
   "metadata": {},
   "outputs": [],
   "source": [
    "Write a Python function called create_integer_array that takes two integer inputs, first and last, and generates a list of integers starting from first up to and including last. The function should print the generated list."
   ]
  },
  {
   "cell_type": "code",
   "execution_count": 12,
   "id": "d18f27cd",
   "metadata": {},
   "outputs": [
    {
     "name": "stdout",
     "output_type": "stream",
     "text": [
      "[10, 11, 12, 13, 14, 15, 16, 17, 18, 19, 20]\n"
     ]
    }
   ],
   "source": [
    "def create_integer_array(first, last):\n",
    "    l = [\n",
    "        i\n",
    "        for i in range(first,last+1)\n",
    "    ]\n",
    "    print(l)\n",
    "    \n",
    "create_integer_array(10,20)"
   ]
  },
  {
   "cell_type": "code",
   "execution_count": null,
   "id": "e5a7a6e9",
   "metadata": {},
   "outputs": [],
   "source": [
    "Given an N*N matrix. The task is to find the index of the column with the maximum sum. That is the column whose sum of elements is maximum."
   ]
  },
  {
   "cell_type": "code",
   "execution_count": 23,
   "id": "05244fda",
   "metadata": {},
   "outputs": [
    {
     "name": "stdout",
     "output_type": "stream",
     "text": [
      "5\n",
      "1,2,3,4,5\n",
      "5,3,1,4,2\n",
      "5,6,7,8,9\n",
      "0,6,3,4,12\n",
      "9,7,12,4,3\n",
      "Column 5 has the max sum of 31.\n"
     ]
    }
   ],
   "source": [
    "n = int(input())\n",
    "l = []\n",
    "for i in range(n):\n",
    "    elements = [\n",
    "        int(i)\n",
    "        for i in input().split(\",\")\n",
    "    ]\n",
    "    l.append(elements)\n",
    "\n",
    "for j in range(n):\n",
    "    sum_j = 0\n",
    "    max_sum = 0\n",
    "    max_col = 0\n",
    "    for i in range(n):\n",
    "        sum_j = sum_j + l[i][j]\n",
    "        \n",
    "    if sum_j > max_sum:\n",
    "        max_sum = sum_j\n",
    "        max_col = i+1\n",
    "        \n",
    "print('Column {} has the max sum of {}.'.format(max_col,max_sum))"
   ]
  },
  {
   "cell_type": "code",
   "execution_count": null,
   "id": "ddff36c0",
   "metadata": {},
   "outputs": [],
   "source": [
    "Write a Python program that generates a list of grades from a given string. The string represents a student's grades in various subjects and is separated by semicolons (;)."
   ]
  },
  {
   "cell_type": "code",
   "execution_count": 3,
   "id": "1b65fd0a",
   "metadata": {},
   "outputs": [
    {
     "data": {
      "text/plain": [
       "['A', 'B+', 'C', 'A-', 'B']"
      ]
     },
     "execution_count": 3,
     "metadata": {},
     "output_type": "execute_result"
    }
   ],
   "source": [
    "def generate_grade_list(grade_string):\n",
    "    list_garde = [\n",
    "        i\n",
    "        for i in grade_string.split(';')\n",
    "    ]\n",
    "    return list_garde\n",
    "generate_grade_list(\"A;B+;C;A-;B\")"
   ]
  },
  {
   "cell_type": "code",
   "execution_count": null,
   "id": "455a3299",
   "metadata": {},
   "outputs": [],
   "source": [
    "Given an array with N elements, the task is to reverse all the array elements and print the reversed array.\n",
    "Input Format:\n",
    "The first line contains an integer N representing the size of the array.\n",
    "\n",
    "The second line contains N space-separated integers representing the elements of the array."
   ]
  },
  {
   "cell_type": "code",
   "execution_count": 5,
   "id": "7027553d",
   "metadata": {},
   "outputs": [
    {
     "name": "stdout",
     "output_type": "stream",
     "text": [
      "8\n",
      "7 5 2 11 2 43 1 10\n",
      "10 1 43 2 11 2 5 7 "
     ]
    }
   ],
   "source": [
    "n = int(input())\n",
    "elements = input()\n",
    "\n",
    "l1 = [\n",
    "    int(i)\n",
    "    for i in elements.split()\n",
    "]\n",
    "\n",
    "l2 = l1[::-1]\n",
    "\n",
    "for i in l2:\n",
    "    print(i,end=\" \")"
   ]
  },
  {
   "cell_type": "code",
   "execution_count": null,
   "id": "9f17215e",
   "metadata": {},
   "outputs": [],
   "source": [
    "Write a Python function called remove_element that takes a list arr as input and performs the following tasks:\n",
    "\n",
    "1. Remove the largest element from the list.\n",
    "2. Remove the second element from the list."
   ]
  },
  {
   "cell_type": "code",
   "execution_count": 7,
   "id": "4a8cb331",
   "metadata": {},
   "outputs": [
    {
     "name": "stdout",
     "output_type": "stream",
     "text": [
      "[5, 4, 56, 7]\n"
     ]
    }
   ],
   "source": [
    "def remove_element(arr):\n",
    "    max_element = max(arr)\n",
    "    arr.remove(max_element)\n",
    "    arr.remove(arr[1])\n",
    "\n",
    "    print(arr)\n",
    "    \n",
    "remove_element([5, 1, 4, 56, 7, 90])"
   ]
  },
  {
   "cell_type": "code",
   "execution_count": null,
   "id": "f9870b63",
   "metadata": {},
   "outputs": [],
   "source": [
    "Write a Python program that calculates the total number of items sold based on a given list containing the quantity of items sold per day. The quantity is represented as a string in the format \"quantity:item\", where \"quantity\" is an integer and \"item\" is a string representing the item name. Each entry in the list represents the quantity of items sold on a specific day."
   ]
  },
  {
   "cell_type": "code",
   "execution_count": 17,
   "id": "0bf55f69",
   "metadata": {},
   "outputs": [
    {
     "data": {
      "text/plain": [
       "42"
      ]
     },
     "execution_count": 17,
     "metadata": {},
     "output_type": "execute_result"
    }
   ],
   "source": [
    "def calculate_total_items_sold(quantity_list):\n",
    "    item_sold_list = []\n",
    "    total_item_sold = 0\n",
    "    \n",
    "    for i in quantity_list:\n",
    "        element = int(i.split(\":\")[0])\n",
    "        item_sold_list.append(element)\n",
    "        total_item_sold += element\n",
    "        \n",
    "    return total_item_sold\n",
    "    \n",
    "calculate_total_items_sold([\"10:Apples\", \"5:Bananas\", \"8:Oranges\", \"12:Grapes\", \"7:Mangoes\"])"
   ]
  },
  {
   "cell_type": "code",
   "execution_count": null,
   "id": "a87995b2",
   "metadata": {},
   "outputs": [],
   "source": [
    "You are given a 2-dimensional list called arr, and you need to write a Python function that calculates the total sum of all the elements present in the list. The elements in the list can be integers or nested lists."
   ]
  },
  {
   "cell_type": "code",
   "execution_count": 25,
   "id": "babc996a",
   "metadata": {},
   "outputs": [
    {
     "data": {
      "text/plain": [
       "55"
      ]
     },
     "execution_count": 25,
     "metadata": {},
     "output_type": "execute_result"
    }
   ],
   "source": [
    "def calculate_total_sum(arr):\n",
    "    list_sum = 0\n",
    "    for i in arr:\n",
    "        if isinstance(i,list):\n",
    "            list_sum += calculate_total_sum(i)\n",
    "        else:\n",
    "            list_sum += i\n",
    "            \n",
    "    return list_sum\n",
    "\n",
    "calculate_total_sum([[1, 2, 3], [4, [5, 6]], [7, 8, [9, [10]]]])"
   ]
  },
  {
   "cell_type": "code",
   "execution_count": null,
   "id": "140aef88",
   "metadata": {},
   "outputs": [],
   "source": [
    "You have been given an array/list(ARR) of size N. You need to swap every pair of alternate elements in the array/list.\n",
    "You don't need to print or return anything, just change in the input array itself.\n",
    "Input Format :\n",
    "The first line contains an Integer 't' which denotes the number of test cases or queries to be run. Then the test cases follow.\n",
    "\n",
    "First line of each test case or query contains an integer 'N' representing the size of the array/list.\n",
    "\n",
    "Second line contains 'N' single space separated integers representing the elements in the array/list."
   ]
  },
  {
   "cell_type": "code",
   "execution_count": 27,
   "id": "d8114924",
   "metadata": {},
   "outputs": [
    {
     "data": {
      "text/plain": [
       "[3, 9, 12, 6, 32, 4]"
      ]
     },
     "execution_count": 27,
     "metadata": {},
     "output_type": "execute_result"
    }
   ],
   "source": [
    "def swapAlternate(arr, n) :\n",
    "    i = 0\n",
    "    while i+1 < len(arr):\n",
    "        arr[i],arr[i+1] = arr[i+1],arr[i]\n",
    "        i += 2\n",
    "    return arr\n",
    "\n",
    "swapAlternate([9,3,6,12,4,32],6)"
   ]
  },
  {
   "cell_type": "code",
   "execution_count": 29,
   "id": "24a38b3e",
   "metadata": {},
   "outputs": [
    {
     "name": "stdout",
     "output_type": "stream",
     "text": [
      "hello ninja4\n"
     ]
    }
   ],
   "source": [
    "str1=\"HellO{}niNja\"\n",
    "str1 = str1.replace(\"{}\", \" \")\n",
    "str1=str1.lower()\n",
    "pos=str1.find(\"o\")\n",
    "print(str1+str(pos))"
   ]
  },
  {
   "cell_type": "code",
   "execution_count": null,
   "id": "e26e1ed4",
   "metadata": {},
   "outputs": [],
   "source": [
    "For a given two-dimensional integer array/list of size (N x M), find and print the sum of each of the row elements in a single line, separated by a single space.\n",
    "Input Format :\n",
    "The first line contains an Integer 't' which denotes the number of test cases or queries to be run. Then the test cases follow.\n",
    "\n",
    "First line of each test case or query contains two integer values, 'N' and 'M', separated by a single space. They represent the 'rows' and 'columns' respectively, for the two-dimensional array/list.\n",
    "\n",
    "Second line onwards, the next 'N' lines or rows represent the ith row values.\n",
    "\n",
    "Each of the ith row constitutes 'M' column values separated by a single space."
   ]
  },
  {
   "cell_type": "code",
   "execution_count": 5,
   "id": "7300d7e7",
   "metadata": {},
   "outputs": [
    {
     "name": "stdout",
     "output_type": "stream",
     "text": [
      "3 7 11 15 "
     ]
    }
   ],
   "source": [
    "def rowWiseSum(mat, nRows, mCols):\n",
    "    for i in range(nRows):\n",
    "        sum = 0\n",
    "        for j in range(mCols):\n",
    "            sum = sum+mat[i][j]\n",
    "        print(sum, end=' ')\n",
    "\n",
    "rowWiseSum([[1,2],[3,4],[5,6],[7,8]],4,2)"
   ]
  },
  {
   "cell_type": "code",
   "execution_count": null,
   "id": "1e107a6a",
   "metadata": {},
   "outputs": [],
   "source": [
    "Given an N*N matrix. The task is to find the index of the column with the maximum sum. \n",
    "That is the column whose sum of elements is maximum."
   ]
  },
  {
   "cell_type": "code",
   "execution_count": 1,
   "id": "095078a9",
   "metadata": {},
   "outputs": [
    {
     "name": "stdout",
     "output_type": "stream",
     "text": [
      "5\n",
      "1,2,3,4,5\n",
      "5,3,1,4,2\n",
      "5,6,7,8,9\n",
      "0,6,3,4,12\n",
      "9,7,12,4,3\n",
      "31\n"
     ]
    }
   ],
   "source": [
    "N = int(input())\n",
    "rows = N\n",
    "columns = N\n",
    "\n",
    "matrix = []\n",
    "\n",
    "for _ in range(rows):\n",
    "    row = list(map(int, input().split(',')))\n",
    "    matrix.append(row)\n",
    "\n",
    "max_sum = float('-inf')\n",
    "\n",
    "for i in range(columns):\n",
    "    row_sum = 0\n",
    "    for j in range(rows):\n",
    "        row_sum+= matrix[j][i]\n",
    "\n",
    "    max_sum = max(row_sum, max_sum)\n",
    "\n",
    "print(matrix)\n",
    "print(max_sum)"
   ]
  }
 ],
 "metadata": {
  "kernelspec": {
   "display_name": "Python 3 (ipykernel)",
   "language": "python",
   "name": "python3"
  },
  "language_info": {
   "codemirror_mode": {
    "name": "ipython",
    "version": 3
   },
   "file_extension": ".py",
   "mimetype": "text/x-python",
   "name": "python",
   "nbconvert_exporter": "python",
   "pygments_lexer": "ipython3",
   "version": "3.9.12"
  }
 },
 "nbformat": 4,
 "nbformat_minor": 5
}
