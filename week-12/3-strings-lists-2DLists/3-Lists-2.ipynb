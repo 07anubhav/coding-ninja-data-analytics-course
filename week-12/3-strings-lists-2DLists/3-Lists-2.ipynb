{
 "cells": [
  {
   "cell_type": "markdown",
   "id": "60338221",
   "metadata": {},
   "source": [
    "# Taking Input in Lists"
   ]
  },
  {
   "cell_type": "code",
   "execution_count": 1,
   "id": "84bda70f",
   "metadata": {},
   "outputs": [],
   "source": [
    "a = [2,3,5,7,1,4]"
   ]
  },
  {
   "cell_type": "code",
   "execution_count": 2,
   "id": "28a604a9",
   "metadata": {},
   "outputs": [
    {
     "name": "stdout",
     "output_type": "stream",
     "text": [
      "2\n",
      "3\n",
      "5\n",
      "7\n",
      "1\n",
      "4\n"
     ]
    }
   ],
   "source": [
    "for i in a:\n",
    "    print(i)"
   ]
  },
  {
   "cell_type": "markdown",
   "id": "0f6d00a3",
   "metadata": {},
   "source": [
    "### Method-1"
   ]
  },
  {
   "cell_type": "code",
   "execution_count": 3,
   "id": "f4be5d93",
   "metadata": {},
   "outputs": [
    {
     "name": "stdout",
     "output_type": "stream",
     "text": [
      "5\n",
      "2\n",
      "3\n",
      "1\n",
      "4\n",
      "7\n"
     ]
    },
    {
     "data": {
      "text/plain": [
       "[2, 3, 1, 4, 7]"
      ]
     },
     "execution_count": 3,
     "metadata": {},
     "output_type": "execute_result"
    }
   ],
   "source": [
    "n = int(input())\n",
    "l = []\n",
    "for i  in range(n):\n",
    "    ne = int(input())\n",
    "    l.append(ne)\n",
    "    \n",
    "l"
   ]
  },
  {
   "cell_type": "markdown",
   "id": "ee16fe76",
   "metadata": {},
   "source": [
    "### Method-2"
   ]
  },
  {
   "cell_type": "code",
   "execution_count": 15,
   "id": "5efaf9cd",
   "metadata": {},
   "outputs": [
    {
     "name": "stdout",
     "output_type": "stream",
     "text": [
      "12 42 1 0 82 1\n"
     ]
    },
    {
     "data": {
      "text/plain": [
       "[12, 42, 1, 0, 82, 1]"
      ]
     },
     "execution_count": 15,
     "metadata": {},
     "output_type": "execute_result"
    }
   ],
   "source": [
    "a = [\n",
    "    int(i)\n",
    "    for i in input().split()\n",
    "]\n",
    "a"
   ]
  },
  {
   "cell_type": "code",
   "execution_count": 13,
   "id": "b58ade23",
   "metadata": {},
   "outputs": [
    {
     "name": "stdout",
     "output_type": "stream",
     "text": [
      "1 2 3 4 5\n",
      "['1', '2', '3', '4', '5']\n",
      "[1, 2, 3, 4, 5]\n"
     ]
    }
   ],
   "source": [
    "line = input().split()\n",
    "\n",
    "a = [\n",
    "    int(i)\n",
    "    for i in line\n",
    "]\n",
    "\n",
    "print(line)\n",
    "print(a)"
   ]
  },
  {
   "cell_type": "markdown",
   "id": "96a238ec",
   "metadata": {},
   "source": [
    "### Method-3\n",
    "* When size is given along with the input"
   ]
  },
  {
   "cell_type": "code",
   "execution_count": 19,
   "id": "ef6956f4",
   "metadata": {},
   "outputs": [
    {
     "name": "stdout",
     "output_type": "stream",
     "text": [
      "5 1 2 5 3 0\n"
     ]
    },
    {
     "data": {
      "text/plain": [
       "[1, 2, 5, 3, 0]"
      ]
     },
     "execution_count": 19,
     "metadata": {},
     "output_type": "execute_result"
    }
   ],
   "source": [
    "line = input()\n",
    "\n",
    "l = line[1:].split()\n",
    "size = int(line[0])\n",
    "\n",
    "a = [\n",
    "    int(i)\n",
    "    for i in l\n",
    "]\n",
    "a"
   ]
  },
  {
   "cell_type": "code",
   "execution_count": 21,
   "id": "80520490",
   "metadata": {},
   "outputs": [
    {
     "name": "stdout",
     "output_type": "stream",
     "text": [
      "1 2 3 4 5\n",
      "6\n",
      "9\n"
     ]
    }
   ],
   "source": [
    "# Difference between sum of even and odd numbers in a list\n",
    "l = [\n",
    "    int(i)\n",
    "    for i in input().split()\n",
    "]\n",
    "\n",
    "even = 0\n",
    "odd = 0\n",
    "\n",
    "for i in l:\n",
    "    if i%2 == 0:\n",
    "        even += i\n",
    "    else:\n",
    "        odd += i\n",
    "        \n",
    "print(even)\n",
    "print(odd)"
   ]
  },
  {
   "cell_type": "markdown",
   "id": "53ec0c73",
   "metadata": {},
   "source": [
    "# List Slicing"
   ]
  },
  {
   "cell_type": "code",
   "execution_count": 24,
   "id": "d3966d70",
   "metadata": {},
   "outputs": [],
   "source": [
    "a = [1,2,'abc',3,'de',4,5,6]"
   ]
  },
  {
   "cell_type": "code",
   "execution_count": 25,
   "id": "0202d8b6",
   "metadata": {},
   "outputs": [
    {
     "data": {
      "text/plain": [
       "['abc', 3, 'de', 4, 5, 6]"
      ]
     },
     "execution_count": 25,
     "metadata": {},
     "output_type": "execute_result"
    }
   ],
   "source": [
    "a[2:]"
   ]
  },
  {
   "cell_type": "code",
   "execution_count": 26,
   "id": "2cb722aa",
   "metadata": {},
   "outputs": [
    {
     "data": {
      "text/plain": [
       "['de', 4]"
      ]
     },
     "execution_count": 26,
     "metadata": {},
     "output_type": "execute_result"
    }
   ],
   "source": [
    "a[4:6]"
   ]
  },
  {
   "cell_type": "code",
   "execution_count": 27,
   "id": "e820c004",
   "metadata": {},
   "outputs": [
    {
     "data": {
      "text/plain": [
       "[1, 2, 'abc']"
      ]
     },
     "execution_count": 27,
     "metadata": {},
     "output_type": "execute_result"
    }
   ],
   "source": [
    "a[0:3]"
   ]
  },
  {
   "cell_type": "code",
   "execution_count": 28,
   "id": "a5b60e17",
   "metadata": {},
   "outputs": [
    {
     "data": {
      "text/plain": [
       "[1, 2, 'abc', 3, 'de']"
      ]
     },
     "execution_count": 28,
     "metadata": {},
     "output_type": "execute_result"
    }
   ],
   "source": [
    "a[:5]"
   ]
  },
  {
   "cell_type": "code",
   "execution_count": 30,
   "id": "28876b0d",
   "metadata": {},
   "outputs": [
    {
     "data": {
      "text/plain": [
       "[6, 5, 4, 'de']"
      ]
     },
     "execution_count": 30,
     "metadata": {},
     "output_type": "execute_result"
    }
   ],
   "source": [
    "# It'll start from the end\n",
    "a[10:3:-1]"
   ]
  },
  {
   "cell_type": "code",
   "execution_count": 31,
   "id": "96b71165",
   "metadata": {},
   "outputs": [
    {
     "data": {
      "text/plain": [
       "[6, 5, 4, 'de']"
      ]
     },
     "execution_count": 31,
     "metadata": {},
     "output_type": "execute_result"
    }
   ],
   "source": [
    "a[:3:-1]"
   ]
  },
  {
   "cell_type": "code",
   "execution_count": 32,
   "id": "facc8b65",
   "metadata": {},
   "outputs": [
    {
     "data": {
      "text/plain": [
       "[6, 4]"
      ]
     },
     "execution_count": 32,
     "metadata": {},
     "output_type": "execute_result"
    }
   ],
   "source": [
    "a[:3:-2]"
   ]
  },
  {
   "cell_type": "code",
   "execution_count": 33,
   "id": "9ac6977a",
   "metadata": {},
   "outputs": [
    {
     "data": {
      "text/plain": [
       "[6, 5, 4, 'de', 3, 'abc', 2, 1]"
      ]
     },
     "execution_count": 33,
     "metadata": {},
     "output_type": "execute_result"
    }
   ],
   "source": [
    "a[::-1]"
   ]
  },
  {
   "cell_type": "code",
   "execution_count": 35,
   "id": "acfa9afb",
   "metadata": {},
   "outputs": [
    {
     "data": {
      "text/plain": [
       "[1, 2, 'abc', 3, 'de', 4, 5, 6]"
      ]
     },
     "execution_count": 35,
     "metadata": {},
     "output_type": "execute_result"
    }
   ],
   "source": [
    "# This will update the existing list\n",
    "a.reverse()\n",
    "a"
   ]
  }
 ],
 "metadata": {
  "kernelspec": {
   "display_name": "Python 3 (ipykernel)",
   "language": "python",
   "name": "python3"
  },
  "language_info": {
   "codemirror_mode": {
    "name": "ipython",
    "version": 3
   },
   "file_extension": ".py",
   "mimetype": "text/x-python",
   "name": "python",
   "nbconvert_exporter": "python",
   "pygments_lexer": "ipython3",
   "version": "3.9.12"
  }
 },
 "nbformat": 4,
 "nbformat_minor": 5
}
