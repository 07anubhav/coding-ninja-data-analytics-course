{
 "cells": [
  {
   "cell_type": "markdown",
   "id": "cea0324a",
   "metadata": {},
   "source": [
    "# Check Numbers"
   ]
  },
  {
   "cell_type": "code",
   "execution_count": null,
   "id": "36b0285d",
   "metadata": {},
   "outputs": [],
   "source": [
    "Python program to check if a string has at least one letter and one number\n",
    "Given a string in Python. The task is to check whether the string has at least one letter(character) and one number. \n",
    "Return “True” if the given string fulfils the above condition else return “False” (without quotes)."
   ]
  },
  {
   "cell_type": "code",
   "execution_count": 4,
   "id": "3579ccfb",
   "metadata": {},
   "outputs": [
    {
     "name": "stdout",
     "output_type": "stream",
     "text": [
      "welcome2ourcountry34\n",
      "True\n"
     ]
    }
   ],
   "source": [
    "s = input()\n",
    "has_letter = any(c.isalpha() for c in s)\n",
    "has_digit  = any(c.isdigit() for c in s)\n",
    "\n",
    "if has_letter and has_digit:\n",
    "    print('True')\n",
    "else:\n",
    "    print('False')"
   ]
  },
  {
   "cell_type": "markdown",
   "id": "91cb443a",
   "metadata": {},
   "source": [
    "# String Check"
   ]
  },
  {
   "cell_type": "code",
   "execution_count": null,
   "id": "4e6a8f56",
   "metadata": {},
   "outputs": [],
   "source": [
    "Write a function check_string that checks if a given string starts with the letter \"M\" and ends with the letter \"g\". \n",
    "The program should print \"valid\" if the string satisfies the condition and \"invalid\" otherwise."
   ]
  },
  {
   "cell_type": "code",
   "execution_count": 6,
   "id": "50d0fd65",
   "metadata": {},
   "outputs": [
    {
     "name": "stdout",
     "output_type": "stream",
     "text": [
      "invalid\n"
     ]
    }
   ],
   "source": [
    "def check_string(str1):\n",
    "    if str1.startswith('M') and str1.endswith('g'):\n",
    "        print('valid')\n",
    "    else:\n",
    "        print('invalid')\n",
    "\n",
    "check_string('Good bye')"
   ]
  },
  {
   "cell_type": "markdown",
   "id": "9b6f5c57",
   "metadata": {},
   "source": [
    "# Check Hashtag"
   ]
  },
  {
   "cell_type": "code",
   "execution_count": null,
   "id": "880b243e",
   "metadata": {},
   "outputs": [],
   "source": [
    "You are working with a dataset that contains a text column. During your analysis, you noticed that some texts contain the \n",
    "\"#\" symbol, which must be removed. Write a Python function called check_hashtag that identifies whether a given string contains \n",
    "the \"#\" symbol."
   ]
  },
  {
   "cell_type": "code",
   "execution_count": 12,
   "id": "78ba782d",
   "metadata": {},
   "outputs": [
    {
     "name": "stdout",
     "output_type": "stream",
     "text": [
      "Yes\n"
     ]
    }
   ],
   "source": [
    "def check_hashtag(str1):\n",
    "    flag = True\n",
    "    for i in str1:\n",
    "        if i == '#':\n",
    "            flag = True\n",
    "            break\n",
    "        else:\n",
    "            flag = False\n",
    "            \n",
    "    if flag:\n",
    "        print('Yes')\n",
    "    else:\n",
    "        print('No')\n",
    "        \n",
    "check_hashtag(\"I love #Python\")"
   ]
  },
  {
   "cell_type": "markdown",
   "id": "e26c7bd1",
   "metadata": {},
   "source": [
    "# Combine Strings"
   ]
  },
  {
   "cell_type": "code",
   "execution_count": null,
   "id": "33436937",
   "metadata": {},
   "outputs": [],
   "source": [
    "You are working on a natural language processing task and must preprocess text data for further analysis. \n",
    "Write a function called combine_strings that takes in two strings representing text samples and combines them by adding a \n",
    "space in between."
   ]
  },
  {
   "cell_type": "code",
   "execution_count": 25,
   "id": "f814bb23",
   "metadata": {},
   "outputs": [
    {
     "data": {
      "text/plain": [
       "'Happy Coding'"
      ]
     },
     "execution_count": 25,
     "metadata": {},
     "output_type": "execute_result"
    }
   ],
   "source": [
    "def combine_strings(first,last):\n",
    "    combined_text = first+' '+last\n",
    "\n",
    "    return combined_text\n",
    "\n",
    "combine_strings(\"Happy\",\"Coding\")"
   ]
  },
  {
   "cell_type": "markdown",
   "id": "6339a3df",
   "metadata": {},
   "source": [
    "# String Operations"
   ]
  },
  {
   "cell_type": "code",
   "execution_count": null,
   "id": "877ad324",
   "metadata": {},
   "outputs": [],
   "source": [
    "A sentence can have different versions due to variations in character cases, such as 'dog', 'Dog', and 'DOG'. \n",
    "The computer will treat these differently to ensure that all variations are treated equally. Write a function \n",
    "convert_to_lowercase that takes a sentence as input and converts all characters in the sentence to lowercase."
   ]
  },
  {
   "cell_type": "code",
   "execution_count": 12,
   "id": "6eda343a",
   "metadata": {},
   "outputs": [
    {
     "data": {
      "text/plain": [
       "'anubhav'"
      ]
     },
     "execution_count": 12,
     "metadata": {},
     "output_type": "execute_result"
    }
   ],
   "source": [
    "def convert_to_lowercase(sentence):\n",
    "    return sentence.lower()\n",
    "\n",
    "convert_to_lowercase('ANUBhav')"
   ]
  },
  {
   "cell_type": "markdown",
   "id": "0c3bde25",
   "metadata": {},
   "source": [
    "# Substring"
   ]
  },
  {
   "cell_type": "code",
   "execution_count": null,
   "id": "b7a5916e",
   "metadata": {},
   "outputs": [],
   "source": [
    "Write a functions substring that will return the substring containing the 2nd to 4th characters of the string"
   ]
  },
  {
   "cell_type": "code",
   "execution_count": 13,
   "id": "23fa1647",
   "metadata": {},
   "outputs": [
    {
     "data": {
      "text/plain": [
       "'nubh'"
      ]
     },
     "execution_count": 13,
     "metadata": {},
     "output_type": "execute_result"
    }
   ],
   "source": [
    "def substring(str1):\n",
    "    return str1[1:5]\n",
    "\n",
    "substring('Anubhav')"
   ]
  },
  {
   "cell_type": "markdown",
   "id": "0611d97e",
   "metadata": {},
   "source": [
    "# Print even words"
   ]
  },
  {
   "cell_type": "code",
   "execution_count": null,
   "id": "3733d569",
   "metadata": {},
   "outputs": [],
   "source": [
    "Given a string as input, your task is to print all the words which have even lengths."
   ]
  },
  {
   "cell_type": "code",
   "execution_count": 20,
   "id": "27c5e321",
   "metadata": {},
   "outputs": [
    {
     "name": "stdout",
     "output_type": "stream",
     "text": [
      "It is a python program\n",
      "It\n",
      "is\n",
      "python\n"
     ]
    }
   ],
   "source": [
    "str1 = input().split()\n",
    "for i in str1:\n",
    "    if len(i)%2 == 0:\n",
    "        print(i)"
   ]
  },
  {
   "cell_type": "markdown",
   "id": "09905a13",
   "metadata": {},
   "source": [
    "# First Space Last String"
   ]
  },
  {
   "cell_type": "code",
   "execution_count": null,
   "id": "384e3eb1",
   "metadata": {},
   "outputs": [],
   "source": [
    "Write a Python function called first_last that takes a string in the format \"first_string last_string\" as input. \n",
    "A space separates the first string and the last string.\n",
    "\n",
    "The function should perform the following tasks:\n",
    "Print the first string, the position of the space, and the last string on a single line, separated by spaces."
   ]
  },
  {
   "cell_type": "code",
   "execution_count": 4,
   "id": "bde5fa25",
   "metadata": {},
   "outputs": [
    {
     "data": {
      "text/plain": [
       "'Data 4 Analytics'"
      ]
     },
     "execution_count": 4,
     "metadata": {},
     "output_type": "execute_result"
    }
   ],
   "source": [
    "def first_last(str1):\n",
    "    find_space_pos = str1.find(' ')\n",
    "    first_string = str1[:find_space_pos]\n",
    "    last_string = str1[find_space_pos+1:]\n",
    "    print(\"{} {} {}\".format(first_string,find_space_pos,last_string))\n",
    "\n",
    "first_last('Data Analytics')"
   ]
  },
  {
   "cell_type": "markdown",
   "id": "903df7fe",
   "metadata": {},
   "source": [
    "# Replace Character"
   ]
  },
  {
   "cell_type": "code",
   "execution_count": null,
   "id": "3b4231c3",
   "metadata": {},
   "outputs": [],
   "source": [
    "Given a string, replace every occurrence of 'a' with 'b' in that string and print the replaced string."
   ]
  },
  {
   "cell_type": "code",
   "execution_count": 11,
   "id": "ddd042af",
   "metadata": {},
   "outputs": [
    {
     "name": "stdout",
     "output_type": "stream",
     "text": [
      "dance is an Art.\n",
      "dbnce is bn Art.\n"
     ]
    }
   ],
   "source": [
    "str1 = input()\n",
    "str2 = str1.replace('a','b')\n",
    "\n",
    "print(str2)"
   ]
  },
  {
   "cell_type": "markdown",
   "id": "2d268135",
   "metadata": {},
   "source": [
    "# Check Palindrome"
   ]
  },
  {
   "cell_type": "code",
   "execution_count": null,
   "id": "7a38d2c4",
   "metadata": {},
   "outputs": [],
   "source": [
    "Given a string, determine if it is a palindrome, considering only alphanumeric characters.\n",
    "Palindrome\n",
    "A palindrome is a word, number, phrase, or other sequences of characters which read the same backwards and forwards."
   ]
  },
  {
   "cell_type": "code",
   "execution_count": 13,
   "id": "7b37739c",
   "metadata": {},
   "outputs": [
    {
     "name": "stdout",
     "output_type": "stream",
     "text": [
      "abcdcba\n",
      "true\n"
     ]
    }
   ],
   "source": [
    "str1 =  input()\n",
    "str2 = str1[::-1]\n",
    "\n",
    "if str1 == str2:\n",
    "    print('true')\n",
    "else:\n",
    "    print('false')"
   ]
  },
  {
   "cell_type": "markdown",
   "id": "11298b3b",
   "metadata": {},
   "source": [
    "# Blank Space"
   ]
  },
  {
   "cell_type": "code",
   "execution_count": null,
   "id": "fdac267c",
   "metadata": {},
   "outputs": [],
   "source": [
    "You are working on a data processing task where you need to standardize the format of strings. \n",
    "As part of the standardization process, you need to replace all spaces in the string with underscores \n",
    "and convert them to lowercase.\n",
    "\n",
    "Write a Python function called space that takes a string as input and performs the following tasks:\n",
    "\n",
    "1. Replaces all spaces in the string with underscores.\n",
    "2. Converts the string to lowercase."
   ]
  },
  {
   "cell_type": "code",
   "execution_count": 16,
   "id": "b01f5e02",
   "metadata": {},
   "outputs": [
    {
     "name": "stdout",
     "output_type": "stream",
     "text": [
      "machine_learning\n"
     ]
    }
   ],
   "source": [
    "def space(mystring):\n",
    "    new_string = mystring.replace(' ','_')\n",
    "\n",
    "    print(new_string.lower())\n",
    "\n",
    "space('MACHINE LEARNING')"
   ]
  },
  {
   "cell_type": "markdown",
   "id": "85c579ce",
   "metadata": {},
   "source": [
    "# Combining Strings"
   ]
  },
  {
   "cell_type": "code",
   "execution_count": null,
   "id": "987e7f80",
   "metadata": {},
   "outputs": [],
   "source": [
    "You are working on a natural language processing task and must preprocess text data for further analysis. \n",
    "Write a function called combine_strings that takes in two strings representing text samples and combines them by \n",
    "adding a space in between."
   ]
  },
  {
   "cell_type": "code",
   "execution_count": 1,
   "id": "0912c8fc",
   "metadata": {},
   "outputs": [
    {
     "name": "stdout",
     "output_type": "stream",
     "text": [
      "Happy Coding!\n"
     ]
    }
   ],
   "source": [
    "def combine_strings(first,last):\n",
    "    combined_text = first+' '+last\n",
    "\n",
    "    print(combined_text)\n",
    "    \n",
    "combine_strings('Happy','Coding!')"
   ]
  }
 ],
 "metadata": {
  "kernelspec": {
   "display_name": "Python 3 (ipykernel)",
   "language": "python",
   "name": "python3"
  },
  "language_info": {
   "codemirror_mode": {
    "name": "ipython",
    "version": 3
   },
   "file_extension": ".py",
   "mimetype": "text/x-python",
   "name": "python",
   "nbconvert_exporter": "python",
   "pygments_lexer": "ipython3",
   "version": "3.9.12"
  }
 },
 "nbformat": 4,
 "nbformat_minor": 5
}
