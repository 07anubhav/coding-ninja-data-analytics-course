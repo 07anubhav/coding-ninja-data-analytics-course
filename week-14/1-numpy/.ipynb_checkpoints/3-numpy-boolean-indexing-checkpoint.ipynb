{
 "cells": [
  {
   "cell_type": "markdown",
   "id": "04a2ae64",
   "metadata": {},
   "source": [
    "# Boolean Indexing 1-D"
   ]
  },
  {
   "cell_type": "code",
   "execution_count": 1,
   "id": "aa4b7361",
   "metadata": {},
   "outputs": [],
   "source": [
    "import numpy as np"
   ]
  },
  {
   "cell_type": "code",
   "execution_count": 2,
   "id": "012f5731",
   "metadata": {},
   "outputs": [
    {
     "name": "stdout",
     "output_type": "stream",
     "text": [
      "['t' 'b' 'r' 'd' 'e' 'f' 'z' 'a']\n",
      "[ 9  5 18 10 18 19  9 15]\n"
     ]
    }
   ],
   "source": [
    "a = np.array(['t','b','r','d','e','f','z','a'])\n",
    "b = np.random.randint(1,20,8)\n",
    "print(a)\n",
    "print(b)"
   ]
  },
  {
   "cell_type": "code",
   "execution_count": 3,
   "id": "000ae850",
   "metadata": {},
   "outputs": [
    {
     "name": "stdout",
     "output_type": "stream",
     "text": [
      "[False False  True False  True  True False  True]\n"
     ]
    }
   ],
   "source": [
    "print(b > 10)"
   ]
  },
  {
   "cell_type": "code",
   "execution_count": 4,
   "id": "c959a2a6",
   "metadata": {},
   "outputs": [
    {
     "name": "stdout",
     "output_type": "stream",
     "text": [
      "[False False  True False  True  True False  True]\n",
      "[18 18 19 15]\n"
     ]
    }
   ],
   "source": [
    "bool_arr = b > 10\n",
    "print(bool_arr)\n",
    "\n",
    "new_arr = b[bool_arr]\n",
    "print(new_arr)"
   ]
  },
  {
   "cell_type": "code",
   "execution_count": 5,
   "id": "a263ec8b",
   "metadata": {},
   "outputs": [
    {
     "name": "stdout",
     "output_type": "stream",
     "text": [
      "[18 18 19 15]\n"
     ]
    }
   ],
   "source": [
    "new_arr = b[b>10]\n",
    "print(new_arr)"
   ]
  },
  {
   "cell_type": "code",
   "execution_count": 6,
   "id": "87786a6d",
   "metadata": {},
   "outputs": [
    {
     "name": "stdout",
     "output_type": "stream",
     "text": [
      "[15]\n"
     ]
    }
   ],
   "source": [
    "new_arr = b[(b>10) & (b<18)]\n",
    "print(new_arr)"
   ]
  },
  {
   "cell_type": "code",
   "execution_count": 7,
   "id": "4d336ef1",
   "metadata": {},
   "outputs": [
    {
     "name": "stdout",
     "output_type": "stream",
     "text": [
      "[ 9  5 18 10 18 19  9 15]\n"
     ]
    },
    {
     "data": {
      "text/plain": [
       "array([ 9,  5, 18, 10, 18, 19,  9, 15])"
      ]
     },
     "execution_count": 7,
     "metadata": {},
     "output_type": "execute_result"
    }
   ],
   "source": [
    "print(b)\n",
    "c = b\n",
    "c"
   ]
  },
  {
   "cell_type": "code",
   "execution_count": 8,
   "id": "f4569816",
   "metadata": {},
   "outputs": [
    {
     "name": "stdout",
     "output_type": "stream",
     "text": [
      "[19 19 19 10 18 19  9 15]\n",
      "[19 19 19 10 18 19  9 15]\n"
     ]
    }
   ],
   "source": [
    "c[:3] = 19\n",
    "print(c)\n",
    "print(b)"
   ]
  },
  {
   "cell_type": "code",
   "execution_count": 9,
   "id": "7331e3f8",
   "metadata": {},
   "outputs": [
    {
     "name": "stdout",
     "output_type": "stream",
     "text": [
      "[100 100 100  10 100 100   9  15]\n",
      "[100 100 100  10 100 100   9  15]\n"
     ]
    }
   ],
   "source": [
    "c[c>15] = 100\n",
    "print(c)\n",
    "print(b)"
   ]
  },
  {
   "cell_type": "code",
   "execution_count": 10,
   "id": "5eb58f6c",
   "metadata": {},
   "outputs": [
    {
     "name": "stdout",
     "output_type": "stream",
     "text": [
      "[100 100 100 100 100]\n"
     ]
    }
   ],
   "source": [
    "print(b[b==100])"
   ]
  },
  {
   "cell_type": "code",
   "execution_count": 11,
   "id": "76022614",
   "metadata": {},
   "outputs": [
    {
     "name": "stdout",
     "output_type": "stream",
     "text": [
      "(array([0, 1, 2, 4, 5], dtype=int64),)\n",
      "<class 'tuple'>\n"
     ]
    }
   ],
   "source": [
    "indexes = np.where(b==100)\n",
    "print(indexes)\n",
    "print(type(indexes))"
   ]
  },
  {
   "cell_type": "code",
   "execution_count": 12,
   "id": "f3cc7580",
   "metadata": {},
   "outputs": [
    {
     "name": "stdout",
     "output_type": "stream",
     "text": [
      "['t' 'b' 'r' 'd' 'e' 'f' 'z' 'a']\n",
      "[100 100 100  10 100 100   9  15]\n"
     ]
    }
   ],
   "source": [
    "print(a)\n",
    "print(b)"
   ]
  },
  {
   "cell_type": "code",
   "execution_count": 13,
   "id": "6275a40f",
   "metadata": {},
   "outputs": [
    {
     "name": "stdout",
     "output_type": "stream",
     "text": [
      "['t' 'b' 'r' 'e' 'f']\n"
     ]
    }
   ],
   "source": [
    "indexes = np.where(b==100)\n",
    "print(a[indexes])"
   ]
  },
  {
   "cell_type": "markdown",
   "id": "3fc10d64",
   "metadata": {},
   "source": [
    "# Boolean Indexing 2-D\n",
    "* Boolean array should be of same shape as of our main array on which we will apply our boolean array to extract the data"
   ]
  },
  {
   "cell_type": "code",
   "execution_count": 14,
   "id": "0b649428",
   "metadata": {},
   "outputs": [],
   "source": [
    "import numpy as np"
   ]
  },
  {
   "cell_type": "code",
   "execution_count": 15,
   "id": "0a946aa1",
   "metadata": {},
   "outputs": [
    {
     "data": {
      "text/plain": [
       "array([[15,  9, 27, 10, 28, 17],\n",
       "       [14, 16,  9, 24, 20, 24],\n",
       "       [24, 10,  8, 27, 11,  6],\n",
       "       [ 3, 11, 25, 21,  4, 16],\n",
       "       [ 6, 25, 29,  8, 24, 26]])"
      ]
     },
     "execution_count": 15,
     "metadata": {},
     "output_type": "execute_result"
    }
   ],
   "source": [
    "a = np.random.randint(1,30,(5,6),dtype=int)\n",
    "a"
   ]
  },
  {
   "cell_type": "code",
   "execution_count": 16,
   "id": "f6098bdd",
   "metadata": {},
   "outputs": [
    {
     "data": {
      "text/plain": [
       "array([[False, False,  True, False,  True, False],\n",
       "       [False, False, False,  True, False,  True],\n",
       "       [ True, False, False,  True, False, False],\n",
       "       [False, False,  True,  True, False, False],\n",
       "       [False,  True,  True, False,  True,  True]])"
      ]
     },
     "execution_count": 16,
     "metadata": {},
     "output_type": "execute_result"
    }
   ],
   "source": [
    "bool_arr = a>20\n",
    "bool_arr"
   ]
  },
  {
   "cell_type": "code",
   "execution_count": 17,
   "id": "22cda6f4",
   "metadata": {},
   "outputs": [
    {
     "data": {
      "text/plain": [
       "array([27, 28, 24, 24, 24, 27, 25, 21, 25, 29, 24, 26])"
      ]
     },
     "execution_count": 17,
     "metadata": {},
     "output_type": "execute_result"
    }
   ],
   "source": [
    "ans = a[bool_arr]\n",
    "ans"
   ]
  },
  {
   "cell_type": "code",
   "execution_count": 18,
   "id": "2cf9f95b",
   "metadata": {},
   "outputs": [
    {
     "name": "stdout",
     "output_type": "stream",
     "text": [
      "[[15  9 27 10 28 17]\n",
      " [14 16  9 24 20 24]\n",
      " [24 10  8 27 11  6]\n",
      " [ 3 11 25 21  4 16]\n",
      " [ 6 25 29  8 24 26]]\n"
     ]
    }
   ],
   "source": [
    "b = a\n",
    "print(a)"
   ]
  },
  {
   "cell_type": "code",
   "execution_count": 19,
   "id": "4a7ba879",
   "metadata": {},
   "outputs": [
    {
     "name": "stdout",
     "output_type": "stream",
     "text": [
      "[[ 15   9 100  10 100  17]\n",
      " [ 14  16   9 100  20 100]\n",
      " [100  10   8 100  11   6]\n",
      " [  3  11 100 100   4  16]\n",
      " [  6 100 100   8 100 100]]\n"
     ]
    }
   ],
   "source": [
    "b[bool_arr] = 100\n",
    "print(b)"
   ]
  },
  {
   "cell_type": "code",
   "execution_count": 20,
   "id": "30a02715",
   "metadata": {},
   "outputs": [
    {
     "data": {
      "text/plain": [
       "array([[6, 2],\n",
       "       [6, 6]])"
      ]
     },
     "execution_count": 20,
     "metadata": {},
     "output_type": "execute_result"
    }
   ],
   "source": [
    "c = np.random.randint(1,10,(2,2),dtype=int)\n",
    "c # 2x2"
   ]
  },
  {
   "cell_type": "code",
   "execution_count": 21,
   "id": "aa0e764a",
   "metadata": {},
   "outputs": [
    {
     "data": {
      "text/plain": [
       "array([[ True, False],\n",
       "       [False,  True],\n",
       "       [ True,  True]])"
      ]
     },
     "execution_count": 21,
     "metadata": {},
     "output_type": "execute_result"
    }
   ],
   "source": [
    "c_bool = np.array([[True,False],[False,True],[True,True]])\n",
    "c_bool # 3x2"
   ]
  },
  {
   "cell_type": "code",
   "execution_count": 22,
   "id": "61368db3",
   "metadata": {},
   "outputs": [
    {
     "ename": "IndexError",
     "evalue": "boolean index did not match indexed array along dimension 0; dimension is 2 but corresponding boolean dimension is 3",
     "output_type": "error",
     "traceback": [
      "\u001b[1;31m---------------------------------------------------------------------------\u001b[0m",
      "\u001b[1;31mIndexError\u001b[0m                                Traceback (most recent call last)",
      "Input \u001b[1;32mIn [22]\u001b[0m, in \u001b[0;36m<cell line: 1>\u001b[1;34m()\u001b[0m\n\u001b[1;32m----> 1\u001b[0m \u001b[38;5;28mprint\u001b[39m(\u001b[43mc\u001b[49m\u001b[43m[\u001b[49m\u001b[43mc_bool\u001b[49m\u001b[43m]\u001b[49m)\n",
      "\u001b[1;31mIndexError\u001b[0m: boolean index did not match indexed array along dimension 0; dimension is 2 but corresponding boolean dimension is 3"
     ]
    }
   ],
   "source": [
    "print(c[c_bool])"
   ]
  },
  {
   "cell_type": "code",
   "execution_count": 23,
   "id": "27731df3",
   "metadata": {},
   "outputs": [
    {
     "name": "stdout",
     "output_type": "stream",
     "text": [
      "[[ 15   9 100  10 100  17]\n",
      " [ 14  16   9 100  20 100]\n",
      " [100  10   8 100  11   6]\n",
      " [  3  11 100 100   4  16]\n",
      " [  6 100 100   8 100 100]]\n"
     ]
    }
   ],
   "source": [
    "print(b)"
   ]
  },
  {
   "cell_type": "code",
   "execution_count": 24,
   "id": "57090510",
   "metadata": {},
   "outputs": [
    {
     "name": "stdout",
     "output_type": "stream",
     "text": [
      "[False  True  True  True False]\n"
     ]
    }
   ],
   "source": [
    "# We are updating column index 3 which are having value as 100 to 99\n",
    "bool_arr = b[:,3] == 100\n",
    "print(bool_arr)"
   ]
  },
  {
   "cell_type": "code",
   "execution_count": 25,
   "id": "bb63bee8",
   "metadata": {},
   "outputs": [
    {
     "name": "stdout",
     "output_type": "stream",
     "text": [
      "[[ 15   9 100  10 100  17]\n",
      " [ 14  16   9  99  20 100]\n",
      " [100  10   8  99  11   6]\n",
      " [  3  11 100  99   4  16]\n",
      " [  6 100 100   8 100 100]]\n"
     ]
    }
   ],
   "source": [
    "# b[boolean array,column index which you want to update]\n",
    "# boolean array will tell where ever it is True select those rows (as in our case row 0 and 2 was having True value)\n",
    "# then 3 will tell we need only column index 3 to be updated\n",
    "b[bool_arr,3] = 99 \n",
    "print(b)"
   ]
  }
 ],
 "metadata": {
  "kernelspec": {
   "display_name": "Python 3 (ipykernel)",
   "language": "python",
   "name": "python3"
  },
  "language_info": {
   "codemirror_mode": {
    "name": "ipython",
    "version": 3
   },
   "file_extension": ".py",
   "mimetype": "text/x-python",
   "name": "python",
   "nbconvert_exporter": "python",
   "pygments_lexer": "ipython3",
   "version": "3.9.12"
  }
 },
 "nbformat": 4,
 "nbformat_minor": 5
}
