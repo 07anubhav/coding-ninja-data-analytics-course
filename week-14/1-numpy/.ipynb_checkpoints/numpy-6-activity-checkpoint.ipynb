{
 "cells": [
  {
   "cell_type": "markdown",
   "metadata": {
    "id": "kiHhFiGqtIyp"
   },
   "source": [
    "# Dataset\n",
    "### [NYC Taxis dataset](https://drive.google.com/file/d/1ubqNY9PJnPtggPNlxbTQQ-mhFWooBnG5/view?usp=sharing)\n",
    "\n",
    "\n",
    "---\n",
    "\n",
    "\n",
    "\n"
   ]
  },
  {
   "cell_type": "markdown",
   "metadata": {
    "id": "WKCY1QI5b77D"
   },
   "source": [
    "We'll be working with a subset of this data: Yellow taxi trips to and from New York City airports between January and June 2016. In our dataset, each row represents a unique taxi trip. Below is information about selected columns from the data set:\n",
    "\n",
    "    - `pickup_year` - The year of the trip.,\n",
    "    - `pickup_month` - The month of the trip (January is 1, December is 12).,\n",
    "    - `pickup_day` - The day of the month of the trip.,\n",
    "    - `pickup_location_code` - The airport or borough where the the trip started, as one of eight categories:\n",
    "          * 0 - Bronx.\n",
    "          * 01 - Brooklyn.\n",
    "          * 02 - JFK Airport.\n",
    "          * 03 - LaGuardia Airport.\n",
    "          * 04 - Manhattan.\n",
    "          * 05 - Newark Airport.\n",
    "          * 06 - Queens.\n",
    "          * 07 - Staten Island.\n",
    "    - `dropoff_location_code` - The airport or borough where the the trip finished, using the same eight category codes as pickup_location_code.,\n",
    "    - `trip_distance` - The distance of the trip in miles.,\n",
    "    - `trip_length` - The length of the trip in seconds.,\n",
    "    - `fare_amount` - The base fare of the trip, in dollars.,\n",
    "    - `total_amount` - The total amount charged to the passenger, including all fees, tolls and tips."
   ]
  },
  {
   "cell_type": "markdown",
   "metadata": {
    "id": "NG0XX4v_o6Ex"
   },
   "source": [
    "# Answer the following\n",
    "\n",
    "\n",
    "\n",
    "*   Mean Speed of all the rides\n",
    "*   Number of rides taken in May\n",
    "*   Number of rides where tip more than $50\n",
    "*   Number of rides where drop was JFK airport"
   ]
  },
  {
   "cell_type": "markdown",
   "metadata": {
    "id": "gM86t42MpTHu"
   },
   "source": [
    "# Answers"
   ]
  },
  {
   "cell_type": "code",
   "execution_count": 1,
   "metadata": {
    "id": "WoVHc0Lks9a2"
   },
   "outputs": [],
   "source": [
    "import numpy as np"
   ]
  },
  {
   "cell_type": "code",
   "execution_count": 2,
   "metadata": {
    "id": "HEaMnaMSuOt4"
   },
   "outputs": [],
   "source": [
    "taxis = np.genfromtxt('nyc_taxis.csv', delimiter=',', skip_header=True)"
   ]
  },
  {
   "cell_type": "markdown",
   "metadata": {
    "id": "xFUh-d2mwLTQ"
   },
   "source": [
    "### Mean Speed of all the rides"
   ]
  },
  {
   "cell_type": "code",
   "execution_count": 3,
   "metadata": {
    "id": "bDvPs8uVueTa"
   },
   "outputs": [],
   "source": [
    "speed = taxis[:, 7]/ (taxis[:, 8]/3600)"
   ]
  },
  {
   "cell_type": "code",
   "execution_count": 4,
   "metadata": {
    "colab": {
     "base_uri": "https://localhost:8080/"
    },
    "id": "wh-fy_4MuooX",
    "outputId": "f665f309-bba3-46fe-ab54-a5cc04b2559a"
   },
   "outputs": [
    {
     "name": "stdout",
     "output_type": "stream",
     "text": [
      "32.24258580925573\n"
     ]
    }
   ],
   "source": [
    "mean_speed = speed.mean()\n",
    "print(mean_speed)"
   ]
  },
  {
   "cell_type": "markdown",
   "metadata": {
    "id": "b9c3MR74wQCS"
   },
   "source": [
    "### Number of rides taken in May"
   ]
  },
  {
   "cell_type": "code",
   "execution_count": 6,
   "metadata": {
    "colab": {
     "base_uri": "https://localhost:8080/"
    },
    "id": "1E6LYFtxuuWJ",
    "outputId": "946ed360-45ac-413e-c969-efcf8398b8d2"
   },
   "outputs": [
    {
     "name": "stdout",
     "output_type": "stream",
     "text": [
      "16650\n"
     ]
    }
   ],
   "source": [
    "rides_in_may = taxis[taxis[:, 1] == 5, 1]\n",
    "print(rides_in_may.shape[0])"
   ]
  },
  {
   "cell_type": "markdown",
   "metadata": {
    "id": "tnLZrSJZwXa5"
   },
   "source": [
    "### Number of rides where tip more than $50"
   ]
  },
  {
   "cell_type": "code",
   "execution_count": 8,
   "metadata": {
    "colab": {
     "base_uri": "https://localhost:8080/"
    },
    "id": "j6Y_md5mvD5V",
    "outputId": "b8aa0f54-5614-44c7-a27e-2287d0e5635a"
   },
   "outputs": [
    {
     "name": "stdout",
     "output_type": "stream",
     "text": [
      "16\n"
     ]
    }
   ],
   "source": [
    "print(taxis[taxis[:, -3] > 50, -3].shape[0])"
   ]
  },
  {
   "cell_type": "code",
   "execution_count": 9,
   "metadata": {
    "colab": {
     "base_uri": "https://localhost:8080/"
    },
    "id": "sJa24fOzvVyG",
    "outputId": "fd1c9e66-5462-448e-d81d-63c14f28d198"
   },
   "outputs": [
    {
     "name": "stdout",
     "output_type": "stream",
     "text": [
      "11832\n"
     ]
    }
   ],
   "source": [
    "print(taxis[taxis[:, 6] == 2, 6].shape[0])"
   ]
  }
 ],
 "metadata": {
  "colab": {
   "name": "Numpy - Activity.ipynb",
   "provenance": []
  },
  "kernelspec": {
   "display_name": "Python 3 (ipykernel)",
   "language": "python",
   "name": "python3"
  },
  "language_info": {
   "codemirror_mode": {
    "name": "ipython",
    "version": 3
   },
   "file_extension": ".py",
   "mimetype": "text/x-python",
   "name": "python",
   "nbconvert_exporter": "python",
   "pygments_lexer": "ipython3",
   "version": "3.9.12"
  }
 },
 "nbformat": 4,
 "nbformat_minor": 1
}
