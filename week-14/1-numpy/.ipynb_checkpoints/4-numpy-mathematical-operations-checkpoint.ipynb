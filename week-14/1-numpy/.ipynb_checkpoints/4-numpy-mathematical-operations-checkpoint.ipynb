{
 "cells": [
  {
   "cell_type": "markdown",
   "id": "19022e5d",
   "metadata": {},
   "source": [
    "# Mathematical Operations"
   ]
  },
  {
   "cell_type": "code",
   "execution_count": 1,
   "id": "f958419b",
   "metadata": {},
   "outputs": [],
   "source": [
    "import numpy as np"
   ]
  },
  {
   "cell_type": "code",
   "execution_count": 2,
   "id": "c7e106c7",
   "metadata": {},
   "outputs": [
    {
     "name": "stdout",
     "output_type": "stream",
     "text": [
      "[1, 2, 3, 4, 5]\n",
      "[12 17 16  9 16]\n",
      "[10 16 12 18  5]\n"
     ]
    }
   ],
   "source": [
    "li = [1,2,3,4,5]\n",
    "\n",
    "a = np.random.randint(1,20,5)\n",
    "b = np.random.randint(1,20,5)\n",
    "\n",
    "print(li)\n",
    "print(a)\n",
    "print(b)"
   ]
  },
  {
   "cell_type": "code",
   "execution_count": 3,
   "id": "5db972e7",
   "metadata": {},
   "outputs": [
    {
     "data": {
      "text/plain": [
       "[2, 3, 4, 5, 6]"
      ]
     },
     "execution_count": 3,
     "metadata": {},
     "output_type": "execute_result"
    }
   ],
   "source": [
    "li = [\n",
    "    i+1\n",
    "    for i in li\n",
    "]\n",
    "li"
   ]
  },
  {
   "cell_type": "code",
   "execution_count": 4,
   "id": "e8f64b15",
   "metadata": {},
   "outputs": [
    {
     "data": {
      "text/plain": [
       "array([13, 18, 17, 10, 17])"
      ]
     },
     "execution_count": 4,
     "metadata": {},
     "output_type": "execute_result"
    }
   ],
   "source": [
    "a = a+1\n",
    "a"
   ]
  },
  {
   "cell_type": "code",
   "execution_count": 5,
   "id": "4485c0cd",
   "metadata": {},
   "outputs": [
    {
     "data": {
      "text/plain": [
       "array([23, 34, 29, 28, 22])"
      ]
     },
     "execution_count": 5,
     "metadata": {},
     "output_type": "execute_result"
    }
   ],
   "source": [
    "c = a+b\n",
    "c"
   ]
  },
  {
   "cell_type": "code",
   "execution_count": 6,
   "id": "b40e1d8a",
   "metadata": {},
   "outputs": [
    {
     "data": {
      "text/plain": [
       "array([ 3,  2,  5, -8, 12])"
      ]
     },
     "execution_count": 6,
     "metadata": {},
     "output_type": "execute_result"
    }
   ],
   "source": [
    "d = a-b\n",
    "d"
   ]
  },
  {
   "cell_type": "code",
   "execution_count": 7,
   "id": "76f60ba5",
   "metadata": {},
   "outputs": [
    {
     "data": {
      "text/plain": [
       "array([130, 288, 204, 180,  85])"
      ]
     },
     "execution_count": 7,
     "metadata": {},
     "output_type": "execute_result"
    }
   ],
   "source": [
    "e = a*b\n",
    "e"
   ]
  },
  {
   "cell_type": "code",
   "execution_count": 8,
   "id": "afc42683",
   "metadata": {},
   "outputs": [
    {
     "data": {
      "text/plain": [
       "array([1.3       , 1.125     , 1.41666667, 0.55555556, 3.4       ])"
      ]
     },
     "execution_count": 8,
     "metadata": {},
     "output_type": "execute_result"
    }
   ],
   "source": [
    "f = a/b\n",
    "f"
   ]
  },
  {
   "cell_type": "code",
   "execution_count": 9,
   "id": "bef1d33e",
   "metadata": {},
   "outputs": [
    {
     "data": {
      "text/plain": [
       "array([1, 1, 1, 0, 3])"
      ]
     },
     "execution_count": 9,
     "metadata": {},
     "output_type": "execute_result"
    }
   ],
   "source": [
    "g = a//b\n",
    "g"
   ]
  },
  {
   "cell_type": "code",
   "execution_count": 10,
   "id": "d095e4db",
   "metadata": {},
   "outputs": [
    {
     "data": {
      "text/plain": [
       "array([  419538377,  1048641536,  1333592769, -1486618624,     1419857])"
      ]
     },
     "execution_count": 10,
     "metadata": {},
     "output_type": "execute_result"
    }
   ],
   "source": [
    "h = a**b\n",
    "h"
   ]
  },
  {
   "cell_type": "code",
   "execution_count": 13,
   "id": "6707280a",
   "metadata": {},
   "outputs": [
    {
     "name": "stdout",
     "output_type": "stream",
     "text": [
      "[13 18 17 10 17]\n",
      "75\n",
      "15.0\n",
      "10\n",
      "3\n",
      "18\n",
      "1\n"
     ]
    }
   ],
   "source": [
    "print(a)\n",
    "print(a.sum())\n",
    "print(a.mean())\n",
    "print(a.min())\n",
    "print(a.argmin()) # Index of minimum value\n",
    "print(a.max())\n",
    "print(a.argmax()) # Index of maximum value"
   ]
  },
  {
   "cell_type": "code",
   "execution_count": 14,
   "id": "110c07ae",
   "metadata": {},
   "outputs": [
    {
     "name": "stdout",
     "output_type": "stream",
     "text": [
      "[13 18 17 10 17]\n",
      "[10 16 12 18  5]\n",
      "[ True  True  True False  True]\n"
     ]
    }
   ],
   "source": [
    "print(a)\n",
    "print(b)\n",
    "print(a>b)"
   ]
  },
  {
   "cell_type": "code",
   "execution_count": 15,
   "id": "c9d14871",
   "metadata": {},
   "outputs": [
    {
     "name": "stdout",
     "output_type": "stream",
     "text": [
      "[False False False False False]\n"
     ]
    }
   ],
   "source": [
    "print(a==b)"
   ]
  },
  {
   "cell_type": "code",
   "execution_count": 16,
   "id": "f5ad3d68",
   "metadata": {},
   "outputs": [
    {
     "name": "stdout",
     "output_type": "stream",
     "text": [
      "[False False False  True False]\n"
     ]
    }
   ],
   "source": [
    "print(a<b)"
   ]
  },
  {
   "cell_type": "code",
   "execution_count": 17,
   "id": "004da94e",
   "metadata": {},
   "outputs": [
    {
     "name": "stdout",
     "output_type": "stream",
     "text": [
      "[13 18 17 10 17]\n",
      "[10 16 12 18  5]\n",
      "[ True  True  True  True  True]\n",
      "[ True  True  True  True  True]\n",
      "[0 0 0 0 0]\n"
     ]
    }
   ],
   "source": [
    "print(a)\n",
    "print(b)\n",
    "print(np.logical_or(a,b))\n",
    "print(np.logical_and(a,b))\n",
    "print(np.logical_not(a,b))"
   ]
  },
  {
   "cell_type": "code",
   "execution_count": 18,
   "id": "ba36c397",
   "metadata": {},
   "outputs": [
    {
     "name": "stdout",
     "output_type": "stream",
     "text": [
      "[0 0 1 0 0]\n"
     ]
    }
   ],
   "source": [
    "a[2] = 0\n",
    "print(np.logical_not(a,b))"
   ]
  },
  {
   "cell_type": "markdown",
   "id": "5173a00b",
   "metadata": {},
   "source": [
    "# Numpy Broadcasting\n",
    "* If shape of the numpy array is different then how operations will be performed over the array\n",
    "* Rules:\n",
    "    * Dimensions are equal (Ex=>  x: 3x2 and y: 3x2)\n",
    "    * One of the array is shape is 1 (Ex=> x: 3x3 and y: 3 or say 1x3) (This will add 2 extra row to array 'y' logically but we wont be able to see it)"
   ]
  },
  {
   "cell_type": "code",
   "execution_count": 2,
   "id": "e237c738",
   "metadata": {},
   "outputs": [
    {
     "name": "stdout",
     "output_type": "stream",
     "text": [
      "[[3 9 2]\n",
      " [6 7 5]\n",
      " [5 3 7]]\n",
      "[[5 8 5]\n",
      " [2 8 6]\n",
      " [4 7 3]]\n"
     ]
    }
   ],
   "source": [
    "x = np.random.randint(1,10,(3,3))\n",
    "y = np.random.randint(1,10,(3,3))\n",
    "\n",
    "print(x)\n",
    "print(y)"
   ]
  },
  {
   "cell_type": "code",
   "execution_count": 3,
   "id": "bd640337",
   "metadata": {},
   "outputs": [
    {
     "name": "stdout",
     "output_type": "stream",
     "text": [
      "[[-2  1 -3]\n",
      " [ 4 -1 -1]\n",
      " [ 1 -4  4]]\n"
     ]
    }
   ],
   "source": [
    "ans = x-y\n",
    "print(ans)"
   ]
  },
  {
   "cell_type": "code",
   "execution_count": 4,
   "id": "d3479a20",
   "metadata": {},
   "outputs": [
    {
     "name": "stdout",
     "output_type": "stream",
     "text": [
      "[[ 8 17  7]\n",
      " [ 8 15 11]\n",
      " [ 9 10 10]]\n"
     ]
    }
   ],
   "source": [
    "ans = x+y\n",
    "print(ans)"
   ]
  },
  {
   "cell_type": "code",
   "execution_count": 5,
   "id": "307c7e80",
   "metadata": {},
   "outputs": [
    {
     "name": "stdout",
     "output_type": "stream",
     "text": [
      "[[3 2 7]\n",
      " [3 1 6]\n",
      " [9 7 2]]\n",
      "[5 1 3]\n"
     ]
    }
   ],
   "source": [
    "x = np.random.randint(1,10,(3,3))\n",
    "y = np.random.randint(1,10,3)\n",
    "\n",
    "print(x)\n",
    "print(y)"
   ]
  },
  {
   "cell_type": "code",
   "execution_count": 6,
   "id": "0a2532a5",
   "metadata": {},
   "outputs": [
    {
     "name": "stdout",
     "output_type": "stream",
     "text": [
      "[[-2  1  4]\n",
      " [-2  0  3]\n",
      " [ 4  6 -1]]\n"
     ]
    }
   ],
   "source": [
    "ans = x-y\n",
    "print(ans)"
   ]
  },
  {
   "cell_type": "code",
   "execution_count": 7,
   "id": "b82199f3",
   "metadata": {},
   "outputs": [
    {
     "name": "stdout",
     "output_type": "stream",
     "text": [
      "[[ 2 -1 -4]\n",
      " [ 2  0 -3]\n",
      " [-4 -6  1]]\n"
     ]
    }
   ],
   "source": [
    "ans = y-x\n",
    "print(ans)"
   ]
  },
  {
   "cell_type": "code",
   "execution_count": 8,
   "id": "73ce0ea2",
   "metadata": {},
   "outputs": [
    {
     "name": "stdout",
     "output_type": "stream",
     "text": [
      "[[ 8  3 10]\n",
      " [ 8  2  9]\n",
      " [14  8  5]]\n"
     ]
    }
   ],
   "source": [
    "ans = x+y\n",
    "print(ans)"
   ]
  },
  {
   "cell_type": "code",
   "execution_count": 9,
   "id": "5ef8dea0",
   "metadata": {},
   "outputs": [
    {
     "name": "stdout",
     "output_type": "stream",
     "text": [
      "[[3 2]\n",
      " [3 9]\n",
      " [4 6]]\n",
      "[[1 8 3]\n",
      " [4 2 5]]\n"
     ]
    }
   ],
   "source": [
    "x = np.random.randint(1,10,(3,2))\n",
    "y = np.random.randint(1,10,(2,3))\n",
    "\n",
    "print(x)\n",
    "print(y)"
   ]
  },
  {
   "cell_type": "code",
   "execution_count": 10,
   "id": "115282cf",
   "metadata": {},
   "outputs": [
    {
     "ename": "ValueError",
     "evalue": "operands could not be broadcast together with shapes (3,2) (2,3) ",
     "output_type": "error",
     "traceback": [
      "\u001b[1;31m---------------------------------------------------------------------------\u001b[0m",
      "\u001b[1;31mValueError\u001b[0m                                Traceback (most recent call last)",
      "Input \u001b[1;32mIn [10]\u001b[0m, in \u001b[0;36m<cell line: 1>\u001b[1;34m()\u001b[0m\n\u001b[1;32m----> 1\u001b[0m ans \u001b[38;5;241m=\u001b[39m \u001b[43mx\u001b[49m\u001b[38;5;241;43m-\u001b[39;49m\u001b[43my\u001b[49m\n\u001b[0;32m      2\u001b[0m \u001b[38;5;28mprint\u001b[39m(ans)\n",
      "\u001b[1;31mValueError\u001b[0m: operands could not be broadcast together with shapes (3,2) (2,3) "
     ]
    }
   ],
   "source": [
    "ans = x-y\n",
    "print(ans)"
   ]
  },
  {
   "cell_type": "markdown",
   "id": "03b1caa4",
   "metadata": {},
   "source": [
    "### To make it compatible we will transpose one of the array"
   ]
  },
  {
   "cell_type": "code",
   "execution_count": 11,
   "id": "3191f320",
   "metadata": {},
   "outputs": [
    {
     "name": "stdout",
     "output_type": "stream",
     "text": [
      "[[ 2 -2]\n",
      " [-5  7]\n",
      " [ 1  1]]\n"
     ]
    }
   ],
   "source": [
    "y = np.transpose(y)\n",
    "ans = x-y\n",
    "print(ans)"
   ]
  },
  {
   "cell_type": "markdown",
   "id": "4dcbcb63",
   "metadata": {},
   "source": [
    "## resize()\n",
    "## reshape()\n",
    "The difference between them is that the reshape() does not change the original array but only returns the changed array, whereas the resize() method returns nothing and directly changes the original array "
   ]
  },
  {
   "cell_type": "code",
   "execution_count": 12,
   "id": "05886fdd",
   "metadata": {},
   "outputs": [
    {
     "data": {
      "text/plain": [
       "array([[8, 8],\n",
       "       [3, 4],\n",
       "       [9, 8]])"
      ]
     },
     "execution_count": 12,
     "metadata": {},
     "output_type": "execute_result"
    }
   ],
   "source": [
    "x = np.random.randint(1,10,(3,2))\n",
    "x"
   ]
  },
  {
   "cell_type": "code",
   "execution_count": 15,
   "id": "5e02f2d2",
   "metadata": {},
   "outputs": [
    {
     "data": {
      "text/plain": [
       "array([[8, 8, 3],\n",
       "       [4, 9, 8]])"
      ]
     },
     "execution_count": 15,
     "metadata": {},
     "output_type": "execute_result"
    }
   ],
   "source": [
    "x.reshape(2,3)"
   ]
  },
  {
   "cell_type": "code",
   "execution_count": 16,
   "id": "f1a14eb5",
   "metadata": {},
   "outputs": [
    {
     "data": {
      "text/plain": [
       "array([[8, 8],\n",
       "       [3, 4],\n",
       "       [9, 8]])"
      ]
     },
     "execution_count": 16,
     "metadata": {},
     "output_type": "execute_result"
    }
   ],
   "source": [
    "x"
   ]
  },
  {
   "cell_type": "code",
   "execution_count": 17,
   "id": "34f20b4a",
   "metadata": {},
   "outputs": [],
   "source": [
    "x.resize(2,3)"
   ]
  },
  {
   "cell_type": "code",
   "execution_count": 18,
   "id": "c704419a",
   "metadata": {},
   "outputs": [
    {
     "data": {
      "text/plain": [
       "array([[8, 8, 3],\n",
       "       [4, 9, 8]])"
      ]
     },
     "execution_count": 18,
     "metadata": {},
     "output_type": "execute_result"
    }
   ],
   "source": [
    "x"
   ]
  },
  {
   "cell_type": "markdown",
   "id": "36a85a54",
   "metadata": {},
   "source": [
    "# Examples - Terrorist Dataset"
   ]
  },
  {
   "cell_type": "code",
   "execution_count": 1,
   "id": "e495e28a",
   "metadata": {},
   "outputs": [],
   "source": [
    "import numpy as np\n",
    "import csv"
   ]
  },
  {
   "cell_type": "code",
   "execution_count": null,
   "id": "4e41c59f",
   "metadata": {},
   "outputs": [],
   "source": [
    "with open() as obj:\n",
    "    data = csv.DictReader(obj,skipinitialspace=True)\n",
    "\n",
    "    \n",
    "killed = []\n",
    "wounded = []\n",
    "country = []\n",
    "for i in data:\n",
    "    killed.append(i['Killed'])\n",
    "    country.append(i['Country'])\n",
    "    wounded.append(i['Wounded'])\n",
    "    \n",
    "np_killed = np.array(killed) # we have to deal with empty values\n",
    "np_wounded = np.array(wounded) # we have to deal with empty values\n",
    "\n",
    "# will convert missing values to string 0.0 and then convert them to float then will convert them to int\n",
    "np_killed[np_killed==''] = '0.0'\n",
    "np_wounded[np_wounded==''] = '0.0'\n",
    "\n",
    "np_killed = np.array(np_killed,dtype=float)\n",
    "np_wounded = np.array(np_wounded,dtype=float)\n",
    "\n",
    "killed_wounded = np_killed+np_wounded\n",
    "print(killed_wounded)\n",
    "print(np.sum(killed_wounded))"
   ]
  },
  {
   "cell_type": "code",
   "execution_count": null,
   "id": "ecd9fa5b",
   "metadata": {},
   "outputs": [],
   "source": [
    "with open() as obj:\n",
    "    data = csv.DictReader(obj,skipinitialspace=True)\n",
    "\n",
    "    \n",
    "killed = []\n",
    "wounded = []\n",
    "country = []\n",
    "for i in data:\n",
    "    killed.append(i['Killed'])\n",
    "    country.append(i['Country'])\n",
    "    wounded.append(i['Wounded'])\n",
    "    \n",
    "np_killed = np.array(killed) \n",
    "np_wounded = np.array(wounded) \n",
    "\n",
    "np_killed[np_killed==''] = '0.0'\n",
    "np_wounded[np_wounded==''] = '0.0'\n",
    "\n",
    "np_killed = np.array(np_killed,dtype=float)\n",
    "np_wounded = np.array(np_wounded,dtype=float)\n",
    "\n",
    "killed_wounded = np_killed+np_wounded\n",
    "\n",
    "# To print only those killed_wounded whose country is India\n",
    "np_country = np.array(country)\n",
    "\n",
    "bool_arr = np_country=='India'\n",
    "ans = killed_wounded[bool_arr]\n",
    "print(ans)\n",
    "print(np.sum(ans))"
   ]
  }
 ],
 "metadata": {
  "kernelspec": {
   "display_name": "Python 3 (ipykernel)",
   "language": "python",
   "name": "python3"
  },
  "language_info": {
   "codemirror_mode": {
    "name": "ipython",
    "version": 3
   },
   "file_extension": ".py",
   "mimetype": "text/x-python",
   "name": "python",
   "nbconvert_exporter": "python",
   "pygments_lexer": "ipython3",
   "version": "3.9.12"
  }
 },
 "nbformat": 4,
 "nbformat_minor": 5
}
