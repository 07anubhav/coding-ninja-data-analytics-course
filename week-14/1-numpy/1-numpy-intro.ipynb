{
 "cells": [
  {
   "cell_type": "markdown",
   "id": "dc6a0ee8",
   "metadata": {},
   "source": [
    "# Numpy (Numerical Python)\n",
    "* It's an linear algebra library\n",
    "* It gives us n-d arrays (1-D,2-D..)\n",
    "## Advantage:\n",
    "    * Numpy arrays takes less amount of space as compared to list\n",
    "    * Numpy arrays are much faster\n",
    "    * Numpy array is easier to use than list\n",
    "    * Functionality: Numpy arrays has more functionality over list"
   ]
  },
  {
   "cell_type": "code",
   "execution_count": 1,
   "id": "f34601fe",
   "metadata": {},
   "outputs": [],
   "source": [
    "import numpy as np"
   ]
  },
  {
   "cell_type": "code",
   "execution_count": 2,
   "id": "7d5b3af7",
   "metadata": {},
   "outputs": [
    {
     "name": "stdout",
     "output_type": "stream",
     "text": [
      "[0, 1, 2, 3, 4, 5, 6, 7, 8, 9, 10, 11, 12, 13, 14, 15, 16, 17, 18, 19, 20, 21, 22, 23, 24, 25, 26, 27, 28, 29, 30, 31, 32, 33, 34, 35, 36, 37, 38, 39, 40, 41, 42, 43, 44, 45, 46, 47, 48, 49, 50, 51, 52, 53, 54, 55, 56, 57, 58, 59, 60, 61, 62, 63, 64, 65, 66, 67, 68, 69, 70, 71, 72, 73, 74, 75, 76, 77, 78, 79, 80, 81, 82, 83, 84, 85, 86, 87, 88, 89, 90, 91, 92, 93, 94, 95, 96, 97, 98, 99]\n",
      "[ 0  1  2  3  4  5  6  7  8  9 10 11 12 13 14 15 16 17 18 19 20 21 22 23\n",
      " 24 25 26 27 28 29 30 31 32 33 34 35 36 37 38 39 40 41 42 43 44 45 46 47\n",
      " 48 49 50 51 52 53 54 55 56 57 58 59 60 61 62 63 64 65 66 67 68 69 70 71\n",
      " 72 73 74 75 76 77 78 79 80 81 82 83 84 85 86 87 88 89 90 91 92 93 94 95\n",
      " 96 97 98 99]\n"
     ]
    }
   ],
   "source": [
    "li_arr = [\n",
    "    i\n",
    "    for i in range(100)\n",
    "]\n",
    "np_arr = np.arange(100)\n",
    "\n",
    "print(li_arr)\n",
    "print(np_arr)"
   ]
  },
  {
   "cell_type": "code",
   "execution_count": 3,
   "id": "16540ffa",
   "metadata": {},
   "outputs": [
    {
     "name": "stdout",
     "output_type": "stream",
     "text": [
      "4\n",
      "400\n"
     ]
    }
   ],
   "source": [
    "# size of 1 element in numpy array\n",
    "print(np_arr.itemsize)\n",
    "\n",
    "# size of 100 elements in numpy array\n",
    "print(np_arr.itemsize*np_arr.size)"
   ]
  },
  {
   "cell_type": "code",
   "execution_count": 6,
   "id": "fcfb9942",
   "metadata": {},
   "outputs": [
    {
     "name": "stdout",
     "output_type": "stream",
     "text": [
      "24\n",
      "2400\n"
     ]
    }
   ],
   "source": [
    "import sys\n",
    "\n",
    "# size of one element in a list\n",
    "print(sys.getsizeof(li_arr[0]))\n",
    "\n",
    "# size of 100 element in a list\n",
    "print(sys.getsizeof(li_arr[0])*len(li_arr))"
   ]
  },
  {
   "cell_type": "code",
   "execution_count": null,
   "id": "2682cb72",
   "metadata": {},
   "outputs": [],
   "source": []
  }
 ],
 "metadata": {
  "kernelspec": {
   "display_name": "Python 3 (ipykernel)",
   "language": "python",
   "name": "python3"
  },
  "language_info": {
   "codemirror_mode": {
    "name": "ipython",
    "version": 3
   },
   "file_extension": ".py",
   "mimetype": "text/x-python",
   "name": "python",
   "nbconvert_exporter": "python",
   "pygments_lexer": "ipython3",
   "version": "3.9.12"
  }
 },
 "nbformat": 4,
 "nbformat_minor": 5
}
