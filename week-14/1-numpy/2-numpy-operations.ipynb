{
 "cells": [
  {
   "cell_type": "markdown",
   "id": "eab09a76",
   "metadata": {},
   "source": [
    "# Slicing & Indexing\n",
    "* Numpy array are basically collection of references or collection of pointers which points to 4 different attributes:\n",
    "    * Data: Reference to 1 byte of the array (i.e. 1st element of array)\n",
    "    * Shape: Shape of array\n",
    "    * Dtype: Data type of array\n",
    "    * Strides: Which represent number of bytes to be skipped to get to next element"
   ]
  },
  {
   "cell_type": "code",
   "execution_count": 1,
   "id": "22366c0e",
   "metadata": {},
   "outputs": [],
   "source": [
    "import numpy as np"
   ]
  },
  {
   "cell_type": "code",
   "execution_count": 2,
   "id": "70a3510b",
   "metadata": {},
   "outputs": [
    {
     "name": "stdout",
     "output_type": "stream",
     "text": [
      "[1, 2, 3, 4, 5]\n",
      "[1 2 3 4 5]\n"
     ]
    }
   ],
   "source": [
    "li_1d = ([1,2,3,4,5])\n",
    "arr_1d = np.array(li_1d)\n",
    "\n",
    "print(li_1d)\n",
    "print(arr_1d)"
   ]
  },
  {
   "cell_type": "code",
   "execution_count": 3,
   "id": "541a8486",
   "metadata": {},
   "outputs": [
    {
     "name": "stdout",
     "output_type": "stream",
     "text": [
      "[[1, 2, 3, 4], [5, 6, 7, 8], [9, 10, 11, 12], [13, 14, 15, 16]]\n",
      "[[ 1  2  3  4]\n",
      " [ 5  6  7  8]\n",
      " [ 9 10 11 12]\n",
      " [13 14 15 16]]\n"
     ]
    }
   ],
   "source": [
    "li_2d = [[1,2,3,4],[5,6,7,8],[9,10,11,12],[13,14,15,16]]\n",
    "arr_2d = np.array(li_2d)\n",
    "\n",
    "print(li_2d)\n",
    "print(arr_2d)"
   ]
  },
  {
   "cell_type": "markdown",
   "id": "9f3bf39e",
   "metadata": {},
   "source": [
    "## 1-D array"
   ]
  },
  {
   "cell_type": "code",
   "execution_count": 13,
   "id": "fd33bee8",
   "metadata": {},
   "outputs": [
    {
     "data": {
      "text/plain": [
       "array([1, 2, 3, 4, 5])"
      ]
     },
     "execution_count": 13,
     "metadata": {},
     "output_type": "execute_result"
    }
   ],
   "source": [
    "arr_1d"
   ]
  },
  {
   "cell_type": "code",
   "execution_count": 5,
   "id": "4d6020e2",
   "metadata": {},
   "outputs": [
    {
     "name": "stdout",
     "output_type": "stream",
     "text": [
      "<memory at 0x0000012B96139E80>\n",
      "(5,)\n",
      "int32\n",
      "(4,)\n"
     ]
    }
   ],
   "source": [
    "print(arr_1d.data)    # address of first element in array\n",
    "print(arr_1d.shape)\n",
    "print(arr_1d.dtype)   # data type of array\n",
    "print(arr_1d.strides) # This means 4bytes need to be skipped to go to the next element"
   ]
  },
  {
   "cell_type": "markdown",
   "id": "cd84b5ce",
   "metadata": {},
   "source": [
    "### Accessing 1-D array"
   ]
  },
  {
   "cell_type": "code",
   "execution_count": 7,
   "id": "e6cb54ab",
   "metadata": {},
   "outputs": [
    {
     "name": "stdout",
     "output_type": "stream",
     "text": [
      "4\n"
     ]
    }
   ],
   "source": [
    "print(arr_1d[3])"
   ]
  },
  {
   "cell_type": "code",
   "execution_count": 9,
   "id": "2fe450e3",
   "metadata": {},
   "outputs": [
    {
     "name": "stdout",
     "output_type": "stream",
     "text": [
      "[2 3 4]\n"
     ]
    }
   ],
   "source": [
    "print(arr_1d[1:4])"
   ]
  },
  {
   "cell_type": "markdown",
   "id": "7aafba49",
   "metadata": {},
   "source": [
    "## 2-D array"
   ]
  },
  {
   "cell_type": "code",
   "execution_count": 12,
   "id": "20d896d5",
   "metadata": {},
   "outputs": [
    {
     "data": {
      "text/plain": [
       "array([[ 1,  2,  3,  4],\n",
       "       [ 5,  6,  7,  8],\n",
       "       [ 9, 10, 11, 12],\n",
       "       [13, 14, 15, 16]])"
      ]
     },
     "execution_count": 12,
     "metadata": {},
     "output_type": "execute_result"
    }
   ],
   "source": [
    "arr_2d"
   ]
  },
  {
   "cell_type": "code",
   "execution_count": 6,
   "id": "32a15217",
   "metadata": {},
   "outputs": [
    {
     "name": "stdout",
     "output_type": "stream",
     "text": [
      "<memory at 0x0000012B95DBE6C0>\n",
      "(4, 4)\n",
      "int32\n",
      "(16, 4)\n"
     ]
    }
   ],
   "source": [
    "print(arr_2d.data)  \n",
    "print(arr_2d.shape)\n",
    "print(arr_2d.dtype)  \n",
    "print(arr_2d.strides) \n",
    "# (16,4) means as we have 4x4 array, 16 means we need to skip 16 bytes of data to move to next row and\n",
    "# 4 means we have to skip 4 bytes to move to next column"
   ]
  },
  {
   "cell_type": "markdown",
   "id": "be824e8e",
   "metadata": {},
   "source": [
    "## Accessing 2-D array"
   ]
  },
  {
   "cell_type": "code",
   "execution_count": 10,
   "id": "d287f8eb",
   "metadata": {},
   "outputs": [
    {
     "name": "stdout",
     "output_type": "stream",
     "text": [
      "10\n"
     ]
    }
   ],
   "source": [
    "print(arr_2d[2][1])"
   ]
  },
  {
   "cell_type": "markdown",
   "id": "82dc00d1",
   "metadata": {},
   "source": [
    "* In list we can't give comma in between to access any element"
   ]
  },
  {
   "cell_type": "code",
   "execution_count": 11,
   "id": "02901ca1",
   "metadata": {},
   "outputs": [
    {
     "name": "stdout",
     "output_type": "stream",
     "text": [
      "10\n"
     ]
    }
   ],
   "source": [
    "print(arr_2d[2,1])"
   ]
  },
  {
   "cell_type": "code",
   "execution_count": 14,
   "id": "a5a287db",
   "metadata": {},
   "outputs": [
    {
     "name": "stdout",
     "output_type": "stream",
     "text": [
      "[5, 6, 7]\n"
     ]
    }
   ],
   "source": [
    "# Slicing to get row data [row][column]\n",
    "print(li_2d[1][:3])"
   ]
  },
  {
   "cell_type": "code",
   "execution_count": 15,
   "id": "bedd9094",
   "metadata": {},
   "outputs": [
    {
     "name": "stdout",
     "output_type": "stream",
     "text": [
      "[5 6 7]\n"
     ]
    }
   ],
   "source": [
    "print(arr_2d[1][:3])"
   ]
  },
  {
   "cell_type": "markdown",
   "id": "ca3c6bdd",
   "metadata": {},
   "source": [
    "#### We cant get particular column data using slicing in list"
   ]
  },
  {
   "cell_type": "code",
   "execution_count": 16,
   "id": "ff57d1bb",
   "metadata": {},
   "outputs": [
    {
     "ename": "IndexError",
     "evalue": "list index out of range",
     "output_type": "error",
     "traceback": [
      "\u001b[1;31m---------------------------------------------------------------------------\u001b[0m",
      "\u001b[1;31mIndexError\u001b[0m                                Traceback (most recent call last)",
      "Input \u001b[1;32mIn [16]\u001b[0m, in \u001b[0;36m<cell line: 1>\u001b[1;34m()\u001b[0m\n\u001b[1;32m----> 1\u001b[0m \u001b[38;5;28mprint\u001b[39m(\u001b[43mli_2d\u001b[49m\u001b[43m[\u001b[49m\u001b[43m:\u001b[49m\u001b[38;5;241;43m3\u001b[39;49m\u001b[43m]\u001b[49m\u001b[43m[\u001b[49m\u001b[38;5;241;43m3\u001b[39;49m\u001b[43m]\u001b[49m)\n",
      "\u001b[1;31mIndexError\u001b[0m: list index out of range"
     ]
    }
   ],
   "source": [
    "print(li_2d[:3][3])"
   ]
  },
  {
   "cell_type": "code",
   "execution_count": 17,
   "id": "20f3b3cd",
   "metadata": {},
   "outputs": [
    {
     "name": "stdout",
     "output_type": "stream",
     "text": [
      "[9, 10, 11, 12]\n"
     ]
    }
   ],
   "source": [
    "print(li_2d[:3][2])"
   ]
  },
  {
   "cell_type": "code",
   "execution_count": 18,
   "id": "70bad656",
   "metadata": {},
   "outputs": [
    {
     "name": "stdout",
     "output_type": "stream",
     "text": [
      "[[1, 2, 3, 4], [5, 6, 7, 8], [9, 10, 11, 12]]\n",
      "[9, 10, 11, 12]\n"
     ]
    }
   ],
   "source": [
    "# !!!! IMPORTANT !!!!\n",
    "x = li_2d[:3]\n",
    "print(x)\n",
    "y = li_2d[2]\n",
    "print(y)"
   ]
  },
  {
   "cell_type": "code",
   "execution_count": 20,
   "id": "e92e7c96",
   "metadata": {},
   "outputs": [
    {
     "name": "stdout",
     "output_type": "stream",
     "text": [
      "[ 3  7 11]\n"
     ]
    }
   ],
   "source": [
    "# Slicing to get column data\n",
    "print(arr_2d[:3,2])"
   ]
  },
  {
   "cell_type": "code",
   "execution_count": 22,
   "id": "ba704347",
   "metadata": {},
   "outputs": [
    {
     "name": "stdout",
     "output_type": "stream",
     "text": [
      "[5, 6, 7, 8]\n"
     ]
    }
   ],
   "source": [
    "print(li_2d[:][1])"
   ]
  },
  {
   "cell_type": "code",
   "execution_count": 25,
   "id": "78421c1b",
   "metadata": {},
   "outputs": [
    {
     "name": "stdout",
     "output_type": "stream",
     "text": [
      "[[10 11]\n",
      " [14 15]]\n"
     ]
    }
   ],
   "source": [
    "print(arr_2d[2:4,1:3])"
   ]
  },
  {
   "cell_type": "code",
   "execution_count": 26,
   "id": "80ef6a78",
   "metadata": {},
   "outputs": [
    {
     "name": "stdout",
     "output_type": "stream",
     "text": [
      "[[13, 14, 15, 16]]\n"
     ]
    }
   ],
   "source": [
    "# Answer will vary with 2-d list\n",
    "print(li_2d[2:4][1:3])"
   ]
  }
 ],
 "metadata": {
  "kernelspec": {
   "display_name": "Python 3 (ipykernel)",
   "language": "python",
   "name": "python3"
  },
  "language_info": {
   "codemirror_mode": {
    "name": "ipython",
    "version": 3
   },
   "file_extension": ".py",
   "mimetype": "text/x-python",
   "name": "python",
   "nbconvert_exporter": "python",
   "pygments_lexer": "ipython3",
   "version": "3.9.12"
  }
 },
 "nbformat": 4,
 "nbformat_minor": 5
}
