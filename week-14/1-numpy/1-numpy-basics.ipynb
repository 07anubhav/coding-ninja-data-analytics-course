{
 "cells": [
  {
   "cell_type": "markdown",
   "id": "dc6a0ee8",
   "metadata": {},
   "source": [
    "# Numpy (Numerical Python)\n",
    "* It's an linear algebra library\n",
    "* It gives us n-d arrays (1-D,2-D..)\n",
    "* Can contain only homogenous elements (i.e. elements of same type)\n",
    "## Advantage:\n",
    "    * Numpy arrays takes less amount of space as compared to list\n",
    "    * Numpy arrays are much faster\n",
    "    * Numpy array is easier to use than list\n",
    "    * Functionality: Numpy arrays has more functionality over list"
   ]
  },
  {
   "cell_type": "code",
   "execution_count": 2,
   "id": "f34601fe",
   "metadata": {},
   "outputs": [],
   "source": [
    "import numpy as np"
   ]
  },
  {
   "cell_type": "code",
   "execution_count": 3,
   "id": "8fcb3935",
   "metadata": {},
   "outputs": [
    {
     "name": "stdout",
     "output_type": "stream",
     "text": [
      "int32\n"
     ]
    }
   ],
   "source": [
    "dt = np.dtype('>i4') \n",
    "# (i4 represents an integer of size 4 byte “>” represents big-endian byte ordering and “<” represents little-endian encoding)\n",
    "print(dt.name)"
   ]
  },
  {
   "cell_type": "code",
   "execution_count": 2,
   "id": "7d5b3af7",
   "metadata": {},
   "outputs": [
    {
     "name": "stdout",
     "output_type": "stream",
     "text": [
      "[0, 1, 2, 3, 4, 5, 6, 7, 8, 9, 10, 11, 12, 13, 14, 15, 16, 17, 18, 19, 20, 21, 22, 23, 24, 25, 26, 27, 28, 29, 30, 31, 32, 33, 34, 35, 36, 37, 38, 39, 40, 41, 42, 43, 44, 45, 46, 47, 48, 49, 50, 51, 52, 53, 54, 55, 56, 57, 58, 59, 60, 61, 62, 63, 64, 65, 66, 67, 68, 69, 70, 71, 72, 73, 74, 75, 76, 77, 78, 79, 80, 81, 82, 83, 84, 85, 86, 87, 88, 89, 90, 91, 92, 93, 94, 95, 96, 97, 98, 99]\n",
      "[ 0  1  2  3  4  5  6  7  8  9 10 11 12 13 14 15 16 17 18 19 20 21 22 23\n",
      " 24 25 26 27 28 29 30 31 32 33 34 35 36 37 38 39 40 41 42 43 44 45 46 47\n",
      " 48 49 50 51 52 53 54 55 56 57 58 59 60 61 62 63 64 65 66 67 68 69 70 71\n",
      " 72 73 74 75 76 77 78 79 80 81 82 83 84 85 86 87 88 89 90 91 92 93 94 95\n",
      " 96 97 98 99]\n"
     ]
    }
   ],
   "source": [
    "li_arr = [\n",
    "    i\n",
    "    for i in range(100)\n",
    "]\n",
    "np_arr = np.arange(100)\n",
    "\n",
    "print(li_arr)\n",
    "print(np_arr)"
   ]
  },
  {
   "cell_type": "code",
   "execution_count": 3,
   "id": "16540ffa",
   "metadata": {},
   "outputs": [
    {
     "name": "stdout",
     "output_type": "stream",
     "text": [
      "4\n",
      "400\n"
     ]
    }
   ],
   "source": [
    "# size of 1 element in numpy array\n",
    "print(np_arr.itemsize)\n",
    "\n",
    "# size of 100 elements in numpy array\n",
    "print(np_arr.itemsize*np_arr.size)"
   ]
  },
  {
   "cell_type": "code",
   "execution_count": 6,
   "id": "fcfb9942",
   "metadata": {},
   "outputs": [
    {
     "name": "stdout",
     "output_type": "stream",
     "text": [
      "24\n",
      "2400\n"
     ]
    }
   ],
   "source": [
    "import sys\n",
    "\n",
    "# size of one element in a list\n",
    "print(sys.getsizeof(li_arr[0]))\n",
    "\n",
    "# size of 100 element in a list\n",
    "print(sys.getsizeof(li_arr[0])*len(li_arr))"
   ]
  },
  {
   "cell_type": "markdown",
   "id": "502c3abd",
   "metadata": {},
   "source": [
    "# Create NumPy Arrays"
   ]
  },
  {
   "cell_type": "code",
   "execution_count": 1,
   "id": "b3a4a12b",
   "metadata": {},
   "outputs": [],
   "source": [
    "import numpy as np"
   ]
  },
  {
   "cell_type": "code",
   "execution_count": 2,
   "id": "cae0f9a6",
   "metadata": {},
   "outputs": [
    {
     "name": "stdout",
     "output_type": "stream",
     "text": [
      "<class 'numpy.ndarray'>\n",
      "[1 2 3 4]\n"
     ]
    }
   ],
   "source": [
    "a = [1,2,3,4]\n",
    "b = np.array(a)\n",
    "print(type(b))\n",
    "print(b)"
   ]
  },
  {
   "cell_type": "code",
   "execution_count": 4,
   "id": "106aafd2",
   "metadata": {},
   "outputs": [
    {
     "name": "stdout",
     "output_type": "stream",
     "text": [
      "['1' '2' '4.6' 'a' 'b' '8.9' '0']\n",
      "<class 'numpy.ndarray'>\n"
     ]
    }
   ],
   "source": [
    "a = [1,2,4.6,'a','b',8.9,0]\n",
    "b = np.array(a)\n",
    "print(b)\n",
    "print(type(b))"
   ]
  },
  {
   "cell_type": "code",
   "execution_count": 6,
   "id": "1fcaa141",
   "metadata": {},
   "outputs": [
    {
     "name": "stdout",
     "output_type": "stream",
     "text": [
      "[1 2 4 8 0]\n",
      "<class 'numpy.ndarray'>\n"
     ]
    }
   ],
   "source": [
    "a = [1,2,4.6,8.9,0]\n",
    "b = np.array(a, dtype = int)\n",
    "print(b)\n",
    "print(type(b))"
   ]
  },
  {
   "cell_type": "code",
   "execution_count": 9,
   "id": "f6329d25",
   "metadata": {},
   "outputs": [
    {
     "name": "stdout",
     "output_type": "stream",
     "text": [
      "[1 2 3 4 1 2 3 4 1 2 3 4]\n"
     ]
    }
   ],
   "source": [
    "a = [1,2,3,4]\n",
    "b = np.array(a*3)\n",
    "print(b)"
   ]
  },
  {
   "cell_type": "code",
   "execution_count": 3,
   "id": "81c7ddd8",
   "metadata": {},
   "outputs": [
    {
     "name": "stdout",
     "output_type": "stream",
     "text": [
      "[3 6 9][1 2 3 1 2 3 1 2 3]\n"
     ]
    }
   ],
   "source": [
    "b = [1, 2, 3]\n",
    "a = np.array(b)\n",
    "print(a*3, end = \"\")\n",
    "a = np.array(b*3)\n",
    "print(a)"
   ]
  },
  {
   "cell_type": "markdown",
   "id": "4dfdb2d3",
   "metadata": {},
   "source": [
    "## np.ones()"
   ]
  },
  {
   "cell_type": "code",
   "execution_count": 11,
   "id": "bffe70c0",
   "metadata": {},
   "outputs": [
    {
     "data": {
      "text/plain": [
       "array([1, 1, 1])"
      ]
     },
     "execution_count": 11,
     "metadata": {},
     "output_type": "execute_result"
    }
   ],
   "source": [
    "b = np.ones(3, dtype=int)\n",
    "b"
   ]
  },
  {
   "cell_type": "code",
   "execution_count": 68,
   "id": "e1c9e827",
   "metadata": {},
   "outputs": [
    {
     "data": {
      "text/plain": [
       "array([[1, 1, 1],\n",
       "       [1, 1, 1],\n",
       "       [1, 1, 1],\n",
       "       [1, 1, 1]])"
      ]
     },
     "execution_count": 68,
     "metadata": {},
     "output_type": "execute_result"
    }
   ],
   "source": [
    "b = np.ones((4,3), dtype=int)\n",
    "b"
   ]
  },
  {
   "cell_type": "markdown",
   "id": "81faf4cc",
   "metadata": {},
   "source": [
    "## np.zeros()"
   ]
  },
  {
   "cell_type": "code",
   "execution_count": 12,
   "id": "1fbb84b2",
   "metadata": {},
   "outputs": [
    {
     "data": {
      "text/plain": [
       "array([0., 0., 0., 0., 0.])"
      ]
     },
     "execution_count": 12,
     "metadata": {},
     "output_type": "execute_result"
    }
   ],
   "source": [
    "b = np.zeros(5,dtype=float)\n",
    "b"
   ]
  },
  {
   "cell_type": "code",
   "execution_count": 17,
   "id": "238ed6eb",
   "metadata": {},
   "outputs": [
    {
     "data": {
      "text/plain": [
       "array([[0., 0., 0., 0.],\n",
       "       [0., 0., 0., 0.],\n",
       "       [0., 0., 0., 0.]])"
      ]
     },
     "execution_count": 17,
     "metadata": {},
     "output_type": "execute_result"
    }
   ],
   "source": [
    "b = np.zeros((3,4),dtype=float)\n",
    "b"
   ]
  },
  {
   "cell_type": "markdown",
   "id": "f33942ec",
   "metadata": {},
   "source": [
    "## np.full((m,n),fill_value)"
   ]
  },
  {
   "cell_type": "code",
   "execution_count": 20,
   "id": "ce6727b6",
   "metadata": {},
   "outputs": [
    {
     "data": {
      "text/plain": [
       "array([5., 5., 5.])"
      ]
     },
     "execution_count": 20,
     "metadata": {},
     "output_type": "execute_result"
    }
   ],
   "source": [
    "b = np.full(3,5,dtype=float)\n",
    "b"
   ]
  },
  {
   "cell_type": "code",
   "execution_count": 21,
   "id": "75b36a46",
   "metadata": {},
   "outputs": [
    {
     "data": {
      "text/plain": [
       "array([[5, 5, 5],\n",
       "       [5, 5, 5]])"
      ]
     },
     "execution_count": 21,
     "metadata": {},
     "output_type": "execute_result"
    }
   ],
   "source": [
    "b = np.full((2,3),5,dtype=int)\n",
    "b"
   ]
  },
  {
   "cell_type": "code",
   "execution_count": 27,
   "id": "0628be0c",
   "metadata": {},
   "outputs": [
    {
     "name": "stdout",
     "output_type": "stream",
     "text": [
      "[ -496438309 -2119265506  1458263770   263195802]\n"
     ]
    }
   ],
   "source": [
    "a = np.empty(4, dtype = int)\n",
    "print(a)"
   ]
  },
  {
   "cell_type": "markdown",
   "id": "f82a02b6",
   "metadata": {},
   "source": [
    "## np.arange(start,stop,step)"
   ]
  },
  {
   "cell_type": "code",
   "execution_count": 28,
   "id": "4317e2e5",
   "metadata": {},
   "outputs": [
    {
     "data": {
      "text/plain": [
       "array([0, 1, 2, 3, 4, 5, 6, 7, 8, 9])"
      ]
     },
     "execution_count": 28,
     "metadata": {},
     "output_type": "execute_result"
    }
   ],
   "source": [
    "a = np.arange(10)\n",
    "a"
   ]
  },
  {
   "cell_type": "code",
   "execution_count": 30,
   "id": "6d85c282",
   "metadata": {},
   "outputs": [
    {
     "data": {
      "text/plain": [
       "array([2, 3, 4, 5, 6, 7, 8, 9])"
      ]
     },
     "execution_count": 30,
     "metadata": {},
     "output_type": "execute_result"
    }
   ],
   "source": [
    "a = np.arange(2,10)\n",
    "a"
   ]
  },
  {
   "cell_type": "code",
   "execution_count": 31,
   "id": "2babb895",
   "metadata": {},
   "outputs": [
    {
     "data": {
      "text/plain": [
       "array([2, 4, 6, 8])"
      ]
     },
     "execution_count": 31,
     "metadata": {},
     "output_type": "execute_result"
    }
   ],
   "source": [
    "a = np.arange(2,10,2)\n",
    "a"
   ]
  },
  {
   "cell_type": "markdown",
   "id": "16507ed0",
   "metadata": {},
   "source": [
    "## np.linespace(start,stop,sample_space)\n",
    "* This will create by default 50 different sample within the given range both inclusive\n",
    "* We can give sample value how much we want to generate\n",
    "* start and stop values are inclusive"
   ]
  },
  {
   "cell_type": "code",
   "execution_count": 35,
   "id": "be8df1fb",
   "metadata": {},
   "outputs": [
    {
     "name": "stdout",
     "output_type": "stream",
     "text": [
      "0.16326530612244916\n",
      "0.16326530612244916\n",
      "[ 2.          2.16326531  2.32653061  2.48979592  2.65306122  2.81632653\n",
      "  2.97959184  3.14285714  3.30612245  3.46938776  3.63265306  3.79591837\n",
      "  3.95918367  4.12244898  4.28571429  4.44897959  4.6122449   4.7755102\n",
      "  4.93877551  5.10204082  5.26530612  5.42857143  5.59183673  5.75510204\n",
      "  5.91836735  6.08163265  6.24489796  6.40816327  6.57142857  6.73469388\n",
      "  6.89795918  7.06122449  7.2244898   7.3877551   7.55102041  7.71428571\n",
      "  7.87755102  8.04081633  8.20408163  8.36734694  8.53061224  8.69387755\n",
      "  8.85714286  9.02040816  9.18367347  9.34693878  9.51020408  9.67346939\n",
      "  9.83673469 10.        ]\n"
     ]
    }
   ],
   "source": [
    "a = np.linspace(2,10)\n",
    "\n",
    "print(a[3]-a[2])\n",
    "print(a[16]-a[15])\n",
    "print(a)"
   ]
  },
  {
   "cell_type": "code",
   "execution_count": 36,
   "id": "d02b0215",
   "metadata": {},
   "outputs": [
    {
     "name": "stdout",
     "output_type": "stream",
     "text": [
      "[ 2  5  8 11 14 17 20]\n"
     ]
    }
   ],
   "source": [
    "a = np.linspace(2,20,7,dtype=int)\n",
    "print(a)"
   ]
  },
  {
   "cell_type": "markdown",
   "id": "12a1a075",
   "metadata": {},
   "source": [
    "### endpoint=False, this will exclude the stop value"
   ]
  },
  {
   "cell_type": "code",
   "execution_count": 37,
   "id": "7d3840f8",
   "metadata": {},
   "outputs": [
    {
     "name": "stdout",
     "output_type": "stream",
     "text": [
      "[ 2  4  7  9 12 14 17]\n"
     ]
    }
   ],
   "source": [
    "a = np.linspace(2,20,7,dtype=int,endpoint=False)\n",
    "print(a)"
   ]
  },
  {
   "cell_type": "markdown",
   "id": "b565c8e2",
   "metadata": {},
   "source": [
    "# np.identity()\n",
    "* we can only get m x m matrix only\n",
    "\n",
    "# np.eye()\n",
    "* we can get m x n matrix"
   ]
  },
  {
   "cell_type": "code",
   "execution_count": 38,
   "id": "0d32d228",
   "metadata": {},
   "outputs": [
    {
     "data": {
      "text/plain": [
       "array([[1., 0., 0.],\n",
       "       [0., 1., 0.],\n",
       "       [0., 0., 1.]])"
      ]
     },
     "execution_count": 38,
     "metadata": {},
     "output_type": "execute_result"
    }
   ],
   "source": [
    "a = np.identity(3)\n",
    "a"
   ]
  },
  {
   "cell_type": "code",
   "execution_count": 41,
   "id": "ae1d9c9c",
   "metadata": {},
   "outputs": [
    {
     "data": {
      "text/plain": [
       "array([[1., 0., 0.],\n",
       "       [0., 1., 0.],\n",
       "       [0., 0., 1.]])"
      ]
     },
     "execution_count": 41,
     "metadata": {},
     "output_type": "execute_result"
    }
   ],
   "source": [
    "a = np.eye(3)\n",
    "a"
   ]
  },
  {
   "cell_type": "code",
   "execution_count": 42,
   "id": "a3437c23",
   "metadata": {},
   "outputs": [
    {
     "data": {
      "text/plain": [
       "array([[1., 0., 0., 0.],\n",
       "       [0., 1., 0., 0.],\n",
       "       [0., 0., 1., 0.]])"
      ]
     },
     "execution_count": 42,
     "metadata": {},
     "output_type": "execute_result"
    }
   ],
   "source": [
    "a = np.eye(3,4)\n",
    "a"
   ]
  },
  {
   "cell_type": "markdown",
   "id": "b01694da",
   "metadata": {},
   "source": [
    "# np.random.rand()"
   ]
  },
  {
   "cell_type": "code",
   "execution_count": 63,
   "id": "c0db524c",
   "metadata": {},
   "outputs": [
    {
     "data": {
      "text/plain": [
       "0.11195406034210009"
      ]
     },
     "execution_count": 63,
     "metadata": {},
     "output_type": "execute_result"
    }
   ],
   "source": [
    "np.random.rand()"
   ]
  },
  {
   "cell_type": "code",
   "execution_count": 43,
   "id": "dc9ec334",
   "metadata": {},
   "outputs": [
    {
     "data": {
      "text/plain": [
       "array([0.72840916, 0.60349426, 0.52132659])"
      ]
     },
     "execution_count": 43,
     "metadata": {},
     "output_type": "execute_result"
    }
   ],
   "source": [
    "a = np.random.rand(3)\n",
    "a"
   ]
  },
  {
   "cell_type": "code",
   "execution_count": 45,
   "id": "1a0376da",
   "metadata": {},
   "outputs": [
    {
     "data": {
      "text/plain": [
       "array([[0.20673815, 0.88331483, 0.02414019, 0.80171393, 0.51523328],\n",
       "       [0.08863969, 0.77012943, 0.33374868, 0.83835172, 0.97351671],\n",
       "       [0.219075  , 0.86119677, 0.45724783, 0.68782793, 0.17889275]])"
      ]
     },
     "execution_count": 45,
     "metadata": {},
     "output_type": "execute_result"
    }
   ],
   "source": [
    "a = np.random.rand(3,5)\n",
    "a"
   ]
  },
  {
   "cell_type": "code",
   "execution_count": 48,
   "id": "d0bb9dc8",
   "metadata": {},
   "outputs": [
    {
     "data": {
      "text/plain": [
       "array([[3.59117901, 4.35094455, 6.14109765, 9.56877676],\n",
       "       [0.12066501, 2.71331526, 6.81805379, 9.005185  ]])"
      ]
     },
     "execution_count": 48,
     "metadata": {},
     "output_type": "execute_result"
    }
   ],
   "source": [
    "a = np.random.rand(2,4)*10\n",
    "a"
   ]
  },
  {
   "cell_type": "markdown",
   "id": "632b64db",
   "metadata": {},
   "source": [
    "# np.random.randint(low,high,size,dtype)\n",
    "* high value is exclusive"
   ]
  },
  {
   "cell_type": "code",
   "execution_count": 58,
   "id": "6e6efb32",
   "metadata": {},
   "outputs": [
    {
     "data": {
      "text/plain": [
       "array([2, 4, 9, 8, 5, 9])"
      ]
     },
     "execution_count": 58,
     "metadata": {},
     "output_type": "execute_result"
    }
   ],
   "source": [
    "a = np.random.randint(2,10,6)\n",
    "a"
   ]
  },
  {
   "cell_type": "code",
   "execution_count": 59,
   "id": "01ac4568",
   "metadata": {},
   "outputs": [
    {
     "data": {
      "text/plain": [
       "array([[8, 8, 6, 7, 2, 5],\n",
       "       [7, 4, 4, 3, 5, 6]])"
      ]
     },
     "execution_count": 59,
     "metadata": {},
     "output_type": "execute_result"
    }
   ],
   "source": [
    "a = np.random.randint(2,10,(2,6))\n",
    "a"
   ]
  },
  {
   "cell_type": "code",
   "execution_count": 67,
   "id": "079b35dc",
   "metadata": {},
   "outputs": [
    {
     "data": {
      "text/plain": [
       "array([[7, 3, 3, 2],\n",
       "       [8, 6, 7, 9],\n",
       "       [3, 4, 4, 8],\n",
       "       [0, 5, 4, 3]])"
      ]
     },
     "execution_count": 67,
     "metadata": {},
     "output_type": "execute_result"
    }
   ],
   "source": [
    "a = np.random.randint(10,size=(4,4))\n",
    "a"
   ]
  }
 ],
 "metadata": {
  "kernelspec": {
   "display_name": "Python 3 (ipykernel)",
   "language": "python",
   "name": "python3"
  },
  "language_info": {
   "codemirror_mode": {
    "name": "ipython",
    "version": 3
   },
   "file_extension": ".py",
   "mimetype": "text/x-python",
   "name": "python",
   "nbconvert_exporter": "python",
   "pygments_lexer": "ipython3",
   "version": "3.9.12"
  }
 },
 "nbformat": 4,
 "nbformat_minor": 5
}
