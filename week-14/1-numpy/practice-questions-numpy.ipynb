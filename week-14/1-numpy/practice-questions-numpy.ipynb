{
 "cells": [
  {
   "cell_type": "markdown",
   "id": "ce75c5c9",
   "metadata": {},
   "source": [
    "# Calculate Memory Difference"
   ]
  },
  {
   "cell_type": "code",
   "execution_count": null,
   "id": "475535d0",
   "metadata": {},
   "outputs": [],
   "source": [
    "Write a program that calculates and prints the difference between the memory size of a given NumPy array and a given \n",
    "Python list."
   ]
  },
  {
   "cell_type": "code",
   "execution_count": 1,
   "id": "f58ca205",
   "metadata": {},
   "outputs": [
    {
     "name": "stdout",
     "output_type": "stream",
     "text": [
      "-72\n"
     ]
    }
   ],
   "source": [
    "import numpy as np\n",
    "import sys\n",
    "\n",
    "np_arr = np.array([1, 2, 3])\n",
    "list_arr = [1, 2, 3]\n",
    "\n",
    "print((np_arr.itemsize*np_arr.size)-(sys.getsizeof(list_arr[0])*len(list_arr)))"
   ]
  },
  {
   "cell_type": "code",
   "execution_count": null,
   "id": "3b901002",
   "metadata": {},
   "outputs": [],
   "source": []
  }
 ],
 "metadata": {
  "kernelspec": {
   "display_name": "Python 3 (ipykernel)",
   "language": "python",
   "name": "python3"
  },
  "language_info": {
   "codemirror_mode": {
    "name": "ipython",
    "version": 3
   },
   "file_extension": ".py",
   "mimetype": "text/x-python",
   "name": "python",
   "nbconvert_exporter": "python",
   "pygments_lexer": "ipython3",
   "version": "3.9.12"
  }
 },
 "nbformat": 4,
 "nbformat_minor": 5
}
