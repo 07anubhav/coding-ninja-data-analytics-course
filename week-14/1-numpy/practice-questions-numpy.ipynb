{
 "cells": [
  {
   "cell_type": "markdown",
   "id": "ce75c5c9",
   "metadata": {},
   "source": [
    "# Calculate Memory Difference"
   ]
  },
  {
   "cell_type": "code",
   "execution_count": null,
   "id": "475535d0",
   "metadata": {},
   "outputs": [],
   "source": [
    "Write a program that calculates and prints the difference between the memory size of a given NumPy array and a given \n",
    "Python list."
   ]
  },
  {
   "cell_type": "code",
   "execution_count": 2,
   "id": "f58ca205",
   "metadata": {},
   "outputs": [
    {
     "name": "stdout",
     "output_type": "stream",
     "text": [
      "-72\n"
     ]
    }
   ],
   "source": [
    "import numpy as np\n",
    "import sys\n",
    "\n",
    "np_arr = np.array([1, 2, 3])\n",
    "list_arr = [1, 2, 3]\n",
    "\n",
    "print((np_arr.itemsize*np_arr.size)-(sys.getsizeof(list_arr[0])*len(list_arr)))"
   ]
  },
  {
   "cell_type": "markdown",
   "id": "98dc903d",
   "metadata": {},
   "source": [
    "# List to NumPy Array"
   ]
  },
  {
   "cell_type": "code",
   "execution_count": null,
   "id": "28f1a591",
   "metadata": {},
   "outputs": [],
   "source": [
    "Write a program to convert a given list to a NumPy array with the data type as an integer. Print this NumPy array."
   ]
  },
  {
   "cell_type": "code",
   "execution_count": 1,
   "id": "7ad6d52a",
   "metadata": {},
   "outputs": [
    {
     "name": "stdout",
     "output_type": "stream",
     "text": [
      "[1 2 3]\n"
     ]
    }
   ],
   "source": [
    "import numpy as np\n",
    "\n",
    "lis=[1.2, 2.3, 3.4]\n",
    "a = np.array(lis,dtype=int)\n",
    "print(a)"
   ]
  },
  {
   "cell_type": "markdown",
   "id": "1f07976f",
   "metadata": {},
   "source": [
    "# NumPy 2D array"
   ]
  },
  {
   "cell_type": "code",
   "execution_count": null,
   "id": "4c7b5b41",
   "metadata": {},
   "outputs": [],
   "source": [
    "Given a 2D list, create a numpy 2D array using it.\n",
    "Note: Given 2D list is [[1, 2, 3], [4, 5, 6], [7, 8, 9]]\n",
    "Print the Numpy array."
   ]
  },
  {
   "cell_type": "code",
   "execution_count": 2,
   "id": "903f4ea6",
   "metadata": {},
   "outputs": [
    {
     "name": "stdout",
     "output_type": "stream",
     "text": [
      "[[1 2 3]\n",
      " [4 5 6]\n",
      " [7 8 9]]\n"
     ]
    }
   ],
   "source": [
    "a = np.array(([[1, 2, 3], [4, 5, 6], [7, 8, 9]]))\n",
    "print(a)"
   ]
  },
  {
   "cell_type": "markdown",
   "id": "89aeb643",
   "metadata": {},
   "source": [
    "# NumPy 0s and 1s"
   ]
  },
  {
   "cell_type": "code",
   "execution_count": null,
   "id": "45b85770",
   "metadata": {},
   "outputs": [],
   "source": [
    "Create an integer array of size 10, where all the values should be 0 but the fifth value should be 1."
   ]
  },
  {
   "cell_type": "code",
   "execution_count": 6,
   "id": "842d3d28",
   "metadata": {},
   "outputs": [
    {
     "name": "stdout",
     "output_type": "stream",
     "text": [
      "0 0 0 0 1 0 0 0 0 0 "
     ]
    }
   ],
   "source": [
    "a = np.zeros(10,dtype=int)\n",
    "a[4] = 1\n",
    "\n",
    "for i in a:\n",
    "    print(i,end=' ')"
   ]
  },
  {
   "cell_type": "markdown",
   "id": "bae5f6e6",
   "metadata": {},
   "source": [
    "# NumPy Inclusive"
   ]
  },
  {
   "cell_type": "code",
   "execution_count": null,
   "id": "9d0d9d20",
   "metadata": {},
   "outputs": [],
   "source": [
    "Create an array with values ranging consecutively from 9 to 49 (both inclusive)."
   ]
  },
  {
   "cell_type": "code",
   "execution_count": 11,
   "id": "5901c517",
   "metadata": {},
   "outputs": [
    {
     "name": "stdout",
     "output_type": "stream",
     "text": [
      "9 10 11 12 13 14 15 16 17 18 19 20 21 22 23 24 25 26 27 28 29 30 31 32 33 34 35 36 37 38 39 40 41 42 43 44 45 46 47 48 49 "
     ]
    }
   ],
   "source": [
    "a = np.arange(9,50)\n",
    "\n",
    "for i in a:\n",
    "    print(i,end=\" \")"
   ]
  },
  {
   "cell_type": "markdown",
   "id": "dc766814",
   "metadata": {},
   "source": [
    "# Identity Matrix"
   ]
  },
  {
   "cell_type": "code",
   "execution_count": null,
   "id": "11156cf2",
   "metadata": {},
   "outputs": [],
   "source": [
    "Create a matrix having diagonal elements as 1 and all other elements as 0 of size (5, 6)."
   ]
  },
  {
   "cell_type": "code",
   "execution_count": 15,
   "id": "3da895e9",
   "metadata": {},
   "outputs": [
    {
     "name": "stdout",
     "output_type": "stream",
     "text": [
      "[[1 0 0 0 0 0]\n",
      " [0 1 0 0 0 0]\n",
      " [0 0 1 0 0 0]\n",
      " [0 0 0 1 0 0]\n",
      " [0 0 0 0 1 0]]\n"
     ]
    }
   ],
   "source": [
    "a = np.eye(5,6,dtype=int)\n",
    "print(a)"
   ]
  },
  {
   "cell_type": "markdown",
   "id": "c9847319",
   "metadata": {},
   "source": [
    "# Cut the Rope"
   ]
  },
  {
   "cell_type": "code",
   "execution_count": null,
   "id": "7bbee9f8",
   "metadata": {},
   "outputs": [],
   "source": [
    "You are given a rope of length 5m. Cut the rope into 9 parts such that each part is of equal length.\n",
    "Note:Array elements are the points where cut is to be made and round upto 2 decimal place."
   ]
  },
  {
   "cell_type": "code",
   "execution_count": 22,
   "id": "6b4a76a7",
   "metadata": {},
   "outputs": [
    {
     "name": "stdout",
     "output_type": "stream",
     "text": [
      "0.56\n",
      "1.11\n",
      "1.67\n",
      "2.22\n",
      "2.78\n",
      "3.33\n",
      "3.89\n",
      "4.44\n"
     ]
    }
   ],
   "source": [
    "a = np.linspace(0,5,10)[1:9]\n",
    "\n",
    "for i in a:\n",
    "    print(round(i,2))"
   ]
  },
  {
   "cell_type": "markdown",
   "id": "d69696ca",
   "metadata": {},
   "source": [
    "# Create NumPy Array"
   ]
  },
  {
   "cell_type": "code",
   "execution_count": null,
   "id": "ab5a9fb3",
   "metadata": {},
   "outputs": [],
   "source": [
    "Write a program to generate a NumPy array containing even values between n1 and n2 (both inclusive). Print the NumPy array."
   ]
  },
  {
   "cell_type": "code",
   "execution_count": 25,
   "id": "5213bfa2",
   "metadata": {},
   "outputs": [
    {
     "name": "stdout",
     "output_type": "stream",
     "text": [
      "[10 12 14 16 18 20 22]\n"
     ]
    }
   ],
   "source": [
    "n1=10\n",
    "n2=22\n",
    "\n",
    "a = np.arange(n1,n2+1,2)\n",
    "print(a)"
   ]
  },
  {
   "cell_type": "markdown",
   "id": "8a6c6b1d",
   "metadata": {},
   "source": [
    "# Create NumPy Array-1"
   ]
  },
  {
   "cell_type": "code",
   "execution_count": null,
   "id": "3be89bc3",
   "metadata": {},
   "outputs": [],
   "source": [
    "Write a program to create a 1D-NumPy array of length 30, with  all values integer 10."
   ]
  },
  {
   "cell_type": "code",
   "execution_count": 31,
   "id": "86f36206",
   "metadata": {},
   "outputs": [
    {
     "name": "stdout",
     "output_type": "stream",
     "text": [
      "[10 10 10 10 10 10 10 10 10 10 10 10 10 10 10 10 10 10 10 10 10 10 10 10\n",
      " 10 10 10 10 10 10]\n"
     ]
    }
   ],
   "source": [
    "a = np.full(30,10,dtype=int)\n",
    "print(a)"
   ]
  },
  {
   "cell_type": "markdown",
   "id": "6750a16f",
   "metadata": {},
   "source": [
    "# NumPy Diagonal"
   ]
  },
  {
   "cell_type": "code",
   "execution_count": null,
   "id": "a13f8168",
   "metadata": {},
   "outputs": [],
   "source": [
    "Write a program to generate and print a NumPy array of size \"m x m\", with the value of all the diagonal elements as 5.0 \n",
    "and the rest as 0.0."
   ]
  },
  {
   "cell_type": "code",
   "execution_count": 32,
   "id": "f5b3176d",
   "metadata": {},
   "outputs": [
    {
     "name": "stdout",
     "output_type": "stream",
     "text": [
      "[[5. 0. 0. 0. 0.]\n",
      " [0. 5. 0. 0. 0.]\n",
      " [0. 0. 5. 0. 0.]\n",
      " [0. 0. 0. 5. 0.]\n",
      " [0. 0. 0. 0. 5.]]\n"
     ]
    }
   ],
   "source": [
    "a = np.identity(5)*5\n",
    "print(a)"
   ]
  },
  {
   "cell_type": "markdown",
   "id": "943e6b0e",
   "metadata": {},
   "source": [
    "# Print Elements"
   ]
  },
  {
   "cell_type": "code",
   "execution_count": null,
   "id": "6c5405a3",
   "metadata": {},
   "outputs": [],
   "source": [
    "Given a 2D integer array size (4, 5) with name input_?\n",
    "Print elements of highlighted matrix"
   ]
  },
  {
   "cell_type": "code",
   "execution_count": 3,
   "id": "56422bbc",
   "metadata": {},
   "outputs": [
    {
     "data": {
      "text/plain": [
       "array([[ 1,  2,  3,  4,  5],\n",
       "       [ 6,  7,  8,  9, 10],\n",
       "       [11, 12, 13, 14, 15],\n",
       "       [16, 17, 18, 19, 20]])"
      ]
     },
     "execution_count": 3,
     "metadata": {},
     "output_type": "execute_result"
    }
   ],
   "source": [
    "input_=np.arange(1,21,1)\n",
    "input_=input_.reshape(4,5)\n",
    "input_"
   ]
  },
  {
   "cell_type": "code",
   "execution_count": 22,
   "id": "f003d12b",
   "metadata": {},
   "outputs": [
    {
     "name": "stdout",
     "output_type": "stream",
     "text": [
      "11 12 13 \n",
      "9 14 19 \n",
      "11 12 13 14 15 16 17 18 19 20 \n",
      "7 8 12 13 "
     ]
    }
   ],
   "source": [
    "a = input_[2,:3]\n",
    "b = input_[1:,3]\n",
    "c = input_[2:,:]\n",
    "d = input_[1:3,1:3]\n",
    "\n",
    "for i in a:\n",
    "    print(i,end=' ')\n",
    "print()\n",
    "for i in b:\n",
    "    print(i,end=' ')\n",
    "print()    \n",
    "for i in c:\n",
    "    for j in i:\n",
    "        print(j,end=' ')\n",
    "print()   \n",
    "for i in d:\n",
    "    for j in i:\n",
    "        print(j,end=' ')"
   ]
  },
  {
   "cell_type": "markdown",
   "id": "87989cfc",
   "metadata": {},
   "source": [
    "# Non-Zero elements"
   ]
  },
  {
   "cell_type": "code",
   "execution_count": null,
   "id": "5468d383",
   "metadata": {},
   "outputs": [],
   "source": [
    "Find indices of non-zero elements from the array [1,2,0,0,4,0] ?\n",
    "Print the index of non-zero elements."
   ]
  },
  {
   "cell_type": "code",
   "execution_count": 8,
   "id": "99bed847",
   "metadata": {},
   "outputs": [
    {
     "name": "stdout",
     "output_type": "stream",
     "text": [
      "(array([0, 1, 4], dtype=int64),)\n",
      "0 1 4 "
     ]
    }
   ],
   "source": [
    "a = np.array([1,2,0,0,4,0])\n",
    "indexes = np.where(a!=0)\n",
    "\n",
    "for i in indexes:\n",
    "    for j in i:\n",
    "        print(j,end=' ')"
   ]
  },
  {
   "cell_type": "markdown",
   "id": "daed24bb",
   "metadata": {},
   "source": [
    "# Multiples of 3"
   ]
  },
  {
   "cell_type": "code",
   "execution_count": null,
   "id": "3588c47a",
   "metadata": {},
   "outputs": [],
   "source": [
    "Given an integer array of size 10. Print the index of elements which are multiple of 3.\n",
    "Note: Generate the following array\n",
    "array([ 1,  3,  5,  7,  9, 11, 13, 15, 17, 19])"
   ]
  },
  {
   "cell_type": "code",
   "execution_count": 11,
   "id": "565cf328",
   "metadata": {},
   "outputs": [
    {
     "name": "stdout",
     "output_type": "stream",
     "text": [
      "1 4 7 "
     ]
    }
   ],
   "source": [
    "a = np.array([ 1,  3,  5,  7,  9, 11, 13, 15, 17, 19])\n",
    "indexes = np.where(a%3==0)\n",
    "\n",
    "for i in indexes:\n",
    "    for j in i:\n",
    "        print(j,end=' ')"
   ]
  },
  {
   "cell_type": "markdown",
   "id": "96d23938",
   "metadata": {},
   "source": [
    "# Odd elements"
   ]
  },
  {
   "cell_type": "code",
   "execution_count": null,
   "id": "35e2bc91",
   "metadata": {},
   "outputs": [],
   "source": [
    "Given an integer array of size 10. Replace the odd number in numpy array with -1 ?\n",
    "Note: Generate the following array\n",
    "array([1, 2, 3, 4, 5, 6, 7, 8, 9, 10])"
   ]
  },
  {
   "cell_type": "code",
   "execution_count": 14,
   "id": "0b2a78d9",
   "metadata": {},
   "outputs": [
    {
     "name": "stdout",
     "output_type": "stream",
     "text": [
      "[ 1  2  3  4  5  6  7  8  9 10]\n",
      "-1 2 -1 4 -1 6 -1 8 -1 10 "
     ]
    }
   ],
   "source": [
    "a = np.array([1, 2, 3, 4, 5, 6, 7, 8, 9, 10])\n",
    "a[a%2!=0]=-1\n",
    "\n",
    "for i in a:\n",
    "    print(i,end=' ')"
   ]
  },
  {
   "cell_type": "markdown",
   "id": "1ab209d2",
   "metadata": {},
   "source": [
    "# Replace Max\n",
    "#### np.argmax(array): Returns the indices of the maximum values along an axis"
   ]
  },
  {
   "cell_type": "code",
   "execution_count": null,
   "id": "8518425f",
   "metadata": {},
   "outputs": [],
   "source": [
    "Given an integer array of size 9 and replace the first occurrence of maximum value by 0?\n",
    "Note: Generate the following array\n",
    "array([11, 2, 13, 4, 15, 6, 27, 8, 19])"
   ]
  },
  {
   "cell_type": "code",
   "execution_count": 19,
   "id": "1d290e39",
   "metadata": {},
   "outputs": [
    {
     "name": "stdout",
     "output_type": "stream",
     "text": [
      "11\n",
      "2\n",
      "13\n",
      "4\n",
      "15\n",
      "6\n",
      "0\n",
      "8\n",
      "19\n"
     ]
    }
   ],
   "source": [
    "a = np.array([11, 2, 13, 4, 15, 6, 27, 8, 19])\n",
    "a[np.argmax(a)] = 0\n",
    "\n",
    "for i in a:\n",
    "    print(i)"
   ]
  },
  {
   "cell_type": "markdown",
   "id": "d7b03216",
   "metadata": {},
   "source": [
    "# Negate Elements"
   ]
  },
  {
   "cell_type": "code",
   "execution_count": null,
   "id": "1fcd2700",
   "metadata": {},
   "outputs": [],
   "source": [
    "Given a 1D array, negate all elements which are between 3 and 8 (both inclusive)?\n",
    "Note: Generate the following array\n",
    "array([1, 2, 3, 4, 5, 6, 7, 8, 9, 10])"
   ]
  },
  {
   "cell_type": "code",
   "execution_count": 23,
   "id": "494e315b",
   "metadata": {},
   "outputs": [
    {
     "name": "stdout",
     "output_type": "stream",
     "text": [
      "1\n",
      "2\n",
      "-3\n",
      "-4\n",
      "-5\n",
      "-6\n",
      "-7\n",
      "-8\n",
      "9\n",
      "10\n"
     ]
    }
   ],
   "source": [
    "a = np.array([1, 2, 3, 4, 5, 6, 7, 8, 9, 10])\n",
    "a[(a>=3)&(a<=8)] = a[(a>=3)&(a<=8)] * -1\n",
    "\n",
    "for i in a:\n",
    "    print(i)"
   ]
  },
  {
   "cell_type": "markdown",
   "id": "d6aefd12",
   "metadata": {},
   "source": [
    "# Height"
   ]
  },
  {
   "cell_type": "code",
   "execution_count": null,
   "id": "84457894",
   "metadata": {},
   "outputs": [],
   "source": [
    "Given age and height of 20 students in two different numpy arrays with name age and height (in cms). \n",
    "Print the age of those students whose height is above 155 cm."
   ]
  },
  {
   "cell_type": "code",
   "execution_count": 33,
   "id": "6b9d96a2",
   "metadata": {},
   "outputs": [
    {
     "name": "stdout",
     "output_type": "stream",
     "text": [
      "[15 19 20 21 22 23 16 18 20 15 17]\n",
      "[156 180 162 157 158 179 182 183 159 160 172]\n",
      "15   156\n",
      "19   180\n",
      "20   162\n",
      "21   157\n",
      "22   158\n",
      "23   179\n",
      "16   182\n",
      "18   183\n",
      "20   159\n",
      "15   160\n",
      "17   172\n"
     ]
    }
   ],
   "source": [
    "age = np.array([15,17,19,20,14,21,16,19,13,20,22,23,21,16,18,19,20,15,17,18])\n",
    "height = np.array([156,144,180,162,152,157,154,155,151,150,158,179,126,182,183,154,159,160,172,149])\n",
    "\n",
    "indexes = np.where(height>155)\n",
    "\n",
    "age_new = age[indexes]\n",
    "height_new = height[indexes]\n",
    "\n",
    "i = 0\n",
    "while i<len(age_new):\n",
    "    print(age_new[i],' ',height_new[i])\n",
    "    i += 1"
   ]
  },
  {
   "cell_type": "markdown",
   "id": "93671339",
   "metadata": {},
   "source": [
    "# Sort by column"
   ]
  },
  {
   "cell_type": "code",
   "execution_count": null,
   "id": "e7cab646",
   "metadata": {},
   "outputs": [],
   "source": [
    "Sort a given 2D array of shape (4, 5) by 2nd column (i.e. column at index 1) in ascending order.\n",
    "That means, we should re-arrange complete row based on 2nd columns' values.\n",
    "Given 2D array is:\n",
    " [[21 20 19 18 17]\n",
    "  [16 15 14 13 12]\n",
    "  [11 10  9  8  7]\n",
    "  [ 6  5  4  3  2]]\n",
    "Print the 2D array in sorted order.\n",
    "Note you have to generate the 2D Array.Here 2nd column means column present at index 1.\n",
    "\n",
    "Output Format :\n",
    "[[ 6  5  4  3  2]\n",
    "[11 10  9  8  7]\n",
    "[16 15 14 13 12]\n",
    "[21 20 19 18 17]]"
   ]
  },
  {
   "cell_type": "code",
   "execution_count": 53,
   "id": "b176a6c0",
   "metadata": {},
   "outputs": [
    {
     "name": "stdout",
     "output_type": "stream",
     "text": [
      "[[ 6  5  4  3  2]\n",
      " [11 10  9  8  7]\n",
      " [16 15 14 13 12]\n",
      " [21 20 19 18 17]]\n"
     ]
    }
   ],
   "source": [
    "a = np.array([[21, 20, 19, 18, 17],[16, 15, 14, 13, 12],[11, 10,  9,  8,  7],[6,  5,  4,  3,  2]])\n",
    "\n",
    "print(a[::-1])"
   ]
  },
  {
   "cell_type": "markdown",
   "id": "fdf3d78e",
   "metadata": {},
   "source": [
    "# NumPy Index"
   ]
  },
  {
   "cell_type": "code",
   "execution_count": null,
   "id": "1eb73fac",
   "metadata": {},
   "outputs": [],
   "source": [
    "Given a NumPy array that contains English marks of students, with NumPy index as the student's roll number, \n",
    "write a program to generate a NumPy array containing the roll numbers of students who scored at least 90 marks. \n",
    "Print this array."
   ]
  },
  {
   "cell_type": "code",
   "execution_count": 54,
   "id": "fa91b315",
   "metadata": {},
   "outputs": [
    {
     "name": "stdout",
     "output_type": "stream",
     "text": [
      "(array([0, 1, 3, 5], dtype=int64),)\n"
     ]
    }
   ],
   "source": [
    "marks = np.array([98, 100, 87, 94, 56, 91])\n",
    "\n",
    "index = np.where(marks>=90)\n",
    "print(index)"
   ]
  },
  {
   "cell_type": "markdown",
   "id": "6f2487a7",
   "metadata": {},
   "source": [
    "# Boolean Indexing"
   ]
  },
  {
   "cell_type": "code",
   "execution_count": null,
   "id": "3ecb52cc",
   "metadata": {},
   "outputs": [],
   "source": [
    "Write a program to generate a new NumPy array containing only those elements that are even and greater than 20 \n",
    "from a given NumPy array."
   ]
  },
  {
   "cell_type": "code",
   "execution_count": 3,
   "id": "14d95fd6",
   "metadata": {},
   "outputs": [
    {
     "name": "stdout",
     "output_type": "stream",
     "text": [
      "[34 80]\n"
     ]
    }
   ],
   "source": [
    "np_arr=np.array([29, 89, 34, 57, 80, 6, 18])\n",
    "\n",
    "arr = np_arr[(np_arr%2==0) & (np_arr>20)]\n",
    "print(arr)"
   ]
  },
  {
   "cell_type": "markdown",
   "id": "08cff2d5",
   "metadata": {},
   "source": [
    "# NumPy Operations"
   ]
  },
  {
   "cell_type": "code",
   "execution_count": null,
   "id": "80e045da",
   "metadata": {},
   "outputs": [],
   "source": [
    "Given a NumPy array, write a program to print the following:\n",
    "    1. The sum of all elements\n",
    "    2. The minimum element\n",
    "    3. The index of the maximum element"
   ]
  },
  {
   "cell_type": "code",
   "execution_count": 1,
   "id": "b9e0d58e",
   "metadata": {},
   "outputs": [
    {
     "name": "stdout",
     "output_type": "stream",
     "text": [
      "Mean of all elements of NumPy array is \n",
      "44\n",
      "Minimum value in NumPy array is\n",
      "2\n",
      "Index where maximum value is present is\n",
      "1\n"
     ]
    }
   ],
   "source": [
    "np_arr = np.array([10, 19, 10, 2, 3])\n",
    "\n",
    "print(\"Mean of all elements of NumPy array is \")\n",
    "print(np_arr.sum())\n",
    "    \n",
    "print(\"Minimum value in NumPy array is\") \n",
    "print(np_arr.min())\n",
    "    \n",
    "print(\"Index where maximum value is present is\")   \n",
    "print(np_arr.argmax())"
   ]
  },
  {
   "cell_type": "markdown",
   "id": "654e07ac",
   "metadata": {},
   "source": [
    "# Operations on NumPy Arrays"
   ]
  },
  {
   "cell_type": "code",
   "execution_count": null,
   "id": "23a2d3e7",
   "metadata": {},
   "outputs": [],
   "source": [
    "Given two NumPy arrays, one containing English marks and the other containing marks in Maths for all students, \n",
    "write a program to create NumPy arrays containing the following:\n",
    "\n",
    "1. Total marks of each student.\n",
    "2. Average marks of each student in English and Maths.\n",
    "3. Boolean values indicating whether the marks in English are \n",
    "   less than Maths for each student."
   ]
  },
  {
   "cell_type": "code",
   "execution_count": 2,
   "id": "8a5116e6",
   "metadata": {},
   "outputs": [
    {
     "name": "stdout",
     "output_type": "stream",
     "text": [
      "[176 168 123] [88.  84.  61.5] [False  True  True]\n"
     ]
    }
   ],
   "source": [
    "eng_marks = np.array([98, 78, 56])\n",
    "maths_marks = np.array([78, 90, 67])\n",
    "\n",
    "total_marks = eng_marks+maths_marks\n",
    "\n",
    "avg_marks = (eng_marks+maths_marks)/2\n",
    "\n",
    "bool_arr = eng_marks<maths_marks\n",
    "\n",
    "print(total_marks,avg_marks,bool_arr)"
   ]
  },
  {
   "cell_type": "code",
   "execution_count": null,
   "id": "a64674c4",
   "metadata": {},
   "outputs": [],
   "source": []
  },
  {
   "cell_type": "code",
   "execution_count": null,
   "id": "60a169f8",
   "metadata": {},
   "outputs": [],
   "source": []
  },
  {
   "cell_type": "code",
   "execution_count": null,
   "id": "ba466bfc",
   "metadata": {},
   "outputs": [],
   "source": []
  },
  {
   "cell_type": "code",
   "execution_count": null,
   "id": "27dd2dd0",
   "metadata": {},
   "outputs": [],
   "source": []
  }
 ],
 "metadata": {
  "kernelspec": {
   "display_name": "Python 3 (ipykernel)",
   "language": "python",
   "name": "python3"
  },
  "language_info": {
   "codemirror_mode": {
    "name": "ipython",
    "version": 3
   },
   "file_extension": ".py",
   "mimetype": "text/x-python",
   "name": "python",
   "nbconvert_exporter": "python",
   "pygments_lexer": "ipython3",
   "version": "3.9.12"
  }
 },
 "nbformat": 4,
 "nbformat_minor": 5
}
