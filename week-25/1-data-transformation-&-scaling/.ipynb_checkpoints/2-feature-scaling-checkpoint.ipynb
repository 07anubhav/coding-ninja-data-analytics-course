{
 "cells": [
  {
   "cell_type": "markdown",
   "id": "cbd74b86",
   "metadata": {},
   "source": [
    "# Feature Scaling\n",
    "* It is basically a technique where we will be converting Multi scale features into Single scale feature\n",
    "* Multi scale features: Like MRP, Weight, Visibility (In bigmart dataset)\n",
    "\n",
    "### Types of fetaure scaling:\n",
    "* **Normalization:** 0 to 1\n",
    "* **Standardization:** Mean is 0 and Standard Deviation is 1\n"
   ]
  },
  {
   "cell_type": "markdown",
   "id": "e83f7d85",
   "metadata": {},
   "source": [
    "# Normalization"
   ]
  },
  {
   "cell_type": "code",
   "execution_count": null,
   "id": "e9bd1e7b",
   "metadata": {},
   "outputs": [],
   "source": []
  }
 ],
 "metadata": {
  "kernelspec": {
   "display_name": "Python 3 (ipykernel)",
   "language": "python",
   "name": "python3"
  },
  "language_info": {
   "codemirror_mode": {
    "name": "ipython",
    "version": 3
   },
   "file_extension": ".py",
   "mimetype": "text/x-python",
   "name": "python",
   "nbconvert_exporter": "python",
   "pygments_lexer": "ipython3",
   "version": "3.9.12"
  }
 },
 "nbformat": 4,
 "nbformat_minor": 5
}
