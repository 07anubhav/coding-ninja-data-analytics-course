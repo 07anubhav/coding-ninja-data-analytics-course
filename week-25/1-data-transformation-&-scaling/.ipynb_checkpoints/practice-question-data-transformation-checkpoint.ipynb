{
 "cells": [
  {
   "cell_type": "code",
   "execution_count": 1,
   "id": "21b53844",
   "metadata": {},
   "outputs": [
    {
     "name": "stderr",
     "output_type": "stream",
     "text": [
      "D:\\Anaconda\\lib\\site-packages\\scipy\\__init__.py:146: UserWarning: A NumPy version >=1.16.5 and <1.23.0 is required for this version of SciPy (detected version 1.24.3\n",
      "  warnings.warn(f\"A NumPy version >={np_minversion} and <{np_maxversion}\"\n"
     ]
    }
   ],
   "source": [
    "import pandas as pd\n",
    "import numpy as np\n",
    "import matplotlib.pyplot as plt\n",
    "import seaborn as sns"
   ]
  },
  {
   "cell_type": "markdown",
   "id": "7b22d261",
   "metadata": {},
   "source": [
    "# Find Correlation"
   ]
  },
  {
   "cell_type": "code",
   "execution_count": null,
   "id": "dde2357f",
   "metadata": {},
   "outputs": [],
   "source": [
    "In the Big mart dataset, you have separated the information for Items and outlets. Now your task is to find the correlation \n",
    "between \"ItemOutletSales\" and all other features of the \"split_items\" dataset.\n",
    "Your task is to split the big mart dataset based on \"Items\" and \"Outlet\" information as discussed in the video. \n",
    "Then find the feature having a correlation greater than 0.5 in the \"splititems\" dataset with the feature \"ItemOutlet_Sales\".\n",
    "\n",
    "Expected Output\n",
    "Print the feature with a correlation greater than 0.5 with \"Item_Outlet_Sales\" in the \"split_items\" dataset."
   ]
  },
  {
   "cell_type": "code",
   "execution_count": 5,
   "id": "f871fb34",
   "metadata": {},
   "outputs": [
    {
     "name": "stdout",
     "output_type": "stream",
     "text": [
      "Item_MRP\n"
     ]
    }
   ],
   "source": [
    "df = pd.read_csv('bigmart.csv')\n",
    "df['rowno'] = np.arange(len(df))\n",
    "df_items = df.filter(['rowno','Item_Identifier','Item_Weight','Item_Fat_Content','Item_Visibility','Item_MRP','Item_Outlet_Sales'])\n",
    "df_items.corr()\n",
    "\n",
    "print('Item_MRP')"
   ]
  },
  {
   "cell_type": "markdown",
   "id": "af5b4602",
   "metadata": {},
   "source": [
    "# All Merge"
   ]
  },
  {
   "cell_type": "code",
   "execution_count": null,
   "id": "3372de01",
   "metadata": {},
   "outputs": [],
   "source": [
    "You have been provided with two datasets:\n",
    "data1 = {\n",
    "  \"name\": [\"Sally\", \"Mary\", \"John\"],\n",
    "  \"age\": [50, 40, 30]}\n",
    "\n",
    "data2 = {\n",
    "  \"name\": [\"Sally\", \"Peter\", \"Micky\"],\n",
    "  \"age\": [77, 44, 22]\n",
    "}\n",
    "\n",
    "Your task is to merge these two datasets in such a way that all the rows of both the dataset are present in the merged dataset.\n",
    "\n",
    "Expected output\n",
    "Print the number of unique values present in the “name” column."
   ]
  },
  {
   "cell_type": "code",
   "execution_count": null,
   "id": "0fcfa317",
   "metadata": {},
   "outputs": [],
   "source": []
  },
  {
   "cell_type": "markdown",
   "id": "d885ad2c",
   "metadata": {},
   "source": [
    "# Merge Data"
   ]
  },
  {
   "cell_type": "code",
   "execution_count": null,
   "id": "201505a6",
   "metadata": {},
   "outputs": [],
   "source": [
    "You have been given two data frames.\n",
    "df1 = pd.DataFrame({'employee': ['Bob', 'Jake', 'Lisa', 'Sue'],\n",
    "                'group': ['Accounting', 'Engineering', 'Engineering', 'HR']})\n",
    "\n",
    "df2 = pd.DataFrame({'name': ['Bob', 'Jake', 'Lisa', 'Sue'],\n",
    "                'salary': [70000, 80000, 120000, 90000]})\n",
    "Problem Statement\n",
    "You need to merge these two datasets. Here the employee for df1 is similar to the name for df2. \n",
    "Also, you need to remove the name column from the merged data frame.\n",
    "\n",
    "Expected Output\n",
    "Print the shape of the merged dataset."
   ]
  },
  {
   "cell_type": "code",
   "execution_count": null,
   "id": "1f70cf8b",
   "metadata": {},
   "outputs": [],
   "source": []
  },
  {
   "cell_type": "code",
   "execution_count": null,
   "id": "379597e3",
   "metadata": {},
   "outputs": [],
   "source": []
  },
  {
   "cell_type": "code",
   "execution_count": null,
   "id": "672e7be6",
   "metadata": {},
   "outputs": [],
   "source": []
  },
  {
   "cell_type": "code",
   "execution_count": null,
   "id": "a228591f",
   "metadata": {},
   "outputs": [],
   "source": []
  }
 ],
 "metadata": {
  "kernelspec": {
   "display_name": "Python 3 (ipykernel)",
   "language": "python",
   "name": "python3"
  },
  "language_info": {
   "codemirror_mode": {
    "name": "ipython",
    "version": 3
   },
   "file_extension": ".py",
   "mimetype": "text/x-python",
   "name": "python",
   "nbconvert_exporter": "python",
   "pygments_lexer": "ipython3",
   "version": "3.9.12"
  }
 },
 "nbformat": 4,
 "nbformat_minor": 5
}
