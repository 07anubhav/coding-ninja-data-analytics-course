{
 "cells": [
  {
   "cell_type": "markdown",
   "id": "e1a8f013",
   "metadata": {},
   "source": [
    "# Dimensions\n",
    "   * **Category:** Furniture, Office supplies\n",
    "   * **Sub-category:** chair, table\n",
    "   * **City**\n",
    "   * **Postal-code** \n",
    "   * **ID's**\n",
    "\n",
    "* We cannot perform **mathematical operations**\n",
    "* Cannot be plotted on number line\n",
    "\n",
    "# Measures\n",
    "   * **Quantity**\n",
    "   * **Profit**\n",
    "   * **Sales**\n",
    "   * **Discount**\n",
    "\n",
    "* We can perform **mathematical operations**\n",
    "* Can be plotted on number line"
   ]
  }
 ],
 "metadata": {
  "kernelspec": {
   "display_name": "Python 3 (ipykernel)",
   "language": "python",
   "name": "python3"
  },
  "language_info": {
   "codemirror_mode": {
    "name": "ipython",
    "version": 3
   },
   "file_extension": ".py",
   "mimetype": "text/x-python",
   "name": "python",
   "nbconvert_exporter": "python",
   "pygments_lexer": "ipython3",
   "version": "3.9.12"
  }
 },
 "nbformat": 4,
 "nbformat_minor": 5
}
