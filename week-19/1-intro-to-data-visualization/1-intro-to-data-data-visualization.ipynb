{
 "cells": [
  {
   "cell_type": "markdown",
   "id": "df66b4af",
   "metadata": {},
   "source": [
    "# Data Visualisation\n",
    "* Data visualisation refers to techniques used to communicate insights from data through visual representation.\n",
    "* It means visually presenting data using charts, graphs and maps. \n",
    "* Data Visualization is the art of presenting the data so that any person from a non-technical background canalso understand. \n",
    "* Also, It allows Data analysts to converse with their end-users.\n",
    "\n",
    "## Visual Analytics\n",
    "* It plays an important role in understanding complex information, as our human brain understands visual information faster and better rather than text information\n",
    "\n",
    "## Need of Visualisation\n",
    "* Using visual elements like charts, graphs, and maps, data visualisation tools provide an accessible way to see and understand trends, outliers, and patterns in data.\n",
    "* The amount of information that humans gain through vision is far beyond other organs.\n",
    "* So Visualisation is used to analyse a massive amount of data and make decisions based on data.\n",
    "* Visualisation can help us deal with more complex information and enhance memory\n",
    "\n",
    "## Importance of Visualisation\n",
    "* Help in quickly understanding the data.\n",
    "* It simplifies large datasets in a way that people can easily interpret.\n",
    "* It shows trends that may not be apparent at first glance\n",
    "* Identify areas that need attention or improvement.\n",
    "* Offers new insights into your data\n",
    "* Quickly identify outliers\n",
    "\n",
    "## Types of Data Visualisation\n",
    "### Exploratory Analysis:\n",
    "   * It is done during data analysis to find insights\n",
    "   * It is appropriate when you have a bunch of data and you’re unsure what’s in it.\n",
    "   * Visualisations built for these purposes do not need to be perfect. You are simply looking for patterns.\n",
    "\n",
    "### Explanatory Analysis:\n",
    "   * It is done after you find insight.\n",
    "   * It is appropriate when you already know what the data has to say, and it helps you when you are trying to tell that story to somebody else.\n",
    "   * It helps in getting an answer in the form of the story"
   ]
  },
  {
   "cell_type": "markdown",
   "id": "df6907d0",
   "metadata": {},
   "source": [
    "# Need of BI tools (Tableau, Power Bi, Looker, SiSense, Click View)\n",
    "* It's ability to connect to various data sources like (CSV file, Excel, Google BigQuery, Amazon Redshift, Snowflake, Postgre SQL)\n",
    "* Ability to model data -> [Postgre SQl+CSV+Excel]join them. Be able to write custom functions\n",
    "* Speed\n",
    "* Advance visualization -> Stack bar, bar, line, pie, maps\n",
    "* Security -> Robust security for sensitive information\n",
    "\n",
    "# Tableau Products\n",
    "* **Tableau Desktop:** paid version, full features, all connectors (can connect to any data source)\n",
    "* **Tableau Reader:** free versions, offer dashboard offline\n",
    "* **Tableau Server:** paid verison with central servers catering to both data analyst & the users\n",
    "* **Tableau Public:** free version, similar to tableau desktop, limited connectors (can connect to excel & csv), save work on tableau public account"
   ]
  }
 ],
 "metadata": {
  "kernelspec": {
   "display_name": "Python 3 (ipykernel)",
   "language": "python",
   "name": "python3"
  },
  "language_info": {
   "codemirror_mode": {
    "name": "ipython",
    "version": 3
   },
   "file_extension": ".py",
   "mimetype": "text/x-python",
   "name": "python",
   "nbconvert_exporter": "python",
   "pygments_lexer": "ipython3",
   "version": "3.9.12"
  }
 },
 "nbformat": 4,
 "nbformat_minor": 5
}
