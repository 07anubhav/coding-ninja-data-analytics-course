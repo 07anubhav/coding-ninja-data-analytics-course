{
 "cells": [
  {
   "cell_type": "markdown",
   "id": "5e02e878",
   "metadata": {},
   "source": [
    "### Grand Total row (sales-by-region-&-subCategory)\n",
    "* Goto Analysis -> Totals -> Show row grand totals\n",
    "\n",
    "### Grand Total column (sales-by-region-&-subCategory)\n",
    "* Goto Analysis -> Totals -> Show column grand totals\n",
    "\n",
    "### Bar graph (sales-by-region-barGraph)\n",
    "* If you want the bar to have labels on it, then Drag and drop the 'Sales' to 'Label' option\n",
    "\n",
    "### Stack bar graph (sales-by-region-stackBarGraph)\n",
    "* If you want to split the graph based on color, the Drag and drop 'Category' to 'Color' option\n",
    "\n",
    "### Line chart (year-by-sales-lineChart)\n",
    "* By default if we place date column in column section of tableau it'll take 'Year' by deafult\n",
    "* '+' by this button we can divide year to quarter and quarter to month\n",
    "* if you want quarter to be present but the graph to be shown as year and month, don't remove the quarter but just drag and drop it to empty area\n",
    "* If we want to show year along with the month itself, then remove all other column except year then goto drop down menu and click on month\n",
    "* If you want the bar to have labels on it, then Drag and drop the 'Sales' to 'Label' option\n",
    "* To show **Trend line**, right click on the graph and click on trend lines -> show trend lines\n",
    "* To show **Forecast**, right click on the graph and click on forecast -> show forecast\n",
    "\n",
    "### Scatter plot (sales-by-profit-scatterPlot)\n",
    "* we have put sales in column and profit in rows, but we got only 1 point as it summed up sale and profit and gave us the result\n",
    "* so, to plot scatter plot put 'customerId' in 'Details'\n",
    "* if you want to show profit and loss in different color just drag and drop 'profit' into 'Colors'\n",
    "* if you want to see customer name into your tool tip when you hover over any dot, then just drag and drop 'customer name' to 'Tool Tip'\n",
    "\n",
    "### Pie plot (segment-by-profit-piePlot)\n",
    "* To create a pie chart select pie from 'Automatic'\n",
    "* To change color of segment darg and drop the row 'segment column' into color\n",
    "* **if we want angle to be changed based on the profit then drag and drop 'Profit' into angle**\n",
    "* if you want percenatage to be shown then goto 'SUM(Profit)' in marks section, drop down the menu of it -> quick table calculation -> percent to total \n",
    "* if you want to customize the labels, then click on 'Label' open text and edit the labels there that you want to show"
   ]
  }
 ],
 "metadata": {
  "kernelspec": {
   "display_name": "Python 3 (ipykernel)",
   "language": "python",
   "name": "python3"
  },
  "language_info": {
   "codemirror_mode": {
    "name": "ipython",
    "version": 3
   },
   "file_extension": ".py",
   "mimetype": "text/x-python",
   "name": "python",
   "nbconvert_exporter": "python",
   "pygments_lexer": "ipython3",
   "version": "3.9.12"
  }
 },
 "nbformat": 4,
 "nbformat_minor": 5
}
