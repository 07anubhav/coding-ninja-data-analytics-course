{
 "cells": [
  {
   "cell_type": "markdown",
   "id": "4032813c",
   "metadata": {},
   "source": [
    "### Heat map (region-by-subCategory-profits-heatMap)\n",
    "* We want to find for profit on sub-category and based on region\n",
    "* put 'Region' in columns, 'Sub-category' in rows and 'Profits' in 'Color' and 'Text'\n",
    "* Then goto 'Automatic' and choose square\n",
    "\n",
    "### Map Representation (profit-by-state-Map)\n",
    "* Profits bases upon state\n",
    "* Put 'Country' then 'State' into Details\n",
    "* To fill the complete color into state, just click on show me and select maps\n",
    "* Then put 'Profit' into color\n",
    "* in Mask goto 'Color' then goto advance option and select full color range\n",
    "* if you want to chnage the format of the number like change 1000 to 1k like that the, in Mask goto profit and right click on it -> format -> the goto numbers and change the unit to currency and 'display unit' to 'K'.\n",
    "\n",
    "### Dual Axis chart\n",
    "* let suppose we want to plot Profit per month-year and Sales per month-year in a single chart only (No 2 charts)\n",
    "* To create month-year combination, first drag and drop the '(Year) Order date' into column and open the drop down menu and select 'Month' which is having month-year combination\n",
    "* drag and drop 'Sales' and 'Profit' to rows, we will see 2 axis has been created\n",
    "* if you want each month of each year then just drop down the menu bar of '(Year) Order date' and select discrete instead of continuous\n",
    "* to make it Dual axis we will drop down the menu bar of 'Profit' and select dual axis but still there will be 2-axis so we need to fix that\n",
    "* so right click on the Profit axis and select 'Synchronize' axis, and de-select 'Show header' option as well to hide the axis\n",
    "* if you want to change the name of row just right click on the axis and goto edit and edit the name\n",
    "* if you want your sales to be bar graph and profit to be line chart, goto Marks and goto SUM(Sales) and select Bar in that"
   ]
  }
 ],
 "metadata": {
  "kernelspec": {
   "display_name": "Python 3 (ipykernel)",
   "language": "python",
   "name": "python3"
  },
  "language_info": {
   "codemirror_mode": {
    "name": "ipython",
    "version": 3
   },
   "file_extension": ".py",
   "mimetype": "text/x-python",
   "name": "python",
   "nbconvert_exporter": "python",
   "pygments_lexer": "ipython3",
   "version": "3.9.12"
  }
 },
 "nbformat": 4,
 "nbformat_minor": 5
}
