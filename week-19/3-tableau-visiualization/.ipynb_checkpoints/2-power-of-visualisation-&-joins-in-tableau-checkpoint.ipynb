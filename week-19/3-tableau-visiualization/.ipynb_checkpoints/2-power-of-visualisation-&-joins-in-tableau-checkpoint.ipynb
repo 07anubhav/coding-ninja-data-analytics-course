{
 "cells": [
  {
   "cell_type": "markdown",
   "id": "5baefa9b",
   "metadata": {},
   "source": [
    "## Power of visualisation\n",
    "* let suppose we have been asked by our manager to answer these few question:\n",
    "    * region with highest sales - West\n",
    "    * second most sold sub-category - Chairs\n",
    "    * highest profit making item - Copiers\n",
    "    * item that have losses in more than 2 regions\n",
    "    * most loss making item - tables\n",
    "    * So we need these things:\n",
    "        * region\n",
    "        * sales\n",
    "        * sub-category\n",
    "\n",
    "* we will move 'Region' and 'Sub-category' to column and row respectively\n",
    "* to sort column data right click on 'Region' and select 'Sort feilds' and select Sort by 'Fields'\n",
    "* we have created 2 charts in 2 different sheet but still we got 4 answers only\n",
    "* **we select 'Center' in edit colors because whenever a new items comes in don't want the center point to change and as soon as a item comes and its in loss it should display red colour and if it has profit it should display profit**\n",
    "\n",
    "## Joins in Tableau\n",
    "* Right click on 'Orders' that is present on the left side Data section -> edit data source option -> then our main data source page will open -> then drag and drop the other sheet that was 'People' from the sales dataset. And tableau will automatically join those 2 sheets based on some similar column."
   ]
  }
 ],
 "metadata": {
  "kernelspec": {
   "display_name": "Python 3 (ipykernel)",
   "language": "python",
   "name": "python3"
  },
  "language_info": {
   "codemirror_mode": {
    "name": "ipython",
    "version": 3
   },
   "file_extension": ".py",
   "mimetype": "text/x-python",
   "name": "python",
   "nbconvert_exporter": "python",
   "pygments_lexer": "ipython3",
   "version": "3.9.12"
  }
 },
 "nbformat": 4,
 "nbformat_minor": 5
}
