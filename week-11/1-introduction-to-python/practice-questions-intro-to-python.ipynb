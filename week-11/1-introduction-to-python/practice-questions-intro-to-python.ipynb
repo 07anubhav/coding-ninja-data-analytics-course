{
 "cells": [
  {
   "cell_type": "code",
   "execution_count": null,
   "id": "05c8bf49",
   "metadata": {},
   "outputs": [],
   "source": [
    "Write a program to print: \n",
    "    Hello, Welcome to the programming world"
   ]
  },
  {
   "cell_type": "code",
   "execution_count": 2,
   "id": "ce4bb9ca",
   "metadata": {},
   "outputs": [
    {
     "name": "stdout",
     "output_type": "stream",
     "text": [
      "Hello, Welcome to the programming world\n"
     ]
    }
   ],
   "source": [
    "print('Hello, Welcome to the programming world')"
   ]
  },
  {
   "cell_type": "code",
   "execution_count": null,
   "id": "d0c03748",
   "metadata": {},
   "outputs": [],
   "source": [
    "Problem Statement\n",
    "Write a program to print the following lines of text as output:\n",
    "\n",
    "Hello, Everyone!\n",
    "Welcome to the Python programming world."
   ]
  },
  {
   "cell_type": "code",
   "execution_count": 2,
   "id": "46052e39",
   "metadata": {},
   "outputs": [
    {
     "name": "stdout",
     "output_type": "stream",
     "text": [
      "Hello, Everyone!\n",
      "Welcome to the Python programming world.\n"
     ]
    }
   ],
   "source": [
    "print('Hello, Everyone!')\n",
    "print('Welcome to the Python programming world.')"
   ]
  },
  {
   "cell_type": "code",
   "execution_count": null,
   "id": "e3db74a4",
   "metadata": {},
   "outputs": [],
   "source": [
    "Write a program to print the result of the subtraction of two numbers, a=20 and b=15."
   ]
  },
  {
   "cell_type": "code",
   "execution_count": 3,
   "id": "a9484bff",
   "metadata": {},
   "outputs": [
    {
     "name": "stdout",
     "output_type": "stream",
     "text": [
      "5\n"
     ]
    }
   ],
   "source": [
    "a=20\n",
    "b=15\n",
    "sub=a-b\n",
    "print(sub)"
   ]
  },
  {
   "cell_type": "code",
   "execution_count": null,
   "id": "30169817",
   "metadata": {},
   "outputs": [],
   "source": [
    "Write a program that calculates the sum of two numbers, a and b, and then multiplies this sum by a given number, c. The values for a, b, and c are as follows:\n",
    "a = 15\n",
    "b = 10\n",
    "c = 20"
   ]
  },
  {
   "cell_type": "code",
   "execution_count": 4,
   "id": "c227ca76",
   "metadata": {},
   "outputs": [
    {
     "name": "stdout",
     "output_type": "stream",
     "text": [
      "25\n",
      "500\n"
     ]
    }
   ],
   "source": [
    "# Declare varilables\n",
    "a = 15\n",
    "b = 10\n",
    "c = 20\n",
    "\n",
    "# Calculate the sum of a and b\n",
    "sum = a+b\n",
    "\n",
    "# Multiply the sum by c\n",
    "mult = sum*c\n",
    "\n",
    "# Display the result\n",
    "print(sum) \n",
    "print(mult)"
   ]
  },
  {
   "cell_type": "code",
   "execution_count": null,
   "id": "f6ff565b",
   "metadata": {},
   "outputs": [],
   "source": [
    "Write a program to assign values to the variables and print their type in separate lines.\n",
    "name -> \"Student1\"\n",
    "age -> 22 \n",
    "stud_id -> 101 \n",
    "Marks -> 98.7 \n",
    "Section -> 'c'"
   ]
  },
  {
   "cell_type": "code",
   "execution_count": 1,
   "id": "f9d58605",
   "metadata": {},
   "outputs": [
    {
     "name": "stdout",
     "output_type": "stream",
     "text": [
      "<class 'str'>\n",
      "<class 'int'>\n",
      "<class 'int'>\n",
      "<class 'float'>\n",
      "<class 'str'>\n"
     ]
    }
   ],
   "source": [
    "name = \"Student1\"\n",
    "age = 22 \n",
    "stud_id = 101 \n",
    "Marks = 98.7 \n",
    "Section = 'c'\n",
    "\n",
    "print(type(name))\n",
    "print(type(age))\n",
    "print(type(stud_id))\n",
    "print(type(Marks))\n",
    "print(type(Section))"
   ]
  },
  {
   "cell_type": "code",
   "execution_count": null,
   "id": "4c70522d",
   "metadata": {},
   "outputs": [],
   "source": [
    "Write a program to calculate the perimeter of a rectangle.\n",
    "Given:\n",
    "Formula: perimeter= 2*(length + breadth), where l = 20 and b = 10."
   ]
  },
  {
   "cell_type": "code",
   "execution_count": 2,
   "id": "99e190b4",
   "metadata": {},
   "outputs": [
    {
     "name": "stdout",
     "output_type": "stream",
     "text": [
      "Perimeter 60\n"
     ]
    }
   ],
   "source": [
    "l = 20\n",
    "b = 10\n",
    "perimeter = 2*(l+b)\n",
    "print(\"Perimeter\",perimeter)"
   ]
  },
  {
   "cell_type": "code",
   "execution_count": null,
   "id": "14a37e15",
   "metadata": {},
   "outputs": [],
   "source": [
    "Write a program to input marks of 3 tests of a student. Calculate and print the average of all test marks."
   ]
  },
  {
   "cell_type": "code",
   "execution_count": 3,
   "id": "f729fa06",
   "metadata": {},
   "outputs": [
    {
     "name": "stdout",
     "output_type": "stream",
     "text": [
      "3\n",
      "4\n",
      "5\n",
      "4.0\n"
     ]
    }
   ],
   "source": [
    "a = int(input())\n",
    "b = int(input())\n",
    "c = int(input())\n",
    "print((a+b+c)/3)"
   ]
  },
  {
   "cell_type": "code",
   "execution_count": null,
   "id": "f3eed6fc",
   "metadata": {},
   "outputs": [],
   "source": [
    "Write a program to calculate simple interest.\n",
    "\n",
    "Formula: SI = (P x T x R)/100\n",
    "\n",
    "where,\n",
    "P, the principal amount\n",
    "T, the time(years)\n",
    "R, the rate"
   ]
  },
  {
   "cell_type": "code",
   "execution_count": 4,
   "id": "46514092",
   "metadata": {},
   "outputs": [
    {
     "name": "stdout",
     "output_type": "stream",
     "text": [
      "2000\n",
      "1\n",
      "4\n",
      "80.0\n"
     ]
    }
   ],
   "source": [
    "p = int(input())\n",
    "t = int(input())\n",
    "r = int(input())\n",
    "si = (p*t*r)/100\n",
    "print(si)"
   ]
  },
  {
   "cell_type": "code",
   "execution_count": null,
   "id": "ec57bda4",
   "metadata": {},
   "outputs": [],
   "source": [
    "Write a program to convert Temperature in Fahrenheit to Celsius.\n",
    "\n",
    "Formula: C=((F -32)*5)/9"
   ]
  },
  {
   "cell_type": "code",
   "execution_count": 6,
   "id": "61992287",
   "metadata": {},
   "outputs": [
    {
     "name": "stdout",
     "output_type": "stream",
     "text": [
      "97.8\n",
      "36.55555555555556\n"
     ]
    }
   ],
   "source": [
    "f = float(input())\n",
    "c = ((f-32)*5)/9\n",
    "print(c)"
   ]
  },
  {
   "cell_type": "code",
   "execution_count": null,
   "id": "8dd22804",
   "metadata": {},
   "outputs": [],
   "source": [
    "Write a program to perform the following operations on variables a and b.\n",
    "\n",
    "Addition (+) \n",
    "Subtraction (-)  \n",
    "Multiplication (*)\n",
    "Floating Point Division (/)  \n",
    "Floor Division (//)\n",
    "Modulo Operation (%) "
   ]
  },
  {
   "cell_type": "code",
   "execution_count": 8,
   "id": "39ab9de1",
   "metadata": {},
   "outputs": [
    {
     "name": "stdout",
     "output_type": "stream",
     "text": [
      "20\n",
      "10\n",
      "--------------------\n",
      "30\n",
      "10\n",
      "200\n",
      "2.0\n",
      "2\n",
      "0\n"
     ]
    }
   ],
   "source": [
    "a = int(input())\n",
    "b = int(input())\n",
    "print('--------------------')\n",
    "print(a+b)\n",
    "print(a-b)\n",
    "print(a*b)\n",
    "print(a/b)\n",
    "print(a//b)\n",
    "print(a%b)"
   ]
  }
 ],
 "metadata": {
  "kernelspec": {
   "display_name": "Python 3 (ipykernel)",
   "language": "python",
   "name": "python3"
  },
  "language_info": {
   "codemirror_mode": {
    "name": "ipython",
    "version": 3
   },
   "file_extension": ".py",
   "mimetype": "text/x-python",
   "name": "python",
   "nbconvert_exporter": "python",
   "pygments_lexer": "ipython3",
   "version": "3.9.12"
  }
 },
 "nbformat": 4,
 "nbformat_minor": 5
}
