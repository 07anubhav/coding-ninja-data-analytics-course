{
 "cells": [
  {
   "cell_type": "markdown",
   "id": "87475668",
   "metadata": {},
   "source": [
    "# Divisibility Check"
   ]
  },
  {
   "cell_type": "code",
   "execution_count": null,
   "id": "7b1361dd",
   "metadata": {},
   "outputs": [],
   "source": [
    "Problem Statement\n",
    "Write a program to check whether a number is divisible by 7."
   ]
  },
  {
   "cell_type": "code",
   "execution_count": 1,
   "id": "15ede6f2",
   "metadata": {},
   "outputs": [
    {
     "name": "stdout",
     "output_type": "stream",
     "text": [
      "35\n",
      "Divisible by 7\n"
     ]
    }
   ],
   "source": [
    "num = int(input())\n",
    "\n",
    "if num%7 == 0:\n",
    "    print('Divisible by 7')\n",
    "else:\n",
    "    print(\"Not divisible by 7\")"
   ]
  },
  {
   "cell_type": "markdown",
   "id": "5ac0aade",
   "metadata": {},
   "source": [
    "# Vote Eligibility"
   ]
  },
  {
   "cell_type": "code",
   "execution_count": null,
   "id": "cbe3fd55",
   "metadata": {},
   "outputs": [],
   "source": [
    "Given a person's age and citizenship, write a program to check whether the person is eligible to vote or not.\n",
    "\n",
    "Conditions:\n",
    "1. At least age 18 or above.\n",
    "2. Indian citizen.\n",
    "\n",
    "The program should input a positive integer n and a string \"Yes\" if Indian citizen. Otherwise, \"No\"."
   ]
  },
  {
   "cell_type": "code",
   "execution_count": 2,
   "id": "8062317e",
   "metadata": {},
   "outputs": [
    {
     "name": "stdout",
     "output_type": "stream",
     "text": [
      "56\n",
      "Yes\n",
      "Yes\n"
     ]
    }
   ],
   "source": [
    "age = int(input())\n",
    "citizen_status = input()\n",
    "\n",
    "if age >= 18 and citizen_status == 'Yes':\n",
    "    print('Yes')\n",
    "else:\n",
    "    print('No')"
   ]
  },
  {
   "cell_type": "markdown",
   "id": "c57d8dea",
   "metadata": {},
   "source": [
    "# Grade Evaluator"
   ]
  },
  {
   "cell_type": "code",
   "execution_count": null,
   "id": "86300a08",
   "metadata": {},
   "outputs": [],
   "source": [
    "Write a program to print the student's grades with \n",
    " given marks.\n",
    " Condition:\n",
    " \"Grade A\", if marks are  between 80 or above\n",
    " \"Grade B\", if marks are  between 60 and 79\n",
    " \"Grade C\", if marks are  between 40 and 59\n",
    " \"Grade D\", if marks are  between20 and 39\n",
    " \"Grade F\" for marks  below 20"
   ]
  },
  {
   "cell_type": "code",
   "execution_count": 3,
   "id": "2a3d9280",
   "metadata": {},
   "outputs": [
    {
     "name": "stdout",
     "output_type": "stream",
     "text": [
      "56\n",
      "Grade C\n"
     ]
    }
   ],
   "source": [
    "m1 = int(input())\n",
    "\n",
    "if m1 >= 80:\n",
    "    print('Grade A')\n",
    "elif m1 >= 60:\n",
    "    print('Grade B')\n",
    "elif m1 >= 40:\n",
    "    print('Grade C')\n",
    "elif m1 >= 20:\n",
    "    print('Grade D')\n",
    "else:\n",
    "    print('Grade F')"
   ]
  },
  {
   "cell_type": "markdown",
   "id": "df2dd8b2",
   "metadata": {},
   "source": [
    "# Check number"
   ]
  },
  {
   "cell_type": "code",
   "execution_count": null,
   "id": "58cfd33e",
   "metadata": {},
   "outputs": [],
   "source": [
    "Given an integer n, find if n is positive, negative or 0.\n",
    "If n is positive, print \"Positive\"\n",
    "If n is negative, print \"Negative\"\n",
    "And if n is equal to 0, print \"Zero\".\n",
    "\n",
    "Constraints :\n",
    "-100 <= n <= 100"
   ]
  },
  {
   "cell_type": "code",
   "execution_count": 4,
   "id": "0f2efb6d",
   "metadata": {},
   "outputs": [
    {
     "name": "stdout",
     "output_type": "stream",
     "text": [
      "0\n",
      "Zero\n"
     ]
    }
   ],
   "source": [
    "n = int(input())\n",
    "\n",
    "if n >= -100 and n <=100:\n",
    "    if n >= -100 and n < 0:\n",
    "        print('Negative')\n",
    "    elif n > 0 and n <= 100:\n",
    "        print('Positive')\n",
    "    else:\n",
    "        print('Zero')"
   ]
  },
  {
   "cell_type": "markdown",
   "id": "c52da6ae",
   "metadata": {},
   "source": [
    "# Largest Number"
   ]
  },
  {
   "cell_type": "code",
   "execution_count": null,
   "id": "9821f7f3",
   "metadata": {},
   "outputs": [],
   "source": [
    "Given three numbers A, B and C, write a program to print the largest among them."
   ]
  },
  {
   "cell_type": "code",
   "execution_count": 5,
   "id": "e8c91a0a",
   "metadata": {},
   "outputs": [
    {
     "name": "stdout",
     "output_type": "stream",
     "text": [
      "3\n",
      "4\n",
      "0\n",
      "4\n"
     ]
    }
   ],
   "source": [
    "A = int(input())\n",
    "B = int(input())\n",
    "C = int(input())\n",
    "\n",
    "if A > B and A > C:\n",
    "    print(A)\n",
    "elif B>A and B > C:\n",
    "    print(B)\n",
    "else:\n",
    "    print(C)"
   ]
  },
  {
   "cell_type": "markdown",
   "id": "548d694c",
   "metadata": {},
   "source": [
    "# Nested Conditional Check"
   ]
  },
  {
   "cell_type": "code",
   "execution_count": null,
   "id": "f80300d1",
   "metadata": {},
   "outputs": [],
   "source": [
    "Write a python script which takes integer input from the user and checks if the number is divisible by 2 and 3 or not."
   ]
  },
  {
   "cell_type": "code",
   "execution_count": 6,
   "id": "27986d95",
   "metadata": {},
   "outputs": [
    {
     "name": "stdout",
     "output_type": "stream",
     "text": [
      "67\n",
      "Not Divisible by 2 and also not divisible by 3\n"
     ]
    }
   ],
   "source": [
    "num = int(input())\n",
    "\n",
    "if num % 2 == 0:\n",
    "    if num%3 == 0:\n",
    "        print('Divisible by 2 and 3')\n",
    "    else:\n",
    "        print('Divisible by 2 but not divisible by 3')\n",
    "elif num%3 == 0:\n",
    "    if num%2 != 0:\n",
    "        print('Divisible by 3 but not divisible by 2')\n",
    "else:\n",
    "    print('Not Divisible by 2 and also not divisible by 3')"
   ]
  },
  {
   "cell_type": "markdown",
   "id": "8a086e52",
   "metadata": {},
   "source": [
    "# AP Series"
   ]
  },
  {
   "cell_type": "code",
   "execution_count": null,
   "id": "69b827c2",
   "metadata": {},
   "outputs": [],
   "source": [
    "Write a program to print an arithmetic progression (AP) series with a common difference of 10, \n",
    "where the first term is 10 and the nth term is 300.\n",
    "\n",
    "The required AP series is:\n",
    "10, 20, 30, ..., 300."
   ]
  },
  {
   "cell_type": "code",
   "execution_count": 1,
   "id": "327f6c21",
   "metadata": {},
   "outputs": [
    {
     "name": "stdout",
     "output_type": "stream",
     "text": [
      "10 20 30 40 50 60 70 80 90 100 110 120 130 140 150 160 170 180 190 200 210 220 230 240 250 260 270 280 290 300 "
     ]
    }
   ],
   "source": [
    "def print_ap_series():\n",
    "    AP = 10\n",
    "    while AP <= 300:\n",
    "        print (AP, end=\" \")\n",
    "        AP = AP+10\n",
    "\n",
    "print_ap_series()"
   ]
  },
  {
   "cell_type": "markdown",
   "id": "bb5836cd",
   "metadata": {},
   "source": [
    "# Sum of Even Numbers"
   ]
  },
  {
   "cell_type": "code",
   "execution_count": null,
   "id": "2683e266",
   "metadata": {},
   "outputs": [],
   "source": [
    "Given a number N, print sum of all even numbers from 1 to N."
   ]
  },
  {
   "cell_type": "code",
   "execution_count": 7,
   "id": "c867df33",
   "metadata": {},
   "outputs": [
    {
     "name": "stdout",
     "output_type": "stream",
     "text": [
      "6\n",
      "12\n"
     ]
    }
   ],
   "source": [
    "n = int(input())\n",
    "flag = 1\n",
    "sum1 = 0\n",
    "while flag <= n:\n",
    "    if flag%2 == 0:\n",
    "        sum1 += flag\n",
    "    flag += 1\n",
    "\n",
    "print(sum1)"
   ]
  },
  {
   "cell_type": "markdown",
   "id": "a88369cd",
   "metadata": {},
   "source": [
    "# Prime or not"
   ]
  },
  {
   "cell_type": "code",
   "execution_count": null,
   "id": "1378ca02",
   "metadata": {},
   "outputs": [],
   "source": [
    "Given a number N, print sum of all even numbers from 1 to N."
   ]
  },
  {
   "cell_type": "code",
   "execution_count": 8,
   "id": "674ec871",
   "metadata": {},
   "outputs": [
    {
     "name": "stdout",
     "output_type": "stream",
     "text": [
      "7\n",
      "Prime\n"
     ]
    }
   ],
   "source": [
    "n = int(input())\n",
    "d = 2\n",
    "flag = 0\n",
    "while d<=n:\n",
    "    if n%d == 0:\n",
    "        flag += 1\n",
    "    d += 1\n",
    "    \n",
    "if flag == 1:\n",
    "    print('Prime')\n",
    "else:\n",
    "    print('Not Prime')"
   ]
  },
  {
   "cell_type": "markdown",
   "id": "1d6bd573",
   "metadata": {},
   "source": [
    "# Divisibility Checker"
   ]
  },
  {
   "cell_type": "code",
   "execution_count": null,
   "id": "067f0f5c",
   "metadata": {},
   "outputs": [],
   "source": [
    "Write a program to print all numbers divisible by 3 and 5 in a given range. "
   ]
  },
  {
   "cell_type": "code",
   "execution_count": 9,
   "id": "52ffd116",
   "metadata": {},
   "outputs": [
    {
     "name": "stdout",
     "output_type": "stream",
     "text": [
      "30\n",
      "15\n",
      "30\n"
     ]
    }
   ],
   "source": [
    "end = int(input())\n",
    "i= 1\n",
    "\n",
    "while i <= end:\n",
    "    if i%3 == 0 and i%5 ==0:\n",
    "        print(i)\n",
    "    i += 1"
   ]
  },
  {
   "cell_type": "markdown",
   "id": "c6fb23c8",
   "metadata": {},
   "source": [
    "# Sum Of Even"
   ]
  },
  {
   "cell_type": "code",
   "execution_count": null,
   "id": "5bae8037",
   "metadata": {},
   "outputs": [],
   "source": [
    "Given a number N, print sum of all even numbers from 1 to N."
   ]
  },
  {
   "cell_type": "code",
   "execution_count": 10,
   "id": "e51fb836",
   "metadata": {},
   "outputs": [
    {
     "name": "stdout",
     "output_type": "stream",
     "text": [
      "20\n",
      "110\n"
     ]
    }
   ],
   "source": [
    "n = int(input())\n",
    "sum = 0\n",
    "i=2\n",
    "\n",
    "while i <= n:\n",
    "    if i%2 ==0:\n",
    "        sum += i\n",
    "    i += 1\n",
    "\n",
    "print(sum)"
   ]
  },
  {
   "cell_type": "markdown",
   "id": "779bc857",
   "metadata": {},
   "source": [
    "# Difference of odd and even"
   ]
  },
  {
   "cell_type": "code",
   "execution_count": null,
   "id": "7cfdc67b",
   "metadata": {},
   "outputs": [],
   "source": [
    "Write a program that prompts the user to input numbers, 10 times and prints the difference between sum of odd  \n",
    "and sum of even numbers."
   ]
  },
  {
   "cell_type": "code",
   "execution_count": 11,
   "id": "62ab3237",
   "metadata": {},
   "outputs": [
    {
     "name": "stdout",
     "output_type": "stream",
     "text": [
      "1\n",
      "2\n",
      "3\n",
      "4\n",
      "5\n",
      "6\n",
      "7\n",
      "7\n",
      "8\n",
      "9\n",
      "12\n"
     ]
    }
   ],
   "source": [
    "odd_sum = 0\n",
    "even_sum = 0\n",
    "i = 0\n",
    "\n",
    "while i < 10:\n",
    "    n = int(input())\n",
    "\n",
    "    if n%2 == 0:\n",
    "        even_sum += n\n",
    "    else:\n",
    "        odd_sum += n\n",
    "        \n",
    "    i += 1\n",
    "print(odd_sum - even_sum)"
   ]
  }
 ],
 "metadata": {
  "kernelspec": {
   "display_name": "Python 3 (ipykernel)",
   "language": "python",
   "name": "python3"
  },
  "language_info": {
   "codemirror_mode": {
    "name": "ipython",
    "version": 3
   },
   "file_extension": ".py",
   "mimetype": "text/x-python",
   "name": "python",
   "nbconvert_exporter": "python",
   "pygments_lexer": "ipython3",
   "version": "3.9.12"
  }
 },
 "nbformat": 4,
 "nbformat_minor": 5
}
