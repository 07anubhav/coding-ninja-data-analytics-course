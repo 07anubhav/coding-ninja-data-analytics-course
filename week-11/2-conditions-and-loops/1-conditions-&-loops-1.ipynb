{
 "cells": [
  {
   "cell_type": "markdown",
   "id": "7b46fe78",
   "metadata": {},
   "source": [
    "# Boolean Data type"
   ]
  },
  {
   "cell_type": "code",
   "execution_count": 1,
   "id": "35d37ec7",
   "metadata": {},
   "outputs": [
    {
     "data": {
      "text/plain": [
       "bool"
      ]
     },
     "execution_count": 1,
     "metadata": {},
     "output_type": "execute_result"
    }
   ],
   "source": [
    "a = True\n",
    "b = False\n",
    "\n",
    "type(b)"
   ]
  },
  {
   "cell_type": "markdown",
   "id": "a5a07ffa",
   "metadata": {},
   "source": [
    "# Relational Operators"
   ]
  },
  {
   "cell_type": "code",
   "execution_count": 5,
   "id": "b172708e",
   "metadata": {},
   "outputs": [
    {
     "name": "stdout",
     "output_type": "stream",
     "text": [
      "False\n",
      "True\n",
      "False\n",
      "True\n",
      "False\n",
      "True\n"
     ]
    }
   ],
   "source": [
    "a = 10\n",
    "b = 20\n",
    "print(a>b)\n",
    "print(a<b)\n",
    "print(a>=b)\n",
    "print(a<=b)\n",
    "print(a==b)\n",
    "print(a!=b)"
   ]
  },
  {
   "cell_type": "markdown",
   "id": "bbea805d",
   "metadata": {},
   "source": [
    "# Logical Operators"
   ]
  },
  {
   "cell_type": "code",
   "execution_count": 6,
   "id": "b802b672",
   "metadata": {},
   "outputs": [
    {
     "data": {
      "text/plain": [
       "False"
      ]
     },
     "execution_count": 6,
     "metadata": {},
     "output_type": "execute_result"
    }
   ],
   "source": [
    "c1 = a>10\n",
    "c2 = b>10\n",
    "\n",
    "c1 and c2"
   ]
  },
  {
   "cell_type": "code",
   "execution_count": 7,
   "id": "f57df146",
   "metadata": {},
   "outputs": [
    {
     "data": {
      "text/plain": [
       "True"
      ]
     },
     "execution_count": 7,
     "metadata": {},
     "output_type": "execute_result"
    }
   ],
   "source": [
    "c1 or c2"
   ]
  },
  {
   "cell_type": "code",
   "execution_count": 8,
   "id": "21b08d34",
   "metadata": {},
   "outputs": [
    {
     "data": {
      "text/plain": [
       "False"
      ]
     },
     "execution_count": 8,
     "metadata": {},
     "output_type": "execute_result"
    }
   ],
   "source": [
    "r = c1 and c2\n",
    "r"
   ]
  },
  {
   "cell_type": "code",
   "execution_count": 9,
   "id": "de62b56d",
   "metadata": {},
   "outputs": [
    {
     "data": {
      "text/plain": [
       "True"
      ]
     },
     "execution_count": 9,
     "metadata": {},
     "output_type": "execute_result"
    }
   ],
   "source": [
    "not(r)"
   ]
  },
  {
   "cell_type": "markdown",
   "id": "4719f491",
   "metadata": {},
   "source": [
    "# If-Else statements"
   ]
  },
  {
   "cell_type": "code",
   "execution_count": 10,
   "id": "a60cb8b4",
   "metadata": {},
   "outputs": [
    {
     "name": "stdout",
     "output_type": "stream",
     "text": [
      "im inside if\n"
     ]
    }
   ],
   "source": [
    "a = True\n",
    "if a:\n",
    "    print('im inside if')\n",
    "else:\n",
    "    print('im inside else')"
   ]
  },
  {
   "cell_type": "code",
   "execution_count": 12,
   "id": "486d334a",
   "metadata": {},
   "outputs": [
    {
     "name": "stdout",
     "output_type": "stream",
     "text": [
      "7\n",
      "7 is odd\n"
     ]
    }
   ],
   "source": [
    "# check number is even or odd\n",
    "n = int(input())\n",
    "is_even = (n%2==0)\n",
    "\n",
    "if is_even:\n",
    "    print(f'{n} is even')\n",
    "else:\n",
    "    print(f'{n} is odd')"
   ]
  },
  {
   "cell_type": "code",
   "execution_count": 18,
   "id": "9fbbf936",
   "metadata": {},
   "outputs": [
    {
     "name": "stdout",
     "output_type": "stream",
     "text": [
      "11\n",
      "23\n",
      "both greater 10\n"
     ]
    }
   ],
   "source": [
    "a = int(input())\n",
    "b = int(input())\n",
    "\n",
    "if a>10 and b>10:\n",
    "    print('both greater 10')\n",
    "else:\n",
    "    print('no they are not')"
   ]
  },
  {
   "cell_type": "markdown",
   "id": "8dc81f46",
   "metadata": {},
   "source": [
    "## elif"
   ]
  },
  {
   "cell_type": "code",
   "execution_count": 20,
   "id": "e82814ca",
   "metadata": {},
   "outputs": [
    {
     "name": "stdout",
     "output_type": "stream",
     "text": [
      "3\n",
      "3\n",
      "1\n",
      "3\n"
     ]
    }
   ],
   "source": [
    "# finding largest\n",
    "a = int(input())\n",
    "b = int(input())\n",
    "c = int(input())\n",
    "\n",
    "if a>=b and a>=c:\n",
    "    print(a)\n",
    "elif b>=a and b>=c:\n",
    "    print(b)\n",
    "else:\n",
    "    print(c)"
   ]
  },
  {
   "cell_type": "code",
   "execution_count": 28,
   "id": "979d580d",
   "metadata": {},
   "outputs": [
    {
     "name": "stdout",
     "output_type": "stream",
     "text": [
      "10\n",
      "green\n"
     ]
    }
   ],
   "source": [
    "n = int(input())\n",
    "\n",
    "if n>10:\n",
    "    print('red')\n",
    "elif n>=5:\n",
    "    print('green')\n",
    "elif n>=0:\n",
    "    print('Yellow')"
   ]
  },
  {
   "cell_type": "markdown",
   "id": "4ad16d6c",
   "metadata": {},
   "source": [
    "## Nested If-Else Conditions"
   ]
  },
  {
   "cell_type": "code",
   "execution_count": 30,
   "id": "04f8e042",
   "metadata": {},
   "outputs": [
    {
     "name": "stdout",
     "output_type": "stream",
     "text": [
      "2\n",
      "n is even\n"
     ]
    }
   ],
   "source": [
    "n = int(input())\n",
    "\n",
    "if n%2 == 0:\n",
    "    print('n is even')\n",
    "    if n == 0:\n",
    "        print('n is zero')\n",
    "else:\n",
    "    print('n is odd')"
   ]
  },
  {
   "cell_type": "code",
   "execution_count": 33,
   "id": "8d3ac141",
   "metadata": {},
   "outputs": [
    {
     "name": "stdout",
     "output_type": "stream",
     "text": [
      "2\n",
      "4\n",
      "m is even\n"
     ]
    }
   ],
   "source": [
    "n = int(input())\n",
    "m = int(input())\n",
    "\n",
    "if n%2 == 0:\n",
    "    if m%2 == 0:\n",
    "        print('m is even')\n",
    "    else:\n",
    "        print('m is odd')\n",
    "else:\n",
    "    print('n is odd')"
   ]
  },
  {
   "cell_type": "markdown",
   "id": "611e243e",
   "metadata": {},
   "source": [
    "# While Loop"
   ]
  },
  {
   "cell_type": "code",
   "execution_count": 36,
   "id": "bafa5f8c",
   "metadata": {},
   "outputs": [
    {
     "name": "stdout",
     "output_type": "stream",
     "text": [
      "10\n",
      "1\n",
      "2\n",
      "3\n",
      "4\n",
      "5\n",
      "6\n",
      "7\n",
      "8\n",
      "9\n",
      "10\n"
     ]
    }
   ],
   "source": [
    "# Print first 'n' natural numbers\n",
    "n = int(input())\n",
    "count = 1\n",
    "\n",
    "while count <= n:\n",
    "    print(count)\n",
    "    count += 1"
   ]
  },
  {
   "cell_type": "code",
   "execution_count": 47,
   "id": "5ac0156e",
   "metadata": {},
   "outputs": [
    {
     "name": "stdout",
     "output_type": "stream",
     "text": [
      "57\n",
      "57 is not prime\n"
     ]
    }
   ],
   "source": [
    "# Prime number\n",
    "n = int(input())\n",
    "d = 2\n",
    "flag = 0\n",
    "while d<=n:\n",
    "    if n%d == 0:\n",
    "        flag += 1\n",
    "    d += 1\n",
    "    \n",
    "if flag == 1:\n",
    "    print(f'{n} is prime')\n",
    "else:\n",
    "    print(f'{n} is not prime')"
   ]
  },
  {
   "cell_type": "markdown",
   "id": "e86bd11a",
   "metadata": {},
   "source": [
    "## Nested while loops"
   ]
  },
  {
   "cell_type": "code",
   "execution_count": 52,
   "id": "8d9d501f",
   "metadata": {},
   "outputs": [
    {
     "name": "stdout",
     "output_type": "stream",
     "text": [
      "20\n",
      "2 is prime\n",
      "3 is prime\n",
      "4 is not prime\n",
      "5 is prime\n",
      "6 is not prime\n",
      "7 is prime\n",
      "8 is not prime\n",
      "9 is not prime\n",
      "10 is not prime\n",
      "11 is prime\n",
      "12 is not prime\n",
      "13 is prime\n",
      "14 is not prime\n",
      "15 is not prime\n",
      "16 is not prime\n",
      "17 is prime\n",
      "18 is not prime\n",
      "19 is prime\n",
      "20 is not prime\n"
     ]
    }
   ],
   "source": [
    "# Prime numbers within a range\n",
    "n = int(input())\n",
    "k = 2\n",
    "\n",
    "while k <= n:\n",
    "    flag = 0\n",
    "    d = 2\n",
    "    while d <= k:\n",
    "        if k%d == 0:\n",
    "            flag += 1\n",
    "        d += 1\n",
    "    \n",
    "    if flag == 1:\n",
    "        print(f'{k} is prime')\n",
    "    else:\n",
    "        print(f'{k} is not prime')\n",
    "        \n",
    "    k += 1"
   ]
  }
 ],
 "metadata": {
  "kernelspec": {
   "display_name": "Python 3 (ipykernel)",
   "language": "python",
   "name": "python3"
  },
  "language_info": {
   "codemirror_mode": {
    "name": "ipython",
    "version": 3
   },
   "file_extension": ".py",
   "mimetype": "text/x-python",
   "name": "python",
   "nbconvert_exporter": "python",
   "pygments_lexer": "ipython3",
   "version": "3.9.12"
  }
 },
 "nbformat": 4,
 "nbformat_minor": 5
}
