{
 "cells": [
  {
   "cell_type": "code",
   "execution_count": 1,
   "id": "dd846e58",
   "metadata": {},
   "outputs": [
    {
     "name": "stderr",
     "output_type": "stream",
     "text": [
      "D:\\Anaconda\\lib\\site-packages\\scipy\\__init__.py:146: UserWarning: A NumPy version >=1.16.5 and <1.23.0 is required for this version of SciPy (detected version 1.24.3\n",
      "  warnings.warn(f\"A NumPy version >={np_minversion} and <{np_maxversion}\"\n"
     ]
    }
   ],
   "source": [
    "import pandas as pd\n",
    "import numpy as np\n",
    "import matplotlib.pyplot as plt\n",
    "import seaborn as sns\n",
    "import statistics as st"
   ]
  },
  {
   "cell_type": "markdown",
   "id": "937b9999",
   "metadata": {},
   "source": [
    "# Shape of the dataset"
   ]
  },
  {
   "cell_type": "code",
   "execution_count": null,
   "id": "d0dc0313",
   "metadata": {},
   "outputs": [],
   "source": [
    "In this case study, we are going to work on the Netflix movies and TV shows dataset.\n",
    "Our first task is to read the dataset and print the shape of the dataset."
   ]
  },
  {
   "cell_type": "code",
   "execution_count": 2,
   "id": "1532698a",
   "metadata": {},
   "outputs": [
    {
     "name": "stdout",
     "output_type": "stream",
     "text": [
      "(7787, 12)\n"
     ]
    }
   ],
   "source": [
    "df = pd.read_csv('netflix_dataset.csv')\n",
    "print(df.shape)"
   ]
  },
  {
   "cell_type": "markdown",
   "id": "fcb830b6",
   "metadata": {},
   "source": [
    "# Describe the dataset"
   ]
  },
  {
   "cell_type": "code",
   "execution_count": null,
   "id": "d7d79c23",
   "metadata": {},
   "outputs": [],
   "source": [
    "Problem Statement:\n",
    "Describe the dataset using the pandas describe API.\n",
    "\n",
    "Output Format:\n",
    "       release_year\n",
    "count   7787.000000\n",
    "mean    2013.932580\n",
    "..."
   ]
  },
  {
   "cell_type": "code",
   "execution_count": 3,
   "id": "2b5c3564",
   "metadata": {},
   "outputs": [
    {
     "name": "stdout",
     "output_type": "stream",
     "text": [
      "       release_year\n",
      "count   7787.000000\n",
      "mean    2013.932580\n",
      "std        8.757395\n",
      "min     1925.000000\n",
      "25%     2013.000000\n",
      "50%     2017.000000\n",
      "75%     2018.000000\n",
      "max     2021.000000\n"
     ]
    }
   ],
   "source": [
    "df = pd.read_csv('netflix_dataset.csv')\n",
    "print(df.describe())"
   ]
  },
  {
   "cell_type": "markdown",
   "id": "847e0179",
   "metadata": {},
   "source": [
    "# Datatype of each column"
   ]
  },
  {
   "cell_type": "code",
   "execution_count": null,
   "id": "a157a198",
   "metadata": {},
   "outputs": [],
   "source": [
    "Problem Statement:\n",
    "Print the datatype of each column.\n",
    "\n",
    "Output Format:\n",
    "show_id         object\n",
    "type            object\n",
    "..."
   ]
  },
  {
   "cell_type": "code",
   "execution_count": 4,
   "id": "c485f5ff",
   "metadata": {},
   "outputs": [
    {
     "name": "stdout",
     "output_type": "stream",
     "text": [
      "show_id         object\n",
      "type            object\n",
      "title           object\n",
      "director        object\n",
      "cast            object\n",
      "country         object\n",
      "date_added      object\n",
      "release_year     int64\n",
      "rating          object\n",
      "duration        object\n",
      "listed_in       object\n",
      "description     object\n",
      "dtype: object\n"
     ]
    }
   ],
   "source": [
    "df = pd.read_csv('netflix_dataset.csv')\n",
    "print(df.dtypes)"
   ]
  },
  {
   "cell_type": "markdown",
   "id": "b9f444ab",
   "metadata": {},
   "source": [
    "# Number of NA values in each column"
   ]
  },
  {
   "cell_type": "code",
   "execution_count": null,
   "id": "23457a54",
   "metadata": {},
   "outputs": [],
   "source": [
    "Problem Statement:\n",
    "Print the number of NA values in each column.\n",
    "\n",
    "Output Format:\n",
    "type               0\n",
    "title              0\n",
    "director        2389\n",
    "cast             718\n",
    "..."
   ]
  },
  {
   "cell_type": "code",
   "execution_count": 8,
   "id": "cd3c675a",
   "metadata": {},
   "outputs": [
    {
     "name": "stdout",
     "output_type": "stream",
     "text": [
      "show_id            0\n",
      "type               0\n",
      "title              0\n",
      "director        2389\n",
      "cast             718\n",
      "country          507\n",
      "date_added        10\n",
      "release_year       0\n",
      "rating             7\n",
      "duration           0\n",
      "listed_in          0\n",
      "description        0\n",
      "dtype: int64\n"
     ]
    }
   ],
   "source": [
    "df = pd.read_csv('netflix_dataset.csv')\n",
    "print(df.isnull().sum())"
   ]
  },
  {
   "cell_type": "markdown",
   "id": "fd31786d",
   "metadata": {},
   "source": [
    "# Remove NA values"
   ]
  },
  {
   "cell_type": "code",
   "execution_count": null,
   "id": "e8b0b13e",
   "metadata": {},
   "outputs": [],
   "source": [
    "Problem Statement:\n",
    "In the last problem we found out that there are some columns for which there are some NA values present. \n",
    "Now in this problem, our task is to remove the NA values and replace them with some meaningful data.\n",
    "\n",
    "For each column with NA values, do the following:\n",
    "For 'cast' and 'director' columns, replace NA values with 'No Data'.\n",
    "\n",
    "As these have a large number of NA values present.\n",
    "For the columns with 500 or fewer NA values present\n",
    "Replace 'country', 'date_added' and 'rating' with the mode of the column. \n",
    "Now again print the number of NA values in each column. This time each column should have zero NA values present.\n",
    "\n",
    "Output Format:\n",
    "show_id         0\n",
    "type            0\n",
    "title           0\n",
    "director        0\n",
    "..."
   ]
  },
  {
   "cell_type": "code",
   "execution_count": 29,
   "id": "c8984cc7",
   "metadata": {},
   "outputs": [
    {
     "name": "stdout",
     "output_type": "stream",
     "text": [
      "show_id         0\n",
      "type            0\n",
      "title           0\n",
      "director        0\n",
      "cast            0\n",
      "country         0\n",
      "date_added      0\n",
      "release_year    0\n",
      "rating          0\n",
      "duration        0\n",
      "listed_in       0\n",
      "description     0\n",
      "dtype: int64\n"
     ]
    }
   ],
   "source": [
    "df = pd.read_csv('netflix_dataset.csv')\n",
    "\n",
    "df['cast'].fillna('No Data',inplace=True)\n",
    "df['director'].fillna('No Data',inplace=True)\n",
    "\n",
    "country_mode = df['country'].mode().iloc[0]\n",
    "date_added_mode = df['date_added'].mode().iloc[0]\n",
    "rating_mode = df['rating'].mode().iloc[0]\n",
    "\n",
    "df['country'].fillna(country_mode,inplace=True)\n",
    "df['date_added'].fillna(date_added_mode,inplace=True)\n",
    "df['rating'].fillna(rating_mode,inplace=True)\n",
    "\n",
    "print(df.isnull().sum())"
   ]
  },
  {
   "cell_type": "markdown",
   "id": "da85bb2e",
   "metadata": {},
   "source": [
    "# Percentage of TV shows and Movies"
   ]
  },
  {
   "cell_type": "code",
   "execution_count": null,
   "id": "f37e06a8",
   "metadata": {},
   "outputs": [],
   "source": [
    "Problem Statement:\n",
    "Find and print the overall percentage of TV shows and Movies.\n",
    "\n",
    "Steps to follow:\n",
    "1. Create a pie chart showing the percentage of TV shows and Movies.\n",
    "2. Print the output in the form of a tuple. (till one decimal point)\n",
    "\n",
    "Output Format:\n",
    "(<Percentage of Movies>, <Percentage of TV shows>)"
   ]
  },
  {
   "cell_type": "code",
   "execution_count": 42,
   "id": "cc53a326",
   "metadata": {},
   "outputs": [
    {
     "data": {
      "image/png": "[encoded data removed]",
      "text/plain": [
       "<Figure size 432x288 with 1 Axes>"
      ]
     },
     "metadata": {},
     "output_type": "display_data"
    },
    {
     "name": "stdout",
     "output_type": "stream",
     "text": [
      "(69.1, 30.9)\n"
     ]
    }
   ],
   "source": [
    "df = pd.read_csv('netflix_dataset.csv')\n",
    "\n",
    "type_series = df['type'].value_counts()\n",
    "\n",
    "tv_show  = np.array(type_series.index)\n",
    "count = np.array(type_series.values)\n",
    "\n",
    "plt.title('Tv Show vs Movies')\n",
    "plt.pie(count,labels=tv_show,autopct='%.2f%%')\n",
    "plt.show()\n",
    "\n",
    "# Count the number of movies and TV shows\n",
    "movies_count = len(df[df['type']=='Movie'])\n",
    "tv_shows_count = len(df[df['type']=='TV Show'])\n",
    "\n",
    "# Calculate the percentages\n",
    "total = movies_count+tv_shows_count\n",
    "movies_percent = (movies_count/total)*100\n",
    "tv_shows_percent = (tv_shows_count/total)*100\n",
    "\n",
    "output = (round(movies_percent,1),round(tv_shows_percent,1))\n",
    "print(output)"
   ]
  },
  {
   "cell_type": "markdown",
   "id": "b69874f4",
   "metadata": {},
   "source": [
    "# Top 10 countries"
   ]
  },
  {
   "cell_type": "code",
   "execution_count": null,
   "id": "1a509469",
   "metadata": {},
   "outputs": [],
   "source": [
    "Problem Statement:\n",
    "Using the bar plot, show the top 10 countries with the most content.\n",
    "\n",
    "For output, print a tuple containing the name of the country having the highest number of content \n",
    "and the total number of movies and tv shows.\n",
    "\n",
    "Output Format:\n",
    "(<Top Country>, <Total content>)"
   ]
  },
  {
   "cell_type": "code",
   "execution_count": 50,
   "id": "939f7973",
   "metadata": {},
   "outputs": [
    {
     "name": "stdout",
     "output_type": "stream",
     "text": [
      "('United States', 2555)\n"
     ]
    }
   ],
   "source": [
    "df = pd.read_csv('netflix_dataset.csv')\n",
    "\n",
    "country = df['country'].value_counts()\n",
    "print((country.index[0],country.values[0]))"
   ]
  },
  {
   "cell_type": "markdown",
   "id": "57b15c0f",
   "metadata": {},
   "source": [
    "# Content Added Over Years"
   ]
  },
  {
   "cell_type": "code",
   "execution_count": null,
   "id": "836385b1",
   "metadata": {},
   "outputs": [],
   "source": [
    "Problem Statement:\n",
    "For the Netflix dataset, firstly create a bar chart for all the content added over the years. \n",
    "And the print the year having the most number of content added.\n",
    "\n",
    "Output Format:\n",
    "<year having most content added>"
   ]
  },
  {
   "cell_type": "code",
   "execution_count": 50,
   "id": "8d085e54",
   "metadata": {},
   "outputs": [
    {
     "name": "stdout",
     "output_type": "stream",
     "text": [
      "2019\n"
     ]
    },
    {
     "data": {
      "image/png": "[encoded data removed]",
      "text/plain": [
       "<Figure size 720x216 with 1 Axes>"
      ]
     },
     "metadata": {
      "needs_background": "light"
     },
     "output_type": "display_data"
    }
   ],
   "source": [
    "df = pd.read_csv('netflix_dataset.csv')\n",
    "\n",
    "df[\"year\"]=pd.DatetimeIndex(df[\"date_added\"]).year\n",
    "print(int(df[\"year\"].value_counts().index[0]))\n",
    "\n",
    "series = df[\"year\"].value_counts()\n",
    "x = np.array(series.index)\n",
    "y = np.array(series.values)\n",
    "\n",
    "plt.figure(figsize=(10,3))\n",
    "plt.bar(x,y)\n",
    "plt.show()"
   ]
  },
  {
   "cell_type": "markdown",
   "id": "0e2662d8",
   "metadata": {},
   "source": [
    "# Most Popular in India"
   ]
  },
  {
   "cell_type": "code",
   "execution_count": null,
   "id": "3c88c164",
   "metadata": {},
   "outputs": [],
   "source": [
    "Problem Statement:\n",
    "Find the most popular type of content in India. This popularity should be measured on two parameters:\n",
    "1. What type of content is more popular, Movies or TV shows? (Plot Piechart to find this)\n",
    "\n",
    "2. What type of rating is more popular. If it's teens or adults or kids. (Plot Bar graph to find this) \n",
    "The output should be in tuple format, firstly having the type of content and second having the rating type.\n",
    "\n",
    "Output Format:\n",
    "(<Content Type>, <Rating Type>)"
   ]
  },
  {
   "cell_type": "code",
   "execution_count": 61,
   "id": "3ccf3fe0",
   "metadata": {},
   "outputs": [
    {
     "name": "stdout",
     "output_type": "stream",
     "text": [
      "('Movie', 'TV-14')\n"
     ]
    }
   ],
   "source": [
    "df = pd.read_csv('netflix_dataset.csv')\n",
    "india_df = df[df['country']=='India']\n",
    "print((india_df['type'].value_counts().index[0],india_df['rating'].value_counts().index[0]))"
   ]
  },
  {
   "cell_type": "markdown",
   "id": "4f550da8",
   "metadata": {},
   "source": [
    "# Longest Movie Duration"
   ]
  },
  {
   "cell_type": "code",
   "execution_count": null,
   "id": "9e3be99e",
   "metadata": {},
   "outputs": [],
   "source": [
    "Problem Statement:\n",
    "Print the title of the longest movie duration and in which year it was released.\n",
    "\n",
    "Output Format:\n",
    "(<Movie Title>, <Release Year>)"
   ]
  },
  {
   "cell_type": "code",
   "execution_count": 84,
   "id": "561e6e32",
   "metadata": {},
   "outputs": [
    {
     "name": "stdout",
     "output_type": "stream",
     "text": [
      "('Black Mirror: Bandersnatch', 2018)\n"
     ]
    }
   ],
   "source": [
    "df = pd.read_csv('netflix_dataset.csv')\n",
    "duration = df['duration']\n",
    "run_duration = [] \n",
    "for i in duration:\n",
    "    run_duration.append(int(i.split()[0]))\n",
    "    \n",
    "series = pd.Series(run_duration)\n",
    "print((df['title'].loc[series.idxmax()],df['release_year'].loc[series.idxmax()]))"
   ]
  },
  {
   "cell_type": "code",
   "execution_count": 83,
   "id": "6254375c",
   "metadata": {},
   "outputs": [
    {
     "name": "stdout",
     "output_type": "stream",
     "text": [
      "('Black Mirror: Bandersnatch', 2018)\n"
     ]
    }
   ],
   "source": []
  },
  {
   "cell_type": "code",
   "execution_count": 79,
   "id": "ab0fdda3",
   "metadata": {},
   "outputs": [
    {
     "data": {
      "text/plain": [
       "RangeIndex(start=0, stop=7787, step=1)"
      ]
     },
     "execution_count": 79,
     "metadata": {},
     "output_type": "execute_result"
    }
   ],
   "source": [
    "df.index"
   ]
  },
  {
   "cell_type": "code",
   "execution_count": 80,
   "id": "6eab7fc1",
   "metadata": {},
   "outputs": [
    {
     "data": {
      "text/plain": [
       "'Black Mirror: Bandersnatch'"
      ]
     },
     "execution_count": 80,
     "metadata": {},
     "output_type": "execute_result"
    }
   ],
   "source": []
  },
  {
   "cell_type": "code",
   "execution_count": 82,
   "id": "2730e626",
   "metadata": {},
   "outputs": [
    {
     "data": {
      "text/plain": [
       "2018"
      ]
     },
     "execution_count": 82,
     "metadata": {},
     "output_type": "execute_result"
    }
   ],
   "source": []
  },
  {
   "cell_type": "code",
   "execution_count": null,
   "id": "ae1be13b",
   "metadata": {},
   "outputs": [],
   "source": []
  }
 ],
 "metadata": {
  "kernelspec": {
   "display_name": "Python 3 (ipykernel)",
   "language": "python",
   "name": "python3"
  },
  "language_info": {
   "codemirror_mode": {
    "name": "ipython",
    "version": 3
   },
   "file_extension": ".py",
   "mimetype": "text/x-python",
   "name": "python",
   "nbconvert_exporter": "python",
   "pygments_lexer": "ipython3",
   "version": "3.9.12"
  }
 },
 "nbformat": 4,
 "nbformat_minor": 5
}
