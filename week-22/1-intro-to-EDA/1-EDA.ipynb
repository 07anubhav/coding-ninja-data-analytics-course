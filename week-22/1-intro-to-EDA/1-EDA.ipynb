{
 "cells": [
  {
   "cell_type": "markdown",
   "id": "b9f5e789",
   "metadata": {},
   "source": [
    "# EDA (Exploratory Data Analysis)\n",
    "* It's a approach/technique to **analyse the data with help of visualization**\n",
    "### EDA steps:\n",
    "   * **Data understanding**\n",
    "   * **Descriptive statistics**\n",
    "   * **Exploring data**\n",
    "   * **Analyzing and removing outliers**\n",
    "   * **Analyzing and Treating missing values (Blank/NAN)**\n",
    "   * **Data transformation**\n",
    "   * **Feature Scaling**\n",
    "   * **Feature Encoding**\n",
    "   * **Feature Selection**\n",
    "   * **Feature Creation**"
   ]
  }
 ],
 "metadata": {
  "kernelspec": {
   "display_name": "Python 3 (ipykernel)",
   "language": "python",
   "name": "python3"
  },
  "language_info": {
   "codemirror_mode": {
    "name": "ipython",
    "version": 3
   },
   "file_extension": ".py",
   "mimetype": "text/x-python",
   "name": "python",
   "nbconvert_exporter": "python",
   "pygments_lexer": "ipython3",
   "version": "3.9.12"
  }
 },
 "nbformat": 4,
 "nbformat_minor": 5
}
