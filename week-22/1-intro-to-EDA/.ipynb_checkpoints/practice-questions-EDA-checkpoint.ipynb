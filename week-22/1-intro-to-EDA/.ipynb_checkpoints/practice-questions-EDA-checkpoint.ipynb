{
 "cells": [
  {
   "cell_type": "code",
   "execution_count": 2,
   "id": "6d76adfa",
   "metadata": {},
   "outputs": [],
   "source": [
    "import pandas as pd\n",
    "import numpy as np\n",
    "import matplotlib.pyplot as plt\n",
    "import seaborn as sns"
   ]
  },
  {
   "cell_type": "markdown",
   "id": "e105f161",
   "metadata": {},
   "source": [
    "# Print last 5 rows"
   ]
  },
  {
   "cell_type": "code",
   "execution_count": null,
   "id": "f07d79a1",
   "metadata": {},
   "outputs": [],
   "source": [
    "Print the last 5 rows of the big mart dataset using the standard pandas' method."
   ]
  },
  {
   "cell_type": "code",
   "execution_count": 3,
   "id": "a776ca71",
   "metadata": {},
   "outputs": [
    {
     "data": {
      "text/html": [
       "<div>\n",
       "<style scoped>\n",
       "    .dataframe tbody tr th:only-of-type {\n",
       "        vertical-align: middle;\n",
       "    }\n",
       "\n",
       "    .dataframe tbody tr th {\n",
       "        vertical-align: top;\n",
       "    }\n",
       "\n",
       "    .dataframe thead th {\n",
       "        text-align: right;\n",
       "    }\n",
       "</style>\n",
       "<table border=\"1\" class=\"dataframe\">\n",
       "  <thead>\n",
       "    <tr style=\"text-align: right;\">\n",
       "      <th></th>\n",
       "      <th>Item_Identifier</th>\n",
       "      <th>Item_Weight</th>\n",
       "      <th>Item_Fat_Content</th>\n",
       "      <th>Item_Visibility</th>\n",
       "      <th>Item_Type</th>\n",
       "      <th>Item_MRP</th>\n",
       "      <th>Outlet_Identifier</th>\n",
       "      <th>Outlet_Establishment_Year</th>\n",
       "      <th>Outlet_Size</th>\n",
       "      <th>Outlet_Location_Type</th>\n",
       "      <th>Outlet_Type</th>\n",
       "      <th>Item_Outlet_Sales</th>\n",
       "    </tr>\n",
       "  </thead>\n",
       "  <tbody>\n",
       "    <tr>\n",
       "      <th>8518</th>\n",
       "      <td>FDF22</td>\n",
       "      <td>6.865</td>\n",
       "      <td>Low Fat</td>\n",
       "      <td>0.056783</td>\n",
       "      <td>Snack Foods</td>\n",
       "      <td>214.5218</td>\n",
       "      <td>OUT013</td>\n",
       "      <td>1987</td>\n",
       "      <td>High</td>\n",
       "      <td>Tier 3</td>\n",
       "      <td>Supermarket Type1</td>\n",
       "      <td>2778.3834</td>\n",
       "    </tr>\n",
       "    <tr>\n",
       "      <th>8519</th>\n",
       "      <td>FDS36</td>\n",
       "      <td>8.380</td>\n",
       "      <td>Regular</td>\n",
       "      <td>0.046982</td>\n",
       "      <td>Baking Goods</td>\n",
       "      <td>108.1570</td>\n",
       "      <td>OUT045</td>\n",
       "      <td>2002</td>\n",
       "      <td>NaN</td>\n",
       "      <td>Tier 2</td>\n",
       "      <td>Supermarket Type1</td>\n",
       "      <td>549.2850</td>\n",
       "    </tr>\n",
       "    <tr>\n",
       "      <th>8520</th>\n",
       "      <td>NCJ29</td>\n",
       "      <td>10.600</td>\n",
       "      <td>Low Fat</td>\n",
       "      <td>0.035186</td>\n",
       "      <td>Health and Hygiene</td>\n",
       "      <td>85.1224</td>\n",
       "      <td>OUT035</td>\n",
       "      <td>2004</td>\n",
       "      <td>Small</td>\n",
       "      <td>Tier 2</td>\n",
       "      <td>Supermarket Type1</td>\n",
       "      <td>1193.1136</td>\n",
       "    </tr>\n",
       "    <tr>\n",
       "      <th>8521</th>\n",
       "      <td>FDN46</td>\n",
       "      <td>7.210</td>\n",
       "      <td>Regular</td>\n",
       "      <td>0.145221</td>\n",
       "      <td>Snack Foods</td>\n",
       "      <td>103.1332</td>\n",
       "      <td>OUT018</td>\n",
       "      <td>2009</td>\n",
       "      <td>Medium</td>\n",
       "      <td>Tier 3</td>\n",
       "      <td>Supermarket Type2</td>\n",
       "      <td>1845.5976</td>\n",
       "    </tr>\n",
       "    <tr>\n",
       "      <th>8522</th>\n",
       "      <td>DRG01</td>\n",
       "      <td>14.800</td>\n",
       "      <td>Low Fat</td>\n",
       "      <td>0.044878</td>\n",
       "      <td>Soft Drinks</td>\n",
       "      <td>75.4670</td>\n",
       "      <td>OUT046</td>\n",
       "      <td>1997</td>\n",
       "      <td>Small</td>\n",
       "      <td>Tier 1</td>\n",
       "      <td>Supermarket Type1</td>\n",
       "      <td>765.6700</td>\n",
       "    </tr>\n",
       "  </tbody>\n",
       "</table>\n",
       "</div>"
      ],
      "text/plain": [
       "     Item_Identifier  Item_Weight Item_Fat_Content  Item_Visibility  \\\n",
       "8518           FDF22        6.865          Low Fat         0.056783   \n",
       "8519           FDS36        8.380          Regular         0.046982   \n",
       "8520           NCJ29       10.600          Low Fat         0.035186   \n",
       "8521           FDN46        7.210          Regular         0.145221   \n",
       "8522           DRG01       14.800          Low Fat         0.044878   \n",
       "\n",
       "               Item_Type  Item_MRP Outlet_Identifier  \\\n",
       "8518         Snack Foods  214.5218            OUT013   \n",
       "8519        Baking Goods  108.1570            OUT045   \n",
       "8520  Health and Hygiene   85.1224            OUT035   \n",
       "8521         Snack Foods  103.1332            OUT018   \n",
       "8522         Soft Drinks   75.4670            OUT046   \n",
       "\n",
       "      Outlet_Establishment_Year Outlet_Size Outlet_Location_Type  \\\n",
       "8518                       1987        High               Tier 3   \n",
       "8519                       2002         NaN               Tier 2   \n",
       "8520                       2004       Small               Tier 2   \n",
       "8521                       2009      Medium               Tier 3   \n",
       "8522                       1997       Small               Tier 1   \n",
       "\n",
       "            Outlet_Type  Item_Outlet_Sales  \n",
       "8518  Supermarket Type1          2778.3834  \n",
       "8519  Supermarket Type1           549.2850  \n",
       "8520  Supermarket Type1          1193.1136  \n",
       "8521  Supermarket Type2          1845.5976  \n",
       "8522  Supermarket Type1           765.6700  "
      ]
     },
     "execution_count": 3,
     "metadata": {},
     "output_type": "execute_result"
    }
   ],
   "source": [
    "data = pd.read_csv('bigmart.csv')\n",
    "data.tail(5)"
   ]
  },
  {
   "cell_type": "markdown",
   "id": "d2d78b4b",
   "metadata": {},
   "source": [
    "# Read TSV file"
   ]
  },
  {
   "cell_type": "code",
   "execution_count": null,
   "id": "889841d3",
   "metadata": {},
   "outputs": [],
   "source": [
    "You have been given a file cities.tsv which contains information regarding some cities in Brazil. \n",
    "But the problem is that this file is in TSV(Tab-separated values) format. Also, it does not contain the column names.\n",
    "\n",
    "Your task is to read this file using the pandas read_csv method, store it inside a data frame and use the column names as:\n",
    "['Code', 'Name', 'Pin', 'Avg. Income']"
   ]
  },
  {
   "cell_type": "code",
   "execution_count": 9,
   "id": "e4a3e0e9",
   "metadata": {},
   "outputs": [
    {
     "name": "stdout",
     "output_type": "stream",
     "text": [
      "(10, 4)\n"
     ]
    }
   ],
   "source": [
    "column_names = ['Code', 'Name', 'Pin', 'Avg. Income']\n",
    "data = pd.read_csv('cities.tsv',sep='\\t',header=None, names=column_names)\n",
    "print(data.shape)"
   ]
  },
  {
   "cell_type": "markdown",
   "id": "2f90320f",
   "metadata": {},
   "source": [
    "# Change Datatype"
   ]
  },
  {
   "cell_type": "code",
   "execution_count": null,
   "id": "091a5cc2",
   "metadata": {},
   "outputs": [],
   "source": [
    "Given the file 'bigmart.csv' dataset, your task is to convert the following features to the appropriate datatypes.\n",
    " Item_Fat_Content -> category\n",
    " Outlet_Type -> category\n",
    " Outlet_Establishment_Year -> str\n",
    "    \n",
    "Output:\n",
    "     Print the data type of each column after conversion."
   ]
  },
  {
   "cell_type": "code",
   "execution_count": 12,
   "id": "d5b970ce",
   "metadata": {},
   "outputs": [
    {
     "name": "stdout",
     "output_type": "stream",
     "text": [
      "Item_Identifier                object\n",
      "Item_Weight                   float64\n",
      "Item_Fat_Content             category\n",
      "Item_Visibility               float64\n",
      "Item_Type                      object\n",
      "Item_MRP                      float64\n",
      "Outlet_Identifier              object\n",
      "Outlet_Establishment_Year      object\n",
      "Outlet_Size                    object\n",
      "Outlet_Location_Type           object\n",
      "Outlet_Type                  category\n",
      "Item_Outlet_Sales             float64\n",
      "dtype: object\n"
     ]
    }
   ],
   "source": [
    "df = pd.read_csv('bigmart.csv')\n",
    "\n",
    "df['Item_Fat_Content'] = df['Item_Fat_Content'].astype('category')\n",
    "df['Outlet_Type'] = df['Outlet_Type'].astype('category')\n",
    "df['Outlet_Establishment_Year'] = df['Outlet_Establishment_Year'].astype(str)\n",
    "\n",
    "print(df.dtypes)"
   ]
  },
  {
   "cell_type": "markdown",
   "id": "805bfb01",
   "metadata": {},
   "source": [
    "# Descriptive Summary"
   ]
  },
  {
   "cell_type": "code",
   "execution_count": null,
   "id": "2715913c",
   "metadata": {},
   "outputs": [],
   "source": [
    "Given File 'bigmart.csv' dataset.\n",
    "Till now you got to know the basic details about the “Big Mart” dataset. Now your task is to analyze the numerical features of \n",
    "the dataset on various features like the mean of the feature or the min and max values. For this, you need to use pandas' \n",
    "predefined method for analyzing the descriptive summary of the dataset.\n",
    "\n",
    "Expected Output\n",
    "Print the descriptive summary of the Big Mart dataset."
   ]
  },
  {
   "cell_type": "code",
   "execution_count": 19,
   "id": "0ca34133",
   "metadata": {},
   "outputs": [
    {
     "name": "stdout",
     "output_type": "stream",
     "text": [
      "       Item_Weight  Item_Visibility     Item_MRP  Outlet_Establishment_Year  \\\n",
      "count  7060.000000      8523.000000  8523.000000                8523.000000   \n",
      "mean     12.857645         0.066132   140.992782                1997.831867   \n",
      "std       4.643456         0.051598    62.275067                   8.371760   \n",
      "min       4.555000         0.000000    31.290000                1985.000000   \n",
      "25%       8.773750         0.026989    93.826500                1987.000000   \n",
      "50%      12.600000         0.053931   143.012800                1999.000000   \n",
      "75%      16.850000         0.094585   185.643700                2004.000000   \n",
      "max      21.350000         0.328391   266.888400                2009.000000   \n",
      "\n",
      "       Item_Outlet_Sales  \n",
      "count        8523.000000  \n",
      "mean         2181.288914  \n",
      "std          1706.499616  \n",
      "min            33.290000  \n",
      "25%           834.247400  \n",
      "50%          1794.331000  \n",
      "75%          3101.296400  \n",
      "max         13086.964800  \n"
     ]
    }
   ],
   "source": [
    "df = pd.read_csv('bigmart.csv')\n",
    "\n",
    "print(df.describe())"
   ]
  },
  {
   "cell_type": "markdown",
   "id": "1a05c509",
   "metadata": {},
   "source": [
    "# Most common Outlet Size"
   ]
  },
  {
   "cell_type": "code",
   "execution_count": null,
   "id": "13253ecd",
   "metadata": {},
   "outputs": [],
   "source": [
    "Given File 'bigmart.csv' dataset.\n",
    "Now you also need to perform descriptive statistics on the features which are not of numerical data type. \n",
    "After analyzing the descriptive summary of all the features in the “Big Mart” dataset, you need to find out which is the \n",
    "most common “Outlet_Size”.\n",
    "\n",
    "Expected Output\n",
    "Most common “Outlet_Size”."
   ]
  },
  {
   "cell_type": "code",
   "execution_count": 35,
   "id": "38060c73",
   "metadata": {},
   "outputs": [
    {
     "name": "stdout",
     "output_type": "stream",
     "text": [
      "Medium\n"
     ]
    }
   ],
   "source": [
    "df = pd.read_csv('bigmart.csv')\n",
    "\n",
    "print(df['Outlet_Size'].value_counts().index[0])"
   ]
  },
  {
   "cell_type": "markdown",
   "id": "87143058",
   "metadata": {},
   "source": [
    "# Item Outlet Sales"
   ]
  },
  {
   "cell_type": "code",
   "execution_count": null,
   "id": "7307ccf8",
   "metadata": {},
   "outputs": [],
   "source": [
    "We are going to perform Univariate analysis on the big mart dataset. Firstly, let's start exploring the target variable \n",
    "Item_Outlet_Sales. As this is a numerical variable, your task is to plot a distribution curve for this and determine if \n",
    "this feature is normally distributed or skewed. If skewed, then right-skewed or left-skewed.\n",
    "\n",
    "Expected Output\n",
    " 1. Plot a distribution curve.\n",
    " 2. Print the value of skewness rounded off to two decimal places.\n",
    " 3. Print the skewness \"Right-Skewed\" or \"Left-Skewed\"."
   ]
  },
  {
   "cell_type": "code",
   "execution_count": 6,
   "id": "35beab23",
   "metadata": {},
   "outputs": [
    {
     "name": "stdout",
     "output_type": "stream",
     "text": [
      "1.18\n",
      "Right-Skewed\n"
     ]
    }
   ],
   "source": [
    "from scipy.stats import norm\n",
    "\n",
    "df = pd.read_csv('bigmart.csv')\n",
    "\n",
    "print(round(df['Item_Outlet_Sales'].skew(),2))\n",
    "print('Right-Skewed')"
   ]
  },
  {
   "cell_type": "markdown",
   "id": "e9fee5d4",
   "metadata": {},
   "source": [
    "# Numerical Variables"
   ]
  },
  {
   "cell_type": "code",
   "execution_count": null,
   "id": "25516fbf",
   "metadata": {},
   "outputs": [],
   "source": [
    "After visualizing the target variable, we are going to explore the numerical variables. Let's list all the numerical \n",
    "columns present on the dataset.\n",
    "Your task is to output the numerical variables and their data types.\n",
    "\n",
    "Note: The dataset provided for this problem does not contain the original data types. You do not need to change the data types.\n",
    "\n",
    "Expected Output\n",
    "Item_Weight                  float64\n",
    "Item_Visibility              float64\n",
    "Item_MRP                     float64\n",
    "Outlet_Establishment_Year      int64\n",
    "Item_Outlet_Sales            float64\n",
    "dtype: object"
   ]
  },
  {
   "cell_type": "code",
   "execution_count": 81,
   "id": "bedaaf88",
   "metadata": {},
   "outputs": [
    {
     "name": "stdout",
     "output_type": "stream",
     "text": [
      "Item_Weight                  float64\n",
      "Item_Visibility              float64\n",
      "Item_MRP                     float64\n",
      "Outlet_Establishment_Year      int64\n",
      "Item_Outlet_Sales            float64\n",
      "dtype: object\n"
     ]
    }
   ],
   "source": [
    "df = pd.read_csv('bigmart_question.csv')\n",
    "\n",
    "s = df.describe()\n",
    "s['Outlet_Establishment_Year'] = s['Outlet_Establishment_Year'].astype('int64')\n",
    "print(s.dtypes)"
   ]
  },
  {
   "cell_type": "markdown",
   "id": "874a39d9",
   "metadata": {},
   "source": [
    "# Variation from Mean"
   ]
  },
  {
   "cell_type": "code",
   "execution_count": 64,
   "id": "0219d6bf",
   "metadata": {},
   "outputs": [],
   "source": [
    "Plot the distribution graph for the “Item_Visibility” column and find out if the majority of the values are less than the \n",
    "mean or greater.\n",
    "\n",
    "Expected Output\n",
    "Print \"Higher\" if the values are greater than mean otherwise print \"Lower\"."
   ]
  },
  {
   "cell_type": "code",
   "execution_count": 93,
   "id": "fc3e99f5",
   "metadata": {},
   "outputs": [
    {
     "data": {
      "image/png": "[encoded data removed]",
      "text/plain": [
       "<Figure size 432x288 with 1 Axes>"
      ]
     },
     "metadata": {
      "needs_background": "light"
     },
     "output_type": "display_data"
    }
   ],
   "source": [
    "from scipy.stats import norm\n",
    "\n",
    "df = pd.read_csv('bigmart.csv')\n",
    "mu = item_visb['mean']\n",
    "sigma = item_visb['std']\n",
    "data = np.random.normal(mu, sigma, 1000)  \n",
    "plt.hist(data)\n",
    "plt.show()"
   ]
  },
  {
   "cell_type": "markdown",
   "id": "45971321",
   "metadata": {},
   "source": [
    "# Item Weight"
   ]
  },
  {
   "cell_type": "code",
   "execution_count": null,
   "id": "cad1392d",
   "metadata": {},
   "outputs": [],
   "source": [
    "Using the visualization plot, find out the number of outliers present in the Item_Weight column. \n",
    "If there is no outlier, print 0.\n",
    "\n",
    "Expected Output\n",
    "Print the number of outliers."
   ]
  },
  {
   "cell_type": "code",
   "execution_count": 6,
   "id": "d19b1666",
   "metadata": {},
   "outputs": [
    {
     "data": {
      "text/plain": [
       "count    7060.000000\n",
       "mean       12.857645\n",
       "std         4.643456\n",
       "min         4.555000\n",
       "25%         8.773750\n",
       "50%        12.600000\n",
       "75%        16.850000\n",
       "max        21.350000\n",
       "Name: Item_Weight, dtype: float64"
      ]
     },
     "execution_count": 6,
     "metadata": {},
     "output_type": "execute_result"
    }
   ],
   "source": [
    "df = pd.read_csv('bigmart.csv')\n",
    "item_weight = df['Item_Weight']\n",
    "item_weight.describe()\n",
    "print('0')"
   ]
  },
  {
   "cell_type": "markdown",
   "id": "8fb81489",
   "metadata": {},
   "source": [
    "# Seperations"
   ]
  },
  {
   "cell_type": "code",
   "execution_count": null,
   "id": "cd837135",
   "metadata": {},
   "outputs": [],
   "source": [
    "For analyzing the Item_MRP column, you need to plot the distribution curve and find out how many seperate distributions are \n",
    "present in this feature.\n",
    "\n",
    "Note: To find out the separation of distributions, you can increase the number of bins to 200 or more.\n",
    "\n",
    "Expected Output\n",
    "Print the number of separations."
   ]
  },
  {
   "cell_type": "code",
   "execution_count": 8,
   "id": "515ba50b",
   "metadata": {},
   "outputs": [
    {
     "data": {
      "text/plain": [
       "[]"
      ]
     },
     "execution_count": 8,
     "metadata": {},
     "output_type": "execute_result"
    },
    {
     "data": {
      "image/png": "[encoded data removed]",
      "text/plain": [
       "<Figure size 432x288 with 1 Axes>"
      ]
     },
     "metadata": {
      "needs_background": "light"
     },
     "output_type": "display_data"
    }
   ],
   "source": [
    "df = pd.read_csv('bigmart.csv')\n",
    "mrp = df['Item_MRP']\n",
    "plt.hist(mrp,bins=200)\n",
    "plt.plot()\n",
    "\n",
    "print('4')"
   ]
  },
  {
   "cell_type": "markdown",
   "id": "9e2ba77b",
   "metadata": {},
   "source": [
    "# Plot relationships"
   ]
  },
  {
   "cell_type": "code",
   "execution_count": null,
   "id": "8b157586",
   "metadata": {},
   "outputs": [],
   "source": [
    "So far we have analyzed the dataset in a descriptive manner. We got to know a lot about what our dataset looks like, \n",
    "what different features depict and much more. Now it’s time to get the feel of our data visually. For visualization, \n",
    "we will first look at the pair plot. What you need to do is plot pairwise relationships of various features with the \n",
    "“ItemOutletSales”.\n",
    "\n",
    "Note:\n",
    "x_vars=[\"Item_Weight\", \"Item_Visibility\", \"Item_MRP\"]\n",
    "\n",
    "Expected Output\n",
    "Plot pairwise relationships of various features with the “Item_Outlet_Sales”."
   ]
  },
  {
   "cell_type": "code",
   "execution_count": 4,
   "id": "3b6fa6a3",
   "metadata": {},
   "outputs": [
    {
     "data": {
      "text/plain": [
       "<seaborn.axisgrid.PairGrid at 0x2eadc34fe50>"
      ]
     },
     "execution_count": 4,
     "metadata": {},
     "output_type": "execute_result"
    },
    {
     "data": {
      "image/png": "[encoded data removed]",
      "text/plain": [
       "<Figure size 540x180 with 3 Axes>"
      ]
     },
     "metadata": {
      "needs_background": "light"
     },
     "output_type": "display_data"
    }
   ],
   "source": [
    "df = pd.read_csv('bigmart.csv')\n",
    "\n",
    "sns.pairplot(df,x_vars=[\"Item_Weight\", \"Item_Visibility\", \"Item_MRP\"],y_vars='Item_Outlet_Sales')"
   ]
  },
  {
   "cell_type": "markdown",
   "id": "0c370da7",
   "metadata": {},
   "source": [
    "# Most item outlet sales"
   ]
  },
  {
   "cell_type": "code",
   "execution_count": null,
   "id": "8a1b068e",
   "metadata": {},
   "outputs": [],
   "source": [
    "In the previous problem, you analyzed a pair plot which helps in plotting pairwise relationships of various features. \n",
    "Now your task is to analyze the two features “ItemOutletSales” and “Item_Type” and find out which item type is having the most \n",
    "item outlet sales. Also, you need to figure out which plot better suits your need to answer this question.\n",
    "\n",
    "Expected output\n",
    "Plot the relationship between “Item_Outlet_Sales” and “Item_Type” using the appropriate plot. \n",
    "And print the item type having maximum item outlet sales."
   ]
  },
  {
   "cell_type": "code",
   "execution_count": 11,
   "id": "123d678e",
   "metadata": {},
   "outputs": [
    {
     "name": "stdout",
     "output_type": "stream",
     "text": [
      "Starchy Foods\n"
     ]
    },
    {
     "data": {
      "image/png": "[encoded data removed]",
      "text/plain": [
       "<Figure size 2160x720 with 1 Axes>"
      ]
     },
     "metadata": {
      "needs_background": "light"
     },
     "output_type": "display_data"
    }
   ],
   "source": [
    "df = pd.read_csv('bigmart.csv')\n",
    "\n",
    "plt.figure(figsize=(30,10))\n",
    "plt.grid()\n",
    "sns.barplot(data=df,x='Item_Type',y='Item_Outlet_Sales')\n",
    "print('Starchy Foods')"
   ]
  },
  {
   "cell_type": "markdown",
   "id": "483995ca",
   "metadata": {},
   "source": [
    "# Outlet Comparison"
   ]
  },
  {
   "cell_type": "code",
   "execution_count": null,
   "id": "478d277b",
   "metadata": {},
   "outputs": [],
   "source": [
    "Plot a graph using the x-axis as \"OutletEstablishmentYear\" and the y-axis as \"ItemOutletSales\". After plotting the graph,\n",
    "observe the values and determine if the old outlets are more profitable than the new ones.\n",
    "\n",
    "Note: Here, old means stores opened before the year 2000.\n",
    "\n",
    "Expected Output\n",
    "Print \"Yes\" if the observation is true; otherwise, print \"No\"."
   ]
  },
  {
   "cell_type": "code",
   "execution_count": 17,
   "id": "f6ea8f35",
   "metadata": {},
   "outputs": [
    {
     "data": {
      "image/png": "[encoded data removed]",
      "text/plain": [
       "<Figure size 432x288 with 1 Axes>"
      ]
     },
     "metadata": {
      "needs_background": "light"
     },
     "output_type": "display_data"
    }
   ],
   "source": [
    "df = pd.read_csv('bigmart.csv')\n",
    "plt.bar(df['Outlet_Establishment_Year'],df['Item_Outlet_Sales'])\n",
    "plt.show()"
   ]
  },
  {
   "cell_type": "code",
   "execution_count": null,
   "id": "6c07735d",
   "metadata": {},
   "outputs": [],
   "source": []
  },
  {
   "cell_type": "code",
   "execution_count": null,
   "id": "526b49fc",
   "metadata": {},
   "outputs": [],
   "source": []
  },
  {
   "cell_type": "code",
   "execution_count": null,
   "id": "f5724da6",
   "metadata": {},
   "outputs": [],
   "source": []
  },
  {
   "cell_type": "markdown",
   "id": "78f36e05",
   "metadata": {},
   "source": [
    "# Print datatype"
   ]
  },
  {
   "cell_type": "code",
   "execution_count": null,
   "id": "15b7bd48",
   "metadata": {},
   "outputs": [],
   "source": [
    "After learning about the features present in the “Big Mart” dataset, the next step is to know about the type of data each \n",
    "feature possess.\n",
    "Your task is to print the data type of each column along with other basic info using the pandas' method.\n",
    "\n",
    "Note: You can learn about various datatypes here.\n",
    "    Expected Output\n",
    " Print the data type of each column"
   ]
  },
  {
   "cell_type": "code",
   "execution_count": 7,
   "id": "64cd2f1f",
   "metadata": {},
   "outputs": [
    {
     "name": "stdout",
     "output_type": "stream",
     "text": [
      "Item_Identifier               object\n",
      "Item_Weight                  float64\n",
      "Item_Fat_Content              object\n",
      "Item_Visibility              float64\n",
      "Item_Type                     object\n",
      "Item_MRP                     float64\n",
      "Outlet_Identifier             object\n",
      "Outlet_Establishment_Year      int64\n",
      "Outlet_Size                   object\n",
      "Outlet_Location_Type          object\n",
      "Outlet_Type                   object\n",
      "Item_Outlet_Sales            float64\n",
      "dtype: object\n"
     ]
    }
   ],
   "source": [
    "df = pd.read_csv('bigmart.csv')\n",
    "print(df.dtypes)"
   ]
  },
  {
   "cell_type": "markdown",
   "id": "dfba056d",
   "metadata": {},
   "source": [
    "# Least outlet type sales"
   ]
  },
  {
   "cell_type": "code",
   "execution_count": null,
   "id": "bbd5f080",
   "metadata": {},
   "outputs": [],
   "source": [
    "Your manager is not happy with the variation in sales for different outlet types. She told you to figure out which outlet type \n",
    "is having most sales and which outlet is having least number of sales. Also, she wants you to show it visually.\n",
    "Your task is to figure out how to show her the output and the relation of “ItemOutletsales” and the “Outlet_type” visually.\n",
    "\n",
    "Expected Output\n",
    " Outlet type with the least number of sales."
   ]
  },
  {
   "cell_type": "code",
   "execution_count": 13,
   "id": "32be5825",
   "metadata": {},
   "outputs": [
    {
     "data": {
      "text/plain": [
       "<AxesSubplot:xlabel='Outlet_Type', ylabel='Item_Outlet_Sales'>"
      ]
     },
     "execution_count": 13,
     "metadata": {},
     "output_type": "execute_result"
    },
    {
     "data": {
      "image/png": "[encoded data removed]",
      "text/plain": [
       "<Figure size 2160x720 with 1 Axes>"
      ]
     },
     "metadata": {
      "needs_background": "light"
     },
     "output_type": "display_data"
    }
   ],
   "source": [
    "df = pd.read_csv('bigmart.csv')\n",
    "\n",
    "plt.figure(figsize=(30,10))\n",
    "sns.barplot(data=df,x='Outlet_Type',y='Item_Outlet_Sales')\n",
    "print('Grocery Store')"
   ]
  },
  {
   "cell_type": "code",
   "execution_count": null,
   "id": "18c85150",
   "metadata": {},
   "outputs": [],
   "source": []
  },
  {
   "cell_type": "code",
   "execution_count": null,
   "id": "7938a0dc",
   "metadata": {},
   "outputs": [],
   "source": []
  },
  {
   "cell_type": "code",
   "execution_count": null,
   "id": "46cb49d3",
   "metadata": {},
   "outputs": [],
   "source": []
  }
 ],
 "metadata": {
  "kernelspec": {
   "display_name": "Python 3 (ipykernel)",
   "language": "python",
   "name": "python3"
  },
  "language_info": {
   "codemirror_mode": {
    "name": "ipython",
    "version": 3
   },
   "file_extension": ".py",
   "mimetype": "text/x-python",
   "name": "python",
   "nbconvert_exporter": "python",
   "pygments_lexer": "ipython3",
   "version": "3.9.12"
  }
 },
 "nbformat": 4,
 "nbformat_minor": 5
}
