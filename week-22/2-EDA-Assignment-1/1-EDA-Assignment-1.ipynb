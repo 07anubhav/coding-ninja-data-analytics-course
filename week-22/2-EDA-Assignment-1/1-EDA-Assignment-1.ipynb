{
 "cells": [
  {
   "cell_type": "code",
   "execution_count": 1,
   "id": "fbc88d66",
   "metadata": {},
   "outputs": [
    {
     "name": "stderr",
     "output_type": "stream",
     "text": [
      "D:\\Anaconda\\lib\\site-packages\\scipy\\__init__.py:146: UserWarning: A NumPy version >=1.16.5 and <1.23.0 is required for this version of SciPy (detected version 1.24.3\n",
      "  warnings.warn(f\"A NumPy version >={np_minversion} and <{np_maxversion}\"\n"
     ]
    }
   ],
   "source": [
    "import pandas as pd\n",
    "import numpy as np\n",
    "import matplotlib.pyplot as plt\n",
    "import seaborn as sns"
   ]
  },
  {
   "cell_type": "markdown",
   "id": "fb7bd712",
   "metadata": {},
   "source": [
    "# Dataset Sample"
   ]
  },
  {
   "cell_type": "code",
   "execution_count": null,
   "id": "3e148746",
   "metadata": {},
   "outputs": [],
   "source": [
    "Now you need to work on the “Cars” dataset. The description of this dataset and the features present is provided in the \n",
    "document here.\n",
    "For this dataset, your first task is to read the dataset description and get familiar with the various features present. \n",
    "After that, you need to print the first 10 rows of the dataset and analyze this sample of the dataset for all the features.\n",
    "\n",
    "Expected Output\n",
    "Print the first 10 rows of the dataset."
   ]
  },
  {
   "cell_type": "code",
   "execution_count": 2,
   "id": "71f1fda5",
   "metadata": {},
   "outputs": [
    {
     "name": "stdout",
     "output_type": "stream",
     "text": [
      "   symboling  normalized-losses         make fuel-type aspiration  \\\n",
      "0          3                NaN  alfa-romero       gas        std   \n",
      "1          3                NaN  alfa-romero       gas        std   \n",
      "2          1                NaN  alfa-romero       gas        std   \n",
      "3          2              164.0         audi       gas        std   \n",
      "4          2              164.0         audi       gas        std   \n",
      "5          2                NaN         audi       gas        std   \n",
      "6          1              158.0         audi       gas        std   \n",
      "7          1                NaN         audi       gas        std   \n",
      "8          1              158.0         audi       gas      turbo   \n",
      "9          0                NaN         audi       gas      turbo   \n",
      "\n",
      "  num-of-doors   body-style drive-wheels engine-location  wheel-base  ...  \\\n",
      "0          two  convertible          rwd           front        88.6  ...   \n",
      "1          two  convertible          rwd           front        88.6  ...   \n",
      "2          two    hatchback          rwd           front        94.5  ...   \n",
      "3         four        sedan          fwd           front        99.8  ...   \n",
      "4         four        sedan          4wd           front        99.4  ...   \n",
      "5          two        sedan          fwd           front        99.8  ...   \n",
      "6         four        sedan          fwd           front       105.8  ...   \n",
      "7         four        wagon          fwd           front       105.8  ...   \n",
      "8         four        sedan          fwd           front       105.8  ...   \n",
      "9          two    hatchback          4wd           front        99.5  ...   \n",
      "\n",
      "   engine-size  fuel-system  bore  stroke compression-ratio horsepower  \\\n",
      "0          130         mpfi  3.47    2.68               9.0      111.0   \n",
      "1          130         mpfi  3.47    2.68               9.0      111.0   \n",
      "2          152         mpfi  2.68    3.47               9.0      154.0   \n",
      "3          109         mpfi  3.19    3.40              10.0      102.0   \n",
      "4          136         mpfi  3.19    3.40               8.0      115.0   \n",
      "5          136         mpfi  3.19    3.40               8.5      110.0   \n",
      "6          136         mpfi  3.19    3.40               8.5      110.0   \n",
      "7          136         mpfi  3.19    3.40               8.5      110.0   \n",
      "8          131         mpfi  3.13    3.40               8.3      140.0   \n",
      "9          131         mpfi  3.13    3.40               7.0      160.0   \n",
      "\n",
      "   peak-rpm city-mpg  highway-mpg    price  \n",
      "0    5000.0       21           27  13495.0  \n",
      "1    5000.0       21           27  16500.0  \n",
      "2    5000.0       19           26  16500.0  \n",
      "3    5500.0       24           30  13950.0  \n",
      "4    5500.0       18           22  17450.0  \n",
      "5    5500.0       19           25  15250.0  \n",
      "6    5500.0       19           25  17710.0  \n",
      "7    5500.0       19           25  18920.0  \n",
      "8    5500.0       17           20  23875.0  \n",
      "9    5500.0       16           22      NaN  \n",
      "\n",
      "[10 rows x 26 columns]\n"
     ]
    }
   ],
   "source": [
    "df = pd.read_csv('cars.csv')\n",
    "print(df.head(10))"
   ]
  },
  {
   "cell_type": "markdown",
   "id": "599b10fa",
   "metadata": {},
   "source": [
    "# Missing Indicator"
   ]
  },
  {
   "cell_type": "code",
   "execution_count": null,
   "id": "d9803275",
   "metadata": {},
   "outputs": [],
   "source": [
    "You need to replace all the instances of “?” with standard missing values (NaN) in the dataset. \n",
    "This should be done so that various operations for cleaning and transforming the dataset can be performed.\n",
    "\n",
    "Expected Output\n",
    "Print the number of missing values present in each column after replacing the \"?\" with Nan"
   ]
  },
  {
   "cell_type": "code",
   "execution_count": 8,
   "id": "4fd5e433",
   "metadata": {},
   "outputs": [
    {
     "name": "stdout",
     "output_type": "stream",
     "text": [
      "symboling             0\n",
      "normalized-losses    41\n",
      "make                  0\n",
      "fuel-type             0\n",
      "aspiration            0\n",
      "num-of-doors          2\n",
      "body-style            0\n",
      "drive-wheels          0\n",
      "engine-location       0\n",
      "wheel-base            0\n",
      "length                0\n",
      "width                 0\n",
      "height                0\n",
      "curb-weight           0\n",
      "engine-type           0\n",
      "num-of-cylinders      0\n",
      "engine-size           0\n",
      "fuel-system           0\n",
      "bore                  4\n",
      "stroke                4\n",
      "compression-ratio     0\n",
      "horsepower            2\n",
      "peak-rpm              2\n",
      "city-mpg              0\n",
      "highway-mpg           0\n",
      "price                 4\n",
      "dtype: int64\n"
     ]
    }
   ],
   "source": [
    "df = pd.read_csv('cars.csv')\n",
    "df.replace('?', np.NAN, inplace=True)\n",
    "missing_values = df.isnull().sum() # df.isna().sum()\n",
    "print(missing_values)"
   ]
  },
  {
   "cell_type": "markdown",
   "id": "371ea9e3",
   "metadata": {},
   "source": [
    "# Numeric features"
   ]
  },
  {
   "cell_type": "code",
   "execution_count": null,
   "id": "242cfa0b",
   "metadata": {},
   "outputs": [],
   "source": [
    "For the cars dataset, you need to analyze the data type of each column. After that, you need to find the list of all numeric \n",
    "features present in this dataset.\n",
    "We encourage you to do some research and find out how to get numeric features from a dataset using pandas.\n",
    "\n",
    "Expected Output\n",
    "Print the list of all numeric features present in this dataset."
   ]
  },
  {
   "cell_type": "code",
   "execution_count": 37,
   "id": "4d1ae562",
   "metadata": {},
   "outputs": [
    {
     "name": "stdout",
     "output_type": "stream",
     "text": [
      "['symboling', 'wheel-base', 'length', 'width', 'height', 'curb-weight', 'engine-size', 'compression-ratio', 'city-mpg', 'highway-mpg']\n"
     ]
    }
   ],
   "source": [
    "df = pd.read_csv('cars.csv')\n",
    "\n",
    "numeric_cols = df.select_dtypes(include=['int64', 'float64']).columns.tolist()\n",
    "print(numeric_cols)"
   ]
  },
  {
   "cell_type": "markdown",
   "id": "b8974cb7",
   "metadata": {},
   "source": [
    "# Descriptive Summary"
   ]
  },
  {
   "cell_type": "code",
   "execution_count": null,
   "id": "510243e1",
   "metadata": {},
   "outputs": [],
   "source": [
    "For the cars dataset, print the descriptive summary of the numerical features and analyze the various features of all \n",
    "the numerical columns\n",
    "\n",
    "Expected Output\n",
    "Print the descriptive summary of numerical features"
   ]
  },
  {
   "cell_type": "code",
   "execution_count": 40,
   "id": "dd766c62",
   "metadata": {},
   "outputs": [
    {
     "data": {
      "text/html": [
       "<div>\n",
       "<style scoped>\n",
       "    .dataframe tbody tr th:only-of-type {\n",
       "        vertical-align: middle;\n",
       "    }\n",
       "\n",
       "    .dataframe tbody tr th {\n",
       "        vertical-align: top;\n",
       "    }\n",
       "\n",
       "    .dataframe thead th {\n",
       "        text-align: right;\n",
       "    }\n",
       "</style>\n",
       "<table border=\"1\" class=\"dataframe\">\n",
       "  <thead>\n",
       "    <tr style=\"text-align: right;\">\n",
       "      <th></th>\n",
       "      <th>symboling</th>\n",
       "      <th>wheel-base</th>\n",
       "      <th>length</th>\n",
       "      <th>width</th>\n",
       "      <th>height</th>\n",
       "      <th>curb-weight</th>\n",
       "      <th>engine-size</th>\n",
       "      <th>compression-ratio</th>\n",
       "      <th>city-mpg</th>\n",
       "      <th>highway-mpg</th>\n",
       "    </tr>\n",
       "  </thead>\n",
       "  <tbody>\n",
       "    <tr>\n",
       "      <th>count</th>\n",
       "      <td>205.000000</td>\n",
       "      <td>205.000000</td>\n",
       "      <td>205.000000</td>\n",
       "      <td>205.000000</td>\n",
       "      <td>205.000000</td>\n",
       "      <td>205.000000</td>\n",
       "      <td>205.000000</td>\n",
       "      <td>205.000000</td>\n",
       "      <td>205.000000</td>\n",
       "      <td>205.000000</td>\n",
       "    </tr>\n",
       "    <tr>\n",
       "      <th>mean</th>\n",
       "      <td>0.834146</td>\n",
       "      <td>98.756585</td>\n",
       "      <td>174.049268</td>\n",
       "      <td>65.907805</td>\n",
       "      <td>53.724878</td>\n",
       "      <td>2555.565854</td>\n",
       "      <td>126.907317</td>\n",
       "      <td>10.142537</td>\n",
       "      <td>25.219512</td>\n",
       "      <td>30.751220</td>\n",
       "    </tr>\n",
       "    <tr>\n",
       "      <th>std</th>\n",
       "      <td>1.245307</td>\n",
       "      <td>6.021776</td>\n",
       "      <td>12.337289</td>\n",
       "      <td>2.145204</td>\n",
       "      <td>2.443522</td>\n",
       "      <td>520.680204</td>\n",
       "      <td>41.642693</td>\n",
       "      <td>3.972040</td>\n",
       "      <td>6.542142</td>\n",
       "      <td>6.886443</td>\n",
       "    </tr>\n",
       "    <tr>\n",
       "      <th>min</th>\n",
       "      <td>-2.000000</td>\n",
       "      <td>86.600000</td>\n",
       "      <td>141.100000</td>\n",
       "      <td>60.300000</td>\n",
       "      <td>47.800000</td>\n",
       "      <td>1488.000000</td>\n",
       "      <td>61.000000</td>\n",
       "      <td>7.000000</td>\n",
       "      <td>13.000000</td>\n",
       "      <td>16.000000</td>\n",
       "    </tr>\n",
       "    <tr>\n",
       "      <th>25%</th>\n",
       "      <td>0.000000</td>\n",
       "      <td>94.500000</td>\n",
       "      <td>166.300000</td>\n",
       "      <td>64.100000</td>\n",
       "      <td>52.000000</td>\n",
       "      <td>2145.000000</td>\n",
       "      <td>97.000000</td>\n",
       "      <td>8.600000</td>\n",
       "      <td>19.000000</td>\n",
       "      <td>25.000000</td>\n",
       "    </tr>\n",
       "    <tr>\n",
       "      <th>50%</th>\n",
       "      <td>1.000000</td>\n",
       "      <td>97.000000</td>\n",
       "      <td>173.200000</td>\n",
       "      <td>65.500000</td>\n",
       "      <td>54.100000</td>\n",
       "      <td>2414.000000</td>\n",
       "      <td>120.000000</td>\n",
       "      <td>9.000000</td>\n",
       "      <td>24.000000</td>\n",
       "      <td>30.000000</td>\n",
       "    </tr>\n",
       "    <tr>\n",
       "      <th>75%</th>\n",
       "      <td>2.000000</td>\n",
       "      <td>102.400000</td>\n",
       "      <td>183.100000</td>\n",
       "      <td>66.900000</td>\n",
       "      <td>55.500000</td>\n",
       "      <td>2935.000000</td>\n",
       "      <td>141.000000</td>\n",
       "      <td>9.400000</td>\n",
       "      <td>30.000000</td>\n",
       "      <td>34.000000</td>\n",
       "    </tr>\n",
       "    <tr>\n",
       "      <th>max</th>\n",
       "      <td>3.000000</td>\n",
       "      <td>120.900000</td>\n",
       "      <td>208.100000</td>\n",
       "      <td>72.300000</td>\n",
       "      <td>59.800000</td>\n",
       "      <td>4066.000000</td>\n",
       "      <td>326.000000</td>\n",
       "      <td>23.000000</td>\n",
       "      <td>49.000000</td>\n",
       "      <td>54.000000</td>\n",
       "    </tr>\n",
       "  </tbody>\n",
       "</table>\n",
       "</div>"
      ],
      "text/plain": [
       "        symboling  wheel-base      length       width      height  \\\n",
       "count  205.000000  205.000000  205.000000  205.000000  205.000000   \n",
       "mean     0.834146   98.756585  174.049268   65.907805   53.724878   \n",
       "std      1.245307    6.021776   12.337289    2.145204    2.443522   \n",
       "min     -2.000000   86.600000  141.100000   60.300000   47.800000   \n",
       "25%      0.000000   94.500000  166.300000   64.100000   52.000000   \n",
       "50%      1.000000   97.000000  173.200000   65.500000   54.100000   \n",
       "75%      2.000000  102.400000  183.100000   66.900000   55.500000   \n",
       "max      3.000000  120.900000  208.100000   72.300000   59.800000   \n",
       "\n",
       "       curb-weight  engine-size  compression-ratio    city-mpg  highway-mpg  \n",
       "count   205.000000   205.000000         205.000000  205.000000   205.000000  \n",
       "mean   2555.565854   126.907317          10.142537   25.219512    30.751220  \n",
       "std     520.680204    41.642693           3.972040    6.542142     6.886443  \n",
       "min    1488.000000    61.000000           7.000000   13.000000    16.000000  \n",
       "25%    2145.000000    97.000000           8.600000   19.000000    25.000000  \n",
       "50%    2414.000000   120.000000           9.000000   24.000000    30.000000  \n",
       "75%    2935.000000   141.000000           9.400000   30.000000    34.000000  \n",
       "max    4066.000000   326.000000          23.000000   49.000000    54.000000  "
      ]
     },
     "execution_count": 40,
     "metadata": {},
     "output_type": "execute_result"
    }
   ],
   "source": [
    "df = pd.read_csv('cars.csv')\n",
    "df.describe()"
   ]
  },
  {
   "cell_type": "markdown",
   "id": "10810384",
   "metadata": {},
   "source": [
    "# Object Type Descriptive Summary"
   ]
  },
  {
   "cell_type": "code",
   "execution_count": null,
   "id": "d841e1e4",
   "metadata": {},
   "outputs": [],
   "source": [
    "For the cars.csv dataset, print the descriptive summary of only the columns whose data type is object. This should contain \n",
    "\"count\", \"unique\", \"top\" and \"freq\" features.\n",
    "Note: Explore the describe method of pandas to know how to only print the summary for object dtypes.\n",
    "\n",
    "    Expected Output\n",
    "Print the descriptive summary of the object datatype columns."
   ]
  },
  {
   "cell_type": "code",
   "execution_count": 42,
   "id": "f1b064a1",
   "metadata": {},
   "outputs": [
    {
     "data": {
      "text/html": [
       "<div>\n",
       "<style scoped>\n",
       "    .dataframe tbody tr th:only-of-type {\n",
       "        vertical-align: middle;\n",
       "    }\n",
       "\n",
       "    .dataframe tbody tr th {\n",
       "        vertical-align: top;\n",
       "    }\n",
       "\n",
       "    .dataframe thead th {\n",
       "        text-align: right;\n",
       "    }\n",
       "</style>\n",
       "<table border=\"1\" class=\"dataframe\">\n",
       "  <thead>\n",
       "    <tr style=\"text-align: right;\">\n",
       "      <th></th>\n",
       "      <th>normalized-losses</th>\n",
       "      <th>make</th>\n",
       "      <th>fuel-type</th>\n",
       "      <th>aspiration</th>\n",
       "      <th>num-of-doors</th>\n",
       "      <th>body-style</th>\n",
       "      <th>drive-wheels</th>\n",
       "      <th>engine-location</th>\n",
       "      <th>engine-type</th>\n",
       "      <th>num-of-cylinders</th>\n",
       "      <th>fuel-system</th>\n",
       "      <th>bore</th>\n",
       "      <th>stroke</th>\n",
       "      <th>horsepower</th>\n",
       "      <th>peak-rpm</th>\n",
       "      <th>price</th>\n",
       "    </tr>\n",
       "  </thead>\n",
       "  <tbody>\n",
       "    <tr>\n",
       "      <th>count</th>\n",
       "      <td>205</td>\n",
       "      <td>205</td>\n",
       "      <td>205</td>\n",
       "      <td>205</td>\n",
       "      <td>205</td>\n",
       "      <td>205</td>\n",
       "      <td>205</td>\n",
       "      <td>205</td>\n",
       "      <td>205</td>\n",
       "      <td>205</td>\n",
       "      <td>205</td>\n",
       "      <td>205</td>\n",
       "      <td>205</td>\n",
       "      <td>205</td>\n",
       "      <td>205</td>\n",
       "      <td>205</td>\n",
       "    </tr>\n",
       "    <tr>\n",
       "      <th>unique</th>\n",
       "      <td>52</td>\n",
       "      <td>22</td>\n",
       "      <td>2</td>\n",
       "      <td>2</td>\n",
       "      <td>3</td>\n",
       "      <td>5</td>\n",
       "      <td>3</td>\n",
       "      <td>2</td>\n",
       "      <td>7</td>\n",
       "      <td>7</td>\n",
       "      <td>8</td>\n",
       "      <td>39</td>\n",
       "      <td>37</td>\n",
       "      <td>60</td>\n",
       "      <td>24</td>\n",
       "      <td>187</td>\n",
       "    </tr>\n",
       "    <tr>\n",
       "      <th>top</th>\n",
       "      <td>?</td>\n",
       "      <td>toyota</td>\n",
       "      <td>gas</td>\n",
       "      <td>std</td>\n",
       "      <td>four</td>\n",
       "      <td>sedan</td>\n",
       "      <td>fwd</td>\n",
       "      <td>front</td>\n",
       "      <td>ohc</td>\n",
       "      <td>four</td>\n",
       "      <td>mpfi</td>\n",
       "      <td>3.62</td>\n",
       "      <td>3.4</td>\n",
       "      <td>68</td>\n",
       "      <td>5500</td>\n",
       "      <td>?</td>\n",
       "    </tr>\n",
       "    <tr>\n",
       "      <th>freq</th>\n",
       "      <td>41</td>\n",
       "      <td>32</td>\n",
       "      <td>185</td>\n",
       "      <td>168</td>\n",
       "      <td>114</td>\n",
       "      <td>96</td>\n",
       "      <td>120</td>\n",
       "      <td>202</td>\n",
       "      <td>148</td>\n",
       "      <td>159</td>\n",
       "      <td>94</td>\n",
       "      <td>23</td>\n",
       "      <td>20</td>\n",
       "      <td>19</td>\n",
       "      <td>37</td>\n",
       "      <td>4</td>\n",
       "    </tr>\n",
       "  </tbody>\n",
       "</table>\n",
       "</div>"
      ],
      "text/plain": [
       "       normalized-losses    make fuel-type aspiration num-of-doors body-style  \\\n",
       "count                205     205       205        205          205        205   \n",
       "unique                52      22         2          2            3          5   \n",
       "top                    ?  toyota       gas        std         four      sedan   \n",
       "freq                  41      32       185        168          114         96   \n",
       "\n",
       "       drive-wheels engine-location engine-type num-of-cylinders fuel-system  \\\n",
       "count           205             205         205              205         205   \n",
       "unique            3               2           7                7           8   \n",
       "top             fwd           front         ohc             four        mpfi   \n",
       "freq            120             202         148              159          94   \n",
       "\n",
       "        bore stroke horsepower peak-rpm price  \n",
       "count    205    205        205      205   205  \n",
       "unique    39     37         60       24   187  \n",
       "top     3.62    3.4         68     5500     ?  \n",
       "freq      23     20         19       37     4  "
      ]
     },
     "execution_count": 42,
     "metadata": {},
     "output_type": "execute_result"
    }
   ],
   "source": [
    "df = pd.read_csv('cars.csv')\n",
    "print(df.describe(include='object'))"
   ]
  },
  {
   "cell_type": "markdown",
   "id": "ea541792",
   "metadata": {},
   "source": [
    "# Maker"
   ]
  },
  {
   "cell_type": "code",
   "execution_count": null,
   "id": "33006e2f",
   "metadata": {},
   "outputs": [],
   "source": [
    "Now you need to do some visualization on this dataset. Find out the maker has the most number of vehicles present in the \n",
    "dataset using the vehicle make frequency diagram.\n",
    "\n",
    "Expected output\n",
    "Print the maker having the most number of vehicles."
   ]
  },
  {
   "cell_type": "code",
   "execution_count": 52,
   "id": "ec8df202",
   "metadata": {},
   "outputs": [
    {
     "data": {
      "image/png": "[encoded data removed]",
      "text/plain": [
       "<Figure size 2880x720 with 1 Axes>"
      ]
     },
     "metadata": {
      "needs_background": "light"
     },
     "output_type": "display_data"
    },
    {
     "name": "stdout",
     "output_type": "stream",
     "text": [
      "toyota           32\n",
      "nissan           18\n",
      "mazda            17\n",
      "mitsubishi       13\n",
      "honda            13\n",
      "volkswagen       12\n",
      "subaru           12\n",
      "peugot           11\n",
      "volvo            11\n",
      "dodge             9\n",
      "mercedes-benz     8\n",
      "bmw               8\n",
      "audi              7\n",
      "plymouth          7\n",
      "saab              6\n",
      "porsche           5\n",
      "isuzu             4\n",
      "jaguar            3\n",
      "chevrolet         3\n",
      "alfa-romero       3\n",
      "renault           2\n",
      "mercury           1\n",
      "Name: make, dtype: int64\n"
     ]
    }
   ],
   "source": [
    "df = pd.read_csv('cars.csv')\n",
    "\n",
    "plt.figure(figsize=(40,10))\n",
    "plt.hist(df['make'],bins=22)\n",
    "plt.show()\n",
    "print(df['make'].value_counts())"
   ]
  },
  {
   "cell_type": "markdown",
   "id": "37c13e66",
   "metadata": {},
   "source": [
    "# Ratings"
   ]
  },
  {
   "cell_type": "code",
   "execution_count": null,
   "id": "cba57356",
   "metadata": {},
   "outputs": [],
   "source": [
    "The insurance risk for any vehicle can be analyzed using the “symboling” feature of the dataset. \n",
    "You need to plot a graph having the bins for each insurance risk rating.\n",
    "\n",
    "Expected Output\n",
    "Print the insurance risk rating which has been allotted to the highest number of vehicles."
   ]
  },
  {
   "cell_type": "code",
   "execution_count": 8,
   "id": "56ca9587",
   "metadata": {},
   "outputs": [
    {
     "data": {
      "image/png": "[encoded data removed]",
      "text/plain": [
       "<Figure size 432x288 with 1 Axes>"
      ]
     },
     "metadata": {
      "needs_background": "light"
     },
     "output_type": "display_data"
    },
    {
     "name": "stdout",
     "output_type": "stream",
     "text": [
      "0\n"
     ]
    }
   ],
   "source": [
    "df = pd.read_csv('cars.csv')\n",
    "plt.hist(df['symboling'],edgecolor='black',bins=6)\n",
    "plt.show()\n",
    "print('0')"
   ]
  },
  {
   "cell_type": "markdown",
   "id": "1cf0c11d",
   "metadata": {},
   "source": [
    "# Aspiration type"
   ]
  },
  {
   "cell_type": "code",
   "execution_count": null,
   "id": "8d79e46d",
   "metadata": {},
   "outputs": [],
   "source": [
    "The “aspiration” feature present in the dataset describes the internal combustion engine. \n",
    "You need to plot a pie chart for this feature and find out which aspiration type is contained in most of the vehicles.\n",
    "\n",
    "Expected Output\n",
    "Print the aspiration type contained in most of the vehicles."
   ]
  },
  {
   "cell_type": "code",
   "execution_count": 26,
   "id": "b62bf0b6",
   "metadata": {},
   "outputs": [
    {
     "data": {
      "image/png": "[encoded data removed]",
      "text/plain": [
       "<Figure size 432x288 with 1 Axes>"
      ]
     },
     "metadata": {},
     "output_type": "display_data"
    }
   ],
   "source": [
    "df = pd.read_csv('cars.csv')\n",
    "aspiration = df['aspiration'].replace(['std','turbo'],[0,1]) #std=0,turbo=1\n",
    "label = np.array(aspiration.value_counts().index)\n",
    "data = np.array(aspiration.value_counts().values)\n",
    "\n",
    "plt.pie(data,labels=label,autopct='%.2f%%',counterclock=False,) \n",
    "plt.show()"
   ]
  },
  {
   "cell_type": "markdown",
   "id": "9104617d",
   "metadata": {},
   "source": [
    "# Curb weight"
   ]
  },
  {
   "cell_type": "code",
   "execution_count": null,
   "id": "3ab5fd64",
   "metadata": {},
   "outputs": [],
   "source": [
    "You need to create a histogram having 5 bins for curb weight and find out what is the approximate distribution having most of \n",
    "the cars.\n",
    "\n",
    "Expected output\n",
    "Print the approximate distribution having the most numbers of cars according to curb weight.\n",
    "\n",
    "start-end"
   ]
  },
  {
   "cell_type": "code",
   "execution_count": 27,
   "id": "8d8513e2",
   "metadata": {},
   "outputs": [
    {
     "data": {
      "image/png": "[encoded data removed]",
      "text/plain": [
       "<Figure size 432x288 with 1 Axes>"
      ]
     },
     "metadata": {
      "needs_background": "light"
     },
     "output_type": "display_data"
    }
   ],
   "source": [
    "df = pd.read_csv('cars.csv')\n",
    "plt.hist(df['curb-weight'],bins=5)\n",
    "plt.show()\n",
    "print('2000-2500')"
   ]
  },
  {
   "cell_type": "markdown",
   "id": "56df904e",
   "metadata": {},
   "source": [
    "# Price"
   ]
  },
  {
   "cell_type": "code",
   "execution_count": null,
   "id": "88dacfc6",
   "metadata": {},
   "outputs": [],
   "source": [
    "You have been assigned a task to find the correlation of various numerical features with each other. \n",
    "You need to visualize a heatmap of the correlation matrix and find out which feature is most highly correlated with the \n",
    "“Price” feature.\n",
    "\n",
    "Expected output\n",
    "Print the feature most highly correlated with the “Price” feature."
   ]
  },
  {
   "cell_type": "code",
   "execution_count": 47,
   "id": "10c2dfe5",
   "metadata": {},
   "outputs": [
    {
     "name": "stdout",
     "output_type": "stream",
     "text": [
      "-0.07146116582652733\n",
      "0.5788039629289583\n",
      "0.6850187941867715\n",
      "0.6956544974497306\n",
      "0.15843563257128854\n",
      "0.7997728040770841\n",
      "0.8380972858386326\n",
      "0.07795927100275192\n",
      "-0.6600259399668417\n",
      "-0.6876750740856988\n"
     ]
    }
   ],
   "source": [
    "df = pd.read_csv('cars.csv')\n",
    "df['price'].replace('?',0,inplace=True)\n",
    "df['price'] = df['price'].astype(int)\n",
    "print(df['price'].corr(df['symboling']))\n",
    "print(df['price'].corr(df['wheel-base']))\n",
    "print(df['price'].corr(df['length']))\n",
    "print(df['price'].corr(df['width']))\n",
    "print(df['price'].corr(df['height']))\n",
    "print(df['price'].corr(df['curb-weight']))\n",
    "print(df['price'].corr(df['engine-size']))\n",
    "print(df['price'].corr(df['compression-ratio']))\n",
    "print(df['price'].corr(df['city-mpg']))\n",
    "print(df['price'].corr(df['highway-mpg']))"
   ]
  }
 ],
 "metadata": {
  "kernelspec": {
   "display_name": "Python 3 (ipykernel)",
   "language": "python",
   "name": "python3"
  },
  "language_info": {
   "codemirror_mode": {
    "name": "ipython",
    "version": 3
   },
   "file_extension": ".py",
   "mimetype": "text/x-python",
   "name": "python",
   "nbconvert_exporter": "python",
   "pygments_lexer": "ipython3",
   "version": "3.9.12"
  }
 },
 "nbformat": 4,
 "nbformat_minor": 5
}
