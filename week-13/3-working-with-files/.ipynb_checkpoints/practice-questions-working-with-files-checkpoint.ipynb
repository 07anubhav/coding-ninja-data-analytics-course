{
 "cells": [
  {
   "cell_type": "markdown",
   "id": "560988b4",
   "metadata": {},
   "source": [
    "# Read words"
   ]
  },
  {
   "cell_type": "code",
   "execution_count": null,
   "id": "85aaac1e",
   "metadata": {},
   "outputs": [],
   "source": [
    "Given a file 'Sample1.txt'. Write a program to read first 200 characters."
   ]
  },
  {
   "cell_type": "code",
   "execution_count": null,
   "id": "a8b62140",
   "metadata": {},
   "outputs": [],
   "source": [
    "file_obj = open('Sample1.txt',mode='r')\n",
    "file_obj.read(200)"
   ]
  },
  {
   "cell_type": "markdown",
   "id": "18059422",
   "metadata": {},
   "source": [
    "# Print 5 lines"
   ]
  },
  {
   "cell_type": "code",
   "execution_count": null,
   "id": "46e0f307",
   "metadata": {},
   "outputs": [],
   "source": [
    "Given file \"Sample.txt\"\n",
    "Open the file\n",
    "Read the first 5 lines from file and print them (in separate lines)."
   ]
  },
  {
   "cell_type": "code",
   "execution_count": null,
   "id": "af80e958",
   "metadata": {},
   "outputs": [],
   "source": [
    "with open(\"Sample.txt\", 'r') as file:\n",
    "    for i in range(5):\n",
    "        line = file.readline()\n",
    "        print(line)"
   ]
  },
  {
   "cell_type": "markdown",
   "id": "60d08b9b",
   "metadata": {},
   "source": [
    "# Print 5 Lines (Readlines)"
   ]
  },
  {
   "cell_type": "code",
   "execution_count": null,
   "id": "6f45cdac",
   "metadata": {},
   "outputs": [],
   "source": [
    "Given file \"Sample.txt\"\n",
    "Open the file\n",
    "Read the first 5 lines from file and print them."
   ]
  },
  {
   "cell_type": "code",
   "execution_count": null,
   "id": "bdd603b0",
   "metadata": {},
   "outputs": [],
   "source": [
    "with open(\"Sample.txt\", 'r') as file:\n",
    "    line = file.readlines()\n",
    "\n",
    "for i in range(5):\n",
    "    print(line[i])"
   ]
  },
  {
   "cell_type": "markdown",
   "id": "a641a993",
   "metadata": {},
   "source": [
    "# First 3 lines"
   ]
  },
  {
   "cell_type": "code",
   "execution_count": null,
   "id": "d2509615",
   "metadata": {},
   "outputs": [],
   "source": [
    "Open and read the file\n",
    "Print the first 3 rows of the file, excluding header (in different lines)\n",
    "Print columns of one row, separated by space\n",
    "\n",
    "Given file \"year2017.csv\"\n",
    "It is an open-source database including information on terrorist attacks around the world from 1970 through 2017. \n",
    "This dataset includes systematic data on domestic as well as international terrorist incidents that have occurred during this \n",
    "time period"
   ]
  },
  {
   "cell_type": "code",
   "execution_count": 40,
   "id": "9e111c5c",
   "metadata": {},
   "outputs": [
    {
     "name": "stdout",
     "output_type": "stream",
     "text": [
      "2017 1 2 Afghanistan South Asia Takhta Pul 31.320556 65.961111 Hostage Taking (Kidnapping) 0.0 0.0 Construction Workers Taliban Business Firearms 0.0\n",
      "2017 1 3 Sudan Sub-Saharan Africa Fantaga 12.921007000000001 24.318324 Armed Assault 2.0 0.0 Civilians: Haroun Yousif, Hamid Ibrahim Unknown Private Citizens & Property Firearms 2.0\n",
      "2017 1 1 Democratic Republic of the Congo Sub-Saharan Africa Saboko 1.452372 29.875162 Armed Assault 7.0 0.0 Village Allied Democratic Forces (ADF) Private Citizens & Property Melee 7.0\n"
     ]
    }
   ],
   "source": [
    "import csv\n",
    "with open('sample-csv.csv',mode='r') as obj:\n",
    "    data = csv.reader(obj)\n",
    "    data_list = list(data)\n",
    "    \n",
    "for i in data_list[1:4]:\n",
    "    print(\" \".join(i))"
   ]
  },
  {
   "cell_type": "markdown",
   "id": "ceb58881",
   "metadata": {},
   "source": [
    "# Print all column names"
   ]
  },
  {
   "cell_type": "code",
   "execution_count": null,
   "id": "a3227f49",
   "metadata": {},
   "outputs": [],
   "source": [
    "Open and read the file\n",
    "Print the name of columns (in different lines)"
   ]
  },
  {
   "cell_type": "code",
   "execution_count": 20,
   "id": "41d1b1fd",
   "metadata": {},
   "outputs": [
    {
     "name": "stdout",
     "output_type": "stream",
     "text": [
      "Year\n",
      "Month\n",
      "Day\n",
      "Country\n",
      "Region\n",
      "city\n",
      "latitude\n",
      "longitude\n",
      "AttackType\n",
      "Killed\n",
      "Wounded\n",
      "Target\n",
      "Group\n",
      "Target_type\n",
      "Weapon_type\n",
      "casualities\n",
      "\n"
     ]
    }
   ],
   "source": [
    "with open('sample-csv.csv',mode='r') as obj:\n",
    "    data = obj.readline()\n",
    "    \n",
    "col = data.split(',')\n",
    "for i in col:\n",
    "    print(i)"
   ]
  },
  {
   "cell_type": "markdown",
   "id": "73f798ad",
   "metadata": {},
   "source": [
    "# Country Names"
   ]
  },
  {
   "cell_type": "code",
   "execution_count": null,
   "id": "8f04e253",
   "metadata": {},
   "outputs": [],
   "source": [
    "Open and read the file\n",
    "Print the country names from first 10 rows (in different lines)"
   ]
  },
  {
   "cell_type": "code",
   "execution_count": 36,
   "id": "0cbd5260",
   "metadata": {},
   "outputs": [
    {
     "name": "stdout",
     "output_type": "stream",
     "text": [
      "Afghanistan\n",
      "Sudan\n",
      "Democratic Republic of the Congo\n",
      "Democratic Republic of the Congo\n",
      "Turkey\n",
      "Syria\n",
      "Pakistan\n",
      "Italy\n",
      "Turkey\n",
      "Turkey\n"
     ]
    }
   ],
   "source": [
    "import csv\n",
    "with open('sample-csv.csv',mode='r') as obj:\n",
    "    data = csv.reader(obj)\n",
    "    data_list = list(data)\n",
    "    \n",
    "for i in data_list[1:11]:\n",
    "    print(i[3])"
   ]
  },
  {
   "cell_type": "markdown",
   "id": "9d8210e2",
   "metadata": {},
   "source": [
    "# Delimiter"
   ]
  },
  {
   "cell_type": "code",
   "execution_count": null,
   "id": "c42914cb",
   "metadata": {},
   "outputs": [],
   "source": [
    "You are given a CSV file named \"Olympics2.csv\" that uses a custom delimiter (`|`) and may have initial spaces in the rows.\n",
    "Write a program that reads this CSV file, handles the custom delimiter, and skips the initial spaces in the rows."
   ]
  },
  {
   "cell_type": "code",
   "execution_count": null,
   "id": "005f665a",
   "metadata": {},
   "outputs": [],
   "source": []
  },
  {
   "cell_type": "markdown",
   "id": "22a25192",
   "metadata": {},
   "source": [
    "# Total Wounded People"
   ]
  },
  {
   "cell_type": "code",
   "execution_count": null,
   "id": "ca3bfa63",
   "metadata": {},
   "outputs": [],
   "source": [
    "Find and print the total number of wounded people.\n",
    "Print the count as integer value.\n",
    "Note : There can be missing values in \"Wounded\" column. You should try to print the values of \"Wounded\" column and observe."
   ]
  },
  {
   "cell_type": "code",
   "execution_count": 42,
   "id": "f687b152",
   "metadata": {},
   "outputs": [
    {
     "name": "stdout",
     "output_type": "stream",
     "text": [
      "24927\n"
     ]
    }
   ],
   "source": [
    "import csv\n",
    "\n",
    "with open('sample-csv.csv.csv') as file_obj:\n",
    "    file_data = csv.reader(file_obj, delimiter=',', skipinitialspace=True)\n",
    "    \n",
    "    file_list = list(file_data)\n",
    "    \n",
    "wounded = []\n",
    "\n",
    "for i in file_list[1:]: # this will skip the header part of the list\n",
    "    val = i[10]\n",
    "    if val != '':\n",
    "        wounded.append(int(float(val)))\n",
    "        \n",
    "print(sum(wounded))"
   ]
  },
  {
   "cell_type": "markdown",
   "id": "5a2aa798",
   "metadata": {},
   "source": [
    "# Total Wounded from India"
   ]
  },
  {
   "cell_type": "code",
   "execution_count": null,
   "id": "91e806b4",
   "metadata": {},
   "outputs": [],
   "source": [
    "Find and print the total number of wounded people who are from country \"India\".\n",
    "Print the count as integer value.\n",
    "Note : There can be missing values in \"Wounded\" column. You should try to print the values of \"Wounded\" column and observe."
   ]
  },
  {
   "cell_type": "code",
   "execution_count": 45,
   "id": "e1413199",
   "metadata": {},
   "outputs": [
    {
     "name": "stdout",
     "output_type": "stream",
     "text": [
      "702\n"
     ]
    }
   ],
   "source": [
    "import csv\n",
    "\n",
    "with open('sample-csv.csv') as file_obj:\n",
    "    file_data = csv.reader(file_obj, delimiter=',', skipinitialspace=True)\n",
    "    \n",
    "    file_list = list(file_data)\n",
    "    \n",
    "wounded = []\n",
    "\n",
    "for i in file_list[1:]: # this will skip the header part of the list\n",
    "    val = i[10]\n",
    "    if val != '' and i[3] == 'India':\n",
    "        wounded.append(int(float(val)))\n",
    "        \n",
    "print(sum(wounded))"
   ]
  },
  {
   "cell_type": "markdown",
   "id": "559da968",
   "metadata": {},
   "source": [
    "# Month vs Killed"
   ]
  },
  {
   "cell_type": "code",
   "execution_count": null,
   "id": "3e35ab6e",
   "metadata": {},
   "outputs": [],
   "source": [
    "Find the total number people killed in each month.\n",
    "Print the month and count of killed people as integer value.\n",
    "Output Format :\n",
    "Month_1 Count_1\n",
    "Month_2 Count_2\n",
    "Month_3 Count_3\n",
    "and so on"
   ]
  },
  {
   "cell_type": "code",
   "execution_count": 48,
   "id": "522fa951",
   "metadata": {},
   "outputs": [
    {
     "name": "stdout",
     "output_type": "stream",
     "text": [
      "1   2275\n",
      "2   2027\n",
      "3   2463\n",
      "4   2142\n",
      "5   2936\n",
      "6   2506\n",
      "7   2228\n",
      "8   2145\n",
      "9   1764\n",
      "10   2580\n",
      "11   2014\n",
      "12   1365\n"
     ]
    }
   ],
   "source": [
    "with open('sample-csv.csv') as file_obj:\n",
    "    file_data = csv.DictReader(file_obj, skipinitialspace=True) \n",
    "    file_list = list(file_data) # This will create a list of dictionary\n",
    "    \n",
    "country_killed = {}\n",
    "for i in file_list:\n",
    "    key = i['Month']\n",
    "    value = i['Killed']\n",
    "    \n",
    "    if value != '':\n",
    "        value = int(float(value))\n",
    "    else:\n",
    "        value = 0\n",
    "        \n",
    "    if key in country_killed:\n",
    "        country_killed[key] += value\n",
    "    else:\n",
    "        country_killed[key] = value\n",
    "        \n",
    "for k,v in country_killed.items():\n",
    "    print(k,' ',v)"
   ]
  },
  {
   "cell_type": "markdown",
   "id": "25f750b7",
   "metadata": {},
   "source": [
    "# Country vs Casualties"
   ]
  },
  {
   "cell_type": "code",
   "execution_count": null,
   "id": "afd012f1",
   "metadata": {},
   "outputs": [],
   "source": [
    "Find total number of casualties in each country.\n",
    "Print number of casualties as integer value.\n",
    "Note : For any missing value of casualty column, take 0 as value"
   ]
  },
  {
   "cell_type": "code",
   "execution_count": 50,
   "id": "4c676ba7",
   "metadata": {},
   "outputs": [
    {
     "name": "stdout",
     "output_type": "stream",
     "text": [
      "Afghanistan   11698\n",
      "Sudan   255\n",
      "Democratic Republic of the Congo   636\n",
      "Turkey   548\n",
      "Syria   2731\n",
      "Pakistan   3153\n",
      "Italy   8\n",
      "Somalia   3038\n",
      "Yemen   1446\n",
      "Bahrain   32\n",
      "Myanmar   85\n",
      "Burundi   147\n",
      "Iraq   10999\n",
      "Egypt   1499\n",
      "Burkina Faso   98\n",
      "India   1157\n",
      "Algeria   31\n",
      "United States   1027\n",
      "Philippines   1148\n",
      "Greece   7\n",
      "Mali   657\n",
      "Libya   316\n",
      "Central African Republic   569\n",
      "Nigeria   2300\n",
      "Lebanon   66\n",
      "Mexico   29\n",
      "Cameroon   448\n",
      "Ethiopia   80\n",
      "Kyrgyzstan   0\n",
      "Serbia   1\n",
      "Sweden   37\n",
      "Thailand   342\n",
      "Iran   106\n",
      "France   35\n",
      "United Kingdom   343\n",
      "West Bank and Gaza Strip   125\n",
      "Ukraine   104\n",
      "Paraguay   5\n",
      "Colombia   188\n",
      "Malaysia   6\n",
      "Russia   175\n",
      "Kosovo   4\n",
      "South Africa   28\n",
      "Chile   2\n",
      "Kenya   204\n",
      "Israel   18\n",
      "Saudi Arabia   100\n",
      "China   92\n",
      "Nepal   97\n",
      "Ecuador   0\n",
      "Niger   210\n",
      "Venezuela   37\n",
      "South Sudan   836\n",
      "Canada   31\n",
      "Bangladesh   97\n",
      "Tajikistan   1\n",
      "Angola   416\n",
      "Ireland   0\n",
      "Peru   12\n",
      "Dominican Republic   3\n",
      "Poland   0\n",
      "Jordan   5\n",
      "Azerbaijan   7\n",
      "Mozambique   33\n",
      "Indonesia   47\n",
      "Germany   11\n",
      "Brazil   0\n",
      "Macedonia   0\n",
      "Tunisia   10\n",
      "Uganda   9\n",
      "Chad   2\n",
      "Finland   12\n",
      "Australia   25\n",
      "Norway   0\n",
      "Vietnam   0\n",
      "Tanzania   10\n",
      "Sierra Leone   0\n",
      "Sri Lanka   4\n",
      "Maldives   1\n",
      "Belgium   4\n",
      "Rwanda   10\n",
      "Honduras   2\n",
      "Czech Republic   0\n",
      "Malta   1\n",
      "Gabon   2\n",
      "Laos   1\n",
      "Djibouti   0\n",
      "Austria   2\n",
      "Zambia   0\n",
      "Argentina   0\n",
      "Papua New Guinea   3\n",
      "Zimbabwe   1\n",
      "Ivory Coast   5\n",
      "Spain   132\n",
      "Taiwan   1\n",
      "Jamaica   0\n",
      "Albania   0\n",
      "Liberia   0\n",
      "Georgia   5\n",
      "Malawi   0\n",
      "Netherlands   0\n",
      "Latvia   0\n"
     ]
    }
   ],
   "source": [
    "with open('sample-csv.csv') as file_obj:\n",
    "    file_data = csv.DictReader(file_obj, skipinitialspace=True) \n",
    "    file_list = list(file_data) # This will create a list of dictionary\n",
    "    \n",
    "casualities = {}\n",
    "for i in file_list:\n",
    "    key = i['Country']\n",
    "    value = i['casualities']\n",
    "    \n",
    "    if value != '':\n",
    "        value = int(float(value))\n",
    "    else:\n",
    "        value = 0\n",
    "        \n",
    "    if key in casualities:\n",
    "        casualities[key] += value\n",
    "    else:\n",
    "        casualities[key] = value\n",
    "        \n",
    "for k,v in casualities.items():\n",
    "    print(k,' ',v)"
   ]
  }
 ],
 "metadata": {
  "kernelspec": {
   "display_name": "Python 3 (ipykernel)",
   "language": "python",
   "name": "python3"
  },
  "language_info": {
   "codemirror_mode": {
    "name": "ipython",
    "version": 3
   },
   "file_extension": ".py",
   "mimetype": "text/x-python",
   "name": "python",
   "nbconvert_exporter": "python",
   "pygments_lexer": "ipython3",
   "version": "3.9.12"
  }
 },
 "nbformat": 4,
 "nbformat_minor": 5
}
