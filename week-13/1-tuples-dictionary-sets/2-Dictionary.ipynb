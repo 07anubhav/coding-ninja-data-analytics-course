{
 "cells": [
  {
   "cell_type": "markdown",
   "id": "9d4ecc80",
   "metadata": {},
   "source": [
    "# Dictionary"
   ]
  },
  {
   "cell_type": "code",
   "execution_count": 1,
   "id": "907a8faf",
   "metadata": {},
   "outputs": [],
   "source": [
    "a = {}"
   ]
  },
  {
   "cell_type": "code",
   "execution_count": 2,
   "id": "56012a9b",
   "metadata": {},
   "outputs": [
    {
     "data": {
      "text/plain": [
       "dict"
      ]
     },
     "execution_count": 2,
     "metadata": {},
     "output_type": "execute_result"
    }
   ],
   "source": [
    "type(a)"
   ]
  },
  {
   "cell_type": "code",
   "execution_count": 3,
   "id": "391f03dc",
   "metadata": {},
   "outputs": [
    {
     "name": "stdout",
     "output_type": "stream",
     "text": [
      "{'the': 1, 'a': 5, 10000: 'str'}\n"
     ]
    }
   ],
   "source": [
    "a = {'the':1,'a':5,10000:'str'}\n",
    "print(a)"
   ]
  },
  {
   "cell_type": "code",
   "execution_count": 4,
   "id": "3870b2e7",
   "metadata": {},
   "outputs": [
    {
     "data": {
      "text/plain": [
       "3"
      ]
     },
     "execution_count": 4,
     "metadata": {},
     "output_type": "execute_result"
    }
   ],
   "source": [
    "len(a)"
   ]
  },
  {
   "cell_type": "code",
   "execution_count": 5,
   "id": "469e1a4f",
   "metadata": {},
   "outputs": [
    {
     "data": {
      "text/plain": [
       "{'the': 1, 'a': 5, 10000: 'str'}"
      ]
     },
     "execution_count": 5,
     "metadata": {},
     "output_type": "execute_result"
    }
   ],
   "source": [
    "b = a.copy()\n",
    "b"
   ]
  },
  {
   "cell_type": "code",
   "execution_count": 8,
   "id": "42eba2e8",
   "metadata": {},
   "outputs": [
    {
     "data": {
      "text/plain": [
       "{'the': 3, 3: 5, 10: 'str'}"
      ]
     },
     "execution_count": 8,
     "metadata": {},
     "output_type": "execute_result"
    }
   ],
   "source": [
    "c = dict([('the',3),(3,5),(10,\"str\")])\n",
    "c"
   ]
  },
  {
   "cell_type": "code",
   "execution_count": 9,
   "id": "b0b83556",
   "metadata": {},
   "outputs": [
    {
     "data": {
      "text/plain": [
       "{'abc': None, 5: None, 'str': None}"
      ]
     },
     "execution_count": 9,
     "metadata": {},
     "output_type": "execute_result"
    }
   ],
   "source": [
    "d = dict.fromkeys(['abc',5,'str'])\n",
    "d"
   ]
  },
  {
   "cell_type": "code",
   "execution_count": 10,
   "id": "f4315b9a",
   "metadata": {},
   "outputs": [
    {
     "data": {
      "text/plain": [
       "{'abc': 10, 5: 10, 'str': 10}"
      ]
     },
     "execution_count": 10,
     "metadata": {},
     "output_type": "execute_result"
    }
   ],
   "source": [
    "d = dict.fromkeys(['abc',5,'str'],10)\n",
    "d"
   ]
  },
  {
   "cell_type": "markdown",
   "id": "5c2cfb7d",
   "metadata": {},
   "source": [
    "# Access/Looping in dictionary\n",
    "#### a[key] : To access an element of a key"
   ]
  },
  {
   "cell_type": "code",
   "execution_count": 12,
   "id": "7a779d50",
   "metadata": {},
   "outputs": [
    {
     "data": {
      "text/plain": [
       "{1: 2, 3: 4, 'list': [1, 23], 'dict': {1: 2, 'str': 45}}"
      ]
     },
     "execution_count": 12,
     "metadata": {},
     "output_type": "execute_result"
    }
   ],
   "source": [
    "a = {1:2,3:4,'list':[1,23],'dict':{1:2,'str':45}}\n",
    "a"
   ]
  },
  {
   "cell_type": "code",
   "execution_count": 13,
   "id": "b5588431",
   "metadata": {},
   "outputs": [
    {
     "data": {
      "text/plain": [
       "[1, 23]"
      ]
     },
     "execution_count": 13,
     "metadata": {},
     "output_type": "execute_result"
    }
   ],
   "source": [
    "a['list']"
   ]
  },
  {
   "cell_type": "code",
   "execution_count": 15,
   "id": "37ff7980",
   "metadata": {},
   "outputs": [
    {
     "data": {
      "text/plain": [
       "4"
      ]
     },
     "execution_count": 15,
     "metadata": {},
     "output_type": "execute_result"
    }
   ],
   "source": [
    "a[3]"
   ]
  },
  {
   "cell_type": "code",
   "execution_count": 16,
   "id": "e454cef0",
   "metadata": {},
   "outputs": [
    {
     "data": {
      "text/plain": [
       "{1: 2, 'str': 45}"
      ]
     },
     "execution_count": 16,
     "metadata": {},
     "output_type": "execute_result"
    }
   ],
   "source": [
    "a['dict']"
   ]
  },
  {
   "cell_type": "code",
   "execution_count": 17,
   "id": "9c831b6f",
   "metadata": {},
   "outputs": [
    {
     "data": {
      "text/plain": [
       "45"
      ]
     },
     "execution_count": 17,
     "metadata": {},
     "output_type": "execute_result"
    }
   ],
   "source": [
    "a['dict']['str']"
   ]
  },
  {
   "cell_type": "markdown",
   "id": "8b0abf14",
   "metadata": {},
   "source": [
    "#### .get() : It'll return the 'None' if the key is not present in the dictionary, but it'll return the second argument value if the key is not present in the dictionary. If key is present then it'll return value associated to that particular key."
   ]
  },
  {
   "cell_type": "code",
   "execution_count": 19,
   "id": "26fec310",
   "metadata": {},
   "outputs": [
    {
     "data": {
      "text/plain": [
       "2"
      ]
     },
     "execution_count": 19,
     "metadata": {},
     "output_type": "execute_result"
    }
   ],
   "source": [
    "a.get(1)"
   ]
  },
  {
   "cell_type": "code",
   "execution_count": 20,
   "id": "03acc059",
   "metadata": {},
   "outputs": [
    {
     "name": "stdout",
     "output_type": "stream",
     "text": [
      "None\n"
     ]
    }
   ],
   "source": [
    "print(a.get(2))"
   ]
  },
  {
   "cell_type": "code",
   "execution_count": 21,
   "id": "f400198b",
   "metadata": {},
   "outputs": [
    {
     "data": {
      "text/plain": [
       "12"
      ]
     },
     "execution_count": 21,
     "metadata": {},
     "output_type": "execute_result"
    }
   ],
   "source": [
    "a.get('li',12)"
   ]
  },
  {
   "cell_type": "code",
   "execution_count": 22,
   "id": "ded6dd4c",
   "metadata": {},
   "outputs": [
    {
     "data": {
      "text/plain": [
       "{1: 2, 3: 4, 'list': [1, 23], 'dict': {1: 2, 'str': 45}}"
      ]
     },
     "execution_count": 22,
     "metadata": {},
     "output_type": "execute_result"
    }
   ],
   "source": [
    "a"
   ]
  },
  {
   "cell_type": "code",
   "execution_count": 23,
   "id": "eceae768",
   "metadata": {},
   "outputs": [
    {
     "data": {
      "text/plain": [
       "dict_keys([1, 3, 'list', 'dict'])"
      ]
     },
     "execution_count": 23,
     "metadata": {},
     "output_type": "execute_result"
    }
   ],
   "source": [
    "a.keys()"
   ]
  },
  {
   "cell_type": "code",
   "execution_count": 24,
   "id": "8dd2c439",
   "metadata": {},
   "outputs": [
    {
     "data": {
      "text/plain": [
       "dict_values([2, 4, [1, 23], {1: 2, 'str': 45}])"
      ]
     },
     "execution_count": 24,
     "metadata": {},
     "output_type": "execute_result"
    }
   ],
   "source": [
    "a.values()"
   ]
  },
  {
   "cell_type": "code",
   "execution_count": 25,
   "id": "15741779",
   "metadata": {},
   "outputs": [
    {
     "data": {
      "text/plain": [
       "dict_items([(1, 2), (3, 4), ('list', [1, 23]), ('dict', {1: 2, 'str': 45})])"
      ]
     },
     "execution_count": 25,
     "metadata": {},
     "output_type": "execute_result"
    }
   ],
   "source": [
    "a.items()"
   ]
  },
  {
   "cell_type": "markdown",
   "id": "5c36dcf7",
   "metadata": {},
   "source": [
    "### For loops"
   ]
  },
  {
   "cell_type": "code",
   "execution_count": 28,
   "id": "8feb7977",
   "metadata": {},
   "outputs": [
    {
     "name": "stdout",
     "output_type": "stream",
     "text": [
      "1 2\n",
      "3 4\n",
      "list [1, 23]\n",
      "dict {1: 2, 'str': 45}\n"
     ]
    }
   ],
   "source": [
    "for i in a:\n",
    "    print(i,a[i])"
   ]
  },
  {
   "cell_type": "code",
   "execution_count": 29,
   "id": "500d296f",
   "metadata": {},
   "outputs": [
    {
     "name": "stdout",
     "output_type": "stream",
     "text": [
      "2\n",
      "4\n",
      "[1, 23]\n",
      "{1: 2, 'str': 45}\n"
     ]
    }
   ],
   "source": [
    "for i in a.values():\n",
    "    print(i)"
   ]
  },
  {
   "cell_type": "code",
   "execution_count": 30,
   "id": "56a4f507",
   "metadata": {},
   "outputs": [
    {
     "name": "stdout",
     "output_type": "stream",
     "text": [
      "(1, 2)\n",
      "(3, 4)\n",
      "('list', [1, 23])\n",
      "('dict', {1: 2, 'str': 45})\n"
     ]
    }
   ],
   "source": [
    "for i in a.items():\n",
    "    print(i)"
   ]
  },
  {
   "cell_type": "code",
   "execution_count": 34,
   "id": "d8727c23",
   "metadata": {},
   "outputs": [],
   "source": [
    "a = {1:2,3:4,'list':[1,23],'dict':{1:2,'str':45}}"
   ]
  },
  {
   "cell_type": "code",
   "execution_count": 35,
   "id": "1e501a62",
   "metadata": {},
   "outputs": [
    {
     "data": {
      "text/plain": [
       "True"
      ]
     },
     "execution_count": 35,
     "metadata": {},
     "output_type": "execute_result"
    }
   ],
   "source": [
    "3 in a"
   ]
  },
  {
   "cell_type": "code",
   "execution_count": 36,
   "id": "92345c2c",
   "metadata": {},
   "outputs": [
    {
     "data": {
      "text/plain": [
       "True"
      ]
     },
     "execution_count": 36,
     "metadata": {},
     "output_type": "execute_result"
    }
   ],
   "source": [
    "'list' in a"
   ]
  },
  {
   "cell_type": "code",
   "execution_count": 37,
   "id": "0e33da10",
   "metadata": {},
   "outputs": [
    {
     "data": {
      "text/plain": [
       "False"
      ]
     },
     "execution_count": 37,
     "metadata": {},
     "output_type": "execute_result"
    }
   ],
   "source": [
    "'li' in a"
   ]
  },
  {
   "cell_type": "markdown",
   "id": "ffe8d46a",
   "metadata": {},
   "source": [
    "# Adding or Removing Data"
   ]
  },
  {
   "cell_type": "code",
   "execution_count": 55,
   "id": "67fdb7ea",
   "metadata": {},
   "outputs": [
    {
     "data": {
      "text/plain": [
       "{1: 2, 3: 4, 'list': [1, 23], 'dict': {1: 2, 'str': 45}}"
      ]
     },
     "execution_count": 55,
     "metadata": {},
     "output_type": "execute_result"
    }
   ],
   "source": [
    "a = {1:2,3:4,'list':[1,23],'dict':{1:2,'str':45}}\n",
    "a"
   ]
  },
  {
   "cell_type": "code",
   "execution_count": 56,
   "id": "ec3bec62",
   "metadata": {},
   "outputs": [],
   "source": [
    "a['tup'] = (1,2,3,4)"
   ]
  },
  {
   "cell_type": "code",
   "execution_count": 57,
   "id": "865fdb34",
   "metadata": {},
   "outputs": [
    {
     "data": {
      "text/plain": [
       "{1: 2, 3: 4, 'list': [1, 23], 'dict': {1: 2, 'str': 45}, 'tup': (1, 2, 3, 4)}"
      ]
     },
     "execution_count": 57,
     "metadata": {},
     "output_type": "execute_result"
    }
   ],
   "source": [
    "a"
   ]
  },
  {
   "cell_type": "code",
   "execution_count": 58,
   "id": "2d8cc5fe",
   "metadata": {},
   "outputs": [],
   "source": [
    "a['list'] = [1,2,3,4]"
   ]
  },
  {
   "cell_type": "code",
   "execution_count": 59,
   "id": "a3c20f30",
   "metadata": {},
   "outputs": [
    {
     "data": {
      "text/plain": [
       "{1: 2,\n",
       " 3: 4,\n",
       " 'list': [1, 2, 3, 4],\n",
       " 'dict': {1: 2, 'str': 45},\n",
       " 'tup': (1, 2, 3, 4)}"
      ]
     },
     "execution_count": 59,
     "metadata": {},
     "output_type": "execute_result"
    }
   ],
   "source": [
    "a"
   ]
  },
  {
   "cell_type": "code",
   "execution_count": 60,
   "id": "d10abaf0",
   "metadata": {},
   "outputs": [
    {
     "data": {
      "text/plain": [
       "{3: 5, 'the': 4, 2: 100}"
      ]
     },
     "execution_count": 60,
     "metadata": {},
     "output_type": "execute_result"
    }
   ],
   "source": [
    "b = {3:5,'the':4,2:100}\n",
    "b"
   ]
  },
  {
   "cell_type": "code",
   "execution_count": 61,
   "id": "cf7a9408",
   "metadata": {},
   "outputs": [
    {
     "name": "stdout",
     "output_type": "stream",
     "text": [
      "{1: 2, 3: 5, 'list': [1, 2, 3, 4], 'dict': {1: 2, 'str': 45}, 'tup': (1, 2, 3, 4), 'the': 4, 2: 100}\n"
     ]
    }
   ],
   "source": [
    "a.update(b)\n",
    "print(a)"
   ]
  },
  {
   "cell_type": "code",
   "execution_count": 62,
   "id": "8f445d3a",
   "metadata": {},
   "outputs": [
    {
     "name": "stdout",
     "output_type": "stream",
     "text": [
      "{1: 2, 3: 5, 'list': [1, 2, 3, 4], 'dict': {1: 2, 'str': 45}, 'tup': (1, 2, 3, 4), 'the': 4, 2: 100}\n",
      "{3: 5, 'the': 4, 2: 100}\n"
     ]
    }
   ],
   "source": [
    "print(a) # key 3 value is updated to 5 in respective of dict b\n",
    "print(b)"
   ]
  },
  {
   "cell_type": "code",
   "execution_count": 63,
   "id": "0d2f0381",
   "metadata": {},
   "outputs": [
    {
     "data": {
      "text/plain": [
       "(1, 2, 3, 4)"
      ]
     },
     "execution_count": 63,
     "metadata": {},
     "output_type": "execute_result"
    }
   ],
   "source": [
    "# We have to give KEY name\n",
    "a.pop('tup')"
   ]
  },
  {
   "cell_type": "code",
   "execution_count": 64,
   "id": "dd118920",
   "metadata": {},
   "outputs": [
    {
     "name": "stdout",
     "output_type": "stream",
     "text": [
      "{1: 2, 3: 5, 'list': [1, 2, 3, 4], 'dict': {1: 2, 'str': 45}, 'the': 4, 2: 100}\n"
     ]
    }
   ],
   "source": [
    "print(a)"
   ]
  },
  {
   "cell_type": "code",
   "execution_count": 65,
   "id": "fcb7c9aa",
   "metadata": {},
   "outputs": [],
   "source": [
    "del a[1] #'1' is KEY of dictionary"
   ]
  },
  {
   "cell_type": "code",
   "execution_count": 66,
   "id": "8a92b9ae",
   "metadata": {},
   "outputs": [
    {
     "data": {
      "text/plain": [
       "{3: 5, 'list': [1, 2, 3, 4], 'dict': {1: 2, 'str': 45}, 'the': 4, 2: 100}"
      ]
     },
     "execution_count": 66,
     "metadata": {},
     "output_type": "execute_result"
    }
   ],
   "source": [
    "a"
   ]
  },
  {
   "cell_type": "code",
   "execution_count": 67,
   "id": "4727e05f",
   "metadata": {},
   "outputs": [
    {
     "name": "stdout",
     "output_type": "stream",
     "text": [
      "{}\n"
     ]
    }
   ],
   "source": [
    "a.clear()\n",
    "print(a)"
   ]
  },
  {
   "cell_type": "code",
   "execution_count": 68,
   "id": "3f4be507",
   "metadata": {},
   "outputs": [],
   "source": [
    "del a"
   ]
  },
  {
   "cell_type": "code",
   "execution_count": 69,
   "id": "075ec841",
   "metadata": {},
   "outputs": [
    {
     "ename": "NameError",
     "evalue": "name 'a' is not defined",
     "output_type": "error",
     "traceback": [
      "\u001b[1;31m---------------------------------------------------------------------------\u001b[0m",
      "\u001b[1;31mNameError\u001b[0m                                 Traceback (most recent call last)",
      "Input \u001b[1;32mIn [69]\u001b[0m, in \u001b[0;36m<cell line: 1>\u001b[1;34m()\u001b[0m\n\u001b[1;32m----> 1\u001b[0m \u001b[38;5;28mprint\u001b[39m(\u001b[43ma\u001b[49m)\n",
      "\u001b[1;31mNameError\u001b[0m: name 'a' is not defined"
     ]
    }
   ],
   "source": [
    "print(a)"
   ]
  },
  {
   "cell_type": "markdown",
   "id": "c5a56308",
   "metadata": {},
   "source": [
    "# Print all words with Frequency K"
   ]
  },
  {
   "cell_type": "code",
   "execution_count": 79,
   "id": "e085bf2b",
   "metadata": {},
   "outputs": [
    {
     "name": "stdout",
     "output_type": "stream",
     "text": [
      "{'this': 1, 'is': 1, 'a': 1, 'words': 2, 'string': 1, 'having': 1, 'many': 2}\n",
      "words\n",
      "many\n"
     ]
    }
   ],
   "source": [
    "s = 'this is a words string having many many words'\n",
    "k = 2\n",
    "        \n",
    "def print_k_freq_words(s,k):\n",
    "    words = s.split(\" \")\n",
    "\n",
    "    d = {}\n",
    "    for w in words:\n",
    "        d[w] = d.get(w,0)+1\n",
    "\n",
    "    print(d)\n",
    "\n",
    "    for w in d:\n",
    "        if d[w] == k:\n",
    "            print(w)\n",
    "\n",
    "print_k_freq_words(s,k)"
   ]
  }
 ],
 "metadata": {
  "kernelspec": {
   "display_name": "Python 3 (ipykernel)",
   "language": "python",
   "name": "python3"
  },
  "language_info": {
   "codemirror_mode": {
    "name": "ipython",
    "version": 3
   },
   "file_extension": ".py",
   "mimetype": "text/x-python",
   "name": "python",
   "nbconvert_exporter": "python",
   "pygments_lexer": "ipython3",
   "version": "3.9.12"
  }
 },
 "nbformat": 4,
 "nbformat_minor": 5
}
