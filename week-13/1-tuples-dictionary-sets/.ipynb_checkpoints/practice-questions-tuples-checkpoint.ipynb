{
 "cells": [
  {
   "cell_type": "code",
   "execution_count": null,
   "id": "a30cf4df",
   "metadata": {},
   "outputs": [],
   "source": [
    "Write a function that takes a tuple as input and returns the product of all the elements in the tuple."
   ]
  },
  {
   "cell_type": "code",
   "execution_count": 5,
   "id": "0a8f3272",
   "metadata": {},
   "outputs": [
    {
     "data": {
      "text/plain": [
       "24"
      ]
     },
     "execution_count": 5,
     "metadata": {},
     "output_type": "execute_result"
    }
   ],
   "source": [
    "def product_element(test_tup):\n",
    "    product = 1\n",
    "    for i in test_tup:\n",
    "        product *= i\n",
    "\n",
    "    return product\n",
    "\n",
    "product_element((1,2,3,4))"
   ]
  },
  {
   "cell_type": "code",
   "execution_count": null,
   "id": "7f9677a2",
   "metadata": {},
   "outputs": [],
   "source": [
    " Write a function that takes a tuple and a number as input and prints the frequency of that number in the tuple.\n",
    "Input:\n",
    "A tuple containing integer elements.\n",
    "A number (integer) for which the frequency needs to be calculated."
   ]
  },
  {
   "cell_type": "code",
   "execution_count": 6,
   "id": "1d3d424f",
   "metadata": {},
   "outputs": [
    {
     "name": "stdout",
     "output_type": "stream",
     "text": [
      "3\n"
     ]
    }
   ],
   "source": [
    "def calculate_frequency(t,n):\n",
    "    count = 0\n",
    "    for i in t:\n",
    "        if n == i:\n",
    "            count += 1    \n",
    "    return count\n",
    "    \n",
    "calculate_frequency((1,2,3,4,1,1,5,6),1)"
   ]
  },
  {
   "cell_type": "code",
   "execution_count": null,
   "id": "adf23185",
   "metadata": {},
   "outputs": [],
   "source": [
    "Given a list of numbers of list, write a Python program to create a list of tuples having the first element as the number and the second element as the square of the number."
   ]
  },
  {
   "cell_type": "code",
   "execution_count": 12,
   "id": "aa617852",
   "metadata": {},
   "outputs": [
    {
     "name": "stdout",
     "output_type": "stream",
     "text": [
      "1 2 3\n",
      "[(1, 1), (2, 4), (3, 9)]\n"
     ]
    }
   ],
   "source": [
    "n = input().split()\n",
    "\n",
    "l = []\n",
    "\n",
    "for i in n:\n",
    "    square = 1\n",
    "    tuple_ele = int(i), int(i)**2\n",
    "    l.append(tuple_ele)\n",
    "    \n",
    "print(l)"
   ]
  },
  {
   "cell_type": "code",
   "execution_count": null,
   "id": "ae528772",
   "metadata": {},
   "outputs": [],
   "source": [
    "Write a program that takes a tuple as input and prints the sum of all the even numbers in the tuple."
   ]
  },
  {
   "cell_type": "code",
   "execution_count": 13,
   "id": "158c31b7",
   "metadata": {},
   "outputs": [
    {
     "data": {
      "text/plain": [
       "12"
      ]
     },
     "execution_count": 13,
     "metadata": {},
     "output_type": "execute_result"
    }
   ],
   "source": [
    "def sum_of_even(tup):\n",
    "    sum_even = 0\n",
    "    for i in tup:\n",
    "        if i%2 == 0:\n",
    "            sum_even += i\n",
    "\n",
    "    print(sum_even)\n",
    "\n",
    "sum_of_even((2, 3, 4, 6, 7))"
   ]
  },
  {
   "cell_type": "code",
   "execution_count": null,
   "id": "3a881c47",
   "metadata": {},
   "outputs": [],
   "source": [
    "Write a program that takes a tuple of strings as input and prints the number of strings that end with the letter \"g\"."
   ]
  },
  {
   "cell_type": "code",
   "execution_count": 15,
   "id": "5b0d21b4",
   "metadata": {},
   "outputs": [
    {
     "name": "stdout",
     "output_type": "stream",
     "text": [
      "4\n"
     ]
    }
   ],
   "source": [
    "def count_g(tup):\n",
    "    count = 0\n",
    "    for i in tup:\n",
    "        if i.endswith('g'):\n",
    "            count += 1\n",
    "\n",
    "    print(count)\n",
    "    \n",
    "count_g((\"programming\", \"running\", \"jumping\", \"coding\"))"
   ]
  }
 ],
 "metadata": {
  "kernelspec": {
   "display_name": "Python 3 (ipykernel)",
   "language": "python",
   "name": "python3"
  },
  "language_info": {
   "codemirror_mode": {
    "name": "ipython",
    "version": 3
   },
   "file_extension": ".py",
   "mimetype": "text/x-python",
   "name": "python",
   "nbconvert_exporter": "python",
   "pygments_lexer": "ipython3",
   "version": "3.9.12"
  }
 },
 "nbformat": 4,
 "nbformat_minor": 5
}
