{
 "cells": [
  {
   "cell_type": "code",
   "execution_count": null,
   "id": "3a61606d",
   "metadata": {},
   "outputs": [],
   "source": [
    "With a given integral number n, write a program to generate a dictionary that contains (i, i x i) \n",
    "such that is an integral number between 1 and n (both included). and then the program should print the dictionary."
   ]
  },
  {
   "cell_type": "code",
   "execution_count": 1,
   "id": "97ee90f2",
   "metadata": {},
   "outputs": [
    {
     "name": "stdout",
     "output_type": "stream",
     "text": [
      "8\n",
      "{1: 1, 2: 4, 3: 9, 4: 16, 5: 25, 6: 36, 7: 49, 8: 64}\n"
     ]
    }
   ],
   "source": [
    "n = int(input())\n",
    "dict_square = {}\n",
    "\n",
    "for i in range(1,n+1):\n",
    "    dict_square[i] = i**2\n",
    "\n",
    "print(dict_square)"
   ]
  },
  {
   "cell_type": "code",
   "execution_count": null,
   "id": "7f84900e",
   "metadata": {},
   "outputs": [],
   "source": [
    "Write a function that takes a dictionary as input and returns the sum of all the values in the dictionary."
   ]
  },
  {
   "cell_type": "code",
   "execution_count": 2,
   "id": "d74b18ad",
   "metadata": {},
   "outputs": [
    {
     "data": {
      "text/plain": [
       "60"
      ]
     },
     "execution_count": 2,
     "metadata": {},
     "output_type": "execute_result"
    }
   ],
   "source": [
    "def returnSum(dict):\n",
    "    sum_value = 0\n",
    "    for i in dict.keys():\n",
    "        sum_value += dict[i]\n",
    "    \n",
    "    return sum_value\n",
    "\n",
    "returnSum({\"a\": 10, \"b\": 20, \"c\": 30})"
   ]
  },
  {
   "cell_type": "code",
   "execution_count": null,
   "id": "132a7a0d",
   "metadata": {},
   "outputs": [],
   "source": [
    "Write a program that takes an integer as input and generates a dictionary where the keys are numbers from 1 to the given input \n",
    "number, and the corresponding values are the cubes of those numbers."
   ]
  },
  {
   "cell_type": "code",
   "execution_count": 3,
   "id": "ac538c52",
   "metadata": {},
   "outputs": [
    {
     "data": {
      "text/plain": [
       "{1: 1, 2: 8, 3: 27, 4: 64}"
      ]
     },
     "execution_count": 3,
     "metadata": {},
     "output_type": "execute_result"
    }
   ],
   "source": [
    "def generate_cube_dictionary(n):\n",
    "    dict_cube = {}\n",
    "    for i in range(1,n+1):\n",
    "        dict_cube[i] = i**3\n",
    "\n",
    "    return dict_cube\n",
    "\n",
    "generate_cube_dictionary(4)"
   ]
  },
  {
   "cell_type": "code",
   "execution_count": null,
   "id": "eb76e659",
   "metadata": {},
   "outputs": [],
   "source": [
    "Write a program that takes a string as input and counts the frequency of every word in the string using a dictionary. \n",
    "The program should then return the sum of the values in the dictionary."
   ]
  },
  {
   "cell_type": "code",
   "execution_count": 15,
   "id": "1acbcee3",
   "metadata": {},
   "outputs": [
    {
     "name": "stdout",
     "output_type": "stream",
     "text": [
      "{'apple': 3, 'banana': 2, 'orange': 1}\n"
     ]
    },
    {
     "data": {
      "text/plain": [
       "6"
      ]
     },
     "execution_count": 15,
     "metadata": {},
     "output_type": "execute_result"
    }
   ],
   "source": [
    "def word_frequency(input_line):\n",
    "    dict_freq = {}\n",
    "    sum_of_all_item = 0\n",
    "\n",
    "    l1 = [\n",
    "        i.lower()\n",
    "        for i in input_line.split()\n",
    "    ]\n",
    "    set_l1 = set(l1)\n",
    "\n",
    "    for i in set_l1:\n",
    "        text = i\n",
    "        freq = 0\n",
    "        for j in l1:\n",
    "            if j == text:\n",
    "                freq += 1\n",
    "\n",
    "        sum_of_all_item += freq\n",
    "        dict_freq[i] = freq\n",
    "\n",
    "    print(dict_freq)\n",
    "    return sum_of_all_item\n",
    "\n",
    "word_frequency(\"Apple Banana apple orange banana APPLE\")"
   ]
  },
  {
   "cell_type": "code",
   "execution_count": null,
   "id": "edf5330a",
   "metadata": {},
   "outputs": [],
   "source": [
    "You are given an array of integers that contain numbers in random order. Write a program to find and return the number which \n",
    "occurs the maximum times in the given input.\n",
    "If two or more elements are having the maximum frequency, return the element which occurs in the array first.\n",
    "\n",
    "Input Format:\n",
    "The first line of input contains an integer, that denotes the value of the size of the array. Let us denote it with the symbol \n",
    "N. The following line contains N space separated integers, that denote the value of the elements of the array."
   ]
  },
  {
   "cell_type": "code",
   "execution_count": 7,
   "id": "81e80c6e",
   "metadata": {},
   "outputs": [
    {
     "name": "stdout",
     "output_type": "stream",
     "text": [
      "13\n",
      "2 12 2 11 12 2 1 2 2 11 12 2 6\n",
      "2\n"
     ]
    }
   ],
   "source": [
    "n = int(input())\n",
    "\n",
    "arr = [\n",
    "    int(i)\n",
    "    for i in input().split()\n",
    "]\n",
    "\n",
    "frequency = {}\n",
    "maxFrequency = 0\n",
    "maxElement = 0\n",
    "\n",
    "for i in range(n):\n",
    "    if(arr[i] in frequency):\n",
    "        frequency[arr[i]] += 1\n",
    "    else:\n",
    "        frequency[arr[i]] = 1\n",
    "\n",
    "    maxFrequency = max(maxFrequency, frequency[arr[i]])\n",
    "\n",
    "\n",
    "for i in range(n):\n",
    "        if(maxFrequency == frequency[arr[i]]):\n",
    "            maxElement = arr[i]\n",
    "            break\n",
    "            \n",
    "print(maxElement)"
   ]
  },
  {
   "cell_type": "code",
   "execution_count": null,
   "id": "ca439b19",
   "metadata": {},
   "outputs": [],
   "source": [
    "Given an array that might contain duplicate elements, find the maximum possible distance between occurrences of two \n",
    "repeating elements i.e. elements having the same value. If there are no duplicate elements in the array, return 0."
   ]
  },
  {
   "cell_type": "code",
   "execution_count": 1,
   "id": "56c01979",
   "metadata": {},
   "outputs": [
    {
     "name": "stdout",
     "output_type": "stream",
     "text": [
      "9\n",
      "1  3  1  4  5  6  4  8  3\n",
      "7\n"
     ]
    }
   ],
   "source": [
    "n=int(input())\n",
    "\n",
    "arr = list(map(int,input().split())) \n",
    "\n",
    "dist_mat = {}\n",
    "max_dist = 0\n",
    "\n",
    "for i in range(len(arr)):\n",
    "    if arr[i] in dist_mat:\n",
    "        max_dist = max(max_dist, i - dist_mat[arr[i]])\n",
    "    else:\n",
    "        dist_mat[arr[i]] = i\n",
    "\n",
    "print(max_dist)"
   ]
  }
 ],
 "metadata": {
  "kernelspec": {
   "display_name": "Python 3 (ipykernel)",
   "language": "python",
   "name": "python3"
  },
  "language_info": {
   "codemirror_mode": {
    "name": "ipython",
    "version": 3
   },
   "file_extension": ".py",
   "mimetype": "text/x-python",
   "name": "python",
   "nbconvert_exporter": "python",
   "pygments_lexer": "ipython3",
   "version": "3.9.12"
  }
 },
 "nbformat": 4,
 "nbformat_minor": 5
}
