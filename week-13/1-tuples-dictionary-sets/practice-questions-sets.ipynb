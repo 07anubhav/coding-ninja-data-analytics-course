{
 "cells": [
  {
   "cell_type": "code",
   "execution_count": null,
   "id": "e0b881a7",
   "metadata": {},
   "outputs": [],
   "source": []
  },
  {
   "cell_type": "code",
   "execution_count": 10,
   "id": "e555a6a6",
   "metadata": {},
   "outputs": [
    {
     "name": "stdout",
     "output_type": "stream",
     "text": [
      "set: 1\n",
      "1\n",
      "1\n",
      "set: 2\n",
      "2\n",
      "1\n",
      "set: 4\n",
      "0\n"
     ]
    },
    {
     "data": {
      "text/plain": [
       "0"
      ]
     },
     "execution_count": 10,
     "metadata": {},
     "output_type": "execute_result"
    }
   ],
   "source": [
    "def duplicateCount(arr):\n",
    "    set1 = set(arr)\n",
    "    for i in set1:\n",
    "        freq = 0\n",
    "        count = 0\n",
    "        print('set:',i)\n",
    "        for j in arr:\n",
    "            if i == j:\n",
    "                freq += 1\n",
    "\n",
    "        if freq > 1:\n",
    "            print(i)\n",
    "            count += 1\n",
    "        print(count)    \n",
    "    \n",
    "    return count\n",
    "\n",
    "duplicateCount([2,1,4,2,1])"
   ]
  },
  {
   "cell_type": "code",
   "execution_count": null,
   "id": "4104eb53",
   "metadata": {},
   "outputs": [],
   "source": [
    "Write a program that takes a set and two numbers as input. The program should update the given set by including the two numbers."
   ]
  },
  {
   "cell_type": "code",
   "execution_count": 12,
   "id": "11760f97",
   "metadata": {},
   "outputs": [
    {
     "data": {
      "text/plain": [
       "{1, 2, 3, 4, 5}"
      ]
     },
     "execution_count": 12,
     "metadata": {},
     "output_type": "execute_result"
    }
   ],
   "source": [
    "def set_update(s,e1,e2):\n",
    "    l1 = list(s)\n",
    "    l1.append(e1)\n",
    "    l1.append(e2)\n",
    "\n",
    "    s  = set(l1)\n",
    "\n",
    "    return s\n",
    "\n",
    "set_update({1,2,3},4,5)"
   ]
  },
  {
   "cell_type": "code",
   "execution_count": null,
   "id": "29547a32",
   "metadata": {},
   "outputs": [],
   "source": [
    "Write a program that takes a list of strings as input and removes all duplicates from it. The program should return a new list \n",
    "containing only unique strings."
   ]
  },
  {
   "cell_type": "code",
   "execution_count": 14,
   "id": "11a0045f",
   "metadata": {},
   "outputs": [
    {
     "name": "stdout",
     "output_type": "stream",
     "text": [
      "{'banana', 'grape', 'orange', 'apple'}\n"
     ]
    },
    {
     "data": {
      "text/plain": [
       "4"
      ]
     },
     "execution_count": 14,
     "metadata": {},
     "output_type": "execute_result"
    }
   ],
   "source": [
    "def remove_duplicates(strings):\n",
    "    s = set(strings)\n",
    "    return len(s)\n",
    "\n",
    "remove_duplicates(['apple', 'banana', 'apple', 'orange', 'banana', 'grape'])"
   ]
  },
  {
   "cell_type": "code",
   "execution_count": 24,
   "id": "ff900cb9",
   "metadata": {},
   "outputs": [
    {
     "data": {
      "text/plain": [
       "False"
      ]
     },
     "execution_count": 24,
     "metadata": {},
     "output_type": "execute_result"
    }
   ],
   "source": [
    "Write a program that takes a list of numbers as input and prints all the unique prime numbers from the list in a single line. \n",
    "The program should contain two functions: one to check if a number is prime and another to return the unique values from the \n",
    "list."
   ]
  },
  {
   "cell_type": "code",
   "execution_count": 16,
   "id": "be62285c",
   "metadata": {},
   "outputs": [
    {
     "data": {
      "text/plain": [
       "' 2 3 5 7 11 13 17 19'"
      ]
     },
     "execution_count": 16,
     "metadata": {},
     "output_type": "execute_result"
    }
   ],
   "source": [
    "def is_prime(n):\n",
    "    if n <= 1:\n",
    "        return False\n",
    "    for i in range(2, int(n ** 0.5) + 1):\n",
    "        if n % i == 0:\n",
    "            return False\n",
    "    return True\n",
    "\n",
    "def unique_prime_numbers(lis):\n",
    "    unique_primes = set()\n",
    "\n",
    "    for num in lis:\n",
    "        if is_prime(num):\n",
    "            unique_primes.add(num)\n",
    "    \n",
    "    prime_string = ''\n",
    "    \n",
    "    for i in unique_primes:\n",
    "        prime_string = prime_string + ' ' + str(i)\n",
    "        \n",
    "    return prime_string\n",
    "\n",
    "unique_prime_numbers([2, 3, 4, 5, 6, 7, 8, 9, 10, 11, 11, 12, 13,15,17,19,19,17,15,22,34])"
   ]
  },
  {
   "cell_type": "code",
   "execution_count": null,
   "id": "1f8e3803",
   "metadata": {},
   "outputs": [],
   "source": []
  },
  {
   "cell_type": "code",
   "execution_count": null,
   "id": "54614f99",
   "metadata": {},
   "outputs": [],
   "source": []
  },
  {
   "cell_type": "code",
   "execution_count": null,
   "id": "5fc512a3",
   "metadata": {},
   "outputs": [],
   "source": [
    "Find number of elements to be removed to make an array of all distinct elements.\n",
    "Example:\n",
    "Ar = {2,1,4,2,1} \n",
    "output = 2 (remove 2 and 1)."
   ]
  },
  {
   "cell_type": "code",
   "execution_count": 9,
   "id": "8fa6e17d",
   "metadata": {},
   "outputs": [
    {
     "name": "stdout",
     "output_type": "stream",
     "text": [
      "5\n",
      "2 1 4 2 1\n",
      "2\n"
     ]
    }
   ],
   "source": [
    "def duplicateCount(arr):\n",
    "    dict = {}\n",
    "    for i in arr:\n",
    "        if i in dict:\n",
    "            dict[i] = dict[i]+1\n",
    "        else:\n",
    "            dict[i] = 1\n",
    "            \n",
    "    number_to_be_deducted = 0\n",
    "    \n",
    "    for key,value in dict.items(): \n",
    "        count = 0\n",
    "        count = value-1\n",
    "        if count != 0:\n",
    "            number_to_be_deducted += count\n",
    "            \n",
    "    return number_to_be_deducted\n",
    "\n",
    "n=int(input())\n",
    "arr=list(int(i) for i in input().strip().split(' '))\n",
    "print(duplicateCount(arr))"
   ]
  },
  {
   "cell_type": "code",
   "execution_count": null,
   "id": "f7129ac8",
   "metadata": {},
   "outputs": [],
   "source": []
  }
 ],
 "metadata": {
  "kernelspec": {
   "display_name": "Python 3 (ipykernel)",
   "language": "python",
   "name": "python3"
  },
  "language_info": {
   "codemirror_mode": {
    "name": "ipython",
    "version": 3
   },
   "file_extension": ".py",
   "mimetype": "text/x-python",
   "name": "python",
   "nbconvert_exporter": "python",
   "pygments_lexer": "ipython3",
   "version": "3.9.12"
  }
 },
 "nbformat": 4,
 "nbformat_minor": 5
}
