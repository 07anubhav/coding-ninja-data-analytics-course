{
 "cells": [
  {
   "cell_type": "markdown",
   "id": "8f5aee74",
   "metadata": {},
   "source": [
    "# Print Array Sum"
   ]
  },
  {
   "cell_type": "code",
   "execution_count": null,
   "id": "cc4f22e0",
   "metadata": {},
   "outputs": [],
   "source": [
    "Given an array of length N, you need to find and print the sum of all elements of the array.\n",
    "Input Format :\n",
    "Line 1 : An Integer N i.e. size of array\n",
    "Line 2 : N integers which are elements of the array, separated by spaces"
   ]
  },
  {
   "cell_type": "code",
   "execution_count": 3,
   "id": "da938579",
   "metadata": {},
   "outputs": [
    {
     "name": "stdout",
     "output_type": "stream",
     "text": [
      "1 2 3 4 5\n"
     ]
    },
    {
     "data": {
      "text/plain": [
       "[1, 2, 3, 4, 5]"
      ]
     },
     "execution_count": 3,
     "metadata": {},
     "output_type": "execute_result"
    }
   ],
   "source": [
    "l1 = [\n",
    "    int(i)\n",
    "    for i in input().split(\" \")\n",
    "]\n",
    "l1"
   ]
  },
  {
   "cell_type": "markdown",
   "id": "da4f4525",
   "metadata": {},
   "source": [
    "# Find Unqiue"
   ]
  },
  {
   "cell_type": "code",
   "execution_count": null,
   "id": "8fa69699",
   "metadata": {},
   "outputs": [],
   "source": [
    "You have been given an integer array/list(ARR) of size N. Where N is equal to [2M + 1].\n",
    "Now, in the given array/list, 'M' numbers are present twice and one number is present only once.\n",
    "You need to find and return that number which is unique in the array/list.\n",
    " Note:\n",
    "Unique element is always present in the array/list according to the given condition.\n",
    "Input format :\n",
    "The first line contains an Integer 't' which denotes the number of test cases or queries to be run. Then the test cases follow.\n",
    "\n",
    "First line of each test case or query contains an integer 'N' representing the size of the array/list.\n",
    "\n",
    "Second line contains 'N' single space separated integers representing the elements in the array/list."
   ]
  },
  {
   "cell_type": "code",
   "execution_count": 5,
   "id": "5d856615",
   "metadata": {},
   "outputs": [
    {
     "data": {
      "text/plain": [
       "10"
      ]
     },
     "execution_count": 5,
     "metadata": {},
     "output_type": "execute_result"
    }
   ],
   "source": [
    "def findUnique(arr, n) :\n",
    "    for  i in arr:\n",
    "        num = i\n",
    "        freq = 0\n",
    "        for j in arr:\n",
    "            if num == j:\n",
    "                freq += 1\n",
    "\n",
    "        if freq == 1:\n",
    "            return num\n",
    "\n",
    "findUnique([1,3,1,3,6,6,7,10,7],5)"
   ]
  },
  {
   "cell_type": "markdown",
   "id": "3e98ebe0",
   "metadata": {},
   "source": [
    "# Remove Character"
   ]
  },
  {
   "cell_type": "code",
   "execution_count": null,
   "id": "925ebd5c",
   "metadata": {},
   "outputs": [],
   "source": [
    "For a given a string(str) and a character X, write a function to remove all the occurrences of X from the given string.\n",
    "The input string will remain unchanged if the given character(X) doesn't exist in the input string.\n",
    "Input Format:\n",
    "The first line of input contains a string without any leading and trailing spaces.\n",
    "\n",
    "The second line of input contains a character(X) without any leading and trailing spaces."
   ]
  },
  {
   "cell_type": "code",
   "execution_count": 8,
   "id": "7b2f5f95",
   "metadata": {},
   "outputs": [
    {
     "data": {
      "text/plain": [
       "'bccb'"
      ]
     },
     "execution_count": 8,
     "metadata": {},
     "output_type": "execute_result"
    }
   ],
   "source": [
    "def removeAllOccurrencesOfChar(string, ch):\n",
    "    s = string.replace(ch,'')\n",
    "    return s\n",
    "\n",
    "removeAllOccurrencesOfChar('aabccbaa','a')"
   ]
  },
  {
   "cell_type": "markdown",
   "id": "a046bf14",
   "metadata": {},
   "source": [
    "# Intersection of Two Arrays"
   ]
  },
  {
   "cell_type": "code",
   "execution_count": null,
   "id": "49bac1e7",
   "metadata": {},
   "outputs": [],
   "source": [
    "You have been given two integer arrays/list(ARR1 and ARR2) of size N and M, respectively. \n",
    "You need to print their intersection; An intersection for this problem can be defined when both the arrays/lists contain a \n",
    "particular value or to put it in other words, when there is a common value that exists in both the arrays/lists."
   ]
  },
  {
   "cell_type": "code",
   "execution_count": 86,
   "id": "dc35e34b",
   "metadata": {},
   "outputs": [
    {
     "name": "stdout",
     "output_type": "stream",
     "text": [
      "2 1 2 "
     ]
    }
   ],
   "source": [
    "def intersections(arr1, n, arr2, m) :\n",
    "    for i in range(n):\n",
    "        for j in range(m):\n",
    "            if arr1[i] == arr2[j]:\n",
    "                print(arr1[i],end= ' ')\n",
    "                arr2[j] = -1\n",
    "                break\n",
    "    \n",
    "intersections([2,6,1,2],4,[1,2,3,4,2],5)"
   ]
  },
  {
   "cell_type": "code",
   "execution_count": 10,
   "id": "52aa4982",
   "metadata": {},
   "outputs": [
    {
     "data": {
      "text/plain": [
       "[3, 4]"
      ]
     },
     "execution_count": 10,
     "metadata": {},
     "output_type": "execute_result"
    }
   ],
   "source": [
    "a = {1,2,3,4}\n",
    "b = {3,4,5,6}\n",
    "c = list(a.intersection(b))\n",
    "c"
   ]
  },
  {
   "cell_type": "markdown",
   "id": "1b8af031",
   "metadata": {},
   "source": [
    "# Highest Occuring Character"
   ]
  },
  {
   "cell_type": "code",
   "execution_count": null,
   "id": "dd6830f8",
   "metadata": {},
   "outputs": [],
   "source": [
    "For a given a string(str), find and return the highest occurring character.\n",
    "Example:\n",
    "Input String: \"abcdeapapqarr\"\n",
    "Expected Output: 'a'\n",
    "Since 'a' has appeared four times in the string which happens to be the highest frequency character, the answer would be 'a'."
   ]
  },
  {
   "cell_type": "code",
   "execution_count": 82,
   "id": "94f0f991",
   "metadata": {},
   "outputs": [
    {
     "name": "stdout",
     "output_type": "stream",
     "text": [
      "xy\n",
      "x\n"
     ]
    }
   ],
   "source": [
    "def highestOccuringChar(string) :\n",
    "    l = [0]*256\n",
    "    \n",
    "    for i in string:\n",
    "        l[ord(i)] = l[ord(i)]+1\n",
    "        \n",
    "    max_occurrence = max(l)\n",
    "    \n",
    "    for i in string:\n",
    "        if l[ord(i)] == max_occurrence:\n",
    "            return i\n",
    "\n",
    "\n",
    "string = input()\n",
    "ans = highestOccuringChar(string)\n",
    "print(ans)"
   ]
  },
  {
   "cell_type": "code",
   "execution_count": 88,
   "id": "5ac432c7",
   "metadata": {},
   "outputs": [
    {
     "data": {
      "text/plain": [
       "97"
      ]
     },
     "execution_count": 88,
     "metadata": {},
     "output_type": "execute_result"
    }
   ],
   "source": [
    "ord('a')"
   ]
  },
  {
   "cell_type": "code",
   "execution_count": 89,
   "id": "2c3d87b2",
   "metadata": {},
   "outputs": [
    {
     "data": {
      "text/plain": [
       "'a'"
      ]
     },
     "execution_count": 89,
     "metadata": {},
     "output_type": "execute_result"
    }
   ],
   "source": [
    "chr(97)"
   ]
  },
  {
   "cell_type": "markdown",
   "id": "87a862e2",
   "metadata": {},
   "source": [
    "# Even Count"
   ]
  },
  {
   "cell_type": "code",
   "execution_count": null,
   "id": "06724e87",
   "metadata": {},
   "outputs": [],
   "source": [
    "You are provided with an integer array where each number is present either odd number of times or even number of times. \n",
    "You have to find and return the number which is present even number of times.\n",
    "If multiple numbers are present even number of times, then return that number which occurs first among these numbers in the \n",
    "given array. If no such number exists, then return -1."
   ]
  },
  {
   "cell_type": "code",
   "execution_count": 13,
   "id": "fc02592b",
   "metadata": {},
   "outputs": [
    {
     "name": "stdout",
     "output_type": "stream",
     "text": [
      "6\n",
      "2 5 3 5 3 4\n",
      "{2: 1, 5: 2, 3: 2, 4: 1}\n",
      "5\n"
     ]
    }
   ],
   "source": [
    "def evenCount(arr):\n",
    "    arr_dict = {}\n",
    "    for i in arr:\n",
    "        if i in arr_dict:\n",
    "            arr_dict[i] += 1\n",
    "        else:\n",
    "            arr_dict[i] = 1\n",
    "    \n",
    "    for i in arr:\n",
    "        if arr_dict[i]%2 == 0:\n",
    "            return i\n",
    "    \n",
    "    return -1\n",
    "    \n",
    "# Main\n",
    "n=int(input())\n",
    "arr=list(int(i) for i in input().strip().split(' '))\n",
    "print(evenCount(arr))"
   ]
  },
  {
   "cell_type": "markdown",
   "id": "64bf5cd6",
   "metadata": {},
   "source": [
    "# Find Duplicate"
   ]
  },
  {
   "cell_type": "code",
   "execution_count": null,
   "id": "c0917537",
   "metadata": {},
   "outputs": [],
   "source": [
    "You have been given an integer array/list(ARR) of size N which contains numbers from 0 to (N - 2). \n",
    "Each number is present at least once. That is, if N = 5, the array/list constitutes values ranging from 0 to 3 and among these, \n",
    "there is a single integer value that is present twice. You need to find and return that duplicate number present in the array."
   ]
  },
  {
   "cell_type": "code",
   "execution_count": 15,
   "id": "aa426753",
   "metadata": {},
   "outputs": [
    {
     "data": {
      "text/plain": [
       "0"
      ]
     },
     "execution_count": 15,
     "metadata": {},
     "output_type": "execute_result"
    }
   ],
   "source": [
    "def duplicateNumber(arr, n) :\n",
    "    arr_dict = {}\n",
    "    for i in arr:\n",
    "        if i in arr_dict:\n",
    "            arr_dict[i] += 1\n",
    "        else:\n",
    "            arr_dict[i] = 1\n",
    "\n",
    "    for k,v in arr_dict.items():\n",
    "        if v%2 == 0:\n",
    "            return k\n",
    "\n",
    "duplicateNumber([0,1,3,90,8,5,12,0],8)"
   ]
  },
  {
   "cell_type": "markdown",
   "id": "c3c00abb",
   "metadata": {},
   "source": [
    "# First non repeating character"
   ]
  },
  {
   "cell_type": "code",
   "execution_count": null,
   "id": "101b30da",
   "metadata": {},
   "outputs": [],
   "source": [
    "In a given string, find the first non-repeating character .You are given a string, that can contain repeating characters. \n",
    "Your task is to return the first character in this string that does not repeat. i.e., occurs exactly once. The string will \n",
    "contain characters only from English alphabet set, i.e., ('A' - 'Z') and ('a' - 'z'). If there is no non-repeating character \n",
    "print the first character of string."
   ]
  },
  {
   "cell_type": "code",
   "execution_count": 20,
   "id": "df64a398",
   "metadata": {},
   "outputs": [
    {
     "name": "stdout",
     "output_type": "stream",
     "text": [
      "aDcadhc\n",
      "D\n"
     ]
    }
   ],
   "source": [
    "def nonRepeatingChar(string):\n",
    "    arr_dict = {}\n",
    "    for i in string:\n",
    "        if i in arr_dict:\n",
    "            arr_dict[i] += 1\n",
    "        else:\n",
    "            arr_dict[i] = 1 \n",
    "    \n",
    "    for i in string:\n",
    "        if arr_dict[i] == 1:\n",
    "            return i\n",
    "    \n",
    "    return string[0]\n",
    "\n",
    "# Main\n",
    "string = input()\n",
    "print(nonRepeatingChar(string))"
   ]
  },
  {
   "cell_type": "markdown",
   "id": "6a822876",
   "metadata": {},
   "source": [
    "# Different Names"
   ]
  },
  {
   "cell_type": "code",
   "execution_count": null,
   "id": "f4f01a70",
   "metadata": {},
   "outputs": [],
   "source": [
    "In Little Flowers Public School, there are many students with same first names. You are given a task to find the students \n",
    "with same names. You will be given a string comprising of all the names of students and you have to tell the name and count \n",
    "of those students having same. If all the names are unique, print -1 instead.\n",
    "Note: We don't have to mention names whose frequency is 1."
   ]
  },
  {
   "cell_type": "code",
   "execution_count": 26,
   "id": "62490fb9",
   "metadata": {},
   "outputs": [
    {
     "name": "stdout",
     "output_type": "stream",
     "text": [
      "Abhishek harshit Ayush harshit Ayush Iti Deepak Ayush Iti\n",
      "harshit 2\n",
      "Ayush 3\n",
      "Iti 2\n"
     ]
    }
   ],
   "source": [
    "def differentNames(l):\n",
    "    arr_dict = {}\n",
    "    arr_name = {}\n",
    "    for i in l:\n",
    "        if i in arr_dict:\n",
    "            arr_dict[i] += 1\n",
    "        else:\n",
    "            arr_dict[i] = 1 \n",
    "    \n",
    "    for i in arr_dict:\n",
    "        if arr_dict[i] > 1:\n",
    "            arr_name[i] = arr_dict[i]   \n",
    "            \n",
    "    return arr_name\n",
    "    \n",
    "# Main\n",
    "names=input().strip().split()\n",
    "m=differentNames(names)\n",
    "if m:\n",
    "    for name in m:\n",
    "        print(name, m[name])\n",
    "else:\n",
    "    print(-1)"
   ]
  },
  {
   "cell_type": "markdown",
   "id": "165d47de",
   "metadata": {},
   "source": [
    "# Reverse Each Word"
   ]
  },
  {
   "cell_type": "code",
   "execution_count": null,
   "id": "9a2f22e9",
   "metadata": {},
   "outputs": [],
   "source": [
    "Aadil has been provided with a sentence in the form of a string as a function parameter. \n",
    "The task is to implement a function so as to print the sentence such that each word in the sentence is reversed. \n",
    "A word is a combination of characters without any spaces.\n",
    "Example:\n",
    "Input Sentence: \"Hello, I am Aadil!\"\n",
    "The expected output will print, \",olleH I ma !lidaA\"."
   ]
  },
  {
   "cell_type": "code",
   "execution_count": 18,
   "id": "7bb895f6",
   "metadata": {},
   "outputs": [
    {
     "name": "stdout",
     "output_type": "stream",
     "text": [
      "emocleW ot gnidoC sajniN\n",
      "None\n"
     ]
    }
   ],
   "source": [
    "from sys import stdin\n",
    "\n",
    "def reverseEachWord(string) :\n",
    "    l = [\n",
    "        i[::-1]\n",
    "        for i in string.split()\n",
    "    ]\n",
    "    sentence = ' '.join(l)\n",
    "    print(sentence)\n",
    "\n",
    "#main\n",
    "reverseEachWord('Welcome to Coding Ninjas')\n",
    "print(ans)"
   ]
  },
  {
   "cell_type": "markdown",
   "id": "035f0a6d",
   "metadata": {},
   "source": [
    "# Unique and Largest Word"
   ]
  },
  {
   "cell_type": "code",
   "execution_count": null,
   "id": "dd40d66e",
   "metadata": {},
   "outputs": [],
   "source": [
    "Write a program to remove all the duplicate words from the list and print the unique largest word."
   ]
  },
  {
   "cell_type": "code",
   "execution_count": 90,
   "id": "5ba53e3b",
   "metadata": {},
   "outputs": [
    {
     "name": "stdout",
     "output_type": "stream",
     "text": [
      "Pneumonoultramicroscopicsilicovolcanoconiosis Pseudopseudohypoparathyroidism Floccinaucinihilipilification\n",
      "['Floccinaucinihilipilification', 'Pneumonoultramicroscopicsilicovolcanoconiosis', 'Pseudopseudohypoparathyroidism']\n",
      "Pneumonoultramicroscopicsilicovolcanoconiosis\n"
     ]
    }
   ],
   "source": [
    "def rmv_dup(words):\n",
    "    unique_words = list(set(words))\n",
    "    return unique_words\n",
    "\n",
    "def find_longest_word(words):\n",
    "    longest_word = \"\"\n",
    "    max_length = 0\n",
    "    \n",
    "    for word in words:\n",
    "        length = len(word)\n",
    "        if length > max_length:\n",
    "            max_length = length\n",
    "            longest_word = word\n",
    "            \n",
    "    return longest_word\n",
    "\n",
    "        \n",
    "input_string = input()\n",
    "word_list = input_string.split()\n",
    "\n",
    "unique_words = rmv_dup(word_list)\n",
    "longest_word = find_longest_word(unique_words)\n",
    "\n",
    "print(unique_words)\n",
    "print(longest_word)\n",
    "\n",
    "# Pneumonoultramicroscopicsilicovolcanoconiosis Pseudopseudohypoparathyroidism Floccinaucinihilipilification"
   ]
  },
  {
   "cell_type": "markdown",
   "id": "9ee51a0d",
   "metadata": {},
   "source": [
    "# Transpose Matrix"
   ]
  },
  {
   "cell_type": "code",
   "execution_count": null,
   "id": "eeeff01c",
   "metadata": {},
   "outputs": [],
   "source": [
    "Write a Python program that transposes a matrix.\n",
    "Input:\n",
    "The input consists of the following:\n",
    "- The first line contains an integer, N, representing the number of rows in the matrix.\n",
    "- The second line contains an integer, M, representing the number of columns in the matrix.\n",
    "- The next N lines contain M integers each, representing the elements of the matrix row-wise."
   ]
  },
  {
   "cell_type": "code",
   "execution_count": 47,
   "id": "197170bc",
   "metadata": {},
   "outputs": [
    {
     "name": "stdout",
     "output_type": "stream",
     "text": [
      "3\n",
      "3\n",
      "1\n",
      "2\n",
      "3\n",
      "4\n",
      "5\n",
      "6\n",
      "7\n",
      "8\n",
      "9\n",
      "[[1, 2, 3], [4, 5, 6], [7, 8, 9]]\n",
      "[1, 4, 7]\n",
      "[2, 5, 8]\n",
      "[3, 6, 9]\n"
     ]
    }
   ],
   "source": [
    "def transpose_matrix(matrix):\n",
    "    rows = len(matrix)\n",
    "    cols = len(matrix[0]) if rows > 0 else 0\n",
    "    \n",
    "    tran_matrix = [[0 for i in range(rows)] for j in range(cols)]\n",
    "    \n",
    "    for i in range(rows):\n",
    "        for j in range(cols):\n",
    "            tran_matrix[j][i] = matrix[i][j]\n",
    "    \n",
    "    return tran_matrix\n",
    "    \n",
    "\n",
    "rows = int(input())\n",
    "cols = int(input())\n",
    "\n",
    "matrix = []\n",
    "for i in range(rows):\n",
    "    row = []\n",
    "    for j in range(cols):\n",
    "        element = int(input())\n",
    "        row.append(element)\n",
    "    matrix.append(row)\n",
    "\n",
    "\n",
    "transposed_matrix = transpose_matrix(matrix)\n",
    "print(matrix)\n",
    "for row in transposed_matrix:\n",
    "    print(row)"
   ]
  },
  {
   "cell_type": "markdown",
   "id": "d5f2f020",
   "metadata": {},
   "source": [
    "# Reverse Tuple"
   ]
  },
  {
   "cell_type": "code",
   "execution_count": null,
   "id": "091bf9c9",
   "metadata": {},
   "outputs": [],
   "source": [
    "Write a Python program that takes a tuple as input and returns a new tuple where the elements are reversed in groups of two."
   ]
  },
  {
   "cell_type": "code",
   "execution_count": 57,
   "id": "642e9b13",
   "metadata": {},
   "outputs": [
    {
     "name": "stdout",
     "output_type": "stream",
     "text": [
      "1 2 3 4 5 6\n"
     ]
    },
    {
     "data": {
      "text/plain": [
       "(2, 1, 4, 3, 6, 5)"
      ]
     },
     "execution_count": 57,
     "metadata": {},
     "output_type": "execute_result"
    }
   ],
   "source": [
    "def reverse_tuple_groups(tuple_input):\n",
    "    l = list(tuple_input)\n",
    "    \n",
    "    i = 0\n",
    "    while i+1 < len(l):\n",
    "        l[i],l[i+1] = l[i+1],l[i]\n",
    "        i += 2\n",
    "        \n",
    "    return tuple(l)\n",
    "        \n",
    "\n",
    "user_input = input()\n",
    "input_tuple = tuple(map(int, user_input.split(\" \")))\n",
    "reverse_tuple_groups(input_tuple)"
   ]
  },
  {
   "cell_type": "markdown",
   "id": "394f5b01",
   "metadata": {},
   "source": [
    "# Pallindrome"
   ]
  },
  {
   "cell_type": "code",
   "execution_count": null,
   "id": "8e709276",
   "metadata": {},
   "outputs": [],
   "source": [
    "Write a Python program that checks if a word in a given list is a palindrome. \n",
    "If the word is a palindrome, each character in the word is incremented.\n",
    "\n",
    "Input\n",
    "madam\n",
    "Output:\n",
    "Palindrome\n",
    "lfxfo"
   ]
  },
  {
   "cell_type": "code",
   "execution_count": 105,
   "id": "7b2bd00f",
   "metadata": {},
   "outputs": [
    {
     "name": "stdout",
     "output_type": "stream",
     "text": [
      "naman\n",
      "Palindrome\n",
      "obnbo\n"
     ]
    }
   ],
   "source": [
    "def is_palindrome(word):\n",
    "    palindrome = word[::-1]\n",
    "    if word == palindrome:\n",
    "        return True\n",
    "    else:\n",
    "        return False\n",
    "\n",
    "def increment_characters(word):\n",
    "    new_word_list = []  # Initialize a list to store the characters of the new word\n",
    "    \n",
    "    for i in word:\n",
    "        new_char = chr(ord(i) + 1)  # Increment the character\n",
    "        new_word_list.append(new_char)  # Add the incremented character to the list\n",
    "        \n",
    "    new_word = ''.join(new_word_list)  # Join the characters to form the new word\n",
    "    return new_word\n",
    "\n",
    "    \n",
    "word = input()\n",
    "if is_palindrome(word):\n",
    "    print(\"Palindrome\")\n",
    "    print(increment_characters(word))\n",
    "else:\n",
    "    print(\"Not Palindrome\")"
   ]
  }
 ],
 "metadata": {
  "kernelspec": {
   "display_name": "Python 3 (ipykernel)",
   "language": "python",
   "name": "python3"
  },
  "language_info": {
   "codemirror_mode": {
    "name": "ipython",
    "version": 3
   },
   "file_extension": ".py",
   "mimetype": "text/x-python",
   "name": "python",
   "nbconvert_exporter": "python",
   "pygments_lexer": "ipython3",
   "version": "3.9.12"
  }
 },
 "nbformat": 4,
 "nbformat_minor": 5
}
