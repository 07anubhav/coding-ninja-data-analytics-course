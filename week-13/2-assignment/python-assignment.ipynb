{
 "cells": [
  {
   "cell_type": "code",
   "execution_count": null,
   "id": "cc4f22e0",
   "metadata": {},
   "outputs": [],
   "source": [
    "# Print Array Sum\n",
    "Given an array of length N, you need to find and print the sum of all elements of the array.\n",
    "Input Format :\n",
    "Line 1 : An Integer N i.e. size of array\n",
    "Line 2 : N integers which are elements of the array, separated by spaces"
   ]
  },
  {
   "cell_type": "code",
   "execution_count": 3,
   "id": "da938579",
   "metadata": {},
   "outputs": [
    {
     "name": "stdout",
     "output_type": "stream",
     "text": [
      "1 2 3 4 5\n"
     ]
    },
    {
     "data": {
      "text/plain": [
       "[1, 2, 3, 4, 5]"
      ]
     },
     "execution_count": 3,
     "metadata": {},
     "output_type": "execute_result"
    }
   ],
   "source": [
    "l1 = [\n",
    "    int(i)\n",
    "    for i in input().split(\" \")\n",
    "]\n",
    "l1"
   ]
  },
  {
   "cell_type": "code",
   "execution_count": null,
   "id": "8fa69699",
   "metadata": {},
   "outputs": [],
   "source": [
    "# Find Unqiue\n",
    "You have been given an integer array/list(ARR) of size N. Where N is equal to [2M + 1].\n",
    "Now, in the given array/list, 'M' numbers are present twice and one number is present only once.\n",
    "You need to find and return that number which is unique in the array/list.\n",
    " Note:\n",
    "Unique element is always present in the array/list according to the given condition.\n",
    "Input format :\n",
    "The first line contains an Integer 't' which denotes the number of test cases or queries to be run. Then the test cases follow.\n",
    "\n",
    "First line of each test case or query contains an integer 'N' representing the size of the array/list.\n",
    "\n",
    "Second line contains 'N' single space separated integers representing the elements in the array/list."
   ]
  },
  {
   "cell_type": "code",
   "execution_count": 5,
   "id": "5d856615",
   "metadata": {},
   "outputs": [
    {
     "data": {
      "text/plain": [
       "10"
      ]
     },
     "execution_count": 5,
     "metadata": {},
     "output_type": "execute_result"
    }
   ],
   "source": [
    "def findUnique(arr, n) :\n",
    "    for  i in arr:\n",
    "        num = i\n",
    "        freq = 0\n",
    "        for j in arr:\n",
    "            if num == j:\n",
    "                freq += 1\n",
    "\n",
    "        if freq == 1:\n",
    "            return num\n",
    "\n",
    "findUnique([1,3,1,3,6,6,7,10,7],5)"
   ]
  },
  {
   "cell_type": "code",
   "execution_count": null,
   "id": "925ebd5c",
   "metadata": {},
   "outputs": [],
   "source": [
    "# Remove Character\n",
    "For a given a string(str) and a character X, write a function to remove all the occurrences of X from the given string.\n",
    "The input string will remain unchanged if the given character(X) doesn't exist in the input string.\n",
    "Input Format:\n",
    "The first line of input contains a string without any leading and trailing spaces.\n",
    "\n",
    "The second line of input contains a character(X) without any leading and trailing spaces."
   ]
  },
  {
   "cell_type": "code",
   "execution_count": 8,
   "id": "7b2f5f95",
   "metadata": {},
   "outputs": [
    {
     "data": {
      "text/plain": [
       "'bccb'"
      ]
     },
     "execution_count": 8,
     "metadata": {},
     "output_type": "execute_result"
    }
   ],
   "source": [
    "def removeAllOccurrencesOfChar(string, ch):\n",
    "    s = string.replace(ch,'')\n",
    "    return s\n",
    "\n",
    "removeAllOccurrencesOfChar('aabccbaa','a')"
   ]
  },
  {
   "cell_type": "code",
   "execution_count": null,
   "id": "49bac1e7",
   "metadata": {},
   "outputs": [],
   "source": [
    "# Intersection of Two Arrays\n",
    "You have been given two integer arrays/list(ARR1 and ARR2) of size N and M, respectively. \n",
    "You need to print their intersection; An intersection for this problem can be defined when both the arrays/lists contain a \n",
    "particular value or to put it in other words, when there is a common value that exists in both the arrays/lists."
   ]
  },
  {
   "cell_type": "code",
   "execution_count": 13,
   "id": "dc35e34b",
   "metadata": {},
   "outputs": [
    {
     "name": "stdout",
     "output_type": "stream",
     "text": [
      "2 1 2 "
     ]
    }
   ],
   "source": [
    "def intersections(arr1,arr2) :\n",
    "    list_intersection = []\n",
    "    for i in arr1:\n",
    "        num = i\n",
    "        for j in arr2:\n",
    "            if num == j:\n",
    "                list_intersection.append(num)\n",
    "                break\n",
    "\n",
    "    for i in list_intersection:\n",
    "        print(i,end=\" \")\n",
    "    \n",
    "intersections([2,6,1,2],[1,2,3,4,2])"
   ]
  },
  {
   "cell_type": "code",
   "execution_count": 10,
   "id": "52aa4982",
   "metadata": {},
   "outputs": [
    {
     "data": {
      "text/plain": [
       "[3, 4]"
      ]
     },
     "execution_count": 10,
     "metadata": {},
     "output_type": "execute_result"
    }
   ],
   "source": [
    "a = {1,2,3,4}\n",
    "b = {3,4,5,6}\n",
    "c = list(a.intersection(b))\n",
    "c"
   ]
  },
  {
   "cell_type": "code",
   "execution_count": null,
   "id": "dd6830f8",
   "metadata": {},
   "outputs": [],
   "source": [
    "# Highest Occuring Character\n",
    "For a given a string(str), find and return the highest occurring character.\n",
    "Example:\n",
    "Input String: \"abcdeapapqarr\"\n",
    "Expected Output: 'a'\n",
    "Since 'a' has appeared four times in the string which happens to be the highest frequency character, the answer would be 'a'."
   ]
  },
  {
   "cell_type": "code",
   "execution_count": 15,
   "id": "94f0f991",
   "metadata": {},
   "outputs": [
    {
     "data": {
      "text/plain": [
       "'a'"
      ]
     },
     "execution_count": 15,
     "metadata": {},
     "output_type": "execute_result"
    }
   ],
   "source": [
    "def highestOccuringChar(string) :\n",
    "    char_count = {}\n",
    "    for char in string:\n",
    "        char_count[char] = char_count.get(char, 0) + 1\n",
    "\n",
    "    highest_char = None\n",
    "    highest_count = 0\n",
    "\n",
    "    for char, count in char_count.items():\n",
    "        if count > highest_count:\n",
    "            highest_char = char\n",
    "            highest_count = count\n",
    "            \n",
    "        \n",
    "    \n",
    "    return highest_char\n",
    "\n",
    "highestOccuringChar('abcdeapapqarr')"
   ]
  },
  {
   "cell_type": "code",
   "execution_count": null,
   "id": "46810411",
   "metadata": {},
   "outputs": [],
   "source": [
    "# Even Count\n",
    "You are provided with an integer array where each number is present either odd number of times or even number of times. \n",
    "You have to find and return the number which is present even number of times.\n",
    "If multiple numbers are present even number of times, then return that number which occurs first among these numbers in the \n",
    "given array. If no such number exists, then return -1."
   ]
  },
  {
   "cell_type": "code",
   "execution_count": 13,
   "id": "7d87502b",
   "metadata": {},
   "outputs": [
    {
     "name": "stdout",
     "output_type": "stream",
     "text": [
      "6\n",
      "2 5 3 5 3 4\n",
      "{2: 1, 5: 2, 3: 2, 4: 1}\n",
      "5\n"
     ]
    }
   ],
   "source": [
    "def evenCount(arr):\n",
    "    arr_dict = {}\n",
    "    for i in arr:\n",
    "        if i in arr_dict:\n",
    "            arr_dict[i] += 1\n",
    "        else:\n",
    "            arr_dict[i] = 1\n",
    "    \n",
    "    for i in arr:\n",
    "        if arr_dict[i]%2 == 0:\n",
    "            return i\n",
    "    \n",
    "    return -1\n",
    "    \n",
    "# Main\n",
    "n=int(input())\n",
    "arr=list(int(i) for i in input().strip().split(' '))\n",
    "print(evenCount(arr))"
   ]
  },
  {
   "cell_type": "code",
   "execution_count": null,
   "id": "ac6aaa9e",
   "metadata": {},
   "outputs": [],
   "source": [
    "# Find Duplicate\n",
    "You have been given an integer array/list(ARR) of size N which contains numbers from 0 to (N - 2). \n",
    "Each number is present at least once. That is, if N = 5, the array/list constitutes values ranging from 0 to 3 and among these, \n",
    "there is a single integer value that is present twice. You need to find and return that duplicate number present in the array."
   ]
  },
  {
   "cell_type": "code",
   "execution_count": 15,
   "id": "766bc29e",
   "metadata": {},
   "outputs": [
    {
     "data": {
      "text/plain": [
       "0"
      ]
     },
     "execution_count": 15,
     "metadata": {},
     "output_type": "execute_result"
    }
   ],
   "source": [
    "def duplicateNumber(arr, n) :\n",
    "    arr_dict = {}\n",
    "    for i in arr:\n",
    "        if i in arr_dict:\n",
    "            arr_dict[i] += 1\n",
    "        else:\n",
    "            arr_dict[i] = 1\n",
    "\n",
    "    for k,v in arr_dict.items():\n",
    "        if v%2 == 0:\n",
    "            return k\n",
    "\n",
    "duplicateNumber([0,1,3,90,8,5,12,0],8)"
   ]
  },
  {
   "cell_type": "code",
   "execution_count": null,
   "id": "80c37779",
   "metadata": {},
   "outputs": [],
   "source": [
    "# First non repeating character\n",
    "In a given string, find the first non-repeating character .You are given a string, that can contain repeating characters. \n",
    "Your task is to return the first character in this string that does not repeat. i.e., occurs exactly once. The string will \n",
    "contain characters only from English alphabet set, i.e., ('A' - 'Z') and ('a' - 'z'). If there is no non-repeating character \n",
    "print the first character of string."
   ]
  },
  {
   "cell_type": "code",
   "execution_count": 20,
   "id": "f713cb74",
   "metadata": {},
   "outputs": [
    {
     "name": "stdout",
     "output_type": "stream",
     "text": [
      "aDcadhc\n",
      "D\n"
     ]
    }
   ],
   "source": [
    "def nonRepeatingChar(string):\n",
    "    arr_dict = {}\n",
    "    for i in string:\n",
    "        if i in arr_dict:\n",
    "            arr_dict[i] += 1\n",
    "        else:\n",
    "            arr_dict[i] = 1 \n",
    "    \n",
    "    for i in string:\n",
    "        if arr_dict[i] == 1:\n",
    "            return i\n",
    "    \n",
    "    return string[0]\n",
    "\n",
    "# Main\n",
    "string = input()\n",
    "print(nonRepeatingChar(string))"
   ]
  },
  {
   "cell_type": "code",
   "execution_count": null,
   "id": "d0cb39d1",
   "metadata": {},
   "outputs": [],
   "source": []
  }
 ],
 "metadata": {
  "kernelspec": {
   "display_name": "Python 3 (ipykernel)",
   "language": "python",
   "name": "python3"
  },
  "language_info": {
   "codemirror_mode": {
    "name": "ipython",
    "version": 3
   },
   "file_extension": ".py",
   "mimetype": "text/x-python",
   "name": "python",
   "nbconvert_exporter": "python",
   "pygments_lexer": "ipython3",
   "version": "3.9.12"
  }
 },
 "nbformat": 4,
 "nbformat_minor": 5
}
